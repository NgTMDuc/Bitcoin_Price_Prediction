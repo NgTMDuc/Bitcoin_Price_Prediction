{
 "cells": [
  {
   "cell_type": "code",
   "execution_count": 1,
   "id": "cc60bd30",
   "metadata": {},
   "outputs": [],
   "source": [
    "import numpy as np\n",
    "import pandas as pd\n",
    "import math\n",
    "from matplotlib import pyplot as plt\n",
    "from datetime import datetime\n",
    "from sklearn import preprocessing\n",
    "from statsmodels.tsa.seasonal import seasonal_decompose\n",
    "\n",
    "from matplotlib import rc\n",
    "from sklearn import mixture\n",
    "import matplotlib.pyplot as plt\n",
    "import numpy as np\n",
    "import matplotlib\n",
    "import matplotlib.ticker as tkr\n",
    "import scipy.stats as stats"
   ]
  },
  {
   "cell_type": "code",
   "execution_count": 2,
   "id": "0fb7102b",
   "metadata": {},
   "outputs": [],
   "source": [
    "def label(df, t=15):\n",
    "#     df = df[df.shape[0] % t:]\n",
    "    df2 = df.groupby(np.arange(len(df))//t, axis=0).agg({'Timestamp': 'min', 'Open': 'first', 'High': 'max', 'Low': 'min', 'Close': 'last',\n",
    "                                'N/A': 'sum', 'Timestamp End': 'max', 'N/A.1': 'sum', 'N/A.2': 'sum', 'N/A.3': 'sum',\n",
    "                                'N/A.4': 'sum', 'N/A.5': 'sum', 'Time_UTC_Start': 'first'})\n",
    "    df2.rename(columns = {'N/A': 'Volumn', 'N/A.1': 'Quote_asset_volume', 'N/A.2': 'Number_of_trades',\n",
    "                         'N/A.3': 'Taker_buy_base_asset_volume', 'N/A.4': 'Taker_buy_quote_asset_volume'}, inplace = True)\n",
    "    length = df2.shape[0]\n",
    "    op = df2['Open'].values.reshape(length,1)\n",
    "    cl = df2['Close'].values.reshape(length,1 )\n",
    "    v = np.ones((length, 1)) * (op < cl)\n",
    "    df2['label'] = v\n",
    "    df2.index = df2[\"Timestamp\"]\n",
    "    df2.drop(columns=[\"Timestamp\", \"N/A.5\"], inplace=True)\n",
    "    return df2"
   ]
  },
  {
   "cell_type": "code",
   "execution_count": 3,
   "id": "3507ee9e",
   "metadata": {},
   "outputs": [],
   "source": [
    "df = pd.read_csv('../binance-BTCUSDT-1m.csv')"
   ]
  },
  {
   "cell_type": "code",
   "execution_count": 4,
   "id": "02268249",
   "metadata": {},
   "outputs": [],
   "source": [
    "df = df.iloc[26:]\n",
    "df = label(df, t=60)"
   ]
  },
  {
   "cell_type": "code",
   "execution_count": 5,
   "id": "b7b98f0a",
   "metadata": {},
   "outputs": [
    {
     "data": {
      "text/html": [
       "<div>\n",
       "<style scoped>\n",
       "    .dataframe tbody tr th:only-of-type {\n",
       "        vertical-align: middle;\n",
       "    }\n",
       "\n",
       "    .dataframe tbody tr th {\n",
       "        vertical-align: top;\n",
       "    }\n",
       "\n",
       "    .dataframe thead th {\n",
       "        text-align: right;\n",
       "    }\n",
       "</style>\n",
       "<table border=\"1\" class=\"dataframe\">\n",
       "  <thead>\n",
       "    <tr style=\"text-align: right;\">\n",
       "      <th></th>\n",
       "      <th>Open</th>\n",
       "      <th>High</th>\n",
       "      <th>Low</th>\n",
       "      <th>Close</th>\n",
       "      <th>Volumn</th>\n",
       "      <th>Timestamp End</th>\n",
       "      <th>Quote_asset_volume</th>\n",
       "      <th>Number_of_trades</th>\n",
       "      <th>Taker_buy_base_asset_volume</th>\n",
       "      <th>Taker_buy_quote_asset_volume</th>\n",
       "      <th>Time_UTC_Start</th>\n",
       "      <th>label</th>\n",
       "    </tr>\n",
       "    <tr>\n",
       "      <th>Timestamp</th>\n",
       "      <th></th>\n",
       "      <th></th>\n",
       "      <th></th>\n",
       "      <th></th>\n",
       "      <th></th>\n",
       "      <th></th>\n",
       "      <th></th>\n",
       "      <th></th>\n",
       "      <th></th>\n",
       "      <th></th>\n",
       "      <th></th>\n",
       "      <th></th>\n",
       "    </tr>\n",
       "  </thead>\n",
       "  <tbody>\n",
       "    <tr>\n",
       "      <th>1531911600000</th>\n",
       "      <td>7403.62</td>\n",
       "      <td>7433.58</td>\n",
       "      <td>7388.97</td>\n",
       "      <td>7419.00</td>\n",
       "      <td>1509.897532</td>\n",
       "      <td>1531915199999</td>\n",
       "      <td>1.119392e+07</td>\n",
       "      <td>9140</td>\n",
       "      <td>858.531816</td>\n",
       "      <td>6.365466e+06</td>\n",
       "      <td>2018-07-18 11:00:00</td>\n",
       "      <td>1.0</td>\n",
       "    </tr>\n",
       "    <tr>\n",
       "      <th>1531915200000</th>\n",
       "      <td>7418.02</td>\n",
       "      <td>7472.02</td>\n",
       "      <td>7406.23</td>\n",
       "      <td>7435.89</td>\n",
       "      <td>2149.661062</td>\n",
       "      <td>1531918799999</td>\n",
       "      <td>1.600977e+07</td>\n",
       "      <td>11665</td>\n",
       "      <td>1215.708096</td>\n",
       "      <td>9.052893e+06</td>\n",
       "      <td>2018-07-18 12:00:00</td>\n",
       "      <td>1.0</td>\n",
       "    </tr>\n",
       "    <tr>\n",
       "      <th>1531918800000</th>\n",
       "      <td>7435.90</td>\n",
       "      <td>7469.37</td>\n",
       "      <td>7386.12</td>\n",
       "      <td>7457.01</td>\n",
       "      <td>2197.764754</td>\n",
       "      <td>1531922399999</td>\n",
       "      <td>1.633053e+07</td>\n",
       "      <td>12232</td>\n",
       "      <td>1095.080446</td>\n",
       "      <td>8.138991e+06</td>\n",
       "      <td>2018-07-18 13:00:00</td>\n",
       "      <td>1.0</td>\n",
       "    </tr>\n",
       "    <tr>\n",
       "      <th>1531922400000</th>\n",
       "      <td>7458.14</td>\n",
       "      <td>7531.30</td>\n",
       "      <td>7431.66</td>\n",
       "      <td>7453.00</td>\n",
       "      <td>3276.014892</td>\n",
       "      <td>1531925999999</td>\n",
       "      <td>2.446673e+07</td>\n",
       "      <td>17154</td>\n",
       "      <td>1741.566330</td>\n",
       "      <td>1.300958e+07</td>\n",
       "      <td>2018-07-18 14:00:00</td>\n",
       "      <td>0.0</td>\n",
       "    </tr>\n",
       "    <tr>\n",
       "      <th>1531926000000</th>\n",
       "      <td>7451.71</td>\n",
       "      <td>7453.01</td>\n",
       "      <td>7360.40</td>\n",
       "      <td>7428.73</td>\n",
       "      <td>2447.162973</td>\n",
       "      <td>1531929599999</td>\n",
       "      <td>1.813955e+07</td>\n",
       "      <td>13956</td>\n",
       "      <td>1175.701436</td>\n",
       "      <td>8.715964e+06</td>\n",
       "      <td>2018-07-18 15:00:00</td>\n",
       "      <td>0.0</td>\n",
       "    </tr>\n",
       "    <tr>\n",
       "      <th>...</th>\n",
       "      <td>...</td>\n",
       "      <td>...</td>\n",
       "      <td>...</td>\n",
       "      <td>...</td>\n",
       "      <td>...</td>\n",
       "      <td>...</td>\n",
       "      <td>...</td>\n",
       "      <td>...</td>\n",
       "      <td>...</td>\n",
       "      <td>...</td>\n",
       "      <td>...</td>\n",
       "      <td>...</td>\n",
       "    </tr>\n",
       "    <tr>\n",
       "      <th>1651892400000</th>\n",
       "      <td>35953.63</td>\n",
       "      <td>35959.99</td>\n",
       "      <td>35760.00</td>\n",
       "      <td>35812.21</td>\n",
       "      <td>950.370320</td>\n",
       "      <td>1651895999999</td>\n",
       "      <td>3.407918e+07</td>\n",
       "      <td>23893</td>\n",
       "      <td>440.466220</td>\n",
       "      <td>1.579364e+07</td>\n",
       "      <td>2022-05-07 03:00:00</td>\n",
       "      <td>0.0</td>\n",
       "    </tr>\n",
       "    <tr>\n",
       "      <th>1651896000000</th>\n",
       "      <td>35812.22</td>\n",
       "      <td>35882.67</td>\n",
       "      <td>35725.72</td>\n",
       "      <td>35746.63</td>\n",
       "      <td>1038.354640</td>\n",
       "      <td>1651899599999</td>\n",
       "      <td>3.717972e+07</td>\n",
       "      <td>25448</td>\n",
       "      <td>505.470370</td>\n",
       "      <td>1.809844e+07</td>\n",
       "      <td>2022-05-07 04:00:00</td>\n",
       "      <td>0.0</td>\n",
       "    </tr>\n",
       "    <tr>\n",
       "      <th>1651899600000</th>\n",
       "      <td>35746.62</td>\n",
       "      <td>35900.00</td>\n",
       "      <td>35722.24</td>\n",
       "      <td>35898.95</td>\n",
       "      <td>897.235930</td>\n",
       "      <td>1651903199999</td>\n",
       "      <td>3.215497e+07</td>\n",
       "      <td>22906</td>\n",
       "      <td>428.196080</td>\n",
       "      <td>1.534393e+07</td>\n",
       "      <td>2022-05-07 05:00:00</td>\n",
       "      <td>1.0</td>\n",
       "    </tr>\n",
       "    <tr>\n",
       "      <th>1651903200000</th>\n",
       "      <td>35898.96</td>\n",
       "      <td>35909.75</td>\n",
       "      <td>35790.02</td>\n",
       "      <td>35806.27</td>\n",
       "      <td>890.855280</td>\n",
       "      <td>1651906799999</td>\n",
       "      <td>3.193104e+07</td>\n",
       "      <td>23642</td>\n",
       "      <td>411.973150</td>\n",
       "      <td>1.476535e+07</td>\n",
       "      <td>2022-05-07 06:00:00</td>\n",
       "      <td>0.0</td>\n",
       "    </tr>\n",
       "    <tr>\n",
       "      <th>1651906800000</th>\n",
       "      <td>35806.28</td>\n",
       "      <td>35956.51</td>\n",
       "      <td>35800.00</td>\n",
       "      <td>35951.69</td>\n",
       "      <td>1388.490910</td>\n",
       "      <td>1651910039999</td>\n",
       "      <td>4.978675e+07</td>\n",
       "      <td>23475</td>\n",
       "      <td>646.898060</td>\n",
       "      <td>2.320556e+07</td>\n",
       "      <td>2022-05-07 07:00:00</td>\n",
       "      <td>1.0</td>\n",
       "    </tr>\n",
       "  </tbody>\n",
       "</table>\n",
       "<p>33333 rows × 12 columns</p>\n",
       "</div>"
      ],
      "text/plain": [
       "                   Open      High       Low     Close       Volumn  \\\n",
       "Timestamp                                                            \n",
       "1531911600000   7403.62   7433.58   7388.97   7419.00  1509.897532   \n",
       "1531915200000   7418.02   7472.02   7406.23   7435.89  2149.661062   \n",
       "1531918800000   7435.90   7469.37   7386.12   7457.01  2197.764754   \n",
       "1531922400000   7458.14   7531.30   7431.66   7453.00  3276.014892   \n",
       "1531926000000   7451.71   7453.01   7360.40   7428.73  2447.162973   \n",
       "...                 ...       ...       ...       ...          ...   \n",
       "1651892400000  35953.63  35959.99  35760.00  35812.21   950.370320   \n",
       "1651896000000  35812.22  35882.67  35725.72  35746.63  1038.354640   \n",
       "1651899600000  35746.62  35900.00  35722.24  35898.95   897.235930   \n",
       "1651903200000  35898.96  35909.75  35790.02  35806.27   890.855280   \n",
       "1651906800000  35806.28  35956.51  35800.00  35951.69  1388.490910   \n",
       "\n",
       "               Timestamp End  Quote_asset_volume  Number_of_trades  \\\n",
       "Timestamp                                                            \n",
       "1531911600000  1531915199999        1.119392e+07              9140   \n",
       "1531915200000  1531918799999        1.600977e+07             11665   \n",
       "1531918800000  1531922399999        1.633053e+07             12232   \n",
       "1531922400000  1531925999999        2.446673e+07             17154   \n",
       "1531926000000  1531929599999        1.813955e+07             13956   \n",
       "...                      ...                 ...               ...   \n",
       "1651892400000  1651895999999        3.407918e+07             23893   \n",
       "1651896000000  1651899599999        3.717972e+07             25448   \n",
       "1651899600000  1651903199999        3.215497e+07             22906   \n",
       "1651903200000  1651906799999        3.193104e+07             23642   \n",
       "1651906800000  1651910039999        4.978675e+07             23475   \n",
       "\n",
       "               Taker_buy_base_asset_volume  Taker_buy_quote_asset_volume  \\\n",
       "Timestamp                                                                  \n",
       "1531911600000                   858.531816                  6.365466e+06   \n",
       "1531915200000                  1215.708096                  9.052893e+06   \n",
       "1531918800000                  1095.080446                  8.138991e+06   \n",
       "1531922400000                  1741.566330                  1.300958e+07   \n",
       "1531926000000                  1175.701436                  8.715964e+06   \n",
       "...                                    ...                           ...   \n",
       "1651892400000                   440.466220                  1.579364e+07   \n",
       "1651896000000                   505.470370                  1.809844e+07   \n",
       "1651899600000                   428.196080                  1.534393e+07   \n",
       "1651903200000                   411.973150                  1.476535e+07   \n",
       "1651906800000                   646.898060                  2.320556e+07   \n",
       "\n",
       "                    Time_UTC_Start  label  \n",
       "Timestamp                                  \n",
       "1531911600000  2018-07-18 11:00:00    1.0  \n",
       "1531915200000  2018-07-18 12:00:00    1.0  \n",
       "1531918800000  2018-07-18 13:00:00    1.0  \n",
       "1531922400000  2018-07-18 14:00:00    0.0  \n",
       "1531926000000  2018-07-18 15:00:00    0.0  \n",
       "...                            ...    ...  \n",
       "1651892400000  2022-05-07 03:00:00    0.0  \n",
       "1651896000000  2022-05-07 04:00:00    0.0  \n",
       "1651899600000  2022-05-07 05:00:00    1.0  \n",
       "1651903200000  2022-05-07 06:00:00    0.0  \n",
       "1651906800000  2022-05-07 07:00:00    1.0  \n",
       "\n",
       "[33333 rows x 12 columns]"
      ]
     },
     "execution_count": 5,
     "metadata": {},
     "output_type": "execute_result"
    }
   ],
   "source": [
    "df"
   ]
  },
  {
   "cell_type": "code",
   "execution_count": 6,
   "id": "ce89fa17",
   "metadata": {},
   "outputs": [],
   "source": [
    "df.index = pd.to_datetime(df['Time_UTC_Start'])"
   ]
  },
  {
   "cell_type": "code",
   "execution_count": 7,
   "id": "54795fe6",
   "metadata": {
    "scrolled": true
   },
   "outputs": [
    {
     "data": {
      "text/html": [
       "<div>\n",
       "<style scoped>\n",
       "    .dataframe tbody tr th:only-of-type {\n",
       "        vertical-align: middle;\n",
       "    }\n",
       "\n",
       "    .dataframe tbody tr th {\n",
       "        vertical-align: top;\n",
       "    }\n",
       "\n",
       "    .dataframe thead th {\n",
       "        text-align: right;\n",
       "    }\n",
       "</style>\n",
       "<table border=\"1\" class=\"dataframe\">\n",
       "  <thead>\n",
       "    <tr style=\"text-align: right;\">\n",
       "      <th></th>\n",
       "      <th>Open</th>\n",
       "      <th>High</th>\n",
       "      <th>Low</th>\n",
       "      <th>Close</th>\n",
       "      <th>Volumn</th>\n",
       "      <th>Timestamp End</th>\n",
       "      <th>Quote_asset_volume</th>\n",
       "      <th>Number_of_trades</th>\n",
       "      <th>Taker_buy_base_asset_volume</th>\n",
       "      <th>Taker_buy_quote_asset_volume</th>\n",
       "      <th>Time_UTC_Start</th>\n",
       "      <th>label</th>\n",
       "    </tr>\n",
       "    <tr>\n",
       "      <th>Time_UTC_Start</th>\n",
       "      <th></th>\n",
       "      <th></th>\n",
       "      <th></th>\n",
       "      <th></th>\n",
       "      <th></th>\n",
       "      <th></th>\n",
       "      <th></th>\n",
       "      <th></th>\n",
       "      <th></th>\n",
       "      <th></th>\n",
       "      <th></th>\n",
       "      <th></th>\n",
       "    </tr>\n",
       "  </thead>\n",
       "  <tbody>\n",
       "    <tr>\n",
       "      <th>2018-07-18 11:00:00</th>\n",
       "      <td>7403.62</td>\n",
       "      <td>7433.58</td>\n",
       "      <td>7388.97</td>\n",
       "      <td>7419.00</td>\n",
       "      <td>1509.897532</td>\n",
       "      <td>1531915199999</td>\n",
       "      <td>1.119392e+07</td>\n",
       "      <td>9140</td>\n",
       "      <td>858.531816</td>\n",
       "      <td>6.365466e+06</td>\n",
       "      <td>2018-07-18 11:00:00</td>\n",
       "      <td>1.0</td>\n",
       "    </tr>\n",
       "    <tr>\n",
       "      <th>2018-07-18 12:00:00</th>\n",
       "      <td>7418.02</td>\n",
       "      <td>7472.02</td>\n",
       "      <td>7406.23</td>\n",
       "      <td>7435.89</td>\n",
       "      <td>2149.661062</td>\n",
       "      <td>1531918799999</td>\n",
       "      <td>1.600977e+07</td>\n",
       "      <td>11665</td>\n",
       "      <td>1215.708096</td>\n",
       "      <td>9.052893e+06</td>\n",
       "      <td>2018-07-18 12:00:00</td>\n",
       "      <td>1.0</td>\n",
       "    </tr>\n",
       "    <tr>\n",
       "      <th>2018-07-18 13:00:00</th>\n",
       "      <td>7435.90</td>\n",
       "      <td>7469.37</td>\n",
       "      <td>7386.12</td>\n",
       "      <td>7457.01</td>\n",
       "      <td>2197.764754</td>\n",
       "      <td>1531922399999</td>\n",
       "      <td>1.633053e+07</td>\n",
       "      <td>12232</td>\n",
       "      <td>1095.080446</td>\n",
       "      <td>8.138991e+06</td>\n",
       "      <td>2018-07-18 13:00:00</td>\n",
       "      <td>1.0</td>\n",
       "    </tr>\n",
       "    <tr>\n",
       "      <th>2018-07-18 14:00:00</th>\n",
       "      <td>7458.14</td>\n",
       "      <td>7531.30</td>\n",
       "      <td>7431.66</td>\n",
       "      <td>7453.00</td>\n",
       "      <td>3276.014892</td>\n",
       "      <td>1531925999999</td>\n",
       "      <td>2.446673e+07</td>\n",
       "      <td>17154</td>\n",
       "      <td>1741.566330</td>\n",
       "      <td>1.300958e+07</td>\n",
       "      <td>2018-07-18 14:00:00</td>\n",
       "      <td>0.0</td>\n",
       "    </tr>\n",
       "    <tr>\n",
       "      <th>2018-07-18 15:00:00</th>\n",
       "      <td>7451.71</td>\n",
       "      <td>7453.01</td>\n",
       "      <td>7360.40</td>\n",
       "      <td>7428.73</td>\n",
       "      <td>2447.162973</td>\n",
       "      <td>1531929599999</td>\n",
       "      <td>1.813955e+07</td>\n",
       "      <td>13956</td>\n",
       "      <td>1175.701436</td>\n",
       "      <td>8.715964e+06</td>\n",
       "      <td>2018-07-18 15:00:00</td>\n",
       "      <td>0.0</td>\n",
       "    </tr>\n",
       "  </tbody>\n",
       "</table>\n",
       "</div>"
      ],
      "text/plain": [
       "                        Open     High      Low    Close       Volumn  \\\n",
       "Time_UTC_Start                                                         \n",
       "2018-07-18 11:00:00  7403.62  7433.58  7388.97  7419.00  1509.897532   \n",
       "2018-07-18 12:00:00  7418.02  7472.02  7406.23  7435.89  2149.661062   \n",
       "2018-07-18 13:00:00  7435.90  7469.37  7386.12  7457.01  2197.764754   \n",
       "2018-07-18 14:00:00  7458.14  7531.30  7431.66  7453.00  3276.014892   \n",
       "2018-07-18 15:00:00  7451.71  7453.01  7360.40  7428.73  2447.162973   \n",
       "\n",
       "                     Timestamp End  Quote_asset_volume  Number_of_trades  \\\n",
       "Time_UTC_Start                                                             \n",
       "2018-07-18 11:00:00  1531915199999        1.119392e+07              9140   \n",
       "2018-07-18 12:00:00  1531918799999        1.600977e+07             11665   \n",
       "2018-07-18 13:00:00  1531922399999        1.633053e+07             12232   \n",
       "2018-07-18 14:00:00  1531925999999        2.446673e+07             17154   \n",
       "2018-07-18 15:00:00  1531929599999        1.813955e+07             13956   \n",
       "\n",
       "                     Taker_buy_base_asset_volume  \\\n",
       "Time_UTC_Start                                     \n",
       "2018-07-18 11:00:00                   858.531816   \n",
       "2018-07-18 12:00:00                  1215.708096   \n",
       "2018-07-18 13:00:00                  1095.080446   \n",
       "2018-07-18 14:00:00                  1741.566330   \n",
       "2018-07-18 15:00:00                  1175.701436   \n",
       "\n",
       "                     Taker_buy_quote_asset_volume       Time_UTC_Start  label  \n",
       "Time_UTC_Start                                                                 \n",
       "2018-07-18 11:00:00                  6.365466e+06  2018-07-18 11:00:00    1.0  \n",
       "2018-07-18 12:00:00                  9.052893e+06  2018-07-18 12:00:00    1.0  \n",
       "2018-07-18 13:00:00                  8.138991e+06  2018-07-18 13:00:00    1.0  \n",
       "2018-07-18 14:00:00                  1.300958e+07  2018-07-18 14:00:00    0.0  \n",
       "2018-07-18 15:00:00                  8.715964e+06  2018-07-18 15:00:00    0.0  "
      ]
     },
     "execution_count": 7,
     "metadata": {},
     "output_type": "execute_result"
    }
   ],
   "source": [
    "df.head()"
   ]
  },
  {
   "cell_type": "code",
   "execution_count": 29,
   "id": "aad6c592",
   "metadata": {},
   "outputs": [],
   "source": [
    "df1 = df.asfreq('3D')"
   ]
  },
  {
   "cell_type": "code",
   "execution_count": 51,
   "id": "c6c8b464",
   "metadata": {},
   "outputs": [],
   "source": [
    "df1 = df1.fillna(method = \"ffill\")"
   ]
  },
  {
   "cell_type": "code",
   "execution_count": 7,
   "id": "12f13514",
   "metadata": {},
   "outputs": [],
   "source": [
    "decomp = seasonal_decompose(x=df1.Close, model='additive')"
   ]
  },
  {
   "cell_type": "code",
   "execution_count": 8,
   "id": "03854290",
   "metadata": {},
   "outputs": [],
   "source": [
    "est_trend = decomp.trend\n",
    "est_seasonal = decomp.seasonal\n",
    "est_residual = decomp.resid"
   ]
  },
  {
   "cell_type": "code",
   "execution_count": 9,
   "id": "a2f2cca5",
   "metadata": {},
   "outputs": [
    {
     "data": {
      "text/plain": [
       "<matplotlib.legend.Legend at 0x294b09d8190>"
      ]
     },
     "execution_count": 9,
     "metadata": {},
     "output_type": "execute_result"
    },
    {
     "data": {
      "image/png": "[encoded data removed]",
      "text/plain": [
       "<Figure size 1080x720 with 4 Axes>"
      ]
     },
     "metadata": {
      "needs_background": "light"
     },
     "output_type": "display_data"
    }
   ],
   "source": [
    "fig, axes = plt.subplots(4, 1)\n",
    "fig.set_figheight(10)\n",
    "fig.set_figwidth(15)\n",
    "axes[0].plot(df1.Close, label='Original')\n",
    "axes[0].legend()\n",
    "axes[1].plot(est_trend, label='Trend',color=\"b\")\n",
    "axes[1].legend()\n",
    "axes[2].plot(est_seasonal, label='Seasonality',color='r')\n",
    "axes[2].legend()\n",
    "axes[3].plot(est_residual, label='Residuals',color='g')\n",
    "axes[3].legend()"
   ]
  },
  {
   "cell_type": "code",
   "execution_count": 18,
   "id": "4c6eab7c",
   "metadata": {},
   "outputs": [
    {
     "data": {
      "text/plain": [
       "(array([ 1.,  0.,  0.,  0.,  0.,  1.,  0.,  0.,  4.,  2.,  2.,  0.,  1.,\n",
       "         3.,  6.,  2.,  7.,  3., 10., 12., 13., 20., 28., 67., 99., 66.,\n",
       "        31., 14., 11., 11.,  5.,  6.,  3.,  2.,  9.,  1.,  3.,  5.,  0.,\n",
       "         3.,  1.,  0.,  0.,  3.,  0.,  1.,  0.,  0.,  0.,  1.]),\n",
       " array([-6389.73046696, -6129.71335268, -5869.69623839, -5609.6791241 ,\n",
       "        -5349.66200982, -5089.64489553, -4829.62778125, -4569.61066696,\n",
       "        -4309.59355268, -4049.57643839, -3789.5593241 , -3529.54220982,\n",
       "        -3269.52509553, -3009.50798125, -2749.49086696, -2489.47375268,\n",
       "        -2229.45663839, -1969.4395241 , -1709.42240982, -1449.40529553,\n",
       "        -1189.38818125,  -929.37106696,  -669.35395268,  -409.33683839,\n",
       "         -149.3197241 ,   110.69739018,   370.71450447,   630.73161875,\n",
       "          890.74873304,  1150.76584732,  1410.78296161,  1670.8000759 ,\n",
       "         1930.81719018,  2190.83430447,  2450.85141875,  2710.86853304,\n",
       "         2970.88564732,  3230.90276161,  3490.9198759 ,  3750.93699018,\n",
       "         4010.95410447,  4270.97121875,  4530.98833304,  4791.00544732,\n",
       "         5051.02256161,  5311.0396759 ,  5571.05679018,  5831.07390447,\n",
       "         6091.09101875,  6351.10813304,  6611.12524732]),\n",
       " <BarContainer object of 50 artists>)"
      ]
     },
     "execution_count": 18,
     "metadata": {},
     "output_type": "execute_result"
    },
    {
     "data": {
      "image/png": "[encoded data removed]",
      "text/plain": [
       "<Figure size 432x288 with 1 Axes>"
      ]
     },
     "metadata": {
      "needs_background": "light"
     },
     "output_type": "display_data"
    }
   ],
   "source": [
    "plt.hist(decomp.resid, bins = 50)"
   ]
  },
  {
   "cell_type": "code",
   "execution_count": 19,
   "id": "8c889b72",
   "metadata": {},
   "outputs": [],
   "source": [
    "df2 = df.asfreq('7D')\n",
    "df2 = df2.fillna(method = \"ffill\")\n",
    "decomp2 = seasonal_decompose(x=df2.Close, model='additive')\n",
    "est_trend = decomp2.trend\n",
    "est_seasonal = decomp2.seasonal\n",
    "est_residual = decomp2.resid"
   ]
  },
  {
   "cell_type": "code",
   "execution_count": 20,
   "id": "6700286d",
   "metadata": {},
   "outputs": [
    {
     "data": {
      "text/plain": [
       "<matplotlib.legend.Legend at 0x24c388b61f0>"
      ]
     },
     "execution_count": 20,
     "metadata": {},
     "output_type": "execute_result"
    },
    {
     "data": {
      "image/png": "[encoded data removed]",
      "text/plain": [
       "<Figure size 1080x720 with 4 Axes>"
      ]
     },
     "metadata": {
      "needs_background": "light"
     },
     "output_type": "display_data"
    }
   ],
   "source": [
    "fig, axes = plt.subplots(4, 1)\n",
    "fig.set_figheight(10)\n",
    "fig.set_figwidth(15)\n",
    "axes[0].plot(df2.Close, label='Original')\n",
    "axes[0].legend()\n",
    "axes[1].plot(est_trend, label='Trend',color=\"b\")\n",
    "axes[1].legend()\n",
    "axes[2].plot(est_seasonal, label='Seasonality',color='r')\n",
    "axes[2].legend()\n",
    "axes[3].plot(est_residual, label='Residuals',color='g')\n",
    "axes[3].legend()"
   ]
  },
  {
   "cell_type": "code",
   "execution_count": 21,
   "id": "f040f88d",
   "metadata": {},
   "outputs": [],
   "source": [
    "test = est_trend + est_seasonal + est_residual"
   ]
  },
  {
   "cell_type": "code",
   "execution_count": 159,
   "id": "44815798",
   "metadata": {},
   "outputs": [
    {
     "data": {
      "text/html": [
       "<div>\n",
       "<style scoped>\n",
       "    .dataframe tbody tr th:only-of-type {\n",
       "        vertical-align: middle;\n",
       "    }\n",
       "\n",
       "    .dataframe tbody tr th {\n",
       "        vertical-align: top;\n",
       "    }\n",
       "\n",
       "    .dataframe thead th {\n",
       "        text-align: right;\n",
       "    }\n",
       "</style>\n",
       "<table border=\"1\" class=\"dataframe\">\n",
       "  <thead>\n",
       "    <tr style=\"text-align: right;\">\n",
       "      <th></th>\n",
       "      <th>Open</th>\n",
       "      <th>High</th>\n",
       "      <th>Low</th>\n",
       "      <th>Close</th>\n",
       "      <th>Volumn</th>\n",
       "      <th>Timestamp End</th>\n",
       "      <th>Quote_asset_volume</th>\n",
       "      <th>Number_of_trades</th>\n",
       "      <th>Taker_buy_base_asset_volume</th>\n",
       "      <th>Taker_buy_quote_asset_volume</th>\n",
       "      <th>Time_UTC_Start</th>\n",
       "      <th>label</th>\n",
       "    </tr>\n",
       "    <tr>\n",
       "      <th>Time_UTC_Start</th>\n",
       "      <th></th>\n",
       "      <th></th>\n",
       "      <th></th>\n",
       "      <th></th>\n",
       "      <th></th>\n",
       "      <th></th>\n",
       "      <th></th>\n",
       "      <th></th>\n",
       "      <th></th>\n",
       "      <th></th>\n",
       "      <th></th>\n",
       "      <th></th>\n",
       "    </tr>\n",
       "  </thead>\n",
       "  <tbody>\n",
       "    <tr>\n",
       "      <th>2018-07-18 11:00:00</th>\n",
       "      <td>7403.62</td>\n",
       "      <td>7419.09</td>\n",
       "      <td>7388.97</td>\n",
       "      <td>7395.00</td>\n",
       "      <td>350.486570</td>\n",
       "      <td>1.531912e+12</td>\n",
       "      <td>2.595325e+06</td>\n",
       "      <td>2722.0</td>\n",
       "      <td>182.772603</td>\n",
       "      <td>1.353409e+06</td>\n",
       "      <td>2018-07-18 11:00:00</td>\n",
       "      <td>0.0</td>\n",
       "    </tr>\n",
       "    <tr>\n",
       "      <th>2018-07-18 12:00:00</th>\n",
       "      <td>7418.02</td>\n",
       "      <td>7443.48</td>\n",
       "      <td>7406.23</td>\n",
       "      <td>7434.94</td>\n",
       "      <td>472.655514</td>\n",
       "      <td>1.531916e+12</td>\n",
       "      <td>3.511303e+06</td>\n",
       "      <td>2668.0</td>\n",
       "      <td>305.565355</td>\n",
       "      <td>2.270214e+06</td>\n",
       "      <td>2018-07-18 12:00:00</td>\n",
       "      <td>1.0</td>\n",
       "    </tr>\n",
       "    <tr>\n",
       "      <th>2018-07-18 13:00:00</th>\n",
       "      <td>7435.90</td>\n",
       "      <td>7455.00</td>\n",
       "      <td>7431.00</td>\n",
       "      <td>7447.36</td>\n",
       "      <td>318.003735</td>\n",
       "      <td>1.531920e+12</td>\n",
       "      <td>2.366800e+06</td>\n",
       "      <td>2344.0</td>\n",
       "      <td>185.403578</td>\n",
       "      <td>1.379857e+06</td>\n",
       "      <td>2018-07-18 13:00:00</td>\n",
       "      <td>1.0</td>\n",
       "    </tr>\n",
       "    <tr>\n",
       "      <th>2018-07-18 14:00:00</th>\n",
       "      <td>7458.14</td>\n",
       "      <td>7503.00</td>\n",
       "      <td>7442.00</td>\n",
       "      <td>7474.02</td>\n",
       "      <td>887.934189</td>\n",
       "      <td>1.531923e+12</td>\n",
       "      <td>6.632493e+06</td>\n",
       "      <td>4904.0</td>\n",
       "      <td>523.771292</td>\n",
       "      <td>3.912241e+06</td>\n",
       "      <td>2018-07-18 14:00:00</td>\n",
       "      <td>1.0</td>\n",
       "    </tr>\n",
       "    <tr>\n",
       "      <th>2018-07-18 15:00:00</th>\n",
       "      <td>7451.71</td>\n",
       "      <td>7453.01</td>\n",
       "      <td>7388.00</td>\n",
       "      <td>7420.00</td>\n",
       "      <td>893.283325</td>\n",
       "      <td>1.531927e+12</td>\n",
       "      <td>6.623929e+06</td>\n",
       "      <td>4312.0</td>\n",
       "      <td>394.389752</td>\n",
       "      <td>2.924306e+06</td>\n",
       "      <td>2018-07-18 15:00:00</td>\n",
       "      <td>0.0</td>\n",
       "    </tr>\n",
       "    <tr>\n",
       "      <th>...</th>\n",
       "      <td>...</td>\n",
       "      <td>...</td>\n",
       "      <td>...</td>\n",
       "      <td>...</td>\n",
       "      <td>...</td>\n",
       "      <td>...</td>\n",
       "      <td>...</td>\n",
       "      <td>...</td>\n",
       "      <td>...</td>\n",
       "      <td>...</td>\n",
       "      <td>...</td>\n",
       "      <td>...</td>\n",
       "    </tr>\n",
       "    <tr>\n",
       "      <th>2022-05-07 03:00:00</th>\n",
       "      <td>35953.63</td>\n",
       "      <td>35959.99</td>\n",
       "      <td>35907.29</td>\n",
       "      <td>35910.98</td>\n",
       "      <td>139.770940</td>\n",
       "      <td>1.651893e+12</td>\n",
       "      <td>5.021981e+06</td>\n",
       "      <td>4610.0</td>\n",
       "      <td>63.466740</td>\n",
       "      <td>2.280306e+06</td>\n",
       "      <td>2022-05-07 03:00:00</td>\n",
       "      <td>0.0</td>\n",
       "    </tr>\n",
       "    <tr>\n",
       "      <th>2022-05-07 04:00:00</th>\n",
       "      <td>35812.22</td>\n",
       "      <td>35854.10</td>\n",
       "      <td>35766.00</td>\n",
       "      <td>35799.99</td>\n",
       "      <td>200.578770</td>\n",
       "      <td>1.651897e+12</td>\n",
       "      <td>7.183003e+06</td>\n",
       "      <td>6111.0</td>\n",
       "      <td>88.698540</td>\n",
       "      <td>3.176351e+06</td>\n",
       "      <td>2022-05-07 04:00:00</td>\n",
       "      <td>0.0</td>\n",
       "    </tr>\n",
       "    <tr>\n",
       "      <th>2022-05-07 05:00:00</th>\n",
       "      <td>35746.62</td>\n",
       "      <td>35827.08</td>\n",
       "      <td>35722.24</td>\n",
       "      <td>35812.61</td>\n",
       "      <td>207.000310</td>\n",
       "      <td>1.651900e+12</td>\n",
       "      <td>7.406700e+06</td>\n",
       "      <td>6078.0</td>\n",
       "      <td>112.947320</td>\n",
       "      <td>4.041060e+06</td>\n",
       "      <td>2022-05-07 05:00:00</td>\n",
       "      <td>1.0</td>\n",
       "    </tr>\n",
       "    <tr>\n",
       "      <th>2022-05-07 06:00:00</th>\n",
       "      <td>35898.96</td>\n",
       "      <td>35909.75</td>\n",
       "      <td>35842.89</td>\n",
       "      <td>35850.01</td>\n",
       "      <td>211.837700</td>\n",
       "      <td>1.651904e+12</td>\n",
       "      <td>7.601732e+06</td>\n",
       "      <td>5621.0</td>\n",
       "      <td>99.356640</td>\n",
       "      <td>3.565137e+06</td>\n",
       "      <td>2022-05-07 06:00:00</td>\n",
       "      <td>0.0</td>\n",
       "    </tr>\n",
       "    <tr>\n",
       "      <th>2022-05-07 07:00:00</th>\n",
       "      <td>35806.28</td>\n",
       "      <td>35832.12</td>\n",
       "      <td>35800.00</td>\n",
       "      <td>35810.01</td>\n",
       "      <td>543.906800</td>\n",
       "      <td>1.651908e+12</td>\n",
       "      <td>1.947352e+07</td>\n",
       "      <td>6514.0</td>\n",
       "      <td>138.951090</td>\n",
       "      <td>4.975453e+06</td>\n",
       "      <td>2022-05-07 07:00:00</td>\n",
       "      <td>1.0</td>\n",
       "    </tr>\n",
       "  </tbody>\n",
       "</table>\n",
       "<p>33333 rows × 12 columns</p>\n",
       "</div>"
      ],
      "text/plain": [
       "                         Open      High       Low     Close      Volumn  \\\n",
       "Time_UTC_Start                                                            \n",
       "2018-07-18 11:00:00   7403.62   7419.09   7388.97   7395.00  350.486570   \n",
       "2018-07-18 12:00:00   7418.02   7443.48   7406.23   7434.94  472.655514   \n",
       "2018-07-18 13:00:00   7435.90   7455.00   7431.00   7447.36  318.003735   \n",
       "2018-07-18 14:00:00   7458.14   7503.00   7442.00   7474.02  887.934189   \n",
       "2018-07-18 15:00:00   7451.71   7453.01   7388.00   7420.00  893.283325   \n",
       "...                       ...       ...       ...       ...         ...   \n",
       "2022-05-07 03:00:00  35953.63  35959.99  35907.29  35910.98  139.770940   \n",
       "2022-05-07 04:00:00  35812.22  35854.10  35766.00  35799.99  200.578770   \n",
       "2022-05-07 05:00:00  35746.62  35827.08  35722.24  35812.61  207.000310   \n",
       "2022-05-07 06:00:00  35898.96  35909.75  35842.89  35850.01  211.837700   \n",
       "2022-05-07 07:00:00  35806.28  35832.12  35800.00  35810.01  543.906800   \n",
       "\n",
       "                     Timestamp End  Quote_asset_volume  Number_of_trades  \\\n",
       "Time_UTC_Start                                                             \n",
       "2018-07-18 11:00:00   1.531912e+12        2.595325e+06            2722.0   \n",
       "2018-07-18 12:00:00   1.531916e+12        3.511303e+06            2668.0   \n",
       "2018-07-18 13:00:00   1.531920e+12        2.366800e+06            2344.0   \n",
       "2018-07-18 14:00:00   1.531923e+12        6.632493e+06            4904.0   \n",
       "2018-07-18 15:00:00   1.531927e+12        6.623929e+06            4312.0   \n",
       "...                            ...                 ...               ...   \n",
       "2022-05-07 03:00:00   1.651893e+12        5.021981e+06            4610.0   \n",
       "2022-05-07 04:00:00   1.651897e+12        7.183003e+06            6111.0   \n",
       "2022-05-07 05:00:00   1.651900e+12        7.406700e+06            6078.0   \n",
       "2022-05-07 06:00:00   1.651904e+12        7.601732e+06            5621.0   \n",
       "2022-05-07 07:00:00   1.651908e+12        1.947352e+07            6514.0   \n",
       "\n",
       "                     Taker_buy_base_asset_volume  \\\n",
       "Time_UTC_Start                                     \n",
       "2018-07-18 11:00:00                   182.772603   \n",
       "2018-07-18 12:00:00                   305.565355   \n",
       "2018-07-18 13:00:00                   185.403578   \n",
       "2018-07-18 14:00:00                   523.771292   \n",
       "2018-07-18 15:00:00                   394.389752   \n",
       "...                                          ...   \n",
       "2022-05-07 03:00:00                    63.466740   \n",
       "2022-05-07 04:00:00                    88.698540   \n",
       "2022-05-07 05:00:00                   112.947320   \n",
       "2022-05-07 06:00:00                    99.356640   \n",
       "2022-05-07 07:00:00                   138.951090   \n",
       "\n",
       "                     Taker_buy_quote_asset_volume       Time_UTC_Start  label  \n",
       "Time_UTC_Start                                                                 \n",
       "2018-07-18 11:00:00                  1.353409e+06  2018-07-18 11:00:00    0.0  \n",
       "2018-07-18 12:00:00                  2.270214e+06  2018-07-18 12:00:00    1.0  \n",
       "2018-07-18 13:00:00                  1.379857e+06  2018-07-18 13:00:00    1.0  \n",
       "2018-07-18 14:00:00                  3.912241e+06  2018-07-18 14:00:00    1.0  \n",
       "2018-07-18 15:00:00                  2.924306e+06  2018-07-18 15:00:00    0.0  \n",
       "...                                           ...                  ...    ...  \n",
       "2022-05-07 03:00:00                  2.280306e+06  2022-05-07 03:00:00    0.0  \n",
       "2022-05-07 04:00:00                  3.176351e+06  2022-05-07 04:00:00    0.0  \n",
       "2022-05-07 05:00:00                  4.041060e+06  2022-05-07 05:00:00    1.0  \n",
       "2022-05-07 06:00:00                  3.565137e+06  2022-05-07 06:00:00    0.0  \n",
       "2022-05-07 07:00:00                  4.975453e+06  2022-05-07 07:00:00    1.0  \n",
       "\n",
       "[33333 rows x 12 columns]"
      ]
     },
     "execution_count": 159,
     "metadata": {},
     "output_type": "execute_result"
    }
   ],
   "source": [
    "df3"
   ]
  },
  {
   "cell_type": "code",
   "execution_count": 8,
   "id": "dab50801",
   "metadata": {},
   "outputs": [],
   "source": [
    "df3 = df.asfreq('3600s')\n",
    "df3 = df3.fillna(method = \"ffill\")\n",
    "decomp2 = seasonal_decompose(x=df3.Close, model='additive', two_sided=False)\n",
    "est_trend = decomp2.trend\n",
    "est_seasonal = decomp2.seasonal\n",
    "est_residual = decomp2.resid"
   ]
  },
  {
   "cell_type": "code",
   "execution_count": 9,
   "id": "1b6b663d",
   "metadata": {},
   "outputs": [
    {
     "data": {
      "text/plain": [
       "<matplotlib.legend.Legend at 0x1a7213b7f70>"
      ]
     },
     "execution_count": 9,
     "metadata": {},
     "output_type": "execute_result"
    },
    {
     "data": {
      "image/png": "[encoded data removed]",
      "text/plain": [
       "<Figure size 1080x720 with 4 Axes>"
      ]
     },
     "metadata": {
      "needs_background": "light"
     },
     "output_type": "display_data"
    }
   ],
   "source": [
    "fig, axes = plt.subplots(4, 1)\n",
    "fig.set_figheight(10)\n",
    "fig.set_figwidth(15)\n",
    "axes[0].plot(df3.Close, label='Original')\n",
    "axes[0].legend()\n",
    "axes[1].plot(est_trend, label='Trend',color=\"b\")\n",
    "axes[1].legend()\n",
    "axes[2].plot(est_seasonal, label='Seasonality',color='r')\n",
    "axes[2].legend()\n",
    "axes[3].plot(est_residual, label='Residuals',color='g')\n",
    "axes[3].legend()"
   ]
  },
  {
   "cell_type": "code",
   "execution_count": 10,
   "id": "2aaec00e",
   "metadata": {},
   "outputs": [
    {
     "data": {
      "text/plain": [
       "Time_UTC_Start\n",
       "2021-02-07 11:00:00    -525.746247\n",
       "2021-02-07 12:00:00    -709.686524\n",
       "2021-02-07 13:00:00    -862.593891\n",
       "2021-02-07 14:00:00   -1187.181699\n",
       "2021-02-07 15:00:00   -1381.563600\n",
       "2021-02-07 16:00:00   -1008.778081\n",
       "2021-02-07 17:00:00   -1219.629841\n",
       "2021-02-07 18:00:00    -755.615614\n",
       "2021-02-07 19:00:00    -858.860537\n",
       "2021-02-07 20:00:00    -356.944298\n",
       "2021-02-07 21:00:00    -247.637099\n",
       "2021-02-07 22:00:00      73.498155\n",
       "2021-02-07 23:00:00     109.177061\n",
       "2021-02-08 00:00:00      58.447953\n",
       "2021-02-08 01:00:00    -127.037004\n",
       "2021-02-08 02:00:00    -369.283078\n",
       "2021-02-08 03:00:00    -504.475114\n",
       "2021-02-08 04:00:00      17.886179\n",
       "2021-02-08 05:00:00      99.833990\n",
       "2021-02-08 06:00:00     415.265053\n",
       "2021-02-08 07:00:00     652.555926\n",
       "2021-02-08 08:00:00     558.914093\n",
       "2021-02-08 09:00:00     361.380052\n",
       "2021-02-08 10:00:00     832.537081\n",
       "2021-02-08 11:00:00     826.876461\n",
       "2021-02-08 12:00:00    4288.516809\n",
       "2021-02-08 13:00:00    4010.813401\n",
       "2021-02-08 14:00:00    4487.818093\n",
       "2021-02-08 15:00:00    4408.728692\n",
       "2021-02-08 16:00:00    3634.441085\n",
       "2021-02-08 17:00:00    3336.219326\n",
       "2021-02-08 18:00:00    2734.370636\n",
       "2021-02-08 19:00:00    2915.288421\n",
       "2021-02-08 20:00:00    3793.834244\n",
       "2021-02-08 21:00:00    4015.799151\n",
       "2021-02-08 22:00:00    3814.731280\n",
       "2021-02-08 23:00:00    5230.268520\n",
       "2021-02-09 00:00:00    5292.095662\n",
       "2021-02-09 01:00:00    4354.697371\n",
       "2021-02-09 02:00:00    3606.506714\n",
       "2021-02-09 03:00:00    4177.102594\n",
       "2021-02-09 04:00:00    4069.092013\n",
       "2021-02-09 05:00:00    3737.750240\n",
       "2021-02-09 06:00:00    4632.701928\n",
       "2021-02-09 07:00:00    3660.855926\n",
       "2021-02-09 08:00:00    2927.327218\n",
       "2021-02-09 09:00:00    1903.893385\n",
       "2021-02-09 10:00:00     856.446039\n",
       "2021-02-09 11:00:00    1320.625211\n",
       "2021-02-09 12:00:00      41.895143\n",
       "2021-02-09 13:00:00     892.922984\n",
       "2021-02-09 14:00:00    1113.406843\n",
       "2021-02-09 15:00:00    1130.416192\n",
       "2021-02-09 16:00:00     691.549627\n",
       "2021-02-09 17:00:00     569.979534\n",
       "2021-02-09 18:00:00     942.372511\n",
       "2021-02-09 19:00:00     814.924254\n",
       "2021-02-09 20:00:00     696.251327\n",
       "2021-02-09 21:00:00     713.933734\n",
       "2021-02-09 22:00:00     221.182321\n",
       "Freq: 3600S, Name: resid, dtype: float64"
      ]
     },
     "execution_count": 10,
     "metadata": {},
     "output_type": "execute_result"
    }
   ],
   "source": [
    "est_residual.iloc[22440:22500]"
   ]
  },
  {
   "cell_type": "code",
   "execution_count": null,
   "id": "6c5190a1",
   "metadata": {},
   "outputs": [],
   "source": []
  },
  {
   "cell_type": "code",
   "execution_count": 11,
   "id": "89ebee2d",
   "metadata": {},
   "outputs": [],
   "source": [
    "est_residual.dropna(inplace=True)"
   ]
  },
  {
   "cell_type": "code",
   "execution_count": 12,
   "id": "3e65783c",
   "metadata": {},
   "outputs": [
    {
     "name": "stdout",
     "output_type": "stream",
     "text": [
      "21760\n",
      "21761\n",
      "21762\n",
      "21763\n",
      "21764\n",
      "21770\n",
      "21772\n",
      "21773\n",
      "22197\n",
      "22198\n",
      "22199\n",
      "22200\n",
      "22201\n",
      "22202\n",
      "22441\n",
      "22442\n",
      "22443\n",
      "22444\n",
      "22445\n",
      "22446\n",
      "22449\n",
      "22450\n",
      "22451\n",
      "22452\n",
      "22453\n",
      "22454\n",
      "22455\n",
      "22456\n",
      "22457\n",
      "22458\n",
      "22459\n",
      "22460\n",
      "22778\n",
      "22782\n",
      "22794\n",
      "22795\n",
      "22796\n",
      "22797\n",
      "22798\n",
      "22799\n",
      "22800\n",
      "22803\n",
      "22805\n",
      "22806\n",
      "22807\n",
      "22808\n",
      "22866\n",
      "22868\n",
      "22993\n",
      "23241\n",
      "23278\n",
      "24088\n",
      "24089\n",
      "24090\n",
      "24091\n",
      "24092\n",
      "24093\n",
      "24094\n",
      "24095\n",
      "24096\n",
      "24207\n",
      "24209\n",
      "24210\n",
      "24211\n",
      "24212\n",
      "24213\n",
      "24214\n",
      "24684\n",
      "24685\n",
      "24686\n",
      "24687\n",
      "24688\n",
      "24689\n",
      "24690\n",
      "24693\n",
      "24694\n",
      "24695\n",
      "24777\n",
      "24784\n",
      "24785\n",
      "24831\n",
      "24833\n",
      "24834\n",
      "24835\n",
      "24841\n",
      "24842\n",
      "24843\n",
      "24844\n",
      "24892\n",
      "24896\n",
      "24897\n",
      "24934\n",
      "24938\n",
      "24941\n",
      "24942\n",
      "24943\n",
      "24961\n",
      "24968\n",
      "25449\n",
      "26462\n",
      "26463\n",
      "26464\n",
      "26466\n",
      "27507\n",
      "27508\n",
      "27509\n",
      "27510\n",
      "27511\n",
      "27512\n",
      "27513\n",
      "27514\n",
      "27515\n",
      "28079\n",
      "28080\n",
      "28204\n",
      "29176\n",
      "29422\n",
      "29423\n",
      "29424\n",
      "29425\n",
      "29609\n",
      "29610\n",
      "29611\n",
      "29612\n",
      "29613\n",
      "29614\n",
      "29615\n",
      "29616\n",
      "29617\n",
      "29618\n",
      "29619\n",
      "30760\n",
      "31691\n",
      "31692\n",
      "31693\n",
      "31694\n"
     ]
    }
   ],
   "source": [
    "residual = est_residual\n",
    "for x in range(len(est_residual)):\n",
    "    if (est_residual[x] <= 647.7449929678342 * 5) and (est_residual[x] >= -647.7449929678342 * 5):\n",
    "        continue\n",
    "    else:\n",
    "        print(x)\n",
    "        residual[x] = residual[x-1]"
   ]
  },
  {
   "cell_type": "code",
   "execution_count": 13,
   "id": "46a6e189",
   "metadata": {},
   "outputs": [
    {
     "data": {
      "text/plain": [
       "Time_UTC_Start\n",
       "2021-02-08 11:00:00     826.876461\n",
       "2021-02-08 12:00:00     826.876461\n",
       "2021-02-08 13:00:00     826.876461\n",
       "2021-02-08 14:00:00     826.876461\n",
       "2021-02-08 15:00:00     826.876461\n",
       "2021-02-08 16:00:00     826.876461\n",
       "2021-02-08 17:00:00     826.876461\n",
       "2021-02-08 18:00:00    2734.370636\n",
       "2021-02-08 19:00:00    2915.288421\n",
       "2021-02-08 20:00:00    2915.288421\n",
       "2021-02-08 21:00:00    2915.288421\n",
       "2021-02-08 22:00:00    2915.288421\n",
       "2021-02-08 23:00:00    2915.288421\n",
       "2021-02-09 00:00:00    2915.288421\n",
       "2021-02-09 01:00:00    2915.288421\n",
       "2021-02-09 02:00:00    2915.288421\n",
       "2021-02-09 03:00:00    2915.288421\n",
       "2021-02-09 04:00:00    2915.288421\n",
       "2021-02-09 05:00:00    2915.288421\n",
       "2021-02-09 06:00:00    2915.288421\n",
       "Freq: 3600S, Name: resid, dtype: float64"
      ]
     },
     "execution_count": 13,
     "metadata": {},
     "output_type": "execute_result"
    }
   ],
   "source": [
    "residual[22440:22460]"
   ]
  },
  {
   "cell_type": "code",
   "execution_count": 14,
   "id": "fc552ba4",
   "metadata": {},
   "outputs": [
    {
     "data": {
      "text/plain": [
       "(array([4.6000e+01, 3.3000e+01, 2.7000e+01, 4.1000e+01, 3.8000e+01,\n",
       "        3.5000e+01, 3.0000e+01, 5.9000e+01, 7.5000e+01, 6.3000e+01,\n",
       "        7.5000e+01, 8.9000e+01, 9.8000e+01, 1.4000e+02, 1.7200e+02,\n",
       "        1.9400e+02, 2.6100e+02, 2.8400e+02, 3.1200e+02, 3.9600e+02,\n",
       "        5.7500e+02, 7.6700e+02, 1.2210e+03, 2.1470e+03, 6.7860e+03,\n",
       "        1.0484e+04, 2.9890e+03, 1.4280e+03, 8.6200e+02, 6.4900e+02,\n",
       "        5.2900e+02, 4.3700e+02, 3.6800e+02, 2.8700e+02, 2.3200e+02,\n",
       "        1.7400e+02, 1.6600e+02, 1.4000e+02, 1.2800e+02, 9.1000e+01,\n",
       "        5.6000e+01, 5.7000e+01, 5.9000e+01, 4.2000e+01, 3.1000e+01,\n",
       "        4.1000e+01, 4.6000e+01, 2.9000e+01, 8.0000e+00, 1.2000e+01]),\n",
       " array([-3237.36323933, -3108.39841738, -2979.43359542, -2850.46877347,\n",
       "        -2721.50395151, -2592.53912955, -2463.5743076 , -2334.60948564,\n",
       "        -2205.64466368, -2076.67984173, -1947.71501977, -1818.75019782,\n",
       "        -1689.78537586, -1560.8205539 , -1431.85573195, -1302.89090999,\n",
       "        -1173.92608804, -1044.96126608,  -915.99644412,  -787.03162217,\n",
       "         -658.06680021,  -529.10197826,  -400.1371563 ,  -271.17233434,\n",
       "         -142.20751239,   -13.24269043,   115.72213152,   244.68695348,\n",
       "          373.65177544,   502.61659739,   631.58141935,   760.5462413 ,\n",
       "          889.51106326,  1018.47588522,  1147.44070717,  1276.40552913,\n",
       "         1405.37035108,  1534.33517304,  1663.299995  ,  1792.26481695,\n",
       "         1921.22963891,  2050.19446086,  2179.15928282,  2308.12410478,\n",
       "         2437.08892673,  2566.05374869,  2695.01857065,  2823.9833926 ,\n",
       "         2952.94821456,  3081.91303651,  3210.87785847]),\n",
       " <BarContainer object of 50 artists>)"
      ]
     },
     "execution_count": 14,
     "metadata": {},
     "output_type": "execute_result"
    },
    {
     "data": {
      "image/png": "[encoded data removed]",
      "text/plain": [
       "<Figure size 432x288 with 1 Axes>"
      ]
     },
     "metadata": {
      "needs_background": "light"
     },
     "output_type": "display_data"
    }
   ],
   "source": [
    "plt.hist(residual, bins=50)"
   ]
  },
  {
   "cell_type": "code",
   "execution_count": 15,
   "id": "963a0809",
   "metadata": {},
   "outputs": [
    {
     "data": {
      "text/plain": [
       "Time_UTC_Start\n",
       "2018-07-19 11:00:00     42.202086\n",
       "2018-07-19 12:00:00     52.010143\n",
       "2018-07-19 13:00:00     97.514026\n",
       "2018-07-19 14:00:00     84.932676\n",
       "2018-07-19 15:00:00     10.571817\n",
       "                          ...    \n",
       "2022-05-07 03:00:00   -257.705323\n",
       "2022-05-07 04:00:00   -291.965904\n",
       "2022-05-07 05:00:00   -114.437468\n",
       "2022-05-07 06:00:00   -188.298905\n",
       "2022-05-07 07:00:00    -26.506574\n",
       "Freq: 3600S, Name: resid, Length: 33309, dtype: float64"
      ]
     },
     "execution_count": 15,
     "metadata": {},
     "output_type": "execute_result"
    }
   ],
   "source": [
    "residual"
   ]
  },
  {
   "cell_type": "code",
   "execution_count": 19,
   "id": "08e662b7",
   "metadata": {},
   "outputs": [
    {
     "data": {
      "text/plain": [
       "Time_UTC_Start\n",
       "2018-07-19 11:00:00     7414.49\n",
       "2018-07-19 12:00:00     7428.83\n",
       "2018-07-19 13:00:00     7489.98\n",
       "2018-07-19 14:00:00     7462.65\n",
       "2018-07-19 15:00:00     7392.35\n",
       "                         ...   \n",
       "2022-05-07 03:00:00    35812.21\n",
       "2022-05-07 04:00:00    35746.63\n",
       "2022-05-07 05:00:00    35898.95\n",
       "2022-05-07 06:00:00    35806.27\n",
       "2022-05-07 07:00:00    35951.69\n",
       "Freq: 3600S, Length: 33309, dtype: float64"
      ]
     },
     "execution_count": 19,
     "metadata": {},
     "output_type": "execute_result"
    }
   ],
   "source": [
    "residual + t"
   ]
  },
  {
   "cell_type": "code",
   "execution_count": 20,
   "id": "905e65a3",
   "metadata": {},
   "outputs": [
    {
     "data": {
      "text/plain": [
       "Time_UTC_Start\n",
       "2018-07-19 11:00:00     7414.49\n",
       "2018-07-19 12:00:00     7428.83\n",
       "2018-07-19 13:00:00     7489.98\n",
       "2018-07-19 14:00:00     7462.65\n",
       "2018-07-19 15:00:00     7392.35\n",
       "                         ...   \n",
       "2022-05-07 03:00:00    35812.21\n",
       "2022-05-07 04:00:00    35746.63\n",
       "2022-05-07 05:00:00    35898.95\n",
       "2022-05-07 06:00:00    35806.27\n",
       "2022-05-07 07:00:00    35951.69\n",
       "Freq: 3600S, Name: Close, Length: 33309, dtype: float64"
      ]
     },
     "execution_count": 20,
     "metadata": {},
     "output_type": "execute_result"
    }
   ],
   "source": [
    "df3['Close'][24:]"
   ]
  },
  {
   "cell_type": "code",
   "execution_count": 21,
   "id": "7c5b19c1",
   "metadata": {},
   "outputs": [
    {
     "data": {
      "text/html": [
       "<div>\n",
       "<style scoped>\n",
       "    .dataframe tbody tr th:only-of-type {\n",
       "        vertical-align: middle;\n",
       "    }\n",
       "\n",
       "    .dataframe tbody tr th {\n",
       "        vertical-align: top;\n",
       "    }\n",
       "\n",
       "    .dataframe thead th {\n",
       "        text-align: right;\n",
       "    }\n",
       "</style>\n",
       "<table border=\"1\" class=\"dataframe\">\n",
       "  <thead>\n",
       "    <tr style=\"text-align: right;\">\n",
       "      <th></th>\n",
       "      <th>Open</th>\n",
       "      <th>High</th>\n",
       "      <th>Low</th>\n",
       "      <th>Close</th>\n",
       "      <th>Volumn</th>\n",
       "      <th>Timestamp End</th>\n",
       "      <th>Quote_asset_volume</th>\n",
       "      <th>Number_of_trades</th>\n",
       "      <th>Taker_buy_base_asset_volume</th>\n",
       "      <th>Taker_buy_quote_asset_volume</th>\n",
       "      <th>Time_UTC_Start</th>\n",
       "      <th>label</th>\n",
       "    </tr>\n",
       "    <tr>\n",
       "      <th>Time_UTC_Start</th>\n",
       "      <th></th>\n",
       "      <th></th>\n",
       "      <th></th>\n",
       "      <th></th>\n",
       "      <th></th>\n",
       "      <th></th>\n",
       "      <th></th>\n",
       "      <th></th>\n",
       "      <th></th>\n",
       "      <th></th>\n",
       "      <th></th>\n",
       "      <th></th>\n",
       "    </tr>\n",
       "  </thead>\n",
       "  <tbody>\n",
       "    <tr>\n",
       "      <th>2018-07-18 11:00:00</th>\n",
       "      <td>7403.62</td>\n",
       "      <td>7419.09</td>\n",
       "      <td>7388.97</td>\n",
       "      <td>7395.00</td>\n",
       "      <td>350.486570</td>\n",
       "      <td>1531912499999</td>\n",
       "      <td>2.595325e+06</td>\n",
       "      <td>2722</td>\n",
       "      <td>182.772603</td>\n",
       "      <td>1.353409e+06</td>\n",
       "      <td>2018-07-18 11:00:00</td>\n",
       "      <td>0.0</td>\n",
       "    </tr>\n",
       "    <tr>\n",
       "      <th>2018-07-18 11:15:00</th>\n",
       "      <td>7395.00</td>\n",
       "      <td>7413.67</td>\n",
       "      <td>7390.00</td>\n",
       "      <td>7409.00</td>\n",
       "      <td>297.425016</td>\n",
       "      <td>1531913399999</td>\n",
       "      <td>2.201984e+06</td>\n",
       "      <td>1852</td>\n",
       "      <td>157.429353</td>\n",
       "      <td>1.165518e+06</td>\n",
       "      <td>2018-07-18 11:15:00</td>\n",
       "      <td>1.0</td>\n",
       "    </tr>\n",
       "    <tr>\n",
       "      <th>2018-07-18 11:30:00</th>\n",
       "      <td>7408.99</td>\n",
       "      <td>7433.58</td>\n",
       "      <td>7403.21</td>\n",
       "      <td>7423.04</td>\n",
       "      <td>394.702440</td>\n",
       "      <td>1531914299999</td>\n",
       "      <td>2.930376e+06</td>\n",
       "      <td>2489</td>\n",
       "      <td>240.866650</td>\n",
       "      <td>1.788280e+06</td>\n",
       "      <td>2018-07-18 11:30:00</td>\n",
       "      <td>1.0</td>\n",
       "    </tr>\n",
       "    <tr>\n",
       "      <th>2018-07-18 11:45:00</th>\n",
       "      <td>7420.24</td>\n",
       "      <td>7425.15</td>\n",
       "      <td>7408.07</td>\n",
       "      <td>7419.00</td>\n",
       "      <td>467.283506</td>\n",
       "      <td>1531915199999</td>\n",
       "      <td>3.466240e+06</td>\n",
       "      <td>2077</td>\n",
       "      <td>277.463210</td>\n",
       "      <td>2.058258e+06</td>\n",
       "      <td>2018-07-18 11:45:00</td>\n",
       "      <td>0.0</td>\n",
       "    </tr>\n",
       "    <tr>\n",
       "      <th>2018-07-18 12:00:00</th>\n",
       "      <td>7418.02</td>\n",
       "      <td>7443.48</td>\n",
       "      <td>7406.23</td>\n",
       "      <td>7434.94</td>\n",
       "      <td>472.655514</td>\n",
       "      <td>1531916099999</td>\n",
       "      <td>3.511303e+06</td>\n",
       "      <td>2668</td>\n",
       "      <td>305.565355</td>\n",
       "      <td>2.270214e+06</td>\n",
       "      <td>2018-07-18 12:00:00</td>\n",
       "      <td>1.0</td>\n",
       "    </tr>\n",
       "    <tr>\n",
       "      <th>...</th>\n",
       "      <td>...</td>\n",
       "      <td>...</td>\n",
       "      <td>...</td>\n",
       "      <td>...</td>\n",
       "      <td>...</td>\n",
       "      <td>...</td>\n",
       "      <td>...</td>\n",
       "      <td>...</td>\n",
       "      <td>...</td>\n",
       "      <td>...</td>\n",
       "      <td>...</td>\n",
       "      <td>...</td>\n",
       "    </tr>\n",
       "    <tr>\n",
       "      <th>2022-05-07 06:45:00</th>\n",
       "      <td>35853.44</td>\n",
       "      <td>35878.00</td>\n",
       "      <td>35790.02</td>\n",
       "      <td>35806.27</td>\n",
       "      <td>221.581020</td>\n",
       "      <td>1651906799999</td>\n",
       "      <td>7.940182e+06</td>\n",
       "      <td>6791</td>\n",
       "      <td>90.621670</td>\n",
       "      <td>3.246592e+06</td>\n",
       "      <td>2022-05-07 06:45:00</td>\n",
       "      <td>0.0</td>\n",
       "    </tr>\n",
       "    <tr>\n",
       "      <th>2022-05-07 07:00:00</th>\n",
       "      <td>35806.28</td>\n",
       "      <td>35832.12</td>\n",
       "      <td>35800.00</td>\n",
       "      <td>35810.01</td>\n",
       "      <td>543.906800</td>\n",
       "      <td>1651907699999</td>\n",
       "      <td>1.947352e+07</td>\n",
       "      <td>6514</td>\n",
       "      <td>138.951090</td>\n",
       "      <td>4.975453e+06</td>\n",
       "      <td>2022-05-07 07:00:00</td>\n",
       "      <td>1.0</td>\n",
       "    </tr>\n",
       "    <tr>\n",
       "      <th>2022-05-07 07:15:00</th>\n",
       "      <td>35810.01</td>\n",
       "      <td>35870.00</td>\n",
       "      <td>35810.00</td>\n",
       "      <td>35835.31</td>\n",
       "      <td>246.015180</td>\n",
       "      <td>1651908599999</td>\n",
       "      <td>8.819353e+06</td>\n",
       "      <td>5945</td>\n",
       "      <td>133.953740</td>\n",
       "      <td>4.802037e+06</td>\n",
       "      <td>2022-05-07 07:15:00</td>\n",
       "      <td>1.0</td>\n",
       "    </tr>\n",
       "    <tr>\n",
       "      <th>2022-05-07 07:30:00</th>\n",
       "      <td>35835.32</td>\n",
       "      <td>35934.62</td>\n",
       "      <td>35826.36</td>\n",
       "      <td>35934.62</td>\n",
       "      <td>341.127900</td>\n",
       "      <td>1651909499999</td>\n",
       "      <td>1.224246e+07</td>\n",
       "      <td>6100</td>\n",
       "      <td>228.793690</td>\n",
       "      <td>8.210072e+06</td>\n",
       "      <td>2022-05-07 07:30:00</td>\n",
       "      <td>1.0</td>\n",
       "    </tr>\n",
       "    <tr>\n",
       "      <th>2022-05-07 07:45:00</th>\n",
       "      <td>35934.61</td>\n",
       "      <td>35956.51</td>\n",
       "      <td>35906.53</td>\n",
       "      <td>35951.69</td>\n",
       "      <td>257.441030</td>\n",
       "      <td>1651910039999</td>\n",
       "      <td>9.251408e+06</td>\n",
       "      <td>4916</td>\n",
       "      <td>145.199540</td>\n",
       "      <td>5.217997e+06</td>\n",
       "      <td>2022-05-07 07:45:00</td>\n",
       "      <td>1.0</td>\n",
       "    </tr>\n",
       "  </tbody>\n",
       "</table>\n",
       "<p>133332 rows × 12 columns</p>\n",
       "</div>"
      ],
      "text/plain": [
       "                         Open      High       Low     Close      Volumn  \\\n",
       "Time_UTC_Start                                                            \n",
       "2018-07-18 11:00:00   7403.62   7419.09   7388.97   7395.00  350.486570   \n",
       "2018-07-18 11:15:00   7395.00   7413.67   7390.00   7409.00  297.425016   \n",
       "2018-07-18 11:30:00   7408.99   7433.58   7403.21   7423.04  394.702440   \n",
       "2018-07-18 11:45:00   7420.24   7425.15   7408.07   7419.00  467.283506   \n",
       "2018-07-18 12:00:00   7418.02   7443.48   7406.23   7434.94  472.655514   \n",
       "...                       ...       ...       ...       ...         ...   \n",
       "2022-05-07 06:45:00  35853.44  35878.00  35790.02  35806.27  221.581020   \n",
       "2022-05-07 07:00:00  35806.28  35832.12  35800.00  35810.01  543.906800   \n",
       "2022-05-07 07:15:00  35810.01  35870.00  35810.00  35835.31  246.015180   \n",
       "2022-05-07 07:30:00  35835.32  35934.62  35826.36  35934.62  341.127900   \n",
       "2022-05-07 07:45:00  35934.61  35956.51  35906.53  35951.69  257.441030   \n",
       "\n",
       "                     Timestamp End  Quote_asset_volume  Number_of_trades  \\\n",
       "Time_UTC_Start                                                             \n",
       "2018-07-18 11:00:00  1531912499999        2.595325e+06              2722   \n",
       "2018-07-18 11:15:00  1531913399999        2.201984e+06              1852   \n",
       "2018-07-18 11:30:00  1531914299999        2.930376e+06              2489   \n",
       "2018-07-18 11:45:00  1531915199999        3.466240e+06              2077   \n",
       "2018-07-18 12:00:00  1531916099999        3.511303e+06              2668   \n",
       "...                            ...                 ...               ...   \n",
       "2022-05-07 06:45:00  1651906799999        7.940182e+06              6791   \n",
       "2022-05-07 07:00:00  1651907699999        1.947352e+07              6514   \n",
       "2022-05-07 07:15:00  1651908599999        8.819353e+06              5945   \n",
       "2022-05-07 07:30:00  1651909499999        1.224246e+07              6100   \n",
       "2022-05-07 07:45:00  1651910039999        9.251408e+06              4916   \n",
       "\n",
       "                     Taker_buy_base_asset_volume  \\\n",
       "Time_UTC_Start                                     \n",
       "2018-07-18 11:00:00                   182.772603   \n",
       "2018-07-18 11:15:00                   157.429353   \n",
       "2018-07-18 11:30:00                   240.866650   \n",
       "2018-07-18 11:45:00                   277.463210   \n",
       "2018-07-18 12:00:00                   305.565355   \n",
       "...                                          ...   \n",
       "2022-05-07 06:45:00                    90.621670   \n",
       "2022-05-07 07:00:00                   138.951090   \n",
       "2022-05-07 07:15:00                   133.953740   \n",
       "2022-05-07 07:30:00                   228.793690   \n",
       "2022-05-07 07:45:00                   145.199540   \n",
       "\n",
       "                     Taker_buy_quote_asset_volume       Time_UTC_Start  label  \n",
       "Time_UTC_Start                                                                 \n",
       "2018-07-18 11:00:00                  1.353409e+06  2018-07-18 11:00:00    0.0  \n",
       "2018-07-18 11:15:00                  1.165518e+06  2018-07-18 11:15:00    1.0  \n",
       "2018-07-18 11:30:00                  1.788280e+06  2018-07-18 11:30:00    1.0  \n",
       "2018-07-18 11:45:00                  2.058258e+06  2018-07-18 11:45:00    0.0  \n",
       "2018-07-18 12:00:00                  2.270214e+06  2018-07-18 12:00:00    1.0  \n",
       "...                                           ...                  ...    ...  \n",
       "2022-05-07 06:45:00                  3.246592e+06  2022-05-07 06:45:00    0.0  \n",
       "2022-05-07 07:00:00                  4.975453e+06  2022-05-07 07:00:00    1.0  \n",
       "2022-05-07 07:15:00                  4.802037e+06  2022-05-07 07:15:00    1.0  \n",
       "2022-05-07 07:30:00                  8.210072e+06  2022-05-07 07:30:00    1.0  \n",
       "2022-05-07 07:45:00                  5.217997e+06  2022-05-07 07:45:00    1.0  \n",
       "\n",
       "[133332 rows x 12 columns]"
      ]
     },
     "execution_count": 21,
     "metadata": {},
     "output_type": "execute_result"
    }
   ],
   "source": [
    "df"
   ]
  },
  {
   "cell_type": "code",
   "execution_count": 21,
   "id": "2d24b68b",
   "metadata": {},
   "outputs": [],
   "source": [
    "pd.DataFrame(residual).to_csv('./residual.csv', index=True)"
   ]
  },
  {
   "cell_type": "code",
   "execution_count": 22,
   "id": "06a12385",
   "metadata": {},
   "outputs": [],
   "source": [
    "t = (est_seasonal + est_trend).dropna()"
   ]
  },
  {
   "cell_type": "code",
   "execution_count": 23,
   "id": "952faca0",
   "metadata": {},
   "outputs": [],
   "source": [
    "pd.DataFrame(t, columns=['price']).to_csv('./trend_and_seasonal.csv', index=True)"
   ]
  },
  {
   "cell_type": "code",
   "execution_count": 24,
   "id": "ba842297",
   "metadata": {},
   "outputs": [
    {
     "data": {
      "text/html": [
       "<div>\n",
       "<style scoped>\n",
       "    .dataframe tbody tr th:only-of-type {\n",
       "        vertical-align: middle;\n",
       "    }\n",
       "\n",
       "    .dataframe tbody tr th {\n",
       "        vertical-align: top;\n",
       "    }\n",
       "\n",
       "    .dataframe thead th {\n",
       "        text-align: right;\n",
       "    }\n",
       "</style>\n",
       "<table border=\"1\" class=\"dataframe\">\n",
       "  <thead>\n",
       "    <tr style=\"text-align: right;\">\n",
       "      <th></th>\n",
       "      <th>Time_UTC_Start</th>\n",
       "      <th>resid</th>\n",
       "    </tr>\n",
       "  </thead>\n",
       "  <tbody>\n",
       "    <tr>\n",
       "      <th>0</th>\n",
       "      <td>2018-07-19 11:00:00</td>\n",
       "      <td>42.202086</td>\n",
       "    </tr>\n",
       "    <tr>\n",
       "      <th>1</th>\n",
       "      <td>2018-07-19 12:00:00</td>\n",
       "      <td>52.010143</td>\n",
       "    </tr>\n",
       "    <tr>\n",
       "      <th>2</th>\n",
       "      <td>2018-07-19 13:00:00</td>\n",
       "      <td>97.514026</td>\n",
       "    </tr>\n",
       "    <tr>\n",
       "      <th>3</th>\n",
       "      <td>2018-07-19 14:00:00</td>\n",
       "      <td>84.932676</td>\n",
       "    </tr>\n",
       "    <tr>\n",
       "      <th>4</th>\n",
       "      <td>2018-07-19 15:00:00</td>\n",
       "      <td>10.571817</td>\n",
       "    </tr>\n",
       "    <tr>\n",
       "      <th>...</th>\n",
       "      <td>...</td>\n",
       "      <td>...</td>\n",
       "    </tr>\n",
       "    <tr>\n",
       "      <th>33304</th>\n",
       "      <td>2022-05-07 03:00:00</td>\n",
       "      <td>-257.705323</td>\n",
       "    </tr>\n",
       "    <tr>\n",
       "      <th>33305</th>\n",
       "      <td>2022-05-07 04:00:00</td>\n",
       "      <td>-291.965904</td>\n",
       "    </tr>\n",
       "    <tr>\n",
       "      <th>33306</th>\n",
       "      <td>2022-05-07 05:00:00</td>\n",
       "      <td>-114.437468</td>\n",
       "    </tr>\n",
       "    <tr>\n",
       "      <th>33307</th>\n",
       "      <td>2022-05-07 06:00:00</td>\n",
       "      <td>-188.298905</td>\n",
       "    </tr>\n",
       "    <tr>\n",
       "      <th>33308</th>\n",
       "      <td>2022-05-07 07:00:00</td>\n",
       "      <td>-26.506574</td>\n",
       "    </tr>\n",
       "  </tbody>\n",
       "</table>\n",
       "<p>33309 rows × 2 columns</p>\n",
       "</div>"
      ],
      "text/plain": [
       "            Time_UTC_Start       resid\n",
       "0      2018-07-19 11:00:00   42.202086\n",
       "1      2018-07-19 12:00:00   52.010143\n",
       "2      2018-07-19 13:00:00   97.514026\n",
       "3      2018-07-19 14:00:00   84.932676\n",
       "4      2018-07-19 15:00:00   10.571817\n",
       "...                    ...         ...\n",
       "33304  2022-05-07 03:00:00 -257.705323\n",
       "33305  2022-05-07 04:00:00 -291.965904\n",
       "33306  2022-05-07 05:00:00 -114.437468\n",
       "33307  2022-05-07 06:00:00 -188.298905\n",
       "33308  2022-05-07 07:00:00  -26.506574\n",
       "\n",
       "[33309 rows x 2 columns]"
      ]
     },
     "execution_count": 24,
     "metadata": {},
     "output_type": "execute_result"
    }
   ],
   "source": [
    "pd.read_csv('./residual.csv')"
   ]
  },
  {
   "cell_type": "code",
   "execution_count": 22,
   "id": "c826369b",
   "metadata": {},
   "outputs": [
    {
     "name": "stderr",
     "output_type": "stream",
     "text": [
      "C:\\Users\\ADMIN\\AppData\\Local\\Temp\\ipykernel_10304\\3854046937.py:14: DeprecationWarning: `np.float` is a deprecated alias for the builtin `float`. To silence this warning, use `float` by itself. Doing this will not modify any behavior and is safe. If you specifically wanted the numpy scalar type, use `np.float64` here.\n",
      "Deprecated in NumPy 1.20; for more details and guidance: https://numpy.org/devdocs/release/1.20.0-notes.html#deprecations\n",
      "  f = np.ravel(x).astype(np.float)\n"
     ]
    },
    {
     "data": {
      "image/png": "[encoded data removed]",
      "text/plain": [
       "<Figure size 432x288 with 1 Axes>"
      ]
     },
     "metadata": {
      "needs_background": "light"
     },
     "output_type": "display_data"
    }
   ],
   "source": [
    "x = residual.to_numpy()\n",
    "\n",
    "f = np.ravel(x).astype(np.float)\n",
    "f=f.reshape(-1,1)\n",
    "g = mixture.GaussianMixture(n_components=2, covariance_type='full')\n",
    "g.fit(f)\n",
    "weights = g.weights_\n",
    "means = g.means_\n",
    "covars = g.covariances_\n",
    "plt.hist(f, bins=100, histtype='bar', density=True, ec='red', alpha=0.5)\n",
    "\n",
    "f_axis = f.copy().ravel()\n",
    "f_axis.sort()\n",
    "plt.plot(f_axis,weights[0]*stats.norm.pdf(f_axis,means[0],np.sqrt(covars[0])).ravel(), c='red')\n",
    "plt.plot(f_axis,weights[1]*stats.norm.pdf(f_axis,means[1],np.sqrt(covars[1])).ravel(), c='green')\n",
    "# plt.plot(f_axis,weights[2]*stats.norm.pdf(f_axis,means[2],np.sqrt(covars[2])).ravel(), c='blue')\n",
    "\n",
    "plt.rcParams['agg.path.chunksize'] = 10000\n",
    "\n",
    "plt.grid()\n",
    "plt.show()"
   ]
  },
  {
   "cell_type": "code",
   "execution_count": 23,
   "id": "fed97dcf",
   "metadata": {},
   "outputs": [
    {
     "data": {
      "image/png": "[encoded data removed]",
      "text/plain": [
       "<Figure size 720x576 with 1 Axes>"
      ]
     },
     "metadata": {
      "needs_background": "light"
     },
     "output_type": "display_data"
    }
   ],
   "source": [
    "plt.figure(figsize=(10,8))\n",
    "plt.hist(f, bins=100, histtype='bar', density=True, ec='red', alpha=0.5)\n",
    "\n",
    "f_axis = f.copy().ravel()\n",
    "f_axis.sort()\n",
    "plt.plot(f_axis,weights[0]*stats.norm.pdf(f_axis,means[0],np.sqrt(covars[0])).ravel(), c='red')\n",
    "plt.plot(f_axis,weights[1]*stats.norm.pdf(f_axis,means[1],np.sqrt(covars[1])).ravel(), c='green')\n",
    "\n",
    "plt.rcParams['agg.path.chunksize'] = 10000\n",
    "\n",
    "plt.grid()\n",
    "plt.show()"
   ]
  },
  {
   "cell_type": "code",
   "execution_count": 24,
   "id": "440049a1",
   "metadata": {},
   "outputs": [
    {
     "data": {
      "text/plain": [
       "array([0.57523546, 0.42476454])"
      ]
     },
     "execution_count": 24,
     "metadata": {},
     "output_type": "execute_result"
    }
   ],
   "source": [
    "weights"
   ]
  },
  {
   "cell_type": "code",
   "execution_count": 25,
   "id": "6e18f481",
   "metadata": {},
   "outputs": [
    {
     "data": {
      "text/plain": [
       "array([[ 6.40523785],\n",
       "       [35.37301244]])"
      ]
     },
     "execution_count": 25,
     "metadata": {},
     "output_type": "execute_result"
    }
   ],
   "source": [
    "means"
   ]
  },
  {
   "cell_type": "code",
   "execution_count": 29,
   "id": "d8e06107",
   "metadata": {},
   "outputs": [
    {
     "data": {
      "text/plain": [
       "(84.41193243399599, 709.0106777045302)"
      ]
     },
     "execution_count": 29,
     "metadata": {},
     "output_type": "execute_result"
    }
   ],
   "source": [
    "math.sqrt(covars[0]), math.sqrt(covars[1])"
   ]
  },
  {
   "cell_type": "code",
   "execution_count": 53,
   "id": "060fe615",
   "metadata": {},
   "outputs": [],
   "source": [
    "random_1 = np.random.normal(6.40523785, 84.41193243399599, size=len(est_residual))\n",
    "random_2 = np.random.normal(35.37301244, 709.0106777045302, size=len(est_residual))\n",
    "random = random_1.tolist() + random_2.tolist()\n",
    "weight_random = [0.57523546] * len(est_residual) + [0.42476454] * len(est_residual)"
   ]
  },
  {
   "cell_type": "code",
   "execution_count": 54,
   "id": "4a76444f",
   "metadata": {},
   "outputs": [
    {
     "data": {
      "text/plain": [
       "[]"
      ]
     },
     "execution_count": 54,
     "metadata": {},
     "output_type": "execute_result"
    },
    {
     "data": {
      "image/png": "[encoded data removed]",
      "text/plain": [
       "<Figure size 432x288 with 1 Axes>"
      ]
     },
     "metadata": {
      "needs_background": "light"
     },
     "output_type": "display_data"
    }
   ],
   "source": [
    "plt.hist(random, weights=weight_random, bins=100, histtype='bar',density=True)\n",
    "plt.plot()"
   ]
  },
  {
   "cell_type": "code",
   "execution_count": 46,
   "id": "eba0a06b",
   "metadata": {},
   "outputs": [
    {
     "data": {
      "text/plain": [
       "[]"
      ]
     },
     "execution_count": 46,
     "metadata": {},
     "output_type": "execute_result"
    },
    {
     "data": {
      "image/png": "[encoded data removed]",
      "text/plain": [
       "<Figure size 432x288 with 1 Axes>"
      ]
     },
     "metadata": {
      "needs_background": "light"
     },
     "output_type": "display_data"
    }
   ],
   "source": [
    "plt.hist(residual, bins=100)\n",
    "plt.plot()"
   ]
  },
  {
   "cell_type": "code",
   "execution_count": 55,
   "id": "4c5c1b83",
   "metadata": {},
   "outputs": [
    {
     "name": "stdout",
     "output_type": "stream",
     "text": [
      "ADF Statistic: -21586489906160.691406\n",
      "p-value: 0.000000\n"
     ]
    }
   ],
   "source": [
    "from statsmodels.tsa.stattools import adfuller\n",
    "from numpy import log\n",
    "result = adfuller(est_seasonal.dropna())\n",
    "print('ADF Statistic: %f' % result[0])\n",
    "print('p-value: %f' % result[1])"
   ]
  },
  {
   "cell_type": "code",
   "execution_count": 41,
   "id": "0ec03362",
   "metadata": {},
   "outputs": [
    {
     "data": {
      "text/plain": [
       "0.0002364186834719821"
      ]
     },
     "execution_count": 41,
     "metadata": {},
     "output_type": "execute_result"
    }
   ],
   "source": [
    "0.0004728373669439642**1/2"
   ]
  },
  {
   "cell_type": "code",
   "execution_count": 35,
   "id": "c41338f2",
   "metadata": {},
   "outputs": [
    {
     "data": {
      "text/plain": [
       "1.0006932457951414"
      ]
     },
     "execution_count": 35,
     "metadata": {},
     "output_type": "execute_result"
    }
   ],
   "source": [
    "est_residual.mean()"
   ]
  },
  {
   "cell_type": "code",
   "execution_count": 61,
   "id": "9c00d95b",
   "metadata": {},
   "outputs": [],
   "source": [
    "data = (est_seasonal + est_trend).dropna()"
   ]
  },
  {
   "cell_type": "code",
   "execution_count": 62,
   "id": "93c6ae04",
   "metadata": {},
   "outputs": [
    {
     "data": {
      "text/plain": [
       "Time_UTC_Start\n",
       "2018-07-19 10:39:00     7369.600747\n",
       "2018-07-19 11:39:00     7365.312224\n",
       "2018-07-19 12:39:00     7369.067980\n",
       "2018-07-19 13:39:00     7389.943591\n",
       "2018-07-19 14:39:00     7377.053406\n",
       "                           ...     \n",
       "2022-05-07 03:39:00    36064.844066\n",
       "2022-05-07 04:39:00    36039.711329\n",
       "2022-05-07 05:39:00    36017.114902\n",
       "2022-05-07 06:39:00    35996.475333\n",
       "2022-05-07 07:39:00    35977.091807\n",
       "Freq: 3600S, Length: 33310, dtype: float64"
      ]
     },
     "execution_count": 62,
     "metadata": {},
     "output_type": "execute_result"
    }
   ],
   "source": [
    "data"
   ]
  },
  {
   "cell_type": "code",
   "execution_count": 63,
   "id": "f6193c72",
   "metadata": {},
   "outputs": [],
   "source": [
    "data = data - data.shift(1)"
   ]
  },
  {
   "cell_type": "code",
   "execution_count": 64,
   "id": "ac42ff9c",
   "metadata": {},
   "outputs": [],
   "source": [
    "old_data = df3.Close - df3.Close.shift(1)"
   ]
  },
  {
   "cell_type": "code",
   "execution_count": 65,
   "id": "3bc0001d",
   "metadata": {},
   "outputs": [
    {
     "data": {
      "text/plain": [
       "0.5251733765648924"
      ]
     },
     "execution_count": 65,
     "metadata": {},
     "output_type": "execute_result"
    }
   ],
   "source": [
    "((data[1:] * old_data[1:]) >= 0).sum()/len(data[1:])"
   ]
  },
  {
   "cell_type": "code",
   "execution_count": 66,
   "id": "8a412028",
   "metadata": {},
   "outputs": [],
   "source": [
    "data =(data[1:] >= 0) * 1"
   ]
  },
  {
   "cell_type": "code",
   "execution_count": 67,
   "id": "b31b89b9",
   "metadata": {},
   "outputs": [],
   "source": [
    "data = pd.DataFrame(data, columns={'label'})"
   ]
  },
  {
   "cell_type": "code",
   "execution_count": 68,
   "id": "c8f10293",
   "metadata": {},
   "outputs": [],
   "source": [
    "data.to_csv('./new_label.csv', index=True)"
   ]
  },
  {
   "cell_type": "code",
   "execution_count": 69,
   "id": "b97387b3",
   "metadata": {},
   "outputs": [
    {
     "data": {
      "text/html": [
       "<div>\n",
       "<style scoped>\n",
       "    .dataframe tbody tr th:only-of-type {\n",
       "        vertical-align: middle;\n",
       "    }\n",
       "\n",
       "    .dataframe tbody tr th {\n",
       "        vertical-align: top;\n",
       "    }\n",
       "\n",
       "    .dataframe thead th {\n",
       "        text-align: right;\n",
       "    }\n",
       "</style>\n",
       "<table border=\"1\" class=\"dataframe\">\n",
       "  <thead>\n",
       "    <tr style=\"text-align: right;\">\n",
       "      <th></th>\n",
       "      <th>label</th>\n",
       "    </tr>\n",
       "    <tr>\n",
       "      <th>Time_UTC_Start</th>\n",
       "      <th></th>\n",
       "    </tr>\n",
       "  </thead>\n",
       "  <tbody>\n",
       "    <tr>\n",
       "      <th>2018-07-19 11:39:00</th>\n",
       "      <td>0</td>\n",
       "    </tr>\n",
       "    <tr>\n",
       "      <th>2018-07-19 12:39:00</th>\n",
       "      <td>1</td>\n",
       "    </tr>\n",
       "    <tr>\n",
       "      <th>2018-07-19 13:39:00</th>\n",
       "      <td>1</td>\n",
       "    </tr>\n",
       "    <tr>\n",
       "      <th>2018-07-19 14:39:00</th>\n",
       "      <td>0</td>\n",
       "    </tr>\n",
       "    <tr>\n",
       "      <th>2018-07-19 15:39:00</th>\n",
       "      <td>0</td>\n",
       "    </tr>\n",
       "    <tr>\n",
       "      <th>...</th>\n",
       "      <td>...</td>\n",
       "    </tr>\n",
       "    <tr>\n",
       "      <th>2022-05-07 03:39:00</th>\n",
       "      <td>0</td>\n",
       "    </tr>\n",
       "    <tr>\n",
       "      <th>2022-05-07 04:39:00</th>\n",
       "      <td>0</td>\n",
       "    </tr>\n",
       "    <tr>\n",
       "      <th>2022-05-07 05:39:00</th>\n",
       "      <td>0</td>\n",
       "    </tr>\n",
       "    <tr>\n",
       "      <th>2022-05-07 06:39:00</th>\n",
       "      <td>0</td>\n",
       "    </tr>\n",
       "    <tr>\n",
       "      <th>2022-05-07 07:39:00</th>\n",
       "      <td>0</td>\n",
       "    </tr>\n",
       "  </tbody>\n",
       "</table>\n",
       "<p>33309 rows × 1 columns</p>\n",
       "</div>"
      ],
      "text/plain": [
       "                     label\n",
       "Time_UTC_Start            \n",
       "2018-07-19 11:39:00      0\n",
       "2018-07-19 12:39:00      1\n",
       "2018-07-19 13:39:00      1\n",
       "2018-07-19 14:39:00      0\n",
       "2018-07-19 15:39:00      0\n",
       "...                    ...\n",
       "2022-05-07 03:39:00      0\n",
       "2022-05-07 04:39:00      0\n",
       "2022-05-07 05:39:00      0\n",
       "2022-05-07 06:39:00      0\n",
       "2022-05-07 07:39:00      0\n",
       "\n",
       "[33309 rows x 1 columns]"
      ]
     },
     "execution_count": 69,
     "metadata": {},
     "output_type": "execute_result"
    }
   ],
   "source": [
    "data"
   ]
  },
  {
   "cell_type": "code",
   "execution_count": 56,
   "id": "7c079329",
   "metadata": {},
   "outputs": [],
   "source": [
    "est_residual_ = pd.DataFrame(est_residual)"
   ]
  },
  {
   "cell_type": "code",
   "execution_count": 58,
   "id": "887318a0",
   "metadata": {},
   "outputs": [],
   "source": [
    "est_residual_.to_csv('./residual.csv', index=True)"
   ]
  },
  {
   "cell_type": "code",
   "execution_count": 59,
   "id": "74aa2ddd",
   "metadata": {},
   "outputs": [
    {
     "data": {
      "text/html": [
       "<div>\n",
       "<style scoped>\n",
       "    .dataframe tbody tr th:only-of-type {\n",
       "        vertical-align: middle;\n",
       "    }\n",
       "\n",
       "    .dataframe tbody tr th {\n",
       "        vertical-align: top;\n",
       "    }\n",
       "\n",
       "    .dataframe thead th {\n",
       "        text-align: right;\n",
       "    }\n",
       "</style>\n",
       "<table border=\"1\" class=\"dataframe\">\n",
       "  <thead>\n",
       "    <tr style=\"text-align: right;\">\n",
       "      <th></th>\n",
       "      <th>resid</th>\n",
       "    </tr>\n",
       "    <tr>\n",
       "      <th>Time_UTC_Start</th>\n",
       "      <th></th>\n",
       "    </tr>\n",
       "  </thead>\n",
       "  <tbody>\n",
       "    <tr>\n",
       "      <th>2018-07-18 10:39:00</th>\n",
       "      <td>NaN</td>\n",
       "    </tr>\n",
       "    <tr>\n",
       "      <th>2018-07-18 11:39:00</th>\n",
       "      <td>NaN</td>\n",
       "    </tr>\n",
       "    <tr>\n",
       "      <th>2018-07-18 12:39:00</th>\n",
       "      <td>NaN</td>\n",
       "    </tr>\n",
       "    <tr>\n",
       "      <th>2018-07-18 13:39:00</th>\n",
       "      <td>NaN</td>\n",
       "    </tr>\n",
       "    <tr>\n",
       "      <th>2018-07-18 14:39:00</th>\n",
       "      <td>NaN</td>\n",
       "    </tr>\n",
       "    <tr>\n",
       "      <th>...</th>\n",
       "      <td>...</td>\n",
       "    </tr>\n",
       "    <tr>\n",
       "      <th>2022-05-07 03:39:00</th>\n",
       "      <td>-175.444066</td>\n",
       "    </tr>\n",
       "    <tr>\n",
       "      <th>2022-05-07 04:39:00</th>\n",
       "      <td>-220.661329</td>\n",
       "    </tr>\n",
       "    <tr>\n",
       "      <th>2022-05-07 05:39:00</th>\n",
       "      <td>-158.834902</td>\n",
       "    </tr>\n",
       "    <tr>\n",
       "      <th>2022-05-07 06:39:00</th>\n",
       "      <td>-200.925333</td>\n",
       "    </tr>\n",
       "    <tr>\n",
       "      <th>2022-05-07 07:39:00</th>\n",
       "      <td>-25.401807</td>\n",
       "    </tr>\n",
       "  </tbody>\n",
       "</table>\n",
       "<p>33334 rows × 1 columns</p>\n",
       "</div>"
      ],
      "text/plain": [
       "                          resid\n",
       "Time_UTC_Start                 \n",
       "2018-07-18 10:39:00         NaN\n",
       "2018-07-18 11:39:00         NaN\n",
       "2018-07-18 12:39:00         NaN\n",
       "2018-07-18 13:39:00         NaN\n",
       "2018-07-18 14:39:00         NaN\n",
       "...                         ...\n",
       "2022-05-07 03:39:00 -175.444066\n",
       "2022-05-07 04:39:00 -220.661329\n",
       "2022-05-07 05:39:00 -158.834902\n",
       "2022-05-07 06:39:00 -200.925333\n",
       "2022-05-07 07:39:00  -25.401807\n",
       "\n",
       "[33334 rows x 1 columns]"
      ]
     },
     "execution_count": 59,
     "metadata": {},
     "output_type": "execute_result"
    }
   ],
   "source": [
    "est_residual_"
   ]
  },
  {
   "cell_type": "code",
   "execution_count": null,
   "id": "c4ba93c7",
   "metadata": {},
   "outputs": [],
   "source": []
  },
  {
   "cell_type": "code",
   "execution_count": null,
   "id": "83ecf986",
   "metadata": {},
   "outputs": [],
   "source": []
  },
  {
   "cell_type": "code",
   "execution_count": null,
   "id": "a17f03f4",
   "metadata": {},
   "outputs": [],
   "source": []
  },
  {
   "cell_type": "code",
   "execution_count": null,
   "id": "7ac8ef81",
   "metadata": {},
   "outputs": [],
   "source": []
  },
  {
   "cell_type": "code",
   "execution_count": null,
   "id": "22bd8cff",
   "metadata": {},
   "outputs": [],
   "source": []
  },
  {
   "cell_type": "code",
   "execution_count": 78,
   "id": "1f327519",
   "metadata": {},
   "outputs": [],
   "source": [
    "S = df['Close']"
   ]
  },
  {
   "cell_type": "code",
   "execution_count": 79,
   "id": "0a779219",
   "metadata": {},
   "outputs": [],
   "source": [
    "R = S / S.shift(1) - 1"
   ]
  },
  {
   "cell_type": "code",
   "execution_count": 80,
   "id": "97e28804",
   "metadata": {},
   "outputs": [],
   "source": [
    "R.dropna(inplace=True)"
   ]
  },
  {
   "cell_type": "code",
   "execution_count": 81,
   "id": "1d200014",
   "metadata": {},
   "outputs": [
    {
     "data": {
      "text/plain": [
       "(array([3.00000e+00, 1.10000e+01, 6.51000e+02, 1.32492e+05, 1.68000e+02,\n",
       "        6.00000e+00, 0.00000e+00, 0.00000e+00, 0.00000e+00, 1.00000e+00]),\n",
       " array([-0.1322372 , -0.09313428, -0.05403136, -0.01492844,  0.02417448,\n",
       "         0.0632774 ,  0.10238032,  0.14148324,  0.18058616,  0.21968908,\n",
       "         0.258792  ]),\n",
       " <BarContainer object of 10 artists>)"
      ]
     },
     "execution_count": 81,
     "metadata": {},
     "output_type": "execute_result"
    },
    {
     "data": {
      "image/png": "[encoded data removed]",
      "text/plain": [
       "<Figure size 432x288 with 1 Axes>"
      ]
     },
     "metadata": {
      "needs_background": "light"
     },
     "output_type": "display_data"
    }
   ],
   "source": [
    "plt.hist(R)"
   ]
  },
  {
   "cell_type": "code",
   "execution_count": 53,
   "id": "412fd25f",
   "metadata": {},
   "outputs": [
    {
     "data": {
      "text/plain": [
       "<matplotlib.legend.Legend at 0x2188131b250>"
      ]
     },
     "execution_count": 53,
     "metadata": {},
     "output_type": "execute_result"
    },
    {
     "data": {
      "image/png": "[encoded data removed]",
      "text/plain": [
       "<Figure size 1080x720 with 4 Axes>"
      ]
     },
     "metadata": {
      "needs_background": "light"
     },
     "output_type": "display_data"
    }
   ],
   "source": [
    "df3 = df.asfreq('3600s')[26000:]\n",
    "df3 = df3.fillna(method = \"ffill\")\n",
    "decomp2 = seasonal_decompose(x=df3.Close, model='additive', two_sided=False)\n",
    "est_trend = decomp2.trend\n",
    "est_seasonal_1 = decomp2.seasonal\n",
    "est_residual_1 = decomp2.resid\n",
    "fig, axes = plt.subplots(4, 1)\n",
    "fig.set_figheight(10)\n",
    "fig.set_figwidth(15)\n",
    "axes[0].plot(df3.Close, label='Original')\n",
    "axes[0].legend()\n",
    "axes[1].plot(est_trend, label='Trend',color=\"b\")\n",
    "axes[1].legend()\n",
    "axes[2].plot(est_seasonal_1, label='Seasonality',color='r')\n",
    "axes[2].legend()\n",
    "axes[3].plot(est_residual_1, label='Residuals',color='g')\n",
    "axes[3].legend()"
   ]
  },
  {
   "cell_type": "code",
   "execution_count": 19,
   "id": "0121345a",
   "metadata": {},
   "outputs": [
    {
     "data": {
      "text/plain": [
       "(0.016508565233164692, 0.035673268202052195)"
      ]
     },
     "execution_count": 19,
     "metadata": {},
     "output_type": "execute_result"
    }
   ],
   "source": [
    "est_residual_1.mean()/est_residual_1.std(), est_residual_2.mean()/est_residual_2.std()"
   ]
  },
  {
   "cell_type": "code",
   "execution_count": 104,
   "id": "de3d1242",
   "metadata": {},
   "outputs": [],
   "source": [
    "r = (est_residual_1 - est_residual_1.shift(1))/est_residual_1.shift(1)\n",
    "r = r.dropna()"
   ]
  },
  {
   "cell_type": "code",
   "execution_count": 105,
   "id": "4d3edff5",
   "metadata": {},
   "outputs": [
    {
     "data": {
      "text/plain": [
       "1.048746199479332"
      ]
     },
     "execution_count": 105,
     "metadata": {},
     "output_type": "execute_result"
    }
   ],
   "source": [
    "r.mean()"
   ]
  },
  {
   "cell_type": "code",
   "execution_count": 106,
   "id": "e659d7bf",
   "metadata": {},
   "outputs": [
    {
     "data": {
      "text/plain": [
       "113.02488476044316"
      ]
     },
     "execution_count": 106,
     "metadata": {},
     "output_type": "execute_result"
    }
   ],
   "source": [
    "r.std()"
   ]
  },
  {
   "cell_type": "code",
   "execution_count": 114,
   "id": "a0bfaee0",
   "metadata": {},
   "outputs": [],
   "source": [
    "residual = ((r <= 113.02488476044316 * 3) * (r >= -113.02488476044316 * 3) * r).fillna(method='ffill')"
   ]
  },
  {
   "cell_type": "code",
   "execution_count": 115,
   "id": "ca09ca8b",
   "metadata": {},
   "outputs": [
    {
     "data": {
      "text/plain": [
       "-0.1070964827618288"
      ]
     },
     "execution_count": 115,
     "metadata": {},
     "output_type": "execute_result"
    }
   ],
   "source": [
    "residual.mean()"
   ]
  },
  {
   "cell_type": "code",
   "execution_count": 116,
   "id": "fddcd998",
   "metadata": {},
   "outputs": [
    {
     "data": {
      "text/plain": [
       "6.935863849179044"
      ]
     },
     "execution_count": 116,
     "metadata": {},
     "output_type": "execute_result"
    }
   ],
   "source": [
    "residual.std()"
   ]
  },
  {
   "cell_type": "code",
   "execution_count": 87,
   "id": "3b496f73",
   "metadata": {},
   "outputs": [],
   "source": [
    "mu = 2.3183698389629275e-5\n",
    "sigma = 0.0031928444133398548\n",
    "start_price = 7000"
   ]
  },
  {
   "cell_type": "code",
   "execution_count": 98,
   "id": "109369a2",
   "metadata": {},
   "outputs": [],
   "source": [
    "np.random.seed(0)\n",
    "returns = np.random.normal(loc=mu, scale=sigma, size=1000000)\n",
    "price = start_price*(1+returns).cumprod()"
   ]
  },
  {
   "cell_type": "code",
   "execution_count": 99,
   "id": "e1aa2058",
   "metadata": {},
   "outputs": [
    {
     "data": {
      "text/plain": [
       "array([ 0.00565553,  0.00130082,  0.00314814, ..., -0.00252242,\n",
       "        0.00281614,  0.00440323])"
      ]
     },
     "execution_count": 99,
     "metadata": {},
     "output_type": "execute_result"
    }
   ],
   "source": [
    "returns"
   ]
  },
  {
   "cell_type": "code",
   "execution_count": 121,
   "id": "4ef7531f",
   "metadata": {},
   "outputs": [
    {
     "name": "stderr",
     "output_type": "stream",
     "text": [
      "C:\\Users\\ADMIN\\AppData\\Local\\Temp\\ipykernel_4884\\323819230.py:3: DeprecationWarning: `np.float` is a deprecated alias for the builtin `float`. To silence this warning, use `float` by itself. Doing this will not modify any behavior and is safe. If you specifically wanted the numpy scalar type, use `np.float64` here.\n",
      "Deprecated in NumPy 1.20; for more details and guidance: https://numpy.org/devdocs/release/1.20.0-notes.html#deprecations\n",
      "  f = np.ravel(x).astype(np.float)\n"
     ]
    },
    {
     "data": {
      "image/png": "[encoded data removed]",
      "text/plain": [
       "<Figure size 432x288 with 1 Axes>"
      ]
     },
     "metadata": {
      "needs_background": "light"
     },
     "output_type": "display_data"
    }
   ],
   "source": [
    "x = est_residual_1.dropna().to_numpy()\n",
    "\n",
    "f = np.ravel(x).astype(np.float)\n",
    "f=f.reshape(-1,1)\n",
    "g = mixture.GaussianMixture(n_components=1, covariance_type='full')\n",
    "g.fit(f)\n",
    "weights = g.weights_\n",
    "means = g.means_\n",
    "covars = g.covariances_\n",
    "plt.hist(f, bins=100, histtype='bar', density=True, ec='red', alpha=0.5)\n",
    "\n",
    "f_axis = f.copy().ravel()\n",
    "f_axis.sort()\n",
    "plt.plot(f_axis,weights[0]*stats.norm.pdf(f_axis,means[0],np.sqrt(covars[0])).ravel(), c='red')\n",
    "# plt.plot(f_axis,weights[1]*stats.norm.pdf(f_axis,means[1],np.sqrt(covars[1])).ravel(), c='green')\n",
    "# plt.plot(f_axis,weights[2]*stats.norm.pdf(f_axis,means[2],np.sqrt(covars[2])).ravel(), c='blue')\n",
    "\n",
    "plt.rcParams['agg.path.chunksize'] = 10000\n",
    "\n",
    "plt.grid()\n",
    "plt.show()"
   ]
  },
  {
   "cell_type": "code",
   "execution_count": 113,
   "id": "98be84a8",
   "metadata": {},
   "outputs": [
    {
     "data": {
      "text/plain": [
       "<AxesSubplot:>"
      ]
     },
     "execution_count": 113,
     "metadata": {},
     "output_type": "execute_result"
    },
    {
     "data": {
      "image/png": "[encoded data removed]",
      "text/plain": [
       "<Figure size 432x288 with 1 Axes>"
      ]
     },
     "metadata": {
      "needs_background": "light"
     },
     "output_type": "display_data"
    }
   ],
   "source": [
    "residual.hist()"
   ]
  },
  {
   "cell_type": "code",
   "execution_count": null,
   "id": "6d82da43",
   "metadata": {},
   "outputs": [],
   "source": []
  }
 ],
 "metadata": {
  "kernelspec": {
   "display_name": "Python 3 (ipykernel)",
   "language": "python",
   "name": "python3"
  },
  "language_info": {
   "codemirror_mode": {
    "name": "ipython",
    "version": 3
   },
   "file_extension": ".py",
   "mimetype": "text/x-python",
   "name": "python",
   "nbconvert_exporter": "python",
   "pygments_lexer": "ipython3",
   "version": "3.9.12"
  }
 },
 "nbformat": 4,
 "nbformat_minor": 5
}
