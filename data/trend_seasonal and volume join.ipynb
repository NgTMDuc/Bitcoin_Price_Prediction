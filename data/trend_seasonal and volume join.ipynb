{
 "cells": [
  {
   "cell_type": "code",
   "execution_count": 10,
   "id": "a5e90c60",
   "metadata": {},
   "outputs": [],
   "source": [
    "import pandas as pd"
   ]
  },
  {
   "cell_type": "code",
   "execution_count": 11,
   "id": "9da3d6f2",
   "metadata": {},
   "outputs": [],
   "source": [
    "df =  pd.read_csv(\"features_with_cryptoquant_data_df.csv\")"
   ]
  },
  {
   "cell_type": "code",
   "execution_count": 12,
   "id": "a0ceae66",
   "metadata": {},
   "outputs": [],
   "source": [
    "df_close = pd.read_csv('trend_seasonal.csv').iloc[:, 0:20]\n",
    "df_volume = pd.read_csv('volume_feature.csv').iloc[:, 0:20]"
   ]
  },
  {
   "cell_type": "code",
   "execution_count": 13,
   "id": "1b8c079e",
   "metadata": {},
   "outputs": [],
   "source": [
    "df_close.rename(columns={\"close\":\"close_ts\", \"volume\":\"volume_ts\"}, inplace=True)"
   ]
  },
  {
   "cell_type": "code",
   "execution_count": 17,
   "id": "f6fcee7c",
   "metadata": {},
   "outputs": [],
   "source": [
    "df = df.merge(df_close, how='left', on='time_open')\n",
    "df = df.merge(df_volume, how='left', on='time_open')"
   ]
  },
  {
   "cell_type": "code",
   "execution_count": 18,
   "id": "17fda092",
   "metadata": {},
   "outputs": [],
   "source": [
    "df.ffill(inplace=True)"
   ]
  },
  {
   "cell_type": "code",
   "execution_count": 19,
   "id": "1b575618",
   "metadata": {},
   "outputs": [
    {
     "data": {
      "text/plain": [
       "0"
      ]
     },
     "execution_count": 19,
     "metadata": {},
     "output_type": "execute_result"
    }
   ],
   "source": [
    "df.isna().sum().sum()"
   ]
  },
  {
   "cell_type": "code",
   "execution_count": 20,
   "id": "7cab1d76",
   "metadata": {},
   "outputs": [],
   "source": [
    "df.drop(columns=[\"Unnamed: 0\"], inplace=True)"
   ]
  },
  {
   "cell_type": "code",
   "execution_count": 21,
   "id": "fc84b97e",
   "metadata": {},
   "outputs": [],
   "source": [
    "df.to_csv(\"features_joined_with_trend_seasonal_and_volume.csv\")"
   ]
  },
  {
   "cell_type": "code",
   "execution_count": null,
   "id": "01d35634",
   "metadata": {},
   "outputs": [],
   "source": []
  }
 ],
 "metadata": {
  "kernelspec": {
   "display_name": "Python 3 (ipykernel)",
   "language": "python",
   "name": "python3"
  },
  "language_info": {
   "codemirror_mode": {
    "name": "ipython",
    "version": 3
   },
   "file_extension": ".py",
   "mimetype": "text/x-python",
   "name": "python",
   "nbconvert_exporter": "python",
   "pygments_lexer": "ipython3",
   "version": "3.9.12"
  }
 },
 "nbformat": 4,
 "nbformat_minor": 5
}
