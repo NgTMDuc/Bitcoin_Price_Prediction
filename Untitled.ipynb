{
 "cells": [
  {
   "cell_type": "code",
   "execution_count": 1,
   "id": "53b6d64d",
   "metadata": {},
   "outputs": [],
   "source": [
    "import pandas as pd\n",
    "from sklearn.model_selection import train_test_split\n",
    "import sys\n",
    "import numpy as np\n",
    "import matplotlib.pyplot as plt\n",
    "from sklearn import preprocessing\n",
    "from sklearn.metrics import roc_auc_score, mean_squared_error, mean_absolute_percentage_error\n",
    "import math \n",
    "from sklearn.linear_model import Ridge"
   ]
  },
  {
   "cell_type": "code",
   "execution_count": 2,
   "id": "6eb6da19",
   "metadata": {},
   "outputs": [],
   "source": [
    "def label(df, t=15):\n",
    "#     df = df[df.shape[0] % t:]\n",
    "    df2 = df.groupby(np.arange(len(df))//t, axis=0).agg({'Timestamp': 'min', 'Open': 'first', 'High': 'max', 'Low': 'min', 'Close': 'last',\n",
    "                                'N/A': 'sum', 'Timestamp End': 'max', 'N/A.1': 'sum', 'N/A.2': 'sum', 'N/A.3': 'sum',\n",
    "                                'N/A.4': 'sum', 'N/A.5': 'sum', 'Time_UTC_Start': 'first'})\n",
    "    df2.rename(columns = {'N/A': 'Volumn', 'N/A.1': 'Quote_asset_volume', 'N/A.2': 'Number_of_trades',\n",
    "                         'N/A.3': 'Taker_buy_base_asset_volume', 'N/A.4': 'Taker_buy_quote_asset_volume'}, inplace = True)\n",
    "    length = df2.shape[0]\n",
    "    op = df2['Open'].values.reshape(length,1)\n",
    "    cl = df2['Close'].values.reshape(length,1 )\n",
    "    v = np.ones((length, 1)) * (op < cl)\n",
    "    df2['label'] = v\n",
    "    df2.index = df2[\"Timestamp\"]\n",
    "    df2.drop(columns=[\"Timestamp\", \"N/A.5\"], inplace=True)\n",
    "    return df2"
   ]
  },
  {
   "cell_type": "code",
   "execution_count": 3,
   "id": "1ab7bf65",
   "metadata": {},
   "outputs": [],
   "source": [
    "df = pd.read_csv('../binance-BTCUSDT-1m.csv')"
   ]
  },
  {
   "cell_type": "code",
   "execution_count": 4,
   "id": "e6ccc97a",
   "metadata": {},
   "outputs": [],
   "source": [
    "df = df.iloc[26:]"
   ]
  },
  {
   "cell_type": "code",
   "execution_count": 5,
   "id": "7686f889",
   "metadata": {},
   "outputs": [],
   "source": [
    "df = label(df, t=60)"
   ]
  },
  {
   "cell_type": "code",
   "execution_count": 6,
   "id": "eefa5790",
   "metadata": {},
   "outputs": [],
   "source": [
    "df.index = df['Time_UTC_Start']"
   ]
  },
  {
   "cell_type": "code",
   "execution_count": 7,
   "id": "9286a050",
   "metadata": {},
   "outputs": [],
   "source": [
    "del df['Timestamp End'], df['Time_UTC_Start']"
   ]
  },
  {
   "cell_type": "code",
   "execution_count": 8,
   "id": "85096d3d",
   "metadata": {},
   "outputs": [],
   "source": [
    "df['Open_change'] = df['Open'] - df['Open'].shift(1)\n",
    "df['High_change'] = df['High'] - df['High'].shift(1)\n",
    "df['Low_change'] = df['Low'] - df['Low'].shift(1)\n",
    "df['Close_change'] = df['Close'] - df['Close'].shift(1)\n",
    "df = df.dropna()"
   ]
  },
  {
   "cell_type": "code",
   "execution_count": 9,
   "id": "29d0b287",
   "metadata": {},
   "outputs": [
    {
     "data": {
      "text/html": [
       "<div>\n",
       "<style scoped>\n",
       "    .dataframe tbody tr th:only-of-type {\n",
       "        vertical-align: middle;\n",
       "    }\n",
       "\n",
       "    .dataframe tbody tr th {\n",
       "        vertical-align: top;\n",
       "    }\n",
       "\n",
       "    .dataframe thead th {\n",
       "        text-align: right;\n",
       "    }\n",
       "</style>\n",
       "<table border=\"1\" class=\"dataframe\">\n",
       "  <thead>\n",
       "    <tr style=\"text-align: right;\">\n",
       "      <th></th>\n",
       "      <th>Open</th>\n",
       "      <th>High</th>\n",
       "      <th>Low</th>\n",
       "      <th>Close</th>\n",
       "      <th>Volumn</th>\n",
       "      <th>Quote_asset_volume</th>\n",
       "      <th>Number_of_trades</th>\n",
       "      <th>Taker_buy_base_asset_volume</th>\n",
       "      <th>Taker_buy_quote_asset_volume</th>\n",
       "      <th>label</th>\n",
       "      <th>Open_change</th>\n",
       "      <th>High_change</th>\n",
       "      <th>Low_change</th>\n",
       "      <th>Close_change</th>\n",
       "    </tr>\n",
       "    <tr>\n",
       "      <th>Time_UTC_Start</th>\n",
       "      <th></th>\n",
       "      <th></th>\n",
       "      <th></th>\n",
       "      <th></th>\n",
       "      <th></th>\n",
       "      <th></th>\n",
       "      <th></th>\n",
       "      <th></th>\n",
       "      <th></th>\n",
       "      <th></th>\n",
       "      <th></th>\n",
       "      <th></th>\n",
       "      <th></th>\n",
       "      <th></th>\n",
       "    </tr>\n",
       "  </thead>\n",
       "  <tbody>\n",
       "    <tr>\n",
       "      <th>2018-07-18 12:00:00</th>\n",
       "      <td>7418.02</td>\n",
       "      <td>7472.02</td>\n",
       "      <td>7406.23</td>\n",
       "      <td>7435.89</td>\n",
       "      <td>2149.661062</td>\n",
       "      <td>1.600977e+07</td>\n",
       "      <td>11665</td>\n",
       "      <td>1215.708096</td>\n",
       "      <td>9.052893e+06</td>\n",
       "      <td>1.0</td>\n",
       "      <td>14.40</td>\n",
       "      <td>38.44</td>\n",
       "      <td>17.26</td>\n",
       "      <td>16.89</td>\n",
       "    </tr>\n",
       "    <tr>\n",
       "      <th>2018-07-18 13:00:00</th>\n",
       "      <td>7435.90</td>\n",
       "      <td>7469.37</td>\n",
       "      <td>7386.12</td>\n",
       "      <td>7457.01</td>\n",
       "      <td>2197.764754</td>\n",
       "      <td>1.633053e+07</td>\n",
       "      <td>12232</td>\n",
       "      <td>1095.080446</td>\n",
       "      <td>8.138991e+06</td>\n",
       "      <td>1.0</td>\n",
       "      <td>17.88</td>\n",
       "      <td>-2.65</td>\n",
       "      <td>-20.11</td>\n",
       "      <td>21.12</td>\n",
       "    </tr>\n",
       "    <tr>\n",
       "      <th>2018-07-18 14:00:00</th>\n",
       "      <td>7458.14</td>\n",
       "      <td>7531.30</td>\n",
       "      <td>7431.66</td>\n",
       "      <td>7453.00</td>\n",
       "      <td>3276.014892</td>\n",
       "      <td>2.446673e+07</td>\n",
       "      <td>17154</td>\n",
       "      <td>1741.566330</td>\n",
       "      <td>1.300958e+07</td>\n",
       "      <td>0.0</td>\n",
       "      <td>22.24</td>\n",
       "      <td>61.93</td>\n",
       "      <td>45.54</td>\n",
       "      <td>-4.01</td>\n",
       "    </tr>\n",
       "    <tr>\n",
       "      <th>2018-07-18 15:00:00</th>\n",
       "      <td>7451.71</td>\n",
       "      <td>7453.01</td>\n",
       "      <td>7360.40</td>\n",
       "      <td>7428.73</td>\n",
       "      <td>2447.162973</td>\n",
       "      <td>1.813955e+07</td>\n",
       "      <td>13956</td>\n",
       "      <td>1175.701436</td>\n",
       "      <td>8.715964e+06</td>\n",
       "      <td>0.0</td>\n",
       "      <td>-6.43</td>\n",
       "      <td>-78.29</td>\n",
       "      <td>-71.26</td>\n",
       "      <td>-24.27</td>\n",
       "    </tr>\n",
       "    <tr>\n",
       "      <th>2018-07-18 16:00:00</th>\n",
       "      <td>7428.46</td>\n",
       "      <td>7462.00</td>\n",
       "      <td>7415.32</td>\n",
       "      <td>7435.00</td>\n",
       "      <td>2002.579947</td>\n",
       "      <td>1.489915e+07</td>\n",
       "      <td>11347</td>\n",
       "      <td>1048.602977</td>\n",
       "      <td>7.801609e+06</td>\n",
       "      <td>1.0</td>\n",
       "      <td>-23.25</td>\n",
       "      <td>8.99</td>\n",
       "      <td>54.92</td>\n",
       "      <td>6.27</td>\n",
       "    </tr>\n",
       "    <tr>\n",
       "      <th>...</th>\n",
       "      <td>...</td>\n",
       "      <td>...</td>\n",
       "      <td>...</td>\n",
       "      <td>...</td>\n",
       "      <td>...</td>\n",
       "      <td>...</td>\n",
       "      <td>...</td>\n",
       "      <td>...</td>\n",
       "      <td>...</td>\n",
       "      <td>...</td>\n",
       "      <td>...</td>\n",
       "      <td>...</td>\n",
       "      <td>...</td>\n",
       "      <td>...</td>\n",
       "    </tr>\n",
       "    <tr>\n",
       "      <th>2022-05-07 03:00:00</th>\n",
       "      <td>35953.63</td>\n",
       "      <td>35959.99</td>\n",
       "      <td>35760.00</td>\n",
       "      <td>35812.21</td>\n",
       "      <td>950.370320</td>\n",
       "      <td>3.407918e+07</td>\n",
       "      <td>23893</td>\n",
       "      <td>440.466220</td>\n",
       "      <td>1.579364e+07</td>\n",
       "      <td>0.0</td>\n",
       "      <td>-63.43</td>\n",
       "      <td>-70.01</td>\n",
       "      <td>-176.28</td>\n",
       "      <td>-141.43</td>\n",
       "    </tr>\n",
       "    <tr>\n",
       "      <th>2022-05-07 04:00:00</th>\n",
       "      <td>35812.22</td>\n",
       "      <td>35882.67</td>\n",
       "      <td>35725.72</td>\n",
       "      <td>35746.63</td>\n",
       "      <td>1038.354640</td>\n",
       "      <td>3.717972e+07</td>\n",
       "      <td>25448</td>\n",
       "      <td>505.470370</td>\n",
       "      <td>1.809844e+07</td>\n",
       "      <td>0.0</td>\n",
       "      <td>-141.41</td>\n",
       "      <td>-77.32</td>\n",
       "      <td>-34.28</td>\n",
       "      <td>-65.58</td>\n",
       "    </tr>\n",
       "    <tr>\n",
       "      <th>2022-05-07 05:00:00</th>\n",
       "      <td>35746.62</td>\n",
       "      <td>35900.00</td>\n",
       "      <td>35722.24</td>\n",
       "      <td>35898.95</td>\n",
       "      <td>897.235930</td>\n",
       "      <td>3.215497e+07</td>\n",
       "      <td>22906</td>\n",
       "      <td>428.196080</td>\n",
       "      <td>1.534393e+07</td>\n",
       "      <td>1.0</td>\n",
       "      <td>-65.60</td>\n",
       "      <td>17.33</td>\n",
       "      <td>-3.48</td>\n",
       "      <td>152.32</td>\n",
       "    </tr>\n",
       "    <tr>\n",
       "      <th>2022-05-07 06:00:00</th>\n",
       "      <td>35898.96</td>\n",
       "      <td>35909.75</td>\n",
       "      <td>35790.02</td>\n",
       "      <td>35806.27</td>\n",
       "      <td>890.855280</td>\n",
       "      <td>3.193104e+07</td>\n",
       "      <td>23642</td>\n",
       "      <td>411.973150</td>\n",
       "      <td>1.476535e+07</td>\n",
       "      <td>0.0</td>\n",
       "      <td>152.34</td>\n",
       "      <td>9.75</td>\n",
       "      <td>67.78</td>\n",
       "      <td>-92.68</td>\n",
       "    </tr>\n",
       "    <tr>\n",
       "      <th>2022-05-07 07:00:00</th>\n",
       "      <td>35806.28</td>\n",
       "      <td>35956.51</td>\n",
       "      <td>35800.00</td>\n",
       "      <td>35951.69</td>\n",
       "      <td>1388.490910</td>\n",
       "      <td>4.978675e+07</td>\n",
       "      <td>23475</td>\n",
       "      <td>646.898060</td>\n",
       "      <td>2.320556e+07</td>\n",
       "      <td>1.0</td>\n",
       "      <td>-92.68</td>\n",
       "      <td>46.76</td>\n",
       "      <td>9.98</td>\n",
       "      <td>145.42</td>\n",
       "    </tr>\n",
       "  </tbody>\n",
       "</table>\n",
       "<p>33332 rows × 14 columns</p>\n",
       "</div>"
      ],
      "text/plain": [
       "                         Open      High       Low     Close       Volumn  \\\n",
       "Time_UTC_Start                                                             \n",
       "2018-07-18 12:00:00   7418.02   7472.02   7406.23   7435.89  2149.661062   \n",
       "2018-07-18 13:00:00   7435.90   7469.37   7386.12   7457.01  2197.764754   \n",
       "2018-07-18 14:00:00   7458.14   7531.30   7431.66   7453.00  3276.014892   \n",
       "2018-07-18 15:00:00   7451.71   7453.01   7360.40   7428.73  2447.162973   \n",
       "2018-07-18 16:00:00   7428.46   7462.00   7415.32   7435.00  2002.579947   \n",
       "...                       ...       ...       ...       ...          ...   \n",
       "2022-05-07 03:00:00  35953.63  35959.99  35760.00  35812.21   950.370320   \n",
       "2022-05-07 04:00:00  35812.22  35882.67  35725.72  35746.63  1038.354640   \n",
       "2022-05-07 05:00:00  35746.62  35900.00  35722.24  35898.95   897.235930   \n",
       "2022-05-07 06:00:00  35898.96  35909.75  35790.02  35806.27   890.855280   \n",
       "2022-05-07 07:00:00  35806.28  35956.51  35800.00  35951.69  1388.490910   \n",
       "\n",
       "                     Quote_asset_volume  Number_of_trades  \\\n",
       "Time_UTC_Start                                              \n",
       "2018-07-18 12:00:00        1.600977e+07             11665   \n",
       "2018-07-18 13:00:00        1.633053e+07             12232   \n",
       "2018-07-18 14:00:00        2.446673e+07             17154   \n",
       "2018-07-18 15:00:00        1.813955e+07             13956   \n",
       "2018-07-18 16:00:00        1.489915e+07             11347   \n",
       "...                                 ...               ...   \n",
       "2022-05-07 03:00:00        3.407918e+07             23893   \n",
       "2022-05-07 04:00:00        3.717972e+07             25448   \n",
       "2022-05-07 05:00:00        3.215497e+07             22906   \n",
       "2022-05-07 06:00:00        3.193104e+07             23642   \n",
       "2022-05-07 07:00:00        4.978675e+07             23475   \n",
       "\n",
       "                     Taker_buy_base_asset_volume  \\\n",
       "Time_UTC_Start                                     \n",
       "2018-07-18 12:00:00                  1215.708096   \n",
       "2018-07-18 13:00:00                  1095.080446   \n",
       "2018-07-18 14:00:00                  1741.566330   \n",
       "2018-07-18 15:00:00                  1175.701436   \n",
       "2018-07-18 16:00:00                  1048.602977   \n",
       "...                                          ...   \n",
       "2022-05-07 03:00:00                   440.466220   \n",
       "2022-05-07 04:00:00                   505.470370   \n",
       "2022-05-07 05:00:00                   428.196080   \n",
       "2022-05-07 06:00:00                   411.973150   \n",
       "2022-05-07 07:00:00                   646.898060   \n",
       "\n",
       "                     Taker_buy_quote_asset_volume  label  Open_change  \\\n",
       "Time_UTC_Start                                                          \n",
       "2018-07-18 12:00:00                  9.052893e+06    1.0        14.40   \n",
       "2018-07-18 13:00:00                  8.138991e+06    1.0        17.88   \n",
       "2018-07-18 14:00:00                  1.300958e+07    0.0        22.24   \n",
       "2018-07-18 15:00:00                  8.715964e+06    0.0        -6.43   \n",
       "2018-07-18 16:00:00                  7.801609e+06    1.0       -23.25   \n",
       "...                                           ...    ...          ...   \n",
       "2022-05-07 03:00:00                  1.579364e+07    0.0       -63.43   \n",
       "2022-05-07 04:00:00                  1.809844e+07    0.0      -141.41   \n",
       "2022-05-07 05:00:00                  1.534393e+07    1.0       -65.60   \n",
       "2022-05-07 06:00:00                  1.476535e+07    0.0       152.34   \n",
       "2022-05-07 07:00:00                  2.320556e+07    1.0       -92.68   \n",
       "\n",
       "                     High_change  Low_change  Close_change  \n",
       "Time_UTC_Start                                              \n",
       "2018-07-18 12:00:00        38.44       17.26         16.89  \n",
       "2018-07-18 13:00:00        -2.65      -20.11         21.12  \n",
       "2018-07-18 14:00:00        61.93       45.54         -4.01  \n",
       "2018-07-18 15:00:00       -78.29      -71.26        -24.27  \n",
       "2018-07-18 16:00:00         8.99       54.92          6.27  \n",
       "...                          ...         ...           ...  \n",
       "2022-05-07 03:00:00       -70.01     -176.28       -141.43  \n",
       "2022-05-07 04:00:00       -77.32      -34.28        -65.58  \n",
       "2022-05-07 05:00:00        17.33       -3.48        152.32  \n",
       "2022-05-07 06:00:00         9.75       67.78        -92.68  \n",
       "2022-05-07 07:00:00        46.76        9.98        145.42  \n",
       "\n",
       "[33332 rows x 14 columns]"
      ]
     },
     "execution_count": 9,
     "metadata": {},
     "output_type": "execute_result"
    }
   ],
   "source": [
    "df"
   ]
  },
  {
   "cell_type": "code",
   "execution_count": 10,
   "id": "94531b50",
   "metadata": {},
   "outputs": [],
   "source": [
    "df_r = pd.read_csv('./residual.csv')\n",
    "df_t = pd.read_csv('./trend_and_seasonal.csv')"
   ]
  },
  {
   "cell_type": "code",
   "execution_count": 11,
   "id": "d042f268",
   "metadata": {},
   "outputs": [],
   "source": [
    "df_r.index = df_r['Time_UTC_Start']\n",
    "df_t.index = df_t['Time_UTC_Start']"
   ]
  },
  {
   "cell_type": "code",
   "execution_count": 12,
   "id": "f8147232",
   "metadata": {},
   "outputs": [],
   "source": [
    "del df_r['Time_UTC_Start'], df_t['Time_UTC_Start']"
   ]
  },
  {
   "cell_type": "code",
   "execution_count": 13,
   "id": "32fd4973",
   "metadata": {},
   "outputs": [],
   "source": [
    "new_r = []\n",
    "std_2 = []\n",
    "for x in range(20, len(df_r['resid'])):\n",
    "    r = df_r['resid'][x-20:x]\n",
    "    std = r.std()\n",
    "    if std == 0:\n",
    "        print(r)\n",
    "    std_2.append(std)\n",
    "    new_r.append(r.tolist()[-1]/std)"
   ]
  },
  {
   "cell_type": "code",
   "execution_count": 14,
   "id": "7025def4",
   "metadata": {},
   "outputs": [],
   "source": [
    "df_r = df_r.iloc[20:]\n",
    "df_r['resid_norm'] = new_r\n",
    "df_r['std_2'] = std_2"
   ]
  },
  {
   "cell_type": "code",
   "execution_count": 15,
   "id": "8ac17f94",
   "metadata": {},
   "outputs": [],
   "source": [
    "df = pd.merge(df, df_r, left_index=True, right_index=True)"
   ]
  },
  {
   "cell_type": "code",
   "execution_count": 19,
   "id": "8d482063",
   "metadata": {},
   "outputs": [],
   "source": [
    "r_t = df_t['price'] - df_t['price'].shift(1)\n",
    "r_t.dropna(inplace=True)\n",
    "new_t = []\n",
    "std_1 = []\n",
    "for x in range(30, len(r_t)):\n",
    "    r = r_t[x-30:x]\n",
    "    std = r.std()\n",
    "    if std == 0:\n",
    "        print(r)\n",
    "    std_1.append(std)\n",
    "    new_t.append(r.tolist()[-1]/std)"
   ]
  },
  {
   "cell_type": "code",
   "execution_count": 20,
   "id": "110a3cd9",
   "metadata": {},
   "outputs": [
    {
     "name": "stderr",
     "output_type": "stream",
     "text": [
      "C:\\Users\\ADMIN\\AppData\\Local\\Temp\\ipykernel_4124\\1839896709.py:2: SettingWithCopyWarning: \n",
      "A value is trying to be set on a copy of a slice from a DataFrame.\n",
      "Try using .loc[row_indexer,col_indexer] = value instead\n",
      "\n",
      "See the caveats in the documentation: https://pandas.pydata.org/pandas-docs/stable/user_guide/indexing.html#returning-a-view-versus-a-copy\n",
      "  df_t['trend_diff'] = r_t\n",
      "C:\\Users\\ADMIN\\AppData\\Local\\Temp\\ipykernel_4124\\1839896709.py:3: SettingWithCopyWarning: \n",
      "A value is trying to be set on a copy of a slice from a DataFrame.\n",
      "Try using .loc[row_indexer,col_indexer] = value instead\n",
      "\n",
      "See the caveats in the documentation: https://pandas.pydata.org/pandas-docs/stable/user_guide/indexing.html#returning-a-view-versus-a-copy\n",
      "  df_t['trend_diff_norm'] = new_t\n",
      "C:\\Users\\ADMIN\\AppData\\Local\\Temp\\ipykernel_4124\\1839896709.py:4: SettingWithCopyWarning: \n",
      "A value is trying to be set on a copy of a slice from a DataFrame.\n",
      "Try using .loc[row_indexer,col_indexer] = value instead\n",
      "\n",
      "See the caveats in the documentation: https://pandas.pydata.org/pandas-docs/stable/user_guide/indexing.html#returning-a-view-versus-a-copy\n",
      "  df_t['std_1'] = std_1\n"
     ]
    }
   ],
   "source": [
    "df_t = df_t.iloc[31:]\n",
    "df_t['trend_diff'] = r_t\n",
    "df_t['trend_diff_norm'] = new_t\n",
    "df_t['std_1'] = std_1"
   ]
  },
  {
   "cell_type": "code",
   "execution_count": 21,
   "id": "16a14f99",
   "metadata": {},
   "outputs": [],
   "source": [
    "df = pd.merge(df, df_t, left_index=True, right_index=True)"
   ]
  },
  {
   "cell_type": "code",
   "execution_count": 22,
   "id": "5b779855",
   "metadata": {},
   "outputs": [
    {
     "data": {
      "text/html": [
       "<div>\n",
       "<style scoped>\n",
       "    .dataframe tbody tr th:only-of-type {\n",
       "        vertical-align: middle;\n",
       "    }\n",
       "\n",
       "    .dataframe tbody tr th {\n",
       "        vertical-align: top;\n",
       "    }\n",
       "\n",
       "    .dataframe thead th {\n",
       "        text-align: right;\n",
       "    }\n",
       "</style>\n",
       "<table border=\"1\" class=\"dataframe\">\n",
       "  <thead>\n",
       "    <tr style=\"text-align: right;\">\n",
       "      <th></th>\n",
       "      <th>Open</th>\n",
       "      <th>High</th>\n",
       "      <th>Low</th>\n",
       "      <th>Close</th>\n",
       "      <th>Volumn</th>\n",
       "      <th>Quote_asset_volume</th>\n",
       "      <th>Number_of_trades</th>\n",
       "      <th>Taker_buy_base_asset_volume</th>\n",
       "      <th>Taker_buy_quote_asset_volume</th>\n",
       "      <th>label</th>\n",
       "      <th>...</th>\n",
       "      <th>High_change</th>\n",
       "      <th>Low_change</th>\n",
       "      <th>Close_change</th>\n",
       "      <th>resid</th>\n",
       "      <th>resid_norm</th>\n",
       "      <th>std_2</th>\n",
       "      <th>price</th>\n",
       "      <th>trend_diff</th>\n",
       "      <th>trend_diff_norm</th>\n",
       "      <th>std_1</th>\n",
       "    </tr>\n",
       "    <tr>\n",
       "      <th>Time_UTC_Start</th>\n",
       "      <th></th>\n",
       "      <th></th>\n",
       "      <th></th>\n",
       "      <th></th>\n",
       "      <th></th>\n",
       "      <th></th>\n",
       "      <th></th>\n",
       "      <th></th>\n",
       "      <th></th>\n",
       "      <th></th>\n",
       "      <th></th>\n",
       "      <th></th>\n",
       "      <th></th>\n",
       "      <th></th>\n",
       "      <th></th>\n",
       "      <th></th>\n",
       "      <th></th>\n",
       "      <th></th>\n",
       "      <th></th>\n",
       "      <th></th>\n",
       "      <th></th>\n",
       "    </tr>\n",
       "  </thead>\n",
       "  <tbody>\n",
       "    <tr>\n",
       "      <th>2018-07-23 07:00:00</th>\n",
       "      <td>7690.00</td>\n",
       "      <td>7790.00</td>\n",
       "      <td>7654.25</td>\n",
       "      <td>7758.94</td>\n",
       "      <td>2693.956037</td>\n",
       "      <td>2.084631e+07</td>\n",
       "      <td>14558</td>\n",
       "      <td>1486.871273</td>\n",
       "      <td>1.150783e+07</td>\n",
       "      <td>1.0</td>\n",
       "      <td>...</td>\n",
       "      <td>80.00</td>\n",
       "      <td>6.25</td>\n",
       "      <td>68.94</td>\n",
       "      <td>248.696760</td>\n",
       "      <td>2.263424</td>\n",
       "      <td>87.620495</td>\n",
       "      <td>7510.243240</td>\n",
       "      <td>18.565585</td>\n",
       "      <td>2.184888</td>\n",
       "      <td>7.952627</td>\n",
       "    </tr>\n",
       "    <tr>\n",
       "      <th>2018-07-23 08:00:00</th>\n",
       "      <td>7758.95</td>\n",
       "      <td>7763.87</td>\n",
       "      <td>7682.00</td>\n",
       "      <td>7721.64</td>\n",
       "      <td>2194.138659</td>\n",
       "      <td>1.694322e+07</td>\n",
       "      <td>13028</td>\n",
       "      <td>1185.905259</td>\n",
       "      <td>9.160024e+06</td>\n",
       "      <td>0.0</td>\n",
       "      <td>...</td>\n",
       "      <td>-26.13</td>\n",
       "      <td>27.75</td>\n",
       "      <td>-37.30</td>\n",
       "      <td>197.249926</td>\n",
       "      <td>2.596445</td>\n",
       "      <td>95.783580</td>\n",
       "      <td>7524.390074</td>\n",
       "      <td>14.146833</td>\n",
       "      <td>2.234577</td>\n",
       "      <td>8.308322</td>\n",
       "    </tr>\n",
       "    <tr>\n",
       "      <th>2018-07-23 09:00:00</th>\n",
       "      <td>7721.63</td>\n",
       "      <td>7726.29</td>\n",
       "      <td>7668.89</td>\n",
       "      <td>7717.01</td>\n",
       "      <td>1656.113392</td>\n",
       "      <td>1.275513e+07</td>\n",
       "      <td>9617</td>\n",
       "      <td>831.519233</td>\n",
       "      <td>6.404904e+06</td>\n",
       "      <td>0.0</td>\n",
       "      <td>...</td>\n",
       "      <td>-37.58</td>\n",
       "      <td>-13.11</td>\n",
       "      <td>-4.63</td>\n",
       "      <td>186.200052</td>\n",
       "      <td>2.009378</td>\n",
       "      <td>98.164661</td>\n",
       "      <td>7530.809948</td>\n",
       "      <td>6.419875</td>\n",
       "      <td>1.767906</td>\n",
       "      <td>8.002026</td>\n",
       "    </tr>\n",
       "    <tr>\n",
       "      <th>2018-07-23 10:00:00</th>\n",
       "      <td>7719.09</td>\n",
       "      <td>7726.09</td>\n",
       "      <td>7666.00</td>\n",
       "      <td>7692.50</td>\n",
       "      <td>2002.222902</td>\n",
       "      <td>1.542121e+07</td>\n",
       "      <td>7598</td>\n",
       "      <td>1126.982644</td>\n",
       "      <td>8.681493e+06</td>\n",
       "      <td>0.0</td>\n",
       "      <td>...</td>\n",
       "      <td>-0.20</td>\n",
       "      <td>-2.89</td>\n",
       "      <td>-24.51</td>\n",
       "      <td>147.766872</td>\n",
       "      <td>1.874109</td>\n",
       "      <td>99.353885</td>\n",
       "      <td>7544.733128</td>\n",
       "      <td>13.923179</td>\n",
       "      <td>0.828784</td>\n",
       "      <td>7.746137</td>\n",
       "    </tr>\n",
       "    <tr>\n",
       "      <th>2018-07-23 11:00:00</th>\n",
       "      <td>7692.51</td>\n",
       "      <td>7718.00</td>\n",
       "      <td>7666.00</td>\n",
       "      <td>7695.00</td>\n",
       "      <td>1792.735997</td>\n",
       "      <td>1.380007e+07</td>\n",
       "      <td>9534</td>\n",
       "      <td>919.085136</td>\n",
       "      <td>7.075789e+06</td>\n",
       "      <td>1.0</td>\n",
       "      <td>...</td>\n",
       "      <td>-8.09</td>\n",
       "      <td>0.00</td>\n",
       "      <td>2.50</td>\n",
       "      <td>139.734794</td>\n",
       "      <td>1.480389</td>\n",
       "      <td>99.816275</td>\n",
       "      <td>7555.265206</td>\n",
       "      <td>10.532078</td>\n",
       "      <td>1.774037</td>\n",
       "      <td>7.848304</td>\n",
       "    </tr>\n",
       "    <tr>\n",
       "      <th>...</th>\n",
       "      <td>...</td>\n",
       "      <td>...</td>\n",
       "      <td>...</td>\n",
       "      <td>...</td>\n",
       "      <td>...</td>\n",
       "      <td>...</td>\n",
       "      <td>...</td>\n",
       "      <td>...</td>\n",
       "      <td>...</td>\n",
       "      <td>...</td>\n",
       "      <td>...</td>\n",
       "      <td>...</td>\n",
       "      <td>...</td>\n",
       "      <td>...</td>\n",
       "      <td>...</td>\n",
       "      <td>...</td>\n",
       "      <td>...</td>\n",
       "      <td>...</td>\n",
       "      <td>...</td>\n",
       "      <td>...</td>\n",
       "      <td>...</td>\n",
       "    </tr>\n",
       "    <tr>\n",
       "      <th>2022-05-07 03:00:00</th>\n",
       "      <td>35953.63</td>\n",
       "      <td>35959.99</td>\n",
       "      <td>35760.00</td>\n",
       "      <td>35812.21</td>\n",
       "      <td>950.370320</td>\n",
       "      <td>3.407918e+07</td>\n",
       "      <td>23893</td>\n",
       "      <td>440.466220</td>\n",
       "      <td>1.579364e+07</td>\n",
       "      <td>0.0</td>\n",
       "      <td>...</td>\n",
       "      <td>-70.01</td>\n",
       "      <td>-176.28</td>\n",
       "      <td>-141.43</td>\n",
       "      <td>-257.705323</td>\n",
       "      <td>-0.424783</td>\n",
       "      <td>356.003948</td>\n",
       "      <td>36069.915323</td>\n",
       "      <td>-34.949213</td>\n",
       "      <td>-0.594900</td>\n",
       "      <td>57.189855</td>\n",
       "    </tr>\n",
       "    <tr>\n",
       "      <th>2022-05-07 04:00:00</th>\n",
       "      <td>35812.22</td>\n",
       "      <td>35882.67</td>\n",
       "      <td>35725.72</td>\n",
       "      <td>35746.63</td>\n",
       "      <td>1038.354640</td>\n",
       "      <td>3.717972e+07</td>\n",
       "      <td>25448</td>\n",
       "      <td>505.470370</td>\n",
       "      <td>1.809844e+07</td>\n",
       "      <td>0.0</td>\n",
       "      <td>...</td>\n",
       "      <td>-77.32</td>\n",
       "      <td>-34.28</td>\n",
       "      <td>-65.58</td>\n",
       "      <td>-291.965904</td>\n",
       "      <td>-0.770038</td>\n",
       "      <td>334.665573</td>\n",
       "      <td>36038.595904</td>\n",
       "      <td>-31.319419</td>\n",
       "      <td>-0.605017</td>\n",
       "      <td>57.765634</td>\n",
       "    </tr>\n",
       "    <tr>\n",
       "      <th>2022-05-07 05:00:00</th>\n",
       "      <td>35746.62</td>\n",
       "      <td>35900.00</td>\n",
       "      <td>35722.24</td>\n",
       "      <td>35898.95</td>\n",
       "      <td>897.235930</td>\n",
       "      <td>3.215497e+07</td>\n",
       "      <td>22906</td>\n",
       "      <td>428.196080</td>\n",
       "      <td>1.534393e+07</td>\n",
       "      <td>1.0</td>\n",
       "      <td>...</td>\n",
       "      <td>17.33</td>\n",
       "      <td>-3.48</td>\n",
       "      <td>152.32</td>\n",
       "      <td>-114.437468</td>\n",
       "      <td>-0.958468</td>\n",
       "      <td>304.617390</td>\n",
       "      <td>36013.387468</td>\n",
       "      <td>-25.208436</td>\n",
       "      <td>-0.540896</td>\n",
       "      <td>57.902816</td>\n",
       "    </tr>\n",
       "    <tr>\n",
       "      <th>2022-05-07 06:00:00</th>\n",
       "      <td>35898.96</td>\n",
       "      <td>35909.75</td>\n",
       "      <td>35790.02</td>\n",
       "      <td>35806.27</td>\n",
       "      <td>890.855280</td>\n",
       "      <td>3.193104e+07</td>\n",
       "      <td>23642</td>\n",
       "      <td>411.973150</td>\n",
       "      <td>1.476535e+07</td>\n",
       "      <td>0.0</td>\n",
       "      <td>...</td>\n",
       "      <td>9.75</td>\n",
       "      <td>67.78</td>\n",
       "      <td>-92.68</td>\n",
       "      <td>-188.298905</td>\n",
       "      <td>-0.379984</td>\n",
       "      <td>301.163686</td>\n",
       "      <td>35994.568905</td>\n",
       "      <td>-18.818564</td>\n",
       "      <td>-0.435257</td>\n",
       "      <td>57.916171</td>\n",
       "    </tr>\n",
       "    <tr>\n",
       "      <th>2022-05-07 07:00:00</th>\n",
       "      <td>35806.28</td>\n",
       "      <td>35956.51</td>\n",
       "      <td>35800.00</td>\n",
       "      <td>35951.69</td>\n",
       "      <td>1388.490910</td>\n",
       "      <td>4.978675e+07</td>\n",
       "      <td>23475</td>\n",
       "      <td>646.898060</td>\n",
       "      <td>2.320556e+07</td>\n",
       "      <td>1.0</td>\n",
       "      <td>...</td>\n",
       "      <td>46.76</td>\n",
       "      <td>9.98</td>\n",
       "      <td>145.42</td>\n",
       "      <td>-26.506574</td>\n",
       "      <td>-0.725441</td>\n",
       "      <td>259.564675</td>\n",
       "      <td>35978.196574</td>\n",
       "      <td>-16.372331</td>\n",
       "      <td>-0.322671</td>\n",
       "      <td>58.321204</td>\n",
       "    </tr>\n",
       "  </tbody>\n",
       "</table>\n",
       "<p>32949 rows × 21 columns</p>\n",
       "</div>"
      ],
      "text/plain": [
       "                         Open      High       Low     Close       Volumn  \\\n",
       "Time_UTC_Start                                                             \n",
       "2018-07-23 07:00:00   7690.00   7790.00   7654.25   7758.94  2693.956037   \n",
       "2018-07-23 08:00:00   7758.95   7763.87   7682.00   7721.64  2194.138659   \n",
       "2018-07-23 09:00:00   7721.63   7726.29   7668.89   7717.01  1656.113392   \n",
       "2018-07-23 10:00:00   7719.09   7726.09   7666.00   7692.50  2002.222902   \n",
       "2018-07-23 11:00:00   7692.51   7718.00   7666.00   7695.00  1792.735997   \n",
       "...                       ...       ...       ...       ...          ...   \n",
       "2022-05-07 03:00:00  35953.63  35959.99  35760.00  35812.21   950.370320   \n",
       "2022-05-07 04:00:00  35812.22  35882.67  35725.72  35746.63  1038.354640   \n",
       "2022-05-07 05:00:00  35746.62  35900.00  35722.24  35898.95   897.235930   \n",
       "2022-05-07 06:00:00  35898.96  35909.75  35790.02  35806.27   890.855280   \n",
       "2022-05-07 07:00:00  35806.28  35956.51  35800.00  35951.69  1388.490910   \n",
       "\n",
       "                     Quote_asset_volume  Number_of_trades  \\\n",
       "Time_UTC_Start                                              \n",
       "2018-07-23 07:00:00        2.084631e+07             14558   \n",
       "2018-07-23 08:00:00        1.694322e+07             13028   \n",
       "2018-07-23 09:00:00        1.275513e+07              9617   \n",
       "2018-07-23 10:00:00        1.542121e+07              7598   \n",
       "2018-07-23 11:00:00        1.380007e+07              9534   \n",
       "...                                 ...               ...   \n",
       "2022-05-07 03:00:00        3.407918e+07             23893   \n",
       "2022-05-07 04:00:00        3.717972e+07             25448   \n",
       "2022-05-07 05:00:00        3.215497e+07             22906   \n",
       "2022-05-07 06:00:00        3.193104e+07             23642   \n",
       "2022-05-07 07:00:00        4.978675e+07             23475   \n",
       "\n",
       "                     Taker_buy_base_asset_volume  \\\n",
       "Time_UTC_Start                                     \n",
       "2018-07-23 07:00:00                  1486.871273   \n",
       "2018-07-23 08:00:00                  1185.905259   \n",
       "2018-07-23 09:00:00                   831.519233   \n",
       "2018-07-23 10:00:00                  1126.982644   \n",
       "2018-07-23 11:00:00                   919.085136   \n",
       "...                                          ...   \n",
       "2022-05-07 03:00:00                   440.466220   \n",
       "2022-05-07 04:00:00                   505.470370   \n",
       "2022-05-07 05:00:00                   428.196080   \n",
       "2022-05-07 06:00:00                   411.973150   \n",
       "2022-05-07 07:00:00                   646.898060   \n",
       "\n",
       "                     Taker_buy_quote_asset_volume  label  ...  High_change  \\\n",
       "Time_UTC_Start                                            ...                \n",
       "2018-07-23 07:00:00                  1.150783e+07    1.0  ...        80.00   \n",
       "2018-07-23 08:00:00                  9.160024e+06    0.0  ...       -26.13   \n",
       "2018-07-23 09:00:00                  6.404904e+06    0.0  ...       -37.58   \n",
       "2018-07-23 10:00:00                  8.681493e+06    0.0  ...        -0.20   \n",
       "2018-07-23 11:00:00                  7.075789e+06    1.0  ...        -8.09   \n",
       "...                                           ...    ...  ...          ...   \n",
       "2022-05-07 03:00:00                  1.579364e+07    0.0  ...       -70.01   \n",
       "2022-05-07 04:00:00                  1.809844e+07    0.0  ...       -77.32   \n",
       "2022-05-07 05:00:00                  1.534393e+07    1.0  ...        17.33   \n",
       "2022-05-07 06:00:00                  1.476535e+07    0.0  ...         9.75   \n",
       "2022-05-07 07:00:00                  2.320556e+07    1.0  ...        46.76   \n",
       "\n",
       "                     Low_change  Close_change       resid  resid_norm  \\\n",
       "Time_UTC_Start                                                          \n",
       "2018-07-23 07:00:00        6.25         68.94  248.696760    2.263424   \n",
       "2018-07-23 08:00:00       27.75        -37.30  197.249926    2.596445   \n",
       "2018-07-23 09:00:00      -13.11         -4.63  186.200052    2.009378   \n",
       "2018-07-23 10:00:00       -2.89        -24.51  147.766872    1.874109   \n",
       "2018-07-23 11:00:00        0.00          2.50  139.734794    1.480389   \n",
       "...                         ...           ...         ...         ...   \n",
       "2022-05-07 03:00:00     -176.28       -141.43 -257.705323   -0.424783   \n",
       "2022-05-07 04:00:00      -34.28        -65.58 -291.965904   -0.770038   \n",
       "2022-05-07 05:00:00       -3.48        152.32 -114.437468   -0.958468   \n",
       "2022-05-07 06:00:00       67.78        -92.68 -188.298905   -0.379984   \n",
       "2022-05-07 07:00:00        9.98        145.42  -26.506574   -0.725441   \n",
       "\n",
       "                          std_2         price  trend_diff  trend_diff_norm  \\\n",
       "Time_UTC_Start                                                               \n",
       "2018-07-23 07:00:00   87.620495   7510.243240   18.565585         2.184888   \n",
       "2018-07-23 08:00:00   95.783580   7524.390074   14.146833         2.234577   \n",
       "2018-07-23 09:00:00   98.164661   7530.809948    6.419875         1.767906   \n",
       "2018-07-23 10:00:00   99.353885   7544.733128   13.923179         0.828784   \n",
       "2018-07-23 11:00:00   99.816275   7555.265206   10.532078         1.774037   \n",
       "...                         ...           ...         ...              ...   \n",
       "2022-05-07 03:00:00  356.003948  36069.915323  -34.949213        -0.594900   \n",
       "2022-05-07 04:00:00  334.665573  36038.595904  -31.319419        -0.605017   \n",
       "2022-05-07 05:00:00  304.617390  36013.387468  -25.208436        -0.540896   \n",
       "2022-05-07 06:00:00  301.163686  35994.568905  -18.818564        -0.435257   \n",
       "2022-05-07 07:00:00  259.564675  35978.196574  -16.372331        -0.322671   \n",
       "\n",
       "                         std_1  \n",
       "Time_UTC_Start                  \n",
       "2018-07-23 07:00:00   7.952627  \n",
       "2018-07-23 08:00:00   8.308322  \n",
       "2018-07-23 09:00:00   8.002026  \n",
       "2018-07-23 10:00:00   7.746137  \n",
       "2018-07-23 11:00:00   7.848304  \n",
       "...                        ...  \n",
       "2022-05-07 03:00:00  57.189855  \n",
       "2022-05-07 04:00:00  57.765634  \n",
       "2022-05-07 05:00:00  57.902816  \n",
       "2022-05-07 06:00:00  57.916171  \n",
       "2022-05-07 07:00:00  58.321204  \n",
       "\n",
       "[32949 rows x 21 columns]"
      ]
     },
     "execution_count": 22,
     "metadata": {},
     "output_type": "execute_result"
    }
   ],
   "source": [
    "df"
   ]
  },
  {
   "cell_type": "code",
   "execution_count": 23,
   "id": "8c753dd9",
   "metadata": {},
   "outputs": [],
   "source": [
    "base_cols = df.columns[5:]"
   ]
  },
  {
   "cell_type": "code",
   "execution_count": 24,
   "id": "84060c9e",
   "metadata": {},
   "outputs": [
    {
     "data": {
      "text/plain": [
       "Index(['Quote_asset_volume', 'Number_of_trades', 'Taker_buy_base_asset_volume',\n",
       "       'Taker_buy_quote_asset_volume', 'label', 'Open_change', 'High_change',\n",
       "       'Low_change', 'Close_change', 'resid', 'resid_norm', 'std_2', 'price',\n",
       "       'trend_diff', 'trend_diff_norm', 'std_1'],\n",
       "      dtype='object')"
      ]
     },
     "execution_count": 24,
     "metadata": {},
     "output_type": "execute_result"
    }
   ],
   "source": [
    "base_cols"
   ]
  },
  {
   "cell_type": "code",
   "execution_count": 25,
   "id": "5b4ffea7",
   "metadata": {},
   "outputs": [],
   "source": [
    "base_cols = base_cols.drop(['label', 'price', 'std_1', 'std_2'])"
   ]
  },
  {
   "cell_type": "code",
   "execution_count": 26,
   "id": "1f350a59",
   "metadata": {},
   "outputs": [
    {
     "data": {
      "text/plain": [
       "Index(['Quote_asset_volume', 'Number_of_trades', 'Taker_buy_base_asset_volume',\n",
       "       'Taker_buy_quote_asset_volume', 'Open_change', 'High_change',\n",
       "       'Low_change', 'Close_change', 'resid', 'resid_norm', 'trend_diff',\n",
       "       'trend_diff_norm'],\n",
       "      dtype='object')"
      ]
     },
     "execution_count": 26,
     "metadata": {},
     "output_type": "execute_result"
    }
   ],
   "source": [
    "base_cols"
   ]
  },
  {
   "cell_type": "code",
   "execution_count": 27,
   "id": "8ea5edb3",
   "metadata": {},
   "outputs": [],
   "source": [
    "import gc\n",
    "def base_feat(df, base_cols=[], \n",
    "                  time_delta=1, \n",
    "                  window_lookback=[1, 5, 10, 60, 200],\n",
    "                  agg_func=['min', 'max', 'mean', 'median', 'var']):\n",
    "    \"\"\"\n",
    "    This func use for create formal features base on a list of columns\n",
    "    Params:\n",
    "        df (Pandas DF): dataframe input\n",
    "        base_cols (list): list of columns you want to create feature by this function\n",
    "        time_delta (int): time between 2 records (minutes)\n",
    "        window_lookback (list): list of integer time the time_delta. For example time_delta = 15 window_lookback = [1, 2]\n",
    "                                so the time lookback is 15 minutes and 15*2=30 minutes\n",
    "        agg_func (list): aggregate func you use for rolling\n",
    "    \"\"\"\n",
    "        \n",
    "    for col in base_cols:\n",
    "        for lookback in window_lookback:\n",
    "            dict_agg_func = {'_'.join([agg, col, str(time_delta * lookback) + 'M']): agg for agg in agg_func}\n",
    "            print(dict_agg_func)\n",
    "            df_feat = df[col].shift(1).rolling(lookback).agg(dict_agg_func)\n",
    "            df = pd.concat([df, df_feat], axis=1)\n",
    "            del df_feat\n",
    "            gc.collect()\n",
    "    for col in df.columns:\n",
    "        if str(time_delta) in col and 'var' in col:\n",
    "            del df[col]\n",
    "    df = df.dropna()\n",
    "    return df"
   ]
  },
  {
   "cell_type": "code",
   "execution_count": 28,
   "id": "314b346b",
   "metadata": {},
   "outputs": [
    {
     "name": "stdout",
     "output_type": "stream",
     "text": [
      "{'min_Quote_asset_volume_60M': 'min', 'max_Quote_asset_volume_60M': 'max', 'mean_Quote_asset_volume_60M': 'mean', 'median_Quote_asset_volume_60M': 'median', 'var_Quote_asset_volume_60M': 'var'}\n",
      "{'min_Quote_asset_volume_300M': 'min', 'max_Quote_asset_volume_300M': 'max', 'mean_Quote_asset_volume_300M': 'mean', 'median_Quote_asset_volume_300M': 'median', 'var_Quote_asset_volume_300M': 'var'}\n",
      "{'min_Quote_asset_volume_600M': 'min', 'max_Quote_asset_volume_600M': 'max', 'mean_Quote_asset_volume_600M': 'mean', 'median_Quote_asset_volume_600M': 'median', 'var_Quote_asset_volume_600M': 'var'}\n",
      "{'min_Quote_asset_volume_3600M': 'min', 'max_Quote_asset_volume_3600M': 'max', 'mean_Quote_asset_volume_3600M': 'mean', 'median_Quote_asset_volume_3600M': 'median', 'var_Quote_asset_volume_3600M': 'var'}\n",
      "{'min_Quote_asset_volume_12000M': 'min', 'max_Quote_asset_volume_12000M': 'max', 'mean_Quote_asset_volume_12000M': 'mean', 'median_Quote_asset_volume_12000M': 'median', 'var_Quote_asset_volume_12000M': 'var'}\n",
      "{'min_Number_of_trades_60M': 'min', 'max_Number_of_trades_60M': 'max', 'mean_Number_of_trades_60M': 'mean', 'median_Number_of_trades_60M': 'median', 'var_Number_of_trades_60M': 'var'}\n",
      "{'min_Number_of_trades_300M': 'min', 'max_Number_of_trades_300M': 'max', 'mean_Number_of_trades_300M': 'mean', 'median_Number_of_trades_300M': 'median', 'var_Number_of_trades_300M': 'var'}\n",
      "{'min_Number_of_trades_600M': 'min', 'max_Number_of_trades_600M': 'max', 'mean_Number_of_trades_600M': 'mean', 'median_Number_of_trades_600M': 'median', 'var_Number_of_trades_600M': 'var'}\n",
      "{'min_Number_of_trades_3600M': 'min', 'max_Number_of_trades_3600M': 'max', 'mean_Number_of_trades_3600M': 'mean', 'median_Number_of_trades_3600M': 'median', 'var_Number_of_trades_3600M': 'var'}\n",
      "{'min_Number_of_trades_12000M': 'min', 'max_Number_of_trades_12000M': 'max', 'mean_Number_of_trades_12000M': 'mean', 'median_Number_of_trades_12000M': 'median', 'var_Number_of_trades_12000M': 'var'}\n",
      "{'min_Taker_buy_base_asset_volume_60M': 'min', 'max_Taker_buy_base_asset_volume_60M': 'max', 'mean_Taker_buy_base_asset_volume_60M': 'mean', 'median_Taker_buy_base_asset_volume_60M': 'median', 'var_Taker_buy_base_asset_volume_60M': 'var'}\n",
      "{'min_Taker_buy_base_asset_volume_300M': 'min', 'max_Taker_buy_base_asset_volume_300M': 'max', 'mean_Taker_buy_base_asset_volume_300M': 'mean', 'median_Taker_buy_base_asset_volume_300M': 'median', 'var_Taker_buy_base_asset_volume_300M': 'var'}\n",
      "{'min_Taker_buy_base_asset_volume_600M': 'min', 'max_Taker_buy_base_asset_volume_600M': 'max', 'mean_Taker_buy_base_asset_volume_600M': 'mean', 'median_Taker_buy_base_asset_volume_600M': 'median', 'var_Taker_buy_base_asset_volume_600M': 'var'}\n",
      "{'min_Taker_buy_base_asset_volume_3600M': 'min', 'max_Taker_buy_base_asset_volume_3600M': 'max', 'mean_Taker_buy_base_asset_volume_3600M': 'mean', 'median_Taker_buy_base_asset_volume_3600M': 'median', 'var_Taker_buy_base_asset_volume_3600M': 'var'}\n",
      "{'min_Taker_buy_base_asset_volume_12000M': 'min', 'max_Taker_buy_base_asset_volume_12000M': 'max', 'mean_Taker_buy_base_asset_volume_12000M': 'mean', 'median_Taker_buy_base_asset_volume_12000M': 'median', 'var_Taker_buy_base_asset_volume_12000M': 'var'}\n",
      "{'min_Taker_buy_quote_asset_volume_60M': 'min', 'max_Taker_buy_quote_asset_volume_60M': 'max', 'mean_Taker_buy_quote_asset_volume_60M': 'mean', 'median_Taker_buy_quote_asset_volume_60M': 'median', 'var_Taker_buy_quote_asset_volume_60M': 'var'}\n",
      "{'min_Taker_buy_quote_asset_volume_300M': 'min', 'max_Taker_buy_quote_asset_volume_300M': 'max', 'mean_Taker_buy_quote_asset_volume_300M': 'mean', 'median_Taker_buy_quote_asset_volume_300M': 'median', 'var_Taker_buy_quote_asset_volume_300M': 'var'}\n",
      "{'min_Taker_buy_quote_asset_volume_600M': 'min', 'max_Taker_buy_quote_asset_volume_600M': 'max', 'mean_Taker_buy_quote_asset_volume_600M': 'mean', 'median_Taker_buy_quote_asset_volume_600M': 'median', 'var_Taker_buy_quote_asset_volume_600M': 'var'}\n",
      "{'min_Taker_buy_quote_asset_volume_3600M': 'min', 'max_Taker_buy_quote_asset_volume_3600M': 'max', 'mean_Taker_buy_quote_asset_volume_3600M': 'mean', 'median_Taker_buy_quote_asset_volume_3600M': 'median', 'var_Taker_buy_quote_asset_volume_3600M': 'var'}\n",
      "{'min_Taker_buy_quote_asset_volume_12000M': 'min', 'max_Taker_buy_quote_asset_volume_12000M': 'max', 'mean_Taker_buy_quote_asset_volume_12000M': 'mean', 'median_Taker_buy_quote_asset_volume_12000M': 'median', 'var_Taker_buy_quote_asset_volume_12000M': 'var'}\n",
      "{'min_Open_change_60M': 'min', 'max_Open_change_60M': 'max', 'mean_Open_change_60M': 'mean', 'median_Open_change_60M': 'median', 'var_Open_change_60M': 'var'}\n",
      "{'min_Open_change_300M': 'min', 'max_Open_change_300M': 'max', 'mean_Open_change_300M': 'mean', 'median_Open_change_300M': 'median', 'var_Open_change_300M': 'var'}\n",
      "{'min_Open_change_600M': 'min', 'max_Open_change_600M': 'max', 'mean_Open_change_600M': 'mean', 'median_Open_change_600M': 'median', 'var_Open_change_600M': 'var'}\n",
      "{'min_Open_change_3600M': 'min', 'max_Open_change_3600M': 'max', 'mean_Open_change_3600M': 'mean', 'median_Open_change_3600M': 'median', 'var_Open_change_3600M': 'var'}\n",
      "{'min_Open_change_12000M': 'min', 'max_Open_change_12000M': 'max', 'mean_Open_change_12000M': 'mean', 'median_Open_change_12000M': 'median', 'var_Open_change_12000M': 'var'}\n",
      "{'min_High_change_60M': 'min', 'max_High_change_60M': 'max', 'mean_High_change_60M': 'mean', 'median_High_change_60M': 'median', 'var_High_change_60M': 'var'}\n",
      "{'min_High_change_300M': 'min', 'max_High_change_300M': 'max', 'mean_High_change_300M': 'mean', 'median_High_change_300M': 'median', 'var_High_change_300M': 'var'}\n",
      "{'min_High_change_600M': 'min', 'max_High_change_600M': 'max', 'mean_High_change_600M': 'mean', 'median_High_change_600M': 'median', 'var_High_change_600M': 'var'}\n",
      "{'min_High_change_3600M': 'min', 'max_High_change_3600M': 'max', 'mean_High_change_3600M': 'mean', 'median_High_change_3600M': 'median', 'var_High_change_3600M': 'var'}\n",
      "{'min_High_change_12000M': 'min', 'max_High_change_12000M': 'max', 'mean_High_change_12000M': 'mean', 'median_High_change_12000M': 'median', 'var_High_change_12000M': 'var'}\n",
      "{'min_Low_change_60M': 'min', 'max_Low_change_60M': 'max', 'mean_Low_change_60M': 'mean', 'median_Low_change_60M': 'median', 'var_Low_change_60M': 'var'}\n",
      "{'min_Low_change_300M': 'min', 'max_Low_change_300M': 'max', 'mean_Low_change_300M': 'mean', 'median_Low_change_300M': 'median', 'var_Low_change_300M': 'var'}\n",
      "{'min_Low_change_600M': 'min', 'max_Low_change_600M': 'max', 'mean_Low_change_600M': 'mean', 'median_Low_change_600M': 'median', 'var_Low_change_600M': 'var'}\n",
      "{'min_Low_change_3600M': 'min', 'max_Low_change_3600M': 'max', 'mean_Low_change_3600M': 'mean', 'median_Low_change_3600M': 'median', 'var_Low_change_3600M': 'var'}\n",
      "{'min_Low_change_12000M': 'min', 'max_Low_change_12000M': 'max', 'mean_Low_change_12000M': 'mean', 'median_Low_change_12000M': 'median', 'var_Low_change_12000M': 'var'}\n",
      "{'min_Close_change_60M': 'min', 'max_Close_change_60M': 'max', 'mean_Close_change_60M': 'mean', 'median_Close_change_60M': 'median', 'var_Close_change_60M': 'var'}\n",
      "{'min_Close_change_300M': 'min', 'max_Close_change_300M': 'max', 'mean_Close_change_300M': 'mean', 'median_Close_change_300M': 'median', 'var_Close_change_300M': 'var'}\n",
      "{'min_Close_change_600M': 'min', 'max_Close_change_600M': 'max', 'mean_Close_change_600M': 'mean', 'median_Close_change_600M': 'median', 'var_Close_change_600M': 'var'}\n",
      "{'min_Close_change_3600M': 'min', 'max_Close_change_3600M': 'max', 'mean_Close_change_3600M': 'mean', 'median_Close_change_3600M': 'median', 'var_Close_change_3600M': 'var'}\n",
      "{'min_Close_change_12000M': 'min', 'max_Close_change_12000M': 'max', 'mean_Close_change_12000M': 'mean', 'median_Close_change_12000M': 'median', 'var_Close_change_12000M': 'var'}\n",
      "{'min_resid_60M': 'min', 'max_resid_60M': 'max', 'mean_resid_60M': 'mean', 'median_resid_60M': 'median', 'var_resid_60M': 'var'}\n",
      "{'min_resid_300M': 'min', 'max_resid_300M': 'max', 'mean_resid_300M': 'mean', 'median_resid_300M': 'median', 'var_resid_300M': 'var'}\n",
      "{'min_resid_600M': 'min', 'max_resid_600M': 'max', 'mean_resid_600M': 'mean', 'median_resid_600M': 'median', 'var_resid_600M': 'var'}\n",
      "{'min_resid_3600M': 'min', 'max_resid_3600M': 'max', 'mean_resid_3600M': 'mean', 'median_resid_3600M': 'median', 'var_resid_3600M': 'var'}\n",
      "{'min_resid_12000M': 'min', 'max_resid_12000M': 'max', 'mean_resid_12000M': 'mean', 'median_resid_12000M': 'median', 'var_resid_12000M': 'var'}\n"
     ]
    },
    {
     "name": "stdout",
     "output_type": "stream",
     "text": [
      "{'min_resid_norm_60M': 'min', 'max_resid_norm_60M': 'max', 'mean_resid_norm_60M': 'mean', 'median_resid_norm_60M': 'median', 'var_resid_norm_60M': 'var'}\n",
      "{'min_resid_norm_300M': 'min', 'max_resid_norm_300M': 'max', 'mean_resid_norm_300M': 'mean', 'median_resid_norm_300M': 'median', 'var_resid_norm_300M': 'var'}\n",
      "{'min_resid_norm_600M': 'min', 'max_resid_norm_600M': 'max', 'mean_resid_norm_600M': 'mean', 'median_resid_norm_600M': 'median', 'var_resid_norm_600M': 'var'}\n",
      "{'min_resid_norm_3600M': 'min', 'max_resid_norm_3600M': 'max', 'mean_resid_norm_3600M': 'mean', 'median_resid_norm_3600M': 'median', 'var_resid_norm_3600M': 'var'}\n",
      "{'min_resid_norm_12000M': 'min', 'max_resid_norm_12000M': 'max', 'mean_resid_norm_12000M': 'mean', 'median_resid_norm_12000M': 'median', 'var_resid_norm_12000M': 'var'}\n",
      "{'min_trend_diff_60M': 'min', 'max_trend_diff_60M': 'max', 'mean_trend_diff_60M': 'mean', 'median_trend_diff_60M': 'median', 'var_trend_diff_60M': 'var'}\n",
      "{'min_trend_diff_300M': 'min', 'max_trend_diff_300M': 'max', 'mean_trend_diff_300M': 'mean', 'median_trend_diff_300M': 'median', 'var_trend_diff_300M': 'var'}\n",
      "{'min_trend_diff_600M': 'min', 'max_trend_diff_600M': 'max', 'mean_trend_diff_600M': 'mean', 'median_trend_diff_600M': 'median', 'var_trend_diff_600M': 'var'}\n",
      "{'min_trend_diff_3600M': 'min', 'max_trend_diff_3600M': 'max', 'mean_trend_diff_3600M': 'mean', 'median_trend_diff_3600M': 'median', 'var_trend_diff_3600M': 'var'}\n",
      "{'min_trend_diff_12000M': 'min', 'max_trend_diff_12000M': 'max', 'mean_trend_diff_12000M': 'mean', 'median_trend_diff_12000M': 'median', 'var_trend_diff_12000M': 'var'}\n",
      "{'min_trend_diff_norm_60M': 'min', 'max_trend_diff_norm_60M': 'max', 'mean_trend_diff_norm_60M': 'mean', 'median_trend_diff_norm_60M': 'median', 'var_trend_diff_norm_60M': 'var'}\n",
      "{'min_trend_diff_norm_300M': 'min', 'max_trend_diff_norm_300M': 'max', 'mean_trend_diff_norm_300M': 'mean', 'median_trend_diff_norm_300M': 'median', 'var_trend_diff_norm_300M': 'var'}\n",
      "{'min_trend_diff_norm_600M': 'min', 'max_trend_diff_norm_600M': 'max', 'mean_trend_diff_norm_600M': 'mean', 'median_trend_diff_norm_600M': 'median', 'var_trend_diff_norm_600M': 'var'}\n",
      "{'min_trend_diff_norm_3600M': 'min', 'max_trend_diff_norm_3600M': 'max', 'mean_trend_diff_norm_3600M': 'mean', 'median_trend_diff_norm_3600M': 'median', 'var_trend_diff_norm_3600M': 'var'}\n",
      "{'min_trend_diff_norm_12000M': 'min', 'max_trend_diff_norm_12000M': 'max', 'mean_trend_diff_norm_12000M': 'mean', 'median_trend_diff_norm_12000M': 'median', 'var_trend_diff_norm_12000M': 'var'}\n"
     ]
    }
   ],
   "source": [
    "df_feat = base_feat(df, time_delta=60, base_cols=base_cols)"
   ]
  },
  {
   "cell_type": "code",
   "execution_count": 29,
   "id": "5fd0b7c9",
   "metadata": {},
   "outputs": [
    {
     "data": {
      "text/html": [
       "<div>\n",
       "<style scoped>\n",
       "    .dataframe tbody tr th:only-of-type {\n",
       "        vertical-align: middle;\n",
       "    }\n",
       "\n",
       "    .dataframe tbody tr th {\n",
       "        vertical-align: top;\n",
       "    }\n",
       "\n",
       "    .dataframe thead th {\n",
       "        text-align: right;\n",
       "    }\n",
       "</style>\n",
       "<table border=\"1\" class=\"dataframe\">\n",
       "  <thead>\n",
       "    <tr style=\"text-align: right;\">\n",
       "      <th></th>\n",
       "      <th>Open</th>\n",
       "      <th>High</th>\n",
       "      <th>Low</th>\n",
       "      <th>Close</th>\n",
       "      <th>Volumn</th>\n",
       "      <th>Quote_asset_volume</th>\n",
       "      <th>Number_of_trades</th>\n",
       "      <th>Taker_buy_base_asset_volume</th>\n",
       "      <th>Taker_buy_quote_asset_volume</th>\n",
       "      <th>label</th>\n",
       "      <th>...</th>\n",
       "      <th>median_trend_diff_norm_600M</th>\n",
       "      <th>min_trend_diff_norm_3600M</th>\n",
       "      <th>max_trend_diff_norm_3600M</th>\n",
       "      <th>mean_trend_diff_norm_3600M</th>\n",
       "      <th>median_trend_diff_norm_3600M</th>\n",
       "      <th>min_trend_diff_norm_12000M</th>\n",
       "      <th>max_trend_diff_norm_12000M</th>\n",
       "      <th>mean_trend_diff_norm_12000M</th>\n",
       "      <th>median_trend_diff_norm_12000M</th>\n",
       "      <th>var_trend_diff_norm_12000M</th>\n",
       "    </tr>\n",
       "    <tr>\n",
       "      <th>Time_UTC_Start</th>\n",
       "      <th></th>\n",
       "      <th></th>\n",
       "      <th></th>\n",
       "      <th></th>\n",
       "      <th></th>\n",
       "      <th></th>\n",
       "      <th></th>\n",
       "      <th></th>\n",
       "      <th></th>\n",
       "      <th></th>\n",
       "      <th></th>\n",
       "      <th></th>\n",
       "      <th></th>\n",
       "      <th></th>\n",
       "      <th></th>\n",
       "      <th></th>\n",
       "      <th></th>\n",
       "      <th></th>\n",
       "      <th></th>\n",
       "      <th></th>\n",
       "      <th></th>\n",
       "    </tr>\n",
       "  </thead>\n",
       "  <tbody>\n",
       "    <tr>\n",
       "      <th>2018-07-31 15:00:00</th>\n",
       "      <td>7740.01</td>\n",
       "      <td>7773.44</td>\n",
       "      <td>7668.20</td>\n",
       "      <td>7758.44</td>\n",
       "      <td>2554.443989</td>\n",
       "      <td>1.974453e+07</td>\n",
       "      <td>13136</td>\n",
       "      <td>1385.196792</td>\n",
       "      <td>1.070898e+07</td>\n",
       "      <td>1.0</td>\n",
       "      <td>...</td>\n",
       "      <td>-0.446955</td>\n",
       "      <td>-2.423024</td>\n",
       "      <td>2.048622</td>\n",
       "      <td>-0.203546</td>\n",
       "      <td>-0.075324</td>\n",
       "      <td>-2.897068</td>\n",
       "      <td>3.609754</td>\n",
       "      <td>0.321262</td>\n",
       "      <td>0.247406</td>\n",
       "      <td>1.530942</td>\n",
       "    </tr>\n",
       "    <tr>\n",
       "      <th>2018-07-31 16:00:00</th>\n",
       "      <td>7758.44</td>\n",
       "      <td>7811.75</td>\n",
       "      <td>7713.00</td>\n",
       "      <td>7808.41</td>\n",
       "      <td>2311.225543</td>\n",
       "      <td>1.794214e+07</td>\n",
       "      <td>10730</td>\n",
       "      <td>1311.736191</td>\n",
       "      <td>1.018487e+07</td>\n",
       "      <td>1.0</td>\n",
       "      <td>...</td>\n",
       "      <td>-0.446955</td>\n",
       "      <td>-3.429892</td>\n",
       "      <td>2.048622</td>\n",
       "      <td>-0.236190</td>\n",
       "      <td>-0.075324</td>\n",
       "      <td>-3.429892</td>\n",
       "      <td>3.609754</td>\n",
       "      <td>0.293189</td>\n",
       "      <td>0.208025</td>\n",
       "      <td>1.583406</td>\n",
       "    </tr>\n",
       "    <tr>\n",
       "      <th>2018-07-31 17:00:00</th>\n",
       "      <td>7811.67</td>\n",
       "      <td>7840.00</td>\n",
       "      <td>7718.83</td>\n",
       "      <td>7727.25</td>\n",
       "      <td>2395.986981</td>\n",
       "      <td>1.861163e+07</td>\n",
       "      <td>11180</td>\n",
       "      <td>1174.434858</td>\n",
       "      <td>9.125513e+06</td>\n",
       "      <td>0.0</td>\n",
       "      <td>...</td>\n",
       "      <td>-0.648979</td>\n",
       "      <td>-3.429892</td>\n",
       "      <td>2.048622</td>\n",
       "      <td>-0.242879</td>\n",
       "      <td>-0.075324</td>\n",
       "      <td>-3.429892</td>\n",
       "      <td>3.609754</td>\n",
       "      <td>0.275740</td>\n",
       "      <td>0.203433</td>\n",
       "      <td>1.576206</td>\n",
       "    </tr>\n",
       "    <tr>\n",
       "      <th>2018-07-31 18:00:00</th>\n",
       "      <td>7726.09</td>\n",
       "      <td>7779.00</td>\n",
       "      <td>7687.00</td>\n",
       "      <td>7745.23</td>\n",
       "      <td>1979.604990</td>\n",
       "      <td>1.528597e+07</td>\n",
       "      <td>9589</td>\n",
       "      <td>1042.728597</td>\n",
       "      <td>8.053862e+06</td>\n",
       "      <td>1.0</td>\n",
       "      <td>...</td>\n",
       "      <td>-0.837278</td>\n",
       "      <td>-3.429892</td>\n",
       "      <td>2.048622</td>\n",
       "      <td>-0.257207</td>\n",
       "      <td>-0.075324</td>\n",
       "      <td>-3.429892</td>\n",
       "      <td>3.609754</td>\n",
       "      <td>0.261454</td>\n",
       "      <td>0.192335</td>\n",
       "      <td>1.574176</td>\n",
       "    </tr>\n",
       "    <tr>\n",
       "      <th>2018-07-31 19:00:00</th>\n",
       "      <td>7745.23</td>\n",
       "      <td>7772.11</td>\n",
       "      <td>7727.71</td>\n",
       "      <td>7750.65</td>\n",
       "      <td>1294.592514</td>\n",
       "      <td>1.002855e+07</td>\n",
       "      <td>5773</td>\n",
       "      <td>773.941352</td>\n",
       "      <td>5.995227e+06</td>\n",
       "      <td>1.0</td>\n",
       "      <td>...</td>\n",
       "      <td>-1.013537</td>\n",
       "      <td>-3.429892</td>\n",
       "      <td>2.048622</td>\n",
       "      <td>-0.287247</td>\n",
       "      <td>-0.093325</td>\n",
       "      <td>-3.429892</td>\n",
       "      <td>3.609754</td>\n",
       "      <td>0.249300</td>\n",
       "      <td>0.183800</td>\n",
       "      <td>1.589862</td>\n",
       "    </tr>\n",
       "    <tr>\n",
       "      <th>...</th>\n",
       "      <td>...</td>\n",
       "      <td>...</td>\n",
       "      <td>...</td>\n",
       "      <td>...</td>\n",
       "      <td>...</td>\n",
       "      <td>...</td>\n",
       "      <td>...</td>\n",
       "      <td>...</td>\n",
       "      <td>...</td>\n",
       "      <td>...</td>\n",
       "      <td>...</td>\n",
       "      <td>...</td>\n",
       "      <td>...</td>\n",
       "      <td>...</td>\n",
       "      <td>...</td>\n",
       "      <td>...</td>\n",
       "      <td>...</td>\n",
       "      <td>...</td>\n",
       "      <td>...</td>\n",
       "      <td>...</td>\n",
       "      <td>...</td>\n",
       "    </tr>\n",
       "    <tr>\n",
       "      <th>2022-05-07 03:00:00</th>\n",
       "      <td>35953.63</td>\n",
       "      <td>35959.99</td>\n",
       "      <td>35760.00</td>\n",
       "      <td>35812.21</td>\n",
       "      <td>950.370320</td>\n",
       "      <td>3.407918e+07</td>\n",
       "      <td>23893</td>\n",
       "      <td>440.466220</td>\n",
       "      <td>1.579364e+07</td>\n",
       "      <td>0.0</td>\n",
       "      <td>...</td>\n",
       "      <td>-0.351791</td>\n",
       "      <td>-2.217970</td>\n",
       "      <td>2.698346</td>\n",
       "      <td>-0.199700</td>\n",
       "      <td>-0.374881</td>\n",
       "      <td>-2.915986</td>\n",
       "      <td>3.363472</td>\n",
       "      <td>-0.310621</td>\n",
       "      <td>-0.518532</td>\n",
       "      <td>1.967111</td>\n",
       "    </tr>\n",
       "    <tr>\n",
       "      <th>2022-05-07 04:00:00</th>\n",
       "      <td>35812.22</td>\n",
       "      <td>35882.67</td>\n",
       "      <td>35725.72</td>\n",
       "      <td>35746.63</td>\n",
       "      <td>1038.354640</td>\n",
       "      <td>3.717972e+07</td>\n",
       "      <td>25448</td>\n",
       "      <td>505.470370</td>\n",
       "      <td>1.809844e+07</td>\n",
       "      <td>0.0</td>\n",
       "      <td>...</td>\n",
       "      <td>-0.351791</td>\n",
       "      <td>-2.217970</td>\n",
       "      <td>2.698346</td>\n",
       "      <td>-0.211376</td>\n",
       "      <td>-0.476361</td>\n",
       "      <td>-2.915986</td>\n",
       "      <td>3.363472</td>\n",
       "      <td>-0.325140</td>\n",
       "      <td>-0.536941</td>\n",
       "      <td>1.932826</td>\n",
       "    </tr>\n",
       "    <tr>\n",
       "      <th>2022-05-07 05:00:00</th>\n",
       "      <td>35746.62</td>\n",
       "      <td>35900.00</td>\n",
       "      <td>35722.24</td>\n",
       "      <td>35898.95</td>\n",
       "      <td>897.235930</td>\n",
       "      <td>3.215497e+07</td>\n",
       "      <td>22906</td>\n",
       "      <td>428.196080</td>\n",
       "      <td>1.534393e+07</td>\n",
       "      <td>1.0</td>\n",
       "      <td>...</td>\n",
       "      <td>-0.351791</td>\n",
       "      <td>-2.217970</td>\n",
       "      <td>2.698346</td>\n",
       "      <td>-0.243559</td>\n",
       "      <td>-0.582970</td>\n",
       "      <td>-2.915986</td>\n",
       "      <td>3.363472</td>\n",
       "      <td>-0.342017</td>\n",
       "      <td>-0.556984</td>\n",
       "      <td>1.884777</td>\n",
       "    </tr>\n",
       "    <tr>\n",
       "      <th>2022-05-07 06:00:00</th>\n",
       "      <td>35898.96</td>\n",
       "      <td>35909.75</td>\n",
       "      <td>35790.02</td>\n",
       "      <td>35806.27</td>\n",
       "      <td>890.855280</td>\n",
       "      <td>3.193104e+07</td>\n",
       "      <td>23642</td>\n",
       "      <td>411.973150</td>\n",
       "      <td>1.476535e+07</td>\n",
       "      <td>0.0</td>\n",
       "      <td>...</td>\n",
       "      <td>-0.351791</td>\n",
       "      <td>-2.217970</td>\n",
       "      <td>2.698346</td>\n",
       "      <td>-0.280357</td>\n",
       "      <td>-0.582970</td>\n",
       "      <td>-2.915986</td>\n",
       "      <td>3.363472</td>\n",
       "      <td>-0.358327</td>\n",
       "      <td>-0.556984</td>\n",
       "      <td>1.837561</td>\n",
       "    </tr>\n",
       "    <tr>\n",
       "      <th>2022-05-07 07:00:00</th>\n",
       "      <td>35806.28</td>\n",
       "      <td>35956.51</td>\n",
       "      <td>35800.00</td>\n",
       "      <td>35951.69</td>\n",
       "      <td>1388.490910</td>\n",
       "      <td>4.978675e+07</td>\n",
       "      <td>23475</td>\n",
       "      <td>646.898060</td>\n",
       "      <td>2.320556e+07</td>\n",
       "      <td>1.0</td>\n",
       "      <td>...</td>\n",
       "      <td>-0.374881</td>\n",
       "      <td>-2.217970</td>\n",
       "      <td>2.698346</td>\n",
       "      <td>-0.311945</td>\n",
       "      <td>-0.582970</td>\n",
       "      <td>-2.915986</td>\n",
       "      <td>2.698346</td>\n",
       "      <td>-0.377321</td>\n",
       "      <td>-0.556984</td>\n",
       "      <td>1.767621</td>\n",
       "    </tr>\n",
       "  </tbody>\n",
       "</table>\n",
       "<p>32749 rows × 285 columns</p>\n",
       "</div>"
      ],
      "text/plain": [
       "                         Open      High       Low     Close       Volumn  \\\n",
       "Time_UTC_Start                                                             \n",
       "2018-07-31 15:00:00   7740.01   7773.44   7668.20   7758.44  2554.443989   \n",
       "2018-07-31 16:00:00   7758.44   7811.75   7713.00   7808.41  2311.225543   \n",
       "2018-07-31 17:00:00   7811.67   7840.00   7718.83   7727.25  2395.986981   \n",
       "2018-07-31 18:00:00   7726.09   7779.00   7687.00   7745.23  1979.604990   \n",
       "2018-07-31 19:00:00   7745.23   7772.11   7727.71   7750.65  1294.592514   \n",
       "...                       ...       ...       ...       ...          ...   \n",
       "2022-05-07 03:00:00  35953.63  35959.99  35760.00  35812.21   950.370320   \n",
       "2022-05-07 04:00:00  35812.22  35882.67  35725.72  35746.63  1038.354640   \n",
       "2022-05-07 05:00:00  35746.62  35900.00  35722.24  35898.95   897.235930   \n",
       "2022-05-07 06:00:00  35898.96  35909.75  35790.02  35806.27   890.855280   \n",
       "2022-05-07 07:00:00  35806.28  35956.51  35800.00  35951.69  1388.490910   \n",
       "\n",
       "                     Quote_asset_volume  Number_of_trades  \\\n",
       "Time_UTC_Start                                              \n",
       "2018-07-31 15:00:00        1.974453e+07             13136   \n",
       "2018-07-31 16:00:00        1.794214e+07             10730   \n",
       "2018-07-31 17:00:00        1.861163e+07             11180   \n",
       "2018-07-31 18:00:00        1.528597e+07              9589   \n",
       "2018-07-31 19:00:00        1.002855e+07              5773   \n",
       "...                                 ...               ...   \n",
       "2022-05-07 03:00:00        3.407918e+07             23893   \n",
       "2022-05-07 04:00:00        3.717972e+07             25448   \n",
       "2022-05-07 05:00:00        3.215497e+07             22906   \n",
       "2022-05-07 06:00:00        3.193104e+07             23642   \n",
       "2022-05-07 07:00:00        4.978675e+07             23475   \n",
       "\n",
       "                     Taker_buy_base_asset_volume  \\\n",
       "Time_UTC_Start                                     \n",
       "2018-07-31 15:00:00                  1385.196792   \n",
       "2018-07-31 16:00:00                  1311.736191   \n",
       "2018-07-31 17:00:00                  1174.434858   \n",
       "2018-07-31 18:00:00                  1042.728597   \n",
       "2018-07-31 19:00:00                   773.941352   \n",
       "...                                          ...   \n",
       "2022-05-07 03:00:00                   440.466220   \n",
       "2022-05-07 04:00:00                   505.470370   \n",
       "2022-05-07 05:00:00                   428.196080   \n",
       "2022-05-07 06:00:00                   411.973150   \n",
       "2022-05-07 07:00:00                   646.898060   \n",
       "\n",
       "                     Taker_buy_quote_asset_volume  label  ...  \\\n",
       "Time_UTC_Start                                            ...   \n",
       "2018-07-31 15:00:00                  1.070898e+07    1.0  ...   \n",
       "2018-07-31 16:00:00                  1.018487e+07    1.0  ...   \n",
       "2018-07-31 17:00:00                  9.125513e+06    0.0  ...   \n",
       "2018-07-31 18:00:00                  8.053862e+06    1.0  ...   \n",
       "2018-07-31 19:00:00                  5.995227e+06    1.0  ...   \n",
       "...                                           ...    ...  ...   \n",
       "2022-05-07 03:00:00                  1.579364e+07    0.0  ...   \n",
       "2022-05-07 04:00:00                  1.809844e+07    0.0  ...   \n",
       "2022-05-07 05:00:00                  1.534393e+07    1.0  ...   \n",
       "2022-05-07 06:00:00                  1.476535e+07    0.0  ...   \n",
       "2022-05-07 07:00:00                  2.320556e+07    1.0  ...   \n",
       "\n",
       "                     median_trend_diff_norm_600M  min_trend_diff_norm_3600M  \\\n",
       "Time_UTC_Start                                                                \n",
       "2018-07-31 15:00:00                    -0.446955                  -2.423024   \n",
       "2018-07-31 16:00:00                    -0.446955                  -3.429892   \n",
       "2018-07-31 17:00:00                    -0.648979                  -3.429892   \n",
       "2018-07-31 18:00:00                    -0.837278                  -3.429892   \n",
       "2018-07-31 19:00:00                    -1.013537                  -3.429892   \n",
       "...                                          ...                        ...   \n",
       "2022-05-07 03:00:00                    -0.351791                  -2.217970   \n",
       "2022-05-07 04:00:00                    -0.351791                  -2.217970   \n",
       "2022-05-07 05:00:00                    -0.351791                  -2.217970   \n",
       "2022-05-07 06:00:00                    -0.351791                  -2.217970   \n",
       "2022-05-07 07:00:00                    -0.374881                  -2.217970   \n",
       "\n",
       "                     max_trend_diff_norm_3600M  mean_trend_diff_norm_3600M  \\\n",
       "Time_UTC_Start                                                               \n",
       "2018-07-31 15:00:00                   2.048622                   -0.203546   \n",
       "2018-07-31 16:00:00                   2.048622                   -0.236190   \n",
       "2018-07-31 17:00:00                   2.048622                   -0.242879   \n",
       "2018-07-31 18:00:00                   2.048622                   -0.257207   \n",
       "2018-07-31 19:00:00                   2.048622                   -0.287247   \n",
       "...                                        ...                         ...   \n",
       "2022-05-07 03:00:00                   2.698346                   -0.199700   \n",
       "2022-05-07 04:00:00                   2.698346                   -0.211376   \n",
       "2022-05-07 05:00:00                   2.698346                   -0.243559   \n",
       "2022-05-07 06:00:00                   2.698346                   -0.280357   \n",
       "2022-05-07 07:00:00                   2.698346                   -0.311945   \n",
       "\n",
       "                     median_trend_diff_norm_3600M  min_trend_diff_norm_12000M  \\\n",
       "Time_UTC_Start                                                                  \n",
       "2018-07-31 15:00:00                     -0.075324                   -2.897068   \n",
       "2018-07-31 16:00:00                     -0.075324                   -3.429892   \n",
       "2018-07-31 17:00:00                     -0.075324                   -3.429892   \n",
       "2018-07-31 18:00:00                     -0.075324                   -3.429892   \n",
       "2018-07-31 19:00:00                     -0.093325                   -3.429892   \n",
       "...                                           ...                         ...   \n",
       "2022-05-07 03:00:00                     -0.374881                   -2.915986   \n",
       "2022-05-07 04:00:00                     -0.476361                   -2.915986   \n",
       "2022-05-07 05:00:00                     -0.582970                   -2.915986   \n",
       "2022-05-07 06:00:00                     -0.582970                   -2.915986   \n",
       "2022-05-07 07:00:00                     -0.582970                   -2.915986   \n",
       "\n",
       "                     max_trend_diff_norm_12000M  mean_trend_diff_norm_12000M  \\\n",
       "Time_UTC_Start                                                                 \n",
       "2018-07-31 15:00:00                    3.609754                     0.321262   \n",
       "2018-07-31 16:00:00                    3.609754                     0.293189   \n",
       "2018-07-31 17:00:00                    3.609754                     0.275740   \n",
       "2018-07-31 18:00:00                    3.609754                     0.261454   \n",
       "2018-07-31 19:00:00                    3.609754                     0.249300   \n",
       "...                                         ...                          ...   \n",
       "2022-05-07 03:00:00                    3.363472                    -0.310621   \n",
       "2022-05-07 04:00:00                    3.363472                    -0.325140   \n",
       "2022-05-07 05:00:00                    3.363472                    -0.342017   \n",
       "2022-05-07 06:00:00                    3.363472                    -0.358327   \n",
       "2022-05-07 07:00:00                    2.698346                    -0.377321   \n",
       "\n",
       "                     median_trend_diff_norm_12000M  var_trend_diff_norm_12000M  \n",
       "Time_UTC_Start                                                                  \n",
       "2018-07-31 15:00:00                       0.247406                    1.530942  \n",
       "2018-07-31 16:00:00                       0.208025                    1.583406  \n",
       "2018-07-31 17:00:00                       0.203433                    1.576206  \n",
       "2018-07-31 18:00:00                       0.192335                    1.574176  \n",
       "2018-07-31 19:00:00                       0.183800                    1.589862  \n",
       "...                                            ...                         ...  \n",
       "2022-05-07 03:00:00                      -0.518532                    1.967111  \n",
       "2022-05-07 04:00:00                      -0.536941                    1.932826  \n",
       "2022-05-07 05:00:00                      -0.556984                    1.884777  \n",
       "2022-05-07 06:00:00                      -0.556984                    1.837561  \n",
       "2022-05-07 07:00:00                      -0.556984                    1.767621  \n",
       "\n",
       "[32749 rows x 285 columns]"
      ]
     },
     "execution_count": 29,
     "metadata": {},
     "output_type": "execute_result"
    }
   ],
   "source": [
    "df_feat"
   ]
  },
  {
   "cell_type": "code",
   "execution_count": 30,
   "id": "d8e94345",
   "metadata": {},
   "outputs": [],
   "source": [
    "feat = df_feat.columns[21:]"
   ]
  },
  {
   "cell_type": "code",
   "execution_count": 31,
   "id": "d330cc65",
   "metadata": {},
   "outputs": [
    {
     "data": {
      "text/plain": [
       "Index(['min_Quote_asset_volume_60M', 'max_Quote_asset_volume_60M',\n",
       "       'mean_Quote_asset_volume_60M', 'median_Quote_asset_volume_60M',\n",
       "       'min_Quote_asset_volume_300M', 'max_Quote_asset_volume_300M',\n",
       "       'mean_Quote_asset_volume_300M', 'median_Quote_asset_volume_300M',\n",
       "       'var_Quote_asset_volume_300M', 'min_Quote_asset_volume_600M',\n",
       "       ...\n",
       "       'median_trend_diff_norm_600M', 'min_trend_diff_norm_3600M',\n",
       "       'max_trend_diff_norm_3600M', 'mean_trend_diff_norm_3600M',\n",
       "       'median_trend_diff_norm_3600M', 'min_trend_diff_norm_12000M',\n",
       "       'max_trend_diff_norm_12000M', 'mean_trend_diff_norm_12000M',\n",
       "       'median_trend_diff_norm_12000M', 'var_trend_diff_norm_12000M'],\n",
       "      dtype='object', length=264)"
      ]
     },
     "execution_count": 31,
     "metadata": {},
     "output_type": "execute_result"
    }
   ],
   "source": [
    "feat"
   ]
  },
  {
   "cell_type": "code",
   "execution_count": 32,
   "id": "1626d061",
   "metadata": {},
   "outputs": [],
   "source": [
    "for f in feat:\n",
    "    scaler = preprocessing.StandardScaler()\n",
    "    df_feat[f] = scaler.fit_transform(df_feat[[f]])"
   ]
  },
  {
   "cell_type": "code",
   "execution_count": 34,
   "id": "3c862fa9",
   "metadata": {},
   "outputs": [],
   "source": [
    "X, y = df_feat[feat], df_feat['label']\n",
    "X_train, X_valid, X_test = X[:int(df_feat.shape[0]*0.7)], X[int(df_feat.shape[0]*0.7):int(df_feat.shape[0]*0.85)], X[int(df_feat.shape[0]*0.85):]\n",
    "y_train, y_valid, y_test = y[:int(df_feat.shape[0]*0.7)], y[int(df_feat.shape[0]*0.7):int(df_feat.shape[0]*0.85)], y[int(df_feat.shape[0]*0.85):]"
   ]
  },
  {
   "cell_type": "code",
   "execution_count": null,
   "id": "99b2e4ce",
   "metadata": {},
   "outputs": [],
   "source": []
  },
  {
   "cell_type": "code",
   "execution_count": 35,
   "id": "6f126c11",
   "metadata": {},
   "outputs": [],
   "source": [
    "from lightgbm import LGBMClassifier\n",
    "model = LGBMClassifier()"
   ]
  },
  {
   "cell_type": "code",
   "execution_count": 36,
   "id": "1c393dd1",
   "metadata": {},
   "outputs": [],
   "source": [
    "params = {'objective': 'binary',\n",
    "                      'metric': ['auc'],\n",
    "                      'boosting':'gbdt',\n",
    "                      'num_boost_round':1000,\n",
    "                      'early_stopping_rounds':10,\n",
    "                      'learning_rate': 0.1,\n",
    "                      'max_depth': 4,\n",
    "                      'num_leaves': 16,\n",
    "                      'feature_fraction': 0.8,\n",
    "#                       'bagging_fraction': 0.8,\n",
    "#                       'min_data_in_leaf': 10,\n",
    "                      'verbosity': 1}"
   ]
  },
  {
   "cell_type": "code",
   "execution_count": 37,
   "id": "f5a40d24",
   "metadata": {},
   "outputs": [],
   "source": [
    "import lightgbm as lgb\n",
    "train_data = lgb.Dataset(X_train, y_train)\n",
    "valid_data = lgb.Dataset(X_valid, y_valid, reference=train_data)"
   ]
  },
  {
   "cell_type": "code",
   "execution_count": 38,
   "id": "c876a707",
   "metadata": {},
   "outputs": [
    {
     "name": "stderr",
     "output_type": "stream",
     "text": [
      "C:\\Users\\ADMIN\\anaconda3\\lib\\site-packages\\lightgbm\\engine.py:177: UserWarning: Found `num_boost_round` in params. Will use it instead of argument\n",
      "  _log_warning(f\"Found `{alias}` in params. Will use it instead of argument\")\n"
     ]
    },
    {
     "name": "stdout",
     "output_type": "stream",
     "text": [
      "[LightGBM] [Info] Number of positive: 11811, number of negative: 11113\n",
      "[LightGBM] [Warning] Auto-choosing col-wise multi-threading, the overhead of testing was 0.027977 seconds.\n",
      "You can set `force_col_wise=true` to remove the overhead.\n",
      "[LightGBM] [Info] Total Bins 66703\n",
      "[LightGBM] [Info] Number of data points in the train set: 22924, number of used features: 264\n",
      "[LightGBM] [Info] [binary:BoostFromScore]: pavg=0.515224 -> initscore=0.060916\n",
      "[LightGBM] [Info] Start training from score 0.060916\n",
      "[1]\ttrain's auc: 0.584824\tvalid's auc: 0.531665\n",
      "Training until validation scores don't improve for 10 rounds\n",
      "[2]\ttrain's auc: 0.590943\tvalid's auc: 0.541615\n",
      "[3]\ttrain's auc: 0.595224\tvalid's auc: 0.547086\n",
      "[4]\ttrain's auc: 0.601104\tvalid's auc: 0.549161\n",
      "[5]\ttrain's auc: 0.603809\tvalid's auc: 0.547258\n",
      "[6]\ttrain's auc: 0.606164\tvalid's auc: 0.548277\n",
      "[7]\ttrain's auc: 0.609368\tvalid's auc: 0.547527\n",
      "[LightGBM] [Warning] No further splits with positive gain, best gain: -inf\n",
      "[8]\ttrain's auc: 0.610605\tvalid's auc: 0.548142\n",
      "[9]\ttrain's auc: 0.61345\tvalid's auc: 0.547451\n",
      "[LightGBM] [Warning] No further splits with positive gain, best gain: -inf\n",
      "[10]\ttrain's auc: 0.614904\tvalid's auc: 0.545687\n",
      "[LightGBM] [Warning] No further splits with positive gain, best gain: -inf\n",
      "[11]\ttrain's auc: 0.616803\tvalid's auc: 0.545584\n",
      "[12]\ttrain's auc: 0.618088\tvalid's auc: 0.543878\n",
      "[13]\ttrain's auc: 0.620229\tvalid's auc: 0.543447\n",
      "[LightGBM] [Warning] No further splits with positive gain, best gain: -inf\n",
      "[14]\ttrain's auc: 0.622201\tvalid's auc: 0.545858\n",
      "Early stopping, best iteration is:\n",
      "[4]\ttrain's auc: 0.601104\tvalid's auc: 0.549161\n"
     ]
    }
   ],
   "source": [
    "model = lgb.train(params, train_data,                     \n",
    "                  valid_sets=[train_data, valid_data],\n",
    "                  valid_names=['train', 'valid'])"
   ]
  },
  {
   "cell_type": "code",
   "execution_count": 39,
   "id": "0fcdef61",
   "metadata": {},
   "outputs": [
    {
     "data": {
      "text/html": [
       "<div>\n",
       "<style scoped>\n",
       "    .dataframe tbody tr th:only-of-type {\n",
       "        vertical-align: middle;\n",
       "    }\n",
       "\n",
       "    .dataframe tbody tr th {\n",
       "        vertical-align: top;\n",
       "    }\n",
       "\n",
       "    .dataframe thead th {\n",
       "        text-align: right;\n",
       "    }\n",
       "</style>\n",
       "<table border=\"1\" class=\"dataframe\">\n",
       "  <thead>\n",
       "    <tr style=\"text-align: right;\">\n",
       "      <th></th>\n",
       "      <th>feature_name</th>\n",
       "      <th>importance_gain</th>\n",
       "      <th>importance_split</th>\n",
       "    </tr>\n",
       "  </thead>\n",
       "  <tbody>\n",
       "    <tr>\n",
       "      <th>0</th>\n",
       "      <td>min_Close_change_60M</td>\n",
       "      <td>414.332705</td>\n",
       "      <td>4</td>\n",
       "    </tr>\n",
       "    <tr>\n",
       "      <th>1</th>\n",
       "      <td>max_Close_change_60M</td>\n",
       "      <td>271.511896</td>\n",
       "      <td>3</td>\n",
       "    </tr>\n",
       "    <tr>\n",
       "      <th>2</th>\n",
       "      <td>min_Open_change_60M</td>\n",
       "      <td>171.911289</td>\n",
       "      <td>6</td>\n",
       "    </tr>\n",
       "    <tr>\n",
       "      <th>3</th>\n",
       "      <td>min_High_change_60M</td>\n",
       "      <td>136.607197</td>\n",
       "      <td>4</td>\n",
       "    </tr>\n",
       "    <tr>\n",
       "      <th>4</th>\n",
       "      <td>mean_Open_change_300M</td>\n",
       "      <td>64.734299</td>\n",
       "      <td>2</td>\n",
       "    </tr>\n",
       "    <tr>\n",
       "      <th>5</th>\n",
       "      <td>median_Close_change_300M</td>\n",
       "      <td>45.150400</td>\n",
       "      <td>3</td>\n",
       "    </tr>\n",
       "    <tr>\n",
       "      <th>6</th>\n",
       "      <td>mean_High_change_300M</td>\n",
       "      <td>39.323999</td>\n",
       "      <td>2</td>\n",
       "    </tr>\n",
       "    <tr>\n",
       "      <th>7</th>\n",
       "      <td>max_Taker_buy_quote_asset_volume_60M</td>\n",
       "      <td>32.861900</td>\n",
       "      <td>1</td>\n",
       "    </tr>\n",
       "    <tr>\n",
       "      <th>8</th>\n",
       "      <td>min_Close_change_300M</td>\n",
       "      <td>28.696199</td>\n",
       "      <td>2</td>\n",
       "    </tr>\n",
       "    <tr>\n",
       "      <th>9</th>\n",
       "      <td>min_Quote_asset_volume_60M</td>\n",
       "      <td>27.002600</td>\n",
       "      <td>1</td>\n",
       "    </tr>\n",
       "    <tr>\n",
       "      <th>10</th>\n",
       "      <td>min_High_change_600M</td>\n",
       "      <td>26.359099</td>\n",
       "      <td>2</td>\n",
       "    </tr>\n",
       "    <tr>\n",
       "      <th>11</th>\n",
       "      <td>mean_High_change_600M</td>\n",
       "      <td>26.116199</td>\n",
       "      <td>1</td>\n",
       "    </tr>\n",
       "    <tr>\n",
       "      <th>12</th>\n",
       "      <td>max_trend_diff_300M</td>\n",
       "      <td>25.498900</td>\n",
       "      <td>2</td>\n",
       "    </tr>\n",
       "    <tr>\n",
       "      <th>13</th>\n",
       "      <td>min_trend_diff_3600M</td>\n",
       "      <td>25.339100</td>\n",
       "      <td>1</td>\n",
       "    </tr>\n",
       "    <tr>\n",
       "      <th>14</th>\n",
       "      <td>mean_Close_change_600M</td>\n",
       "      <td>22.083170</td>\n",
       "      <td>2</td>\n",
       "    </tr>\n",
       "    <tr>\n",
       "      <th>15</th>\n",
       "      <td>mean_Close_change_300M</td>\n",
       "      <td>21.168800</td>\n",
       "      <td>1</td>\n",
       "    </tr>\n",
       "    <tr>\n",
       "      <th>16</th>\n",
       "      <td>mean_resid_norm_12000M</td>\n",
       "      <td>21.164400</td>\n",
       "      <td>1</td>\n",
       "    </tr>\n",
       "    <tr>\n",
       "      <th>17</th>\n",
       "      <td>max_resid_norm_3600M</td>\n",
       "      <td>20.949300</td>\n",
       "      <td>2</td>\n",
       "    </tr>\n",
       "    <tr>\n",
       "      <th>18</th>\n",
       "      <td>mean_Low_change_300M</td>\n",
       "      <td>17.843201</td>\n",
       "      <td>1</td>\n",
       "    </tr>\n",
       "    <tr>\n",
       "      <th>19</th>\n",
       "      <td>var_trend_diff_norm_300M</td>\n",
       "      <td>16.758301</td>\n",
       "      <td>1</td>\n",
       "    </tr>\n",
       "  </tbody>\n",
       "</table>\n",
       "</div>"
      ],
      "text/plain": [
       "                            feature_name  importance_gain  importance_split\n",
       "0                   min_Close_change_60M       414.332705                 4\n",
       "1                   max_Close_change_60M       271.511896                 3\n",
       "2                    min_Open_change_60M       171.911289                 6\n",
       "3                    min_High_change_60M       136.607197                 4\n",
       "4                  mean_Open_change_300M        64.734299                 2\n",
       "5               median_Close_change_300M        45.150400                 3\n",
       "6                  mean_High_change_300M        39.323999                 2\n",
       "7   max_Taker_buy_quote_asset_volume_60M        32.861900                 1\n",
       "8                  min_Close_change_300M        28.696199                 2\n",
       "9             min_Quote_asset_volume_60M        27.002600                 1\n",
       "10                  min_High_change_600M        26.359099                 2\n",
       "11                 mean_High_change_600M        26.116199                 1\n",
       "12                   max_trend_diff_300M        25.498900                 2\n",
       "13                  min_trend_diff_3600M        25.339100                 1\n",
       "14                mean_Close_change_600M        22.083170                 2\n",
       "15                mean_Close_change_300M        21.168800                 1\n",
       "16                mean_resid_norm_12000M        21.164400                 1\n",
       "17                  max_resid_norm_3600M        20.949300                 2\n",
       "18                  mean_Low_change_300M        17.843201                 1\n",
       "19              var_trend_diff_norm_300M        16.758301                 1"
      ]
     },
     "execution_count": 39,
     "metadata": {},
     "output_type": "execute_result"
    }
   ],
   "source": [
    "importance_df = (\n",
    "    pd.DataFrame({\n",
    "        'feature_name': model.feature_name(),\n",
    "        'importance_gain': model.feature_importance(importance_type='gain'),\n",
    "        'importance_split': model.feature_importance(importance_type='split'),\n",
    "    })\n",
    "    .sort_values('importance_gain', ascending=False)\n",
    "    .reset_index(drop=True)\n",
    ")\n",
    "importance_df.head(20)"
   ]
  },
  {
   "cell_type": "code",
   "execution_count": 40,
   "id": "56c2fd85",
   "metadata": {},
   "outputs": [],
   "source": [
    "X, y = df_feat[feat], df_feat['Close_change']\n",
    "X_train, X_valid, X_test = X[:int(df_feat.shape[0]*0.7)], X[int(df_feat.shape[0]*0.7):int(df_feat.shape[0]*0.85)], X[int(df_feat.shape[0]*0.85):]\n",
    "y_train, y_valid, y_test = y[:int(df_feat.shape[0]*0.7)], y[int(df_feat.shape[0]*0.7):int(df_feat.shape[0]*0.85)], y[int(df_feat.shape[0]*0.85):]"
   ]
  },
  {
   "cell_type": "code",
   "execution_count": 41,
   "id": "03ddb5ff",
   "metadata": {},
   "outputs": [],
   "source": [
    "def take_the_error_model1(model_regression, training_set, valid_set, test_set):\n",
    "    X_train, y_train = training_set[0], training_set[1]\n",
    "    X_valid, y_valid = valid_set[0], valid_set[1]\n",
    "    X_test, y_test = test_set[0], test_set[1]\n",
    "    train_pred = model_regression.predict(X_train)\n",
    "    valid_pred = model_regression.predict(X_valid)\n",
    "    test_pred = model_regression.predict(X_test)\n",
    "    train = (((train_pred * y_train) >= 0) * 1).sum()/len(y_train)\n",
    "    valid = (((valid_pred * y_valid) >= 0) * 1).sum()/len(y_valid)\n",
    "    test = (((test_pred * y_test) >= 0) * 1).sum()/len(y_test)\n",
    "    mse_train, mse_valid, mse_test = mean_squared_error(y_train, train_pred), mean_squared_error(y_valid, valid_pred), mean_squared_error(y_test, test_pred)\n",
    "    rmse_train, rmse_valid, rmse_test = math.sqrt(mse_train), math.sqrt(mse_valid), math.sqrt(mse_test)\n",
    "    mape_train, mape_valid, mape_test = mean_absolute_percentage_error(y_train, train_pred), mean_absolute_percentage_error(y_valid, valid_pred), mean_absolute_percentage_error(y_test, test_pred)\n",
    "    print(f'Train error is: MSE= {mse_train}, RMSE={rmse_train}, MAPE={mape_train}, ACC={train}')\n",
    "    print(f'Valid error is: MSE= {mse_valid}, RMSE={rmse_valid}, MAPE={mape_valid}, ACC={valid}')\n",
    "    print(f'Test error is: MSE= {mse_test}, RMSE={rmse_test}, MAPE={mape_test}, ACC={test}')\n",
    "    return train_pred, valid_pred, test_pred"
   ]
  },
  {
   "cell_type": "code",
   "execution_count": 42,
   "id": "5c6b1223",
   "metadata": {},
   "outputs": [],
   "source": [
    "def take_the_error_model2(model_regression, training_set, valid_set, test_set):\n",
    "    X_train, y_train = training_set[0], training_set[1]\n",
    "    X_valid, y_valid = valid_set[0], valid_set[1]\n",
    "    X_test, y_test = test_set[0], test_set[1]\n",
    "    train_pred = model_regression.predict(X_train)\n",
    "    valid_pred = model_regression.predict(X_valid)\n",
    "    test_pred = model_regression.predict(X_test)\n",
    "    train = ((((train_pred - y_train.shift(1)) * (y_train - y_train.shift(1))) >= 0).dropna() * 1).sum()/(len(y_train)-1)\n",
    "    valid = ((((valid_pred - y_valid.shift(1)) * (y_valid - y_valid.shift(1))) >= 0).dropna() * 1).sum()/(len(y_valid)-1)\n",
    "    test = ((((test_pred - y_test.shift(1)) * (y_test - y_test.shift(1))) >= 0).dropna() * 1).sum()/(len(y_test)-1)\n",
    "    mse_train, mse_valid, mse_test = mean_squared_error(y_train, train_pred), mean_squared_error(y_valid, valid_pred), mean_squared_error(y_test, test_pred)\n",
    "    rmse_train, rmse_valid, rmse_test = math.sqrt(mse_train), math.sqrt(mse_valid), math.sqrt(mse_test)\n",
    "    mape_train, mape_valid, mape_test = mean_absolute_percentage_error(y_train, train_pred), mean_absolute_percentage_error(y_valid, valid_pred), mean_absolute_percentage_error(y_test, test_pred)\n",
    "    print(f'Train error is: MSE= {mse_train}, RMSE={rmse_train}, MAPE={mape_train}, ACC={train}')\n",
    "    print(f'Valid error is: MSE= {mse_valid}, RMSE={rmse_valid}, MAPE={mape_valid}, ACC={valid}')\n",
    "    print(f'Test error is: MSE= {mse_test}, RMSE={rmse_test}, MAPE={mape_test}, ACC={test}')\n",
    "    return train_pred, valid_pred, test_pred"
   ]
  },
  {
   "cell_type": "code",
   "execution_count": 43,
   "id": "15558ed5",
   "metadata": {},
   "outputs": [],
   "source": [
    "linear_r = Ridge(alpha=0.8e4)"
   ]
  },
  {
   "cell_type": "code",
   "execution_count": 44,
   "id": "0968ddc5",
   "metadata": {},
   "outputs": [
    {
     "data": {
      "text/plain": [
       "Ridge(alpha=8000.0)"
      ]
     },
     "execution_count": 44,
     "metadata": {},
     "output_type": "execute_result"
    }
   ],
   "source": [
    "linear_r.fit(X_train, y_train)"
   ]
  },
  {
   "cell_type": "code",
   "execution_count": 45,
   "id": "d1bb70ac",
   "metadata": {},
   "outputs": [
    {
     "name": "stdout",
     "output_type": "stream",
     "text": [
      "Train error is: MSE= 23516.184098970192, RMSE=153.34987479280898, MAPE=2147726460166.5613, ACC=0.5218112022334671\n",
      "Valid error is: MSE= 149732.01447544733, RMSE=386.95221213406614, MAPE=1.2623207787513293, ACC=0.5197475570032574\n",
      "Test error is: MSE= 97122.55769511405, RMSE=311.6449224600235, MAPE=17475858894324.752, ACC=0.5171992672501526\n"
     ]
    }
   ],
   "source": [
    "y_train_pred, y_valid_pred, y_test_pred = take_the_error_model1(linear_r, [X_train, y_train], [X_valid, y_valid], [X_test, y_test])"
   ]
  },
  {
   "cell_type": "code",
   "execution_count": null,
   "id": "d4f4f014",
   "metadata": {},
   "outputs": [],
   "source": []
  },
  {
   "cell_type": "markdown",
   "id": "115e03d3",
   "metadata": {},
   "source": [
    "# 2 models"
   ]
  },
  {
   "cell_type": "markdown",
   "id": "789d620c",
   "metadata": {},
   "source": [
    "## model trend"
   ]
  },
  {
   "cell_type": "code",
   "execution_count": 55,
   "id": "055639f9",
   "metadata": {},
   "outputs": [],
   "source": [
    "X, y = df_feat[feat], df_feat['trend_diff']\n",
    "X_train_1, X_valid_1, X_test_1 = X[:int(df_feat.shape[0]*0.7)], X[int(df_feat.shape[0]*0.7):int(df_feat.shape[0]*0.85)], X[int(df_feat.shape[0]*0.85):]\n",
    "y_train_1, y_valid_1, y_test_1 = y[:int(df_feat.shape[0]*0.7)], y[int(df_feat.shape[0]*0.7):int(df_feat.shape[0]*0.85)], y[int(df_feat.shape[0]*0.85):]"
   ]
  },
  {
   "cell_type": "code",
   "execution_count": 56,
   "id": "22b9b4dd",
   "metadata": {},
   "outputs": [],
   "source": [
    "linear_1 = Ridge(alpha=1e5)"
   ]
  },
  {
   "cell_type": "code",
   "execution_count": 57,
   "id": "121451c2",
   "metadata": {},
   "outputs": [
    {
     "data": {
      "text/plain": [
       "Ridge(alpha=100000.0)"
      ]
     },
     "execution_count": 57,
     "metadata": {},
     "output_type": "execute_result"
    }
   ],
   "source": [
    "linear_1.fit(X_train, y_train)"
   ]
  },
  {
   "cell_type": "code",
   "execution_count": 58,
   "id": "308ee1e4",
   "metadata": {},
   "outputs": [
    {
     "name": "stdout",
     "output_type": "stream",
     "text": [
      "Train error is: MSE= 1035.490712712112, RMSE=32.179041513260024, MAPE=1.711244357219542, ACC=0.6238003838771593\n",
      "Valid error is: MSE= 6422.635019177199, RMSE=80.14134400655631, MAPE=1.6617297813453504, ACC=0.5181188925081434\n",
      "Test error is: MSE= 4737.328460994997, RMSE=68.82825336295406, MAPE=1.513710954238333, ACC=0.4980663545695095\n"
     ]
    }
   ],
   "source": [
    "y_train_pred_1, y_valid_pred_1, y_test_pred_1 = take_the_error_model1(linear_1, [X_train_1, y_train_1], [X_valid_1, y_valid_1], [X_test_1, y_test_1])"
   ]
  },
  {
   "cell_type": "code",
   "execution_count": null,
   "id": "6e7ffc22",
   "metadata": {},
   "outputs": [],
   "source": []
  },
  {
   "cell_type": "markdown",
   "id": "42f4fe78",
   "metadata": {},
   "source": [
    "## model residual"
   ]
  },
  {
   "cell_type": "code",
   "execution_count": 59,
   "id": "0165bd8b",
   "metadata": {},
   "outputs": [],
   "source": [
    "X, y = df_feat[feat], df_feat['resid']\n",
    "X_train_2, X_valid_2, X_test_2 = X[:int(df_feat.shape[0]*0.7)], X[int(df_feat.shape[0]*0.7):int(df_feat.shape[0]*0.85)], X[int(df_feat.shape[0]*0.85):]\n",
    "y_train_2, y_valid_2, y_test_2 = y[:int(df_feat.shape[0]*0.7)], y[int(df_feat.shape[0]*0.7):int(df_feat.shape[0]*0.85)], y[int(df_feat.shape[0]*0.85):]"
   ]
  },
  {
   "cell_type": "code",
   "execution_count": 60,
   "id": "c7e53e3e",
   "metadata": {},
   "outputs": [],
   "source": [
    "linear_2 = Ridge(alpha=0)"
   ]
  },
  {
   "cell_type": "code",
   "execution_count": 61,
   "id": "a960d1c6",
   "metadata": {},
   "outputs": [
    {
     "data": {
      "text/plain": [
       "Ridge(alpha=0)"
      ]
     },
     "execution_count": 61,
     "metadata": {},
     "output_type": "execute_result"
    }
   ],
   "source": [
    "linear_2.fit(X_train, y_train)"
   ]
  },
  {
   "cell_type": "code",
   "execution_count": 62,
   "id": "a1e217d5",
   "metadata": {},
   "outputs": [
    {
     "name": "stdout",
     "output_type": "stream",
     "text": [
      "Train error is: MSE= 159108.90581199247, RMSE=398.8845770545566, MAPE=2.3063029347038255, ACC=0.5879247916939319\n",
      "Valid error is: MSE= 1146788.0130004531, RMSE=1070.8818856440018, MAPE=1.6145092156534993, ACC=0.5931582162492364\n",
      "Test error is: MSE= 813768.5666456454, RMSE=902.0912185836006, MAPE=1.6929381304336317, ACC=0.6081026058631922\n"
     ]
    }
   ],
   "source": [
    "y_train_pred_2, y_valid_pred_2, y_test_pred_2 = take_the_error_model2(linear_2, [X_train, y_train_2], [X_valid, y_valid_2], [X_test, y_test_2])"
   ]
  },
  {
   "cell_type": "code",
   "execution_count": 54,
   "id": "1469db1b",
   "metadata": {},
   "outputs": [
    {
     "data": {
      "text/plain": [
       "Time_UTC_Start\n",
       "2021-10-14 06:00:00          NaN\n",
       "2021-10-14 07:00:00          NaN\n",
       "2021-10-14 08:00:00          NaN\n",
       "2021-10-14 09:00:00          NaN\n",
       "2021-10-14 10:00:00          NaN\n",
       "                         ...    \n",
       "2022-05-07 03:00:00   -34.949213\n",
       "2022-05-07 04:00:00   -31.319419\n",
       "2022-05-07 05:00:00   -25.208436\n",
       "2022-05-07 06:00:00   -18.818564\n",
       "2022-05-07 07:00:00          NaN\n",
       "Length: 4922, dtype: float64"
      ]
     },
     "execution_count": 54,
     "metadata": {},
     "output_type": "execute_result"
    }
   ],
   "source": [
    "df_feat['std_1'][-4922:].shift(-1) * y_test_1.shift(-1)"
   ]
  },
  {
   "cell_type": "code",
   "execution_count": 366,
   "id": "e5a34901",
   "metadata": {},
   "outputs": [
    {
     "data": {
      "text/plain": [
       "Time_UTC_Start\n",
       "2021-10-14 06:00:00    1100.465678\n",
       "2021-10-14 07:00:00     683.812593\n",
       "2021-10-14 08:00:00     652.485135\n",
       "2021-10-14 09:00:00     507.385260\n",
       "2021-10-14 10:00:00     634.574789\n",
       "                          ...     \n",
       "2022-05-07 03:00:00    -257.705323\n",
       "2022-05-07 04:00:00    -291.965904\n",
       "2022-05-07 05:00:00    -114.437468\n",
       "2022-05-07 06:00:00    -188.298905\n",
       "2022-05-07 07:00:00            NaN\n",
       "Length: 4922, dtype: float64"
      ]
     },
     "execution_count": 366,
     "metadata": {},
     "output_type": "execute_result"
    }
   ],
   "source": [
    "df_feat['std_2'][-4922:].shift(-1) * y_test_2.shift(-1)"
   ]
  },
  {
   "cell_type": "code",
   "execution_count": 367,
   "id": "86f42418",
   "metadata": {},
   "outputs": [
    {
     "data": {
      "text/plain": [
       "Time_UTC_Start\n",
       "2021-10-14 06:00:00    116.048520\n",
       "2021-10-14 07:00:00    110.563085\n",
       "2021-10-14 08:00:00    117.257458\n",
       "2021-10-14 09:00:00    106.469875\n",
       "2021-10-14 10:00:00    118.260471\n",
       "                          ...    \n",
       "2022-05-07 03:00:00    -34.949213\n",
       "2022-05-07 04:00:00    -31.319419\n",
       "2022-05-07 05:00:00    -25.208436\n",
       "2022-05-07 06:00:00    -18.818564\n",
       "2022-05-07 07:00:00    -16.372331\n",
       "Name: trend_diff, Length: 4922, dtype: float64"
      ]
     },
     "execution_count": 367,
     "metadata": {},
     "output_type": "execute_result"
    }
   ],
   "source": [
    "df_feat['trend_diff'][-4922:]"
   ]
  },
  {
   "cell_type": "code",
   "execution_count": 368,
   "id": "f14f0d0b",
   "metadata": {},
   "outputs": [
    {
     "data": {
      "text/plain": [
       "Time_UTC_Start\n",
       "2021-10-14 06:00:00    235.088895\n",
       "2021-10-14 07:00:00    215.242348\n",
       "2021-10-14 08:00:00    249.366742\n",
       "2021-10-14 09:00:00    179.750142\n",
       "2021-10-14 10:00:00    240.178800\n",
       "                          ...    \n",
       "2022-05-07 02:00:00    -88.128020\n",
       "2022-05-07 03:00:00    -81.356879\n",
       "2022-05-07 04:00:00    -58.504212\n",
       "2022-05-07 05:00:00    -45.345765\n",
       "2022-05-07 06:00:00    -21.485831\n",
       "Name: std_1, Length: 4921, dtype: float64"
      ]
     },
     "execution_count": 368,
     "metadata": {},
     "output_type": "execute_result"
    }
   ],
   "source": [
    "df_feat['std_1'][-4922:].shift(-1).dropna() * y_test_pred_1[1:]"
   ]
  },
  {
   "cell_type": "code",
   "execution_count": 369,
   "id": "7d16f4b8",
   "metadata": {},
   "outputs": [],
   "source": [
    "test_model1 = df_feat['std_1'][-4922:].shift(-1).dropna() * y_test_pred_1.tolist()[1:]"
   ]
  },
  {
   "cell_type": "code",
   "execution_count": 370,
   "id": "7f5c0893",
   "metadata": {},
   "outputs": [],
   "source": [
    "test_model2 = df_feat['std_2'][-4922:].shift(-1).dropna() * y_test_pred_2.tolist()[1:]"
   ]
  },
  {
   "cell_type": "code",
   "execution_count": 371,
   "id": "d2419bea",
   "metadata": {},
   "outputs": [
    {
     "data": {
      "text/plain": [
       "Time_UTC_Start\n",
       "2021-10-14 06:00:00    116.048520\n",
       "2021-10-14 07:00:00    110.563085\n",
       "2021-10-14 08:00:00    117.257458\n",
       "2021-10-14 09:00:00    106.469875\n",
       "2021-10-14 10:00:00    118.260471\n",
       "                          ...    \n",
       "2022-05-07 03:00:00    -34.949213\n",
       "2022-05-07 04:00:00    -31.319419\n",
       "2022-05-07 05:00:00    -25.208436\n",
       "2022-05-07 06:00:00    -18.818564\n",
       "2022-05-07 07:00:00    -16.372331\n",
       "Name: trend_diff, Length: 4922, dtype: float64"
      ]
     },
     "execution_count": 371,
     "metadata": {},
     "output_type": "execute_result"
    }
   ],
   "source": [
    "df_feat['trend_diff'][-4922:]"
   ]
  },
  {
   "cell_type": "code",
   "execution_count": 372,
   "id": "c124aa3b",
   "metadata": {},
   "outputs": [
    {
     "data": {
      "text/plain": [
       "Time_UTC_Start\n",
       "2021-10-14 06:00:00            NaN\n",
       "2021-10-14 07:00:00   -1232.686099\n",
       "2021-10-14 08:00:00    -250.470188\n",
       "2021-10-14 09:00:00    -479.458323\n",
       "2021-10-14 10:00:00       5.275081\n",
       "                          ...     \n",
       "2022-05-07 02:00:00      32.775003\n",
       "2022-05-07 03:00:00     -49.679072\n",
       "2022-05-07 04:00:00     -13.204036\n",
       "2022-05-07 05:00:00      65.588866\n",
       "2022-05-07 06:00:00     -70.594413\n",
       "Length: 4921, dtype: float64"
      ]
     },
     "execution_count": 372,
     "metadata": {},
     "output_type": "execute_result"
    }
   ],
   "source": [
    "test_model2 - df_feat['resid'][-4922:-1].shift(1)"
   ]
  },
  {
   "cell_type": "code",
   "execution_count": 373,
   "id": "99b661ea",
   "metadata": {},
   "outputs": [
    {
     "data": {
      "text/plain": [
       "Time_UTC_Start\n",
       "2021-10-14 06:00:00    1100.465678\n",
       "2021-10-14 07:00:00     683.812593\n",
       "2021-10-14 08:00:00     652.485135\n",
       "2021-10-14 09:00:00     507.385260\n",
       "2021-10-14 10:00:00     634.574789\n",
       "                          ...     \n",
       "2022-05-07 02:00:00    -151.224536\n",
       "2022-05-07 03:00:00    -257.705323\n",
       "2022-05-07 04:00:00    -291.965904\n",
       "2022-05-07 05:00:00    -114.437468\n",
       "2022-05-07 06:00:00    -188.298905\n",
       "Name: resid, Length: 4921, dtype: float64"
      ]
     },
     "execution_count": 373,
     "metadata": {},
     "output_type": "execute_result"
    }
   ],
   "source": [
    "df_feat['resid'][-4922:-1]"
   ]
  },
  {
   "cell_type": "code",
   "execution_count": 374,
   "id": "1462ec07",
   "metadata": {},
   "outputs": [],
   "source": [
    "test = test_model2 + test_model1 - df_feat['resid'][-4922:-1].shift(1)"
   ]
  },
  {
   "cell_type": "code",
   "execution_count": 375,
   "id": "0275c942",
   "metadata": {},
   "outputs": [
    {
     "data": {
      "text/plain": [
       "Time_UTC_Start\n",
       "2021-10-14 06:00:00            NaN\n",
       "2021-10-14 07:00:00   -1017.443750\n",
       "2021-10-14 08:00:00      -1.103447\n",
       "2021-10-14 09:00:00    -299.708181\n",
       "2021-10-14 10:00:00     245.453881\n",
       "                          ...     \n",
       "2022-05-07 02:00:00     -55.353017\n",
       "2022-05-07 03:00:00    -131.035950\n",
       "2022-05-07 04:00:00     -71.708247\n",
       "2022-05-07 05:00:00      20.243101\n",
       "2022-05-07 06:00:00     -92.080244\n",
       "Length: 4921, dtype: float64"
      ]
     },
     "execution_count": 375,
     "metadata": {},
     "output_type": "execute_result"
    }
   ],
   "source": [
    "test"
   ]
  },
  {
   "cell_type": "code",
   "execution_count": 376,
   "id": "44944045",
   "metadata": {},
   "outputs": [],
   "source": [
    "true = df_feat['Close_change'][int(32810*0.85):]"
   ]
  },
  {
   "cell_type": "code",
   "execution_count": 377,
   "id": "6c98db5d",
   "metadata": {},
   "outputs": [
    {
     "data": {
      "text/plain": [
       "Time_UTC_Start\n",
       "2021-10-14 06:00:00   -291.62\n",
       "2021-10-14 07:00:00   -306.09\n",
       "2021-10-14 08:00:00     85.93\n",
       "2021-10-14 09:00:00    -38.63\n",
       "2021-10-14 10:00:00    245.45\n",
       "                        ...  \n",
       "2022-05-07 03:00:00   -141.43\n",
       "2022-05-07 04:00:00    -65.58\n",
       "2022-05-07 05:00:00    152.32\n",
       "2022-05-07 06:00:00    -92.68\n",
       "2022-05-07 07:00:00    145.42\n",
       "Name: Close_change, Length: 4922, dtype: float64"
      ]
     },
     "execution_count": 377,
     "metadata": {},
     "output_type": "execute_result"
    }
   ],
   "source": [
    "true"
   ]
  },
  {
   "cell_type": "code",
   "execution_count": null,
   "id": "4a0d8c15",
   "metadata": {},
   "outputs": [],
   "source": []
  },
  {
   "cell_type": "code",
   "execution_count": 378,
   "id": "12e8ac42",
   "metadata": {},
   "outputs": [
    {
     "data": {
      "text/plain": [
       "0.8150782361308677"
      ]
     },
     "execution_count": 378,
     "metadata": {},
     "output_type": "execute_result"
    }
   ],
   "source": [
    "((test[1:] * true[1:] >= 0) * 1).sum()/4921"
   ]
  },
  {
   "cell_type": "markdown",
   "id": "8534773e",
   "metadata": {},
   "source": [
    "## Train test"
   ]
  },
  {
   "cell_type": "code",
   "execution_count": 379,
   "id": "1cc04a3a",
   "metadata": {},
   "outputs": [],
   "source": [
    "train_model1 = df_feat['std_1'][:22967].shift(-1).dropna() * y_train_pred_1.tolist()[1:]"
   ]
  },
  {
   "cell_type": "code",
   "execution_count": 380,
   "id": "72fdbf58",
   "metadata": {},
   "outputs": [],
   "source": [
    "train_model2 = df_feat['std_2'][:22967].shift(-1).dropna() * y_train_pred_2.tolist()[1:]"
   ]
  },
  {
   "cell_type": "code",
   "execution_count": 381,
   "id": "52ddf405",
   "metadata": {},
   "outputs": [],
   "source": [
    "test = train_model2 + train_model1 - df_feat['resid'][:22967-1].shift(1)"
   ]
  },
  {
   "cell_type": "code",
   "execution_count": 382,
   "id": "ad9563a4",
   "metadata": {},
   "outputs": [],
   "source": [
    "true = df_feat['Close_change'][:22967]"
   ]
  },
  {
   "cell_type": "code",
   "execution_count": 383,
   "id": "f96f186f",
   "metadata": {},
   "outputs": [
    {
     "data": {
      "text/plain": [
       "Time_UTC_Start\n",
       "2018-07-29 02:00:00    -24.32\n",
       "2018-07-29 03:00:00     -1.45\n",
       "2018-07-29 04:00:00    -40.44\n",
       "2018-07-29 05:00:00     10.07\n",
       "2018-07-29 06:00:00     -9.87\n",
       "                        ...  \n",
       "2021-03-20 21:00:00    208.92\n",
       "2021-03-20 22:00:00   -225.75\n",
       "2021-03-20 23:00:00   -400.73\n",
       "2021-03-21 00:00:00    229.15\n",
       "2021-03-21 01:00:00   -151.43\n",
       "Name: Close_change, Length: 22967, dtype: float64"
      ]
     },
     "execution_count": 383,
     "metadata": {},
     "output_type": "execute_result"
    }
   ],
   "source": [
    "true"
   ]
  },
  {
   "cell_type": "code",
   "execution_count": 384,
   "id": "f3e7bd93",
   "metadata": {},
   "outputs": [
    {
     "data": {
      "text/plain": [
       "Time_UTC_Start\n",
       "2018-07-29 02:00:00           NaN\n",
       "2018-07-29 03:00:00    -10.912693\n",
       "2018-07-29 04:00:00    -17.061223\n",
       "2018-07-29 05:00:00     -1.538868\n",
       "2018-07-29 06:00:00     -5.093493\n",
       "                          ...    \n",
       "2021-03-20 20:00:00   -814.940568\n",
       "2021-03-20 21:00:00     73.783569\n",
       "2021-03-20 22:00:00   -239.465930\n",
       "2021-03-20 23:00:00   -403.392133\n",
       "2021-03-21 00:00:00    151.691873\n",
       "Length: 22966, dtype: float64"
      ]
     },
     "execution_count": 384,
     "metadata": {},
     "output_type": "execute_result"
    }
   ],
   "source": [
    "test"
   ]
  },
  {
   "cell_type": "code",
   "execution_count": 385,
   "id": "aefd47f3",
   "metadata": {},
   "outputs": [
    {
     "data": {
      "text/plain": [
       "0.7238211346714851"
      ]
     },
     "execution_count": 385,
     "metadata": {},
     "output_type": "execute_result"
    }
   ],
   "source": [
    "((test[1:] * true[1:] >= 0) * 1).sum()/22967"
   ]
  },
  {
   "cell_type": "code",
   "execution_count": null,
   "id": "c9f13c53",
   "metadata": {},
   "outputs": [],
   "source": []
  },
  {
   "cell_type": "markdown",
   "id": "171ec09f",
   "metadata": {},
   "source": [
    "## Valid"
   ]
  },
  {
   "cell_type": "code",
   "execution_count": 388,
   "id": "eb836cc5",
   "metadata": {},
   "outputs": [],
   "source": [
    "valid_model1 = df_feat['std_1'][22967:22967+4921].shift(-1).dropna() * y_valid_pred_1.tolist()[1:]"
   ]
  },
  {
   "cell_type": "code",
   "execution_count": 389,
   "id": "74b1441d",
   "metadata": {},
   "outputs": [],
   "source": [
    "valid_model2 = df_feat['std_2'][22967:22967+4921].shift(-1).dropna() * y_valid_pred_2.tolist()[1:]"
   ]
  },
  {
   "cell_type": "code",
   "execution_count": 390,
   "id": "8d370bd4",
   "metadata": {},
   "outputs": [],
   "source": [
    "test = valid_model2 + valid_model1 - df_feat['resid'][22967:32810-4922].shift(1)"
   ]
  },
  {
   "cell_type": "code",
   "execution_count": 391,
   "id": "950dea8f",
   "metadata": {},
   "outputs": [
    {
     "data": {
      "text/plain": [
       "Time_UTC_Start\n",
       "2021-03-21 02:00:00            NaN\n",
       "2021-03-21 03:00:00   -1077.980578\n",
       "2021-03-21 04:00:00    -860.385114\n",
       "2021-03-21 05:00:00   -1697.999446\n",
       "2021-03-21 06:00:00   -1431.583302\n",
       "                          ...     \n",
       "2021-10-14 01:00:00    1641.731703\n",
       "2021-10-14 02:00:00    2144.120288\n",
       "2021-10-14 03:00:00    1993.224214\n",
       "2021-10-14 04:00:00    1785.668427\n",
       "2021-10-14 05:00:00    1632.650971\n",
       "Name: resid, Length: 4921, dtype: float64"
      ]
     },
     "execution_count": 391,
     "metadata": {},
     "output_type": "execute_result"
    }
   ],
   "source": [
    "df_feat['resid'][22967:32810-4922].shift(1)"
   ]
  },
  {
   "cell_type": "code",
   "execution_count": 392,
   "id": "958f48ee",
   "metadata": {},
   "outputs": [],
   "source": [
    "true = df_feat['Close_change'][22967:32810-4922]"
   ]
  },
  {
   "cell_type": "code",
   "execution_count": 393,
   "id": "f98d3d2e",
   "metadata": {},
   "outputs": [
    {
     "data": {
      "text/plain": [
       "Time_UTC_Start\n",
       "2021-03-21 02:00:00   -564.68\n",
       "2021-03-21 03:00:00    174.68\n",
       "2021-03-21 04:00:00   -880.17\n",
       "2021-03-21 05:00:00    220.16\n",
       "2021-03-21 06:00:00    -82.01\n",
       "                        ...  \n",
       "2021-10-14 01:00:00    572.26\n",
       "2021-10-14 02:00:00    -89.56\n",
       "2021-10-14 03:00:00   -144.47\n",
       "2021-10-14 04:00:00    -79.44\n",
       "2021-10-14 05:00:00    -21.54\n",
       "Name: Close_change, Length: 4921, dtype: float64"
      ]
     },
     "execution_count": 393,
     "metadata": {},
     "output_type": "execute_result"
    }
   ],
   "source": [
    "true"
   ]
  },
  {
   "cell_type": "code",
   "execution_count": 394,
   "id": "417ec0d7",
   "metadata": {},
   "outputs": [
    {
     "data": {
      "text/plain": [
       "Time_UTC_Start\n",
       "2021-03-21 02:00:00            NaN\n",
       "2021-03-21 03:00:00     194.680721\n",
       "2021-03-21 04:00:00   -1632.712206\n",
       "2021-03-21 05:00:00      19.146960\n",
       "2021-03-21 06:00:00    -647.956695\n",
       "                          ...     \n",
       "2021-10-14 01:00:00    1923.551786\n",
       "2021-10-14 02:00:00     718.107426\n",
       "2021-10-14 03:00:00     216.168533\n",
       "2021-10-14 04:00:00       9.296500\n",
       "2021-10-14 05:00:00            NaN\n",
       "Length: 4921, dtype: float64"
      ]
     },
     "execution_count": 394,
     "metadata": {},
     "output_type": "execute_result"
    }
   ],
   "source": [
    "test"
   ]
  },
  {
   "cell_type": "code",
   "execution_count": 395,
   "id": "d6ad1def",
   "metadata": {},
   "outputs": [
    {
     "data": {
      "text/plain": [
       "0.8162975005080269"
      ]
     },
     "execution_count": 395,
     "metadata": {},
     "output_type": "execute_result"
    }
   ],
   "source": [
    "((test[1:] * true[1:] >= 0) * 1).sum()/4921"
   ]
  },
  {
   "cell_type": "code",
   "execution_count": null,
   "id": "759f3fbd",
   "metadata": {},
   "outputs": [],
   "source": []
  },
  {
   "cell_type": "code",
   "execution_count": null,
   "id": "01d37f13",
   "metadata": {},
   "outputs": [],
   "source": []
  },
  {
   "cell_type": "code",
   "execution_count": null,
   "id": "0e12728e",
   "metadata": {},
   "outputs": [],
   "source": []
  },
  {
   "cell_type": "code",
   "execution_count": null,
   "id": "5670ad96",
   "metadata": {},
   "outputs": [],
   "source": []
  }
 ],
 "metadata": {
  "kernelspec": {
   "display_name": "Python 3 (ipykernel)",
   "language": "python",
   "name": "python3"
  },
  "language_info": {
   "codemirror_mode": {
    "name": "ipython",
    "version": 3
   },
   "file_extension": ".py",
   "mimetype": "text/x-python",
   "name": "python",
   "nbconvert_exporter": "python",
   "pygments_lexer": "ipython3",
   "version": "3.9.12"
  }
 },
 "nbformat": 4,
 "nbformat_minor": 5
}
