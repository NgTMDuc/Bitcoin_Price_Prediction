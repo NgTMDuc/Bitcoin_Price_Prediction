{
 "cells": [
  {
   "cell_type": "markdown",
   "id": "985405b6",
   "metadata": {},
   "source": [
    "# Preparation"
   ]
  },
  {
   "cell_type": "markdown",
   "id": "a8ecf48e",
   "metadata": {},
   "source": [
    "## Modules"
   ]
  },
  {
   "cell_type": "code",
   "execution_count": null,
   "id": "e6ab4de9",
   "metadata": {},
   "outputs": [],
   "source": [
    "import matplotlib.pyplot as plt\n",
    "import numpy as np\n",
    "import pandas as pd\n",
    "import tensorflow as tf\n",
    "import tensorflow.math as tfm\n",
    "import datetime\n",
    "\n",
    "from pandas import DataFrame\n",
    "from tensorflow.keras.preprocessing import sequence\n",
    "from tensorflow.keras.models import Sequential\n",
    "from tensorflow.keras.layers import Dense, Embedding, LSTM, SimpleRNN, GRU, Bidirectional, Dropout\n",
    "from tensorflow.keras.callbacks import EarlyStopping\n",
    "\n",
    "from sklearn import metrics\n",
    "from sklearn.preprocessing import MinMaxScaler, StandardScaler, PowerTransformer"
   ]
  },
  {
   "cell_type": "markdown",
   "id": "e47ef4dd",
   "metadata": {},
   "source": [
    "## Data preparation"
   ]
  },
  {
   "cell_type": "code",
   "execution_count": null,
   "id": "df645ff0",
   "metadata": {},
   "outputs": [],
   "source": [
    "from Feature import Feature\n",
    "\n",
    "\n",
    "# Dataframe with 15 minutes between each row\n",
    "df = pd.read_csv(\"../data/raw_binance_btc_1h.csv\")\n",
    "df"
   ]
  },
  {
   "cell_type": "code",
   "execution_count": null,
   "id": "e7f2a39f",
   "metadata": {
    "scrolled": true
   },
   "outputs": [],
   "source": [
    "a = Feature(df.copy())\n",
    "for i in [4,8,12,16,20,24,48,72]: \n",
    "    a.price_EMA(days=i, inplace=True)\n",
    "    a.price_SMA(days=i, inplace=True)\n",
    "    a.price_WMA(days=i, inplace=True)\n",
    "    a.volume_EMA(days=i, inplace=True)\n",
    "    a.volume_SMA(days=i, inplace=True)\n",
    "    a.volume_WMA(days=i, inplace=True)\n",
    "    a.RS(days=i, inplace=True)\n",
    "    a.RSI(days=i, inplace=True)\n",
    "    a.std(days=i, inplace=True)\n",
    "    a.raw_money_flow(inplace=True)\n",
    "    a.plus_DM(inplace=True)\n",
    "    a.minus_DM(inplace=True)\n",
    "    a.price_diff(inplace=True)\n",
    "    a.smoothed_plus_DM(days=i, inplace=True)\n",
    "    a.smoothed_minus_DM(days=i, inplace=True)\n",
    "    a.TR(inplace=True)\n",
    "    a.std(days=i, inplace=True)\n",
    "    a.mad(days=i, inplace=True)\n",
    "    a.ATR(days=i, inplace=True)\n",
    "    a.CCI(days=i, inplace=True)\n",
    "    a.DX(days=i, inplace=True)\n",
    "    a.ADX(days=i, inplace=True)\n",
    "    a.PPO(inplace=True)\n",
    "    a.BOP(days=i, inplace=True)\n",
    "    a.MFI(days=i, inplace=True)\n",
    "    a.MACD()\n",
    "a.dropna(inplace=True)\n",
    "a"
   ]
  }
 ],
 "metadata": {
  "interpreter": {
   "hash": "b05c9e33dddb06da0017d42bbe9efdcc53c6697b1834e0371294a7eaf8908d75"
  },
  "kernelspec": {
   "display_name": "Python 3 (ipykernel)",
   "language": "python",
   "name": "python3"
  },
  "language_info": {
   "codemirror_mode": {
    "name": "ipython",
    "version": 3
   },
   "file_extension": ".py",
   "mimetype": "text/x-python",
   "name": "python",
   "nbconvert_exporter": "python",
   "pygments_lexer": "ipython3",
   "version": "3.9.12"
  },
  "widgets": {
   "application/vnd.jupyter.widget-state+json": {
    "state": {},
    "version_major": 2,
    "version_minor": 0
   }
  }
 },
 "nbformat": 4,
 "nbformat_minor": 5
}
