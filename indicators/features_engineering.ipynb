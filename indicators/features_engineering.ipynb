{
 "cells": [
  {
   "cell_type": "code",
   "execution_count": 2,
   "id": "368af7d2",
   "metadata": {},
   "outputs": [],
   "source": [
    "import pandas as pd\n",
    "import numpy as np\n",
    "\n",
    "from Feature import Feature\n",
    "\n",
    "from pathlib import Path\n",
    "\n",
    "def label(path: str, freq: str='900S'):\n",
    "    '''\n",
    "    Return a DataFrame from original DataFrame with time period of 1 hour, duplicated values removed\n",
    "    and NaN values filled with forward fill\n",
    "    '''\n",
    "    \n",
    "    df = pd.read_csv(path, index_col=\"Time_UTC_Start\")\n",
    "    df.drop([\"Timestamp\", \"Timestamp End\", \"N/A.5\"], axis=1, inplace=True)\n",
    "    df.rename(columns = {'Open': 'open', 'High': 'high', 'Low': 'low', 'Close': 'close',\n",
    "                        'N/A': 'volume', 'N/A.1': 'quote_asset_volume', 'N/A.2': 'number_of_trades',\n",
    "                        'N/A.3': 'taker_buy_base_asset_volume', 'N/A.4': 'taker_buy_quote_asset_volume'}, inplace = True)\n",
    "    df = df.iloc[26:1999947, :]\n",
    "    df = df.drop_duplicates(keep = 'last')\n",
    "    df.index = pd.to_datetime(df.index)\n",
    "    df = df.asfreq(freq).fillna(method = 'ffill')\n",
    "    length = df.shape[0]\n",
    "    op = df['open'].values.reshape(length,1)\n",
    "    cl = df['close'].values.reshape(length,1 )\n",
    "    label = np.ones((length, 1)) * (op < cl)\n",
    "    df['label'] = label\n",
    "    \n",
    "    return df\n",
    "\n",
    "df_1H = label(path=\"../data/binance-BTCUSDT-1m.csv\", freq='H')\n",
    "a = Feature(df_1H.copy())\n",
    "\n",
    "a.TR(inplace=True)\n",
    "a.MACD()\n",
    "for i in [4,8,12,16,20,24,48,72]: \n",
    "    a.volume_EMA(days=i, inplace=True)\n",
    "    a.volume_SMA(days=i, inplace=True)\n",
    "    a.volume_WMA(days=i, inplace=True)\n",
    "    a.raw_money_flow(inplace=True)\n",
    "    a.plus_DM(inplace=True)\n",
    "    a.minus_DM(inplace=True)\n",
    "    a.smoothed_plus_DM(days=i, inplace=True)\n",
    "    a.smoothed_minus_DM(days=i, inplace=True)\n",
    "    a.smoothed_plus_DM(days=i, inplace=True)\n",
    "    a.smoothed_minus_DM(days=i, inplace=True)\n",
    "    a.mad(days=i, inplace=True)\n",
    "    a.ATR(days=i, inplace=True)\n",
    "    a.CCI(days=i, inplace=True)\n",
    "    a.DX(days=i, inplace=True)\n",
    "    a.ADX(days=i, inplace=True)\n",
    "    a.MFI(days=i, inplace=True)\n",
    "    a.BOP(days=i, inplace=True)\n",
    "    for name in [\"close\", \"high\", \"low\", \"open\"]:\n",
    "        a.price_EMA(days=i, inplace=True, price_col_name=name)\n",
    "        a.price_SMA(days=i, inplace=True, price_col_name=name)\n",
    "        a.price_WMA(days=i, inplace=True, price_col_name=name)\n",
    "        a.RS(days=i, inplace=True, price_col_name=name)\n",
    "        a.RSI(days=i, inplace=True, price_col_name=name)\n",
    "        a.std(days=i, inplace=True, price_col_name=name)\n",
    "        a.price_diff(inplace=True, price_col_name=name)\n",
    "        a.std(days=i, inplace=True, price_col_name=name)\n",
    "        a.median(days=i, inplace=True, price_col_name=name)\n",
    "        a.PPO(inplace=True, price_col_name=name)\n",
    "        \n",
    "\n",
    "a.dropna(inplace=True)\n",
    "# a.to_csv(\"../data/data_1h_with_features_ver01.csv\")"
   ]
  },
  {
   "cell_type": "code",
   "execution_count": null,
   "id": "0fb58f45",
   "metadata": {},
   "outputs": [],
   "source": []
  }
 ],
 "metadata": {
  "interpreter": {
   "hash": "b05c9e33dddb06da0017d42bbe9efdcc53c6697b1834e0371294a7eaf8908d75"
  },
  "kernelspec": {
   "display_name": "Python 3 (ipykernel)",
   "language": "python",
   "name": "python3"
  },
  "language_info": {
   "codemirror_mode": {
    "name": "ipython",
    "version": 3
   },
   "file_extension": ".py",
   "mimetype": "text/x-python",
   "name": "python",
   "nbconvert_exporter": "python",
   "pygments_lexer": "ipython3",
   "version": "3.9.12"
  },
  "widgets": {
   "application/vnd.jupyter.widget-state+json": {
    "state": {},
    "version_major": 2,
    "version_minor": 0
   }
  }
 },
 "nbformat": 4,
 "nbformat_minor": 5
}
