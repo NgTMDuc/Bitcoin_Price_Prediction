{
 "cells": [
  {
   "cell_type": "markdown",
   "metadata": {
    "id": "a8ecf48e"
   },
   "source": [
    "## Modules"
   ]
  },
  {
   "cell_type": "code",
   "execution_count": 1,
   "metadata": {
    "execution": {
     "iopub.execute_input": "2022-06-13T08:26:33.061084Z",
     "iopub.status.busy": "2022-06-13T08:26:33.060549Z",
     "iopub.status.idle": "2022-06-13T08:26:33.069534Z",
     "shell.execute_reply": "2022-06-13T08:26:33.068507Z",
     "shell.execute_reply.started": "2022-06-13T08:26:33.061047Z"
    },
    "id": "e6ab4de9",
    "scrolled": true
   },
   "outputs": [
    {
     "name": "stderr",
     "output_type": "stream",
     "text": [
      "2022-06-13 19:31:56.984879: I tensorflow/core/platform/cpu_feature_guard.cc:193] This TensorFlow binary is optimized with oneAPI Deep Neural Network Library (oneDNN) to use the following CPU instructions in performance-critical operations:  AVX2 AVX512F AVX512_VNNI FMA\n",
      "To enable them in other operations, rebuild TensorFlow with the appropriate compiler flags.\n",
      "2022-06-13 19:31:57.090526: I tensorflow/core/util/util.cc:169] oneDNN custom operations are on. You may see slightly different numerical results due to floating-point round-off errors from different computation orders. To turn them off, set the environment variable `TF_ENABLE_ONEDNN_OPTS=0`.\n"
     ]
    },
    {
     "name": "stdout",
     "output_type": "stream",
     "text": [
      "WARNING:tensorflow:Please fix your imports. Module tensorflow.python.training.tracking.base has been moved to tensorflow.python.trackable.base. The old module will be deleted in version 2.11.\n",
      "WARNING:tensorflow:Please fix your imports. Module tensorflow.python.training.tracking.resource has been moved to tensorflow.python.trackable.resource. The old module will be deleted in version 2.11.\n",
      "WARNING:tensorflow:Please fix your imports. Module tensorflow.python.training.tracking.graph_view has been moved to tensorflow.python.checkpoint.graph_view. The old module will be deleted in version 2.11.\n"
     ]
    },
    {
     "name": "stderr",
     "output_type": "stream",
     "text": [
      "2022-06-13 19:31:57.649226: W tensorflow/stream_executor/platform/default/dso_loader.cc:64] Could not load dynamic library 'libnvinfer.so.7'; dlerror: libnvinfer.so.7: cannot open shared object file: No such file or directory\n",
      "2022-06-13 19:31:57.649264: W tensorflow/stream_executor/platform/default/dso_loader.cc:64] Could not load dynamic library 'libnvinfer_plugin.so.7'; dlerror: libnvinfer_plugin.so.7: cannot open shared object file: No such file or directory\n",
      "2022-06-13 19:31:57.649268: W tensorflow/compiler/tf2tensorrt/utils/py_utils.cc:38] TF-TRT Warning: Cannot dlopen some TensorRT libraries. If you would like to use Nvidia GPU with TensorRT, please make sure the missing libraries mentioned above are installed properly.\n"
     ]
    },
    {
     "name": "stdout",
     "output_type": "stream",
     "text": [
      "WARNING:tensorflow:Please fix your imports. Module tensorflow.python.training.saving.functional_saver has been moved to tensorflow.python.checkpoint.functional_saver. The old module will be deleted in version 2.11.\n",
      "WARNING:tensorflow:Please fix your imports. Module tensorflow.python.training.saving.checkpoint_options has been moved to tensorflow.python.checkpoint.checkpoint_options. The old module will be deleted in version 2.11.\n"
     ]
    },
    {
     "name": "stderr",
     "output_type": "stream",
     "text": [
      "2022-06-13 19:31:58.371842: E tensorflow/stream_executor/cuda/cuda_driver.cc:271] failed call to cuInit: CUDA_ERROR_UNKNOWN: unknown error\n",
      "2022-06-13 19:31:58.371868: I tensorflow/stream_executor/cuda/cuda_diagnostics.cc:169] retrieving CUDA diagnostic information for host: Nitro-AN515-57\n",
      "2022-06-13 19:31:58.371872: I tensorflow/stream_executor/cuda/cuda_diagnostics.cc:176] hostname: Nitro-AN515-57\n",
      "2022-06-13 19:31:58.371941: I tensorflow/stream_executor/cuda/cuda_diagnostics.cc:200] libcuda reported version is: 515.48.7\n",
      "2022-06-13 19:31:58.371963: I tensorflow/stream_executor/cuda/cuda_diagnostics.cc:204] kernel reported version is: 515.48.7\n",
      "2022-06-13 19:31:58.371967: I tensorflow/stream_executor/cuda/cuda_diagnostics.cc:310] kernel version seems to match DSO: 515.48.7\n"
     ]
    }
   ],
   "source": [
    "import matplotlib.pyplot as plt\n",
    "import numpy as np\n",
    "import pandas as pd\n",
    "import tensorflow as tf\n",
    "import datetime, os\n",
    "\n",
    "from tensorflow.keras.models import Model\n",
    "from tensorflow.keras.layers import Dense, Embedding, Dropout, LSTM, Input, BatchNormalization\n",
    "from tensorflow.keras.callbacks import EarlyStopping\n",
    "\n",
    "from sklearn import metrics\n",
    "from sklearn.preprocessing import StandardScaler\n",
    "\n",
    "gpu_devices = tf.config.experimental.list_physical_devices('GPU')\n",
    "for device in gpu_devices:\n",
    "    tf.config.experimental.set_memory_growth(device, True)\n",
    "TF_ENABLE_ONEDNN_OPTS=0"
   ]
  },
  {
   "cell_type": "code",
   "execution_count": 2,
   "metadata": {},
   "outputs": [],
   "source": [
    "%load_ext tensorboard"
   ]
  },
  {
   "cell_type": "code",
   "execution_count": 3,
   "metadata": {},
   "outputs": [
    {
     "data": {
      "text/html": [
       "\n",
       "      <iframe id=\"tensorboard-frame-8f812fe45cf5205a\" width=\"100%\" height=\"800\" frameborder=\"0\">\n",
       "      </iframe>\n",
       "      <script>\n",
       "        (function() {\n",
       "          const frame = document.getElementById(\"tensorboard-frame-8f812fe45cf5205a\");\n",
       "          const url = new URL(\"/\", window.location);\n",
       "          const port = 6006;\n",
       "          if (port) {\n",
       "            url.port = port;\n",
       "          }\n",
       "          frame.src = url;\n",
       "        })();\n",
       "      </script>\n",
       "    "
      ],
      "text/plain": [
       "<IPython.core.display.HTML object>"
      ]
     },
     "metadata": {},
     "output_type": "display_data"
    }
   ],
   "source": [
    "%tensorboard --logdir=logs"
   ]
  },
  {
   "cell_type": "markdown",
   "metadata": {
    "id": "x00bEpgqm6xK"
   },
   "source": [
    "## Data"
   ]
  },
  {
   "cell_type": "code",
   "execution_count": 4,
   "metadata": {
    "execution": {
     "iopub.execute_input": "2022-06-13T08:26:33.108943Z",
     "iopub.status.busy": "2022-06-13T08:26:33.108444Z",
     "iopub.status.idle": "2022-06-13T08:26:34.510232Z",
     "shell.execute_reply": "2022-06-13T08:26:34.509113Z",
     "shell.execute_reply.started": "2022-06-13T08:26:33.108882Z"
    },
    "id": "V68YYgMunuQ8",
    "outputId": "6b1b3246-6225-4a9f-f60f-1c8ee16829a9",
    "scrolled": true
   },
   "outputs": [
    {
     "data": {
      "text/html": [
       "<div>\n",
       "<style scoped>\n",
       "    .dataframe tbody tr th:only-of-type {\n",
       "        vertical-align: middle;\n",
       "    }\n",
       "\n",
       "    .dataframe tbody tr th {\n",
       "        vertical-align: top;\n",
       "    }\n",
       "\n",
       "    .dataframe thead th {\n",
       "        text-align: right;\n",
       "    }\n",
       "</style>\n",
       "<table border=\"1\" class=\"dataframe\">\n",
       "  <thead>\n",
       "    <tr style=\"text-align: right;\">\n",
       "      <th></th>\n",
       "      <th>Unnamed: 0</th>\n",
       "      <th>Time_UTC_Start</th>\n",
       "      <th>open</th>\n",
       "      <th>high</th>\n",
       "      <th>low</th>\n",
       "      <th>close</th>\n",
       "      <th>volume</th>\n",
       "      <th>quote_asset_volume</th>\n",
       "      <th>number_of_trades</th>\n",
       "      <th>taker_buy_base_asset_volume</th>\n",
       "      <th>...</th>\n",
       "      <th>smoothed_minus_DM72</th>\n",
       "      <th>mad72</th>\n",
       "      <th>ATR72</th>\n",
       "      <th>CCI72</th>\n",
       "      <th>plus_DI72</th>\n",
       "      <th>minus_DI72</th>\n",
       "      <th>DX72</th>\n",
       "      <th>ADX72</th>\n",
       "      <th>BOP72</th>\n",
       "      <th>MFI72</th>\n",
       "    </tr>\n",
       "  </thead>\n",
       "  <tbody>\n",
       "    <tr>\n",
       "      <th>0</th>\n",
       "      <td>0</td>\n",
       "      <td>2018-07-24 09:00:00</td>\n",
       "      <td>7991.55</td>\n",
       "      <td>7995.89</td>\n",
       "      <td>7991.52</td>\n",
       "      <td>7994.86</td>\n",
       "      <td>31.547768</td>\n",
       "      <td>2.521824e+05</td>\n",
       "      <td>114.0</td>\n",
       "      <td>17.411796</td>\n",
       "      <td>...</td>\n",
       "      <td>728.673056</td>\n",
       "      <td>161.526701</td>\n",
       "      <td>8.191528</td>\n",
       "      <td>174.835387</td>\n",
       "      <td>16870.670917</td>\n",
       "      <td>8895.447532</td>\n",
       "      <td>30.952366</td>\n",
       "      <td>11.256566</td>\n",
       "      <td>0.141162</td>\n",
       "      <td>55.823217</td>\n",
       "    </tr>\n",
       "    <tr>\n",
       "      <th>1</th>\n",
       "      <td>1</td>\n",
       "      <td>2018-07-24 10:00:00</td>\n",
       "      <td>8022.05</td>\n",
       "      <td>8032.85</td>\n",
       "      <td>8022.05</td>\n",
       "      <td>8032.85</td>\n",
       "      <td>11.358339</td>\n",
       "      <td>9.117570e+04</td>\n",
       "      <td>136.0</td>\n",
       "      <td>7.730805</td>\n",
       "      <td>...</td>\n",
       "      <td>689.193056</td>\n",
       "      <td>165.613529</td>\n",
       "      <td>8.218889</td>\n",
       "      <td>180.754117</td>\n",
       "      <td>17529.241584</td>\n",
       "      <td>8385.477220</td>\n",
       "      <td>35.284058</td>\n",
       "      <td>11.590281</td>\n",
       "      <td>0.147690</td>\n",
       "      <td>56.511624</td>\n",
       "    </tr>\n",
       "    <tr>\n",
       "      <th>2</th>\n",
       "      <td>2</td>\n",
       "      <td>2018-07-24 11:00:00</td>\n",
       "      <td>8140.18</td>\n",
       "      <td>8145.00</td>\n",
       "      <td>8135.00</td>\n",
       "      <td>8135.00</td>\n",
       "      <td>61.441457</td>\n",
       "      <td>5.001102e+05</td>\n",
       "      <td>296.0</td>\n",
       "      <td>29.340389</td>\n",
       "      <td>...</td>\n",
       "      <td>667.261944</td>\n",
       "      <td>170.471458</td>\n",
       "      <td>8.304167</td>\n",
       "      <td>213.721125</td>\n",
       "      <td>19586.447566</td>\n",
       "      <td>8035.266767</td>\n",
       "      <td>41.819203</td>\n",
       "      <td>12.010127</td>\n",
       "      <td>0.133587</td>\n",
       "      <td>56.879834</td>\n",
       "    </tr>\n",
       "    <tr>\n",
       "      <th>3</th>\n",
       "      <td>3</td>\n",
       "      <td>2018-07-24 12:00:00</td>\n",
       "      <td>8257.98</td>\n",
       "      <td>8266.61</td>\n",
       "      <td>8255.02</td>\n",
       "      <td>8263.01</td>\n",
       "      <td>36.020530</td>\n",
       "      <td>2.976317e+05</td>\n",
       "      <td>317.0</td>\n",
       "      <td>16.279052</td>\n",
       "      <td>...</td>\n",
       "      <td>667.261944</td>\n",
       "      <td>176.651978</td>\n",
       "      <td>8.305417</td>\n",
       "      <td>247.779179</td>\n",
       "      <td>20948.826903</td>\n",
       "      <td>8034.057426</td>\n",
       "      <td>44.559987</td>\n",
       "      <td>12.462209</td>\n",
       "      <td>0.138612</td>\n",
       "      <td>57.654664</td>\n",
       "    </tr>\n",
       "    <tr>\n",
       "      <th>4</th>\n",
       "      <td>4</td>\n",
       "      <td>2018-07-24 13:00:00</td>\n",
       "      <td>8218.71</td>\n",
       "      <td>8228.68</td>\n",
       "      <td>8216.45</td>\n",
       "      <td>8220.00</td>\n",
       "      <td>59.458543</td>\n",
       "      <td>4.887918e+05</td>\n",
       "      <td>284.0</td>\n",
       "      <td>31.777879</td>\n",
       "      <td>...</td>\n",
       "      <td>743.866250</td>\n",
       "      <td>181.885078</td>\n",
       "      <td>8.400694</td>\n",
       "      <td>221.563167</td>\n",
       "      <td>19001.025048</td>\n",
       "      <td>8854.818550</td>\n",
       "      <td>36.423979</td>\n",
       "      <td>12.795011</td>\n",
       "      <td>0.126266</td>\n",
       "      <td>56.079662</td>\n",
       "    </tr>\n",
       "    <tr>\n",
       "      <th>...</th>\n",
       "      <td>...</td>\n",
       "      <td>...</td>\n",
       "      <td>...</td>\n",
       "      <td>...</td>\n",
       "      <td>...</td>\n",
       "      <td>...</td>\n",
       "      <td>...</td>\n",
       "      <td>...</td>\n",
       "      <td>...</td>\n",
       "      <td>...</td>\n",
       "      <td>...</td>\n",
       "      <td>...</td>\n",
       "      <td>...</td>\n",
       "      <td>...</td>\n",
       "      <td>...</td>\n",
       "      <td>...</td>\n",
       "      <td>...</td>\n",
       "      <td>...</td>\n",
       "      <td>...</td>\n",
       "      <td>...</td>\n",
       "      <td>...</td>\n",
       "    </tr>\n",
       "    <tr>\n",
       "      <th>33186</th>\n",
       "      <td>33186</td>\n",
       "      <td>2022-05-07 03:00:00</td>\n",
       "      <td>35953.63</td>\n",
       "      <td>35953.64</td>\n",
       "      <td>35943.60</td>\n",
       "      <td>35951.24</td>\n",
       "      <td>6.376430</td>\n",
       "      <td>2.292318e+05</td>\n",
       "      <td>339.0</td>\n",
       "      <td>3.818980</td>\n",
       "      <td>...</td>\n",
       "      <td>7035.463472</td>\n",
       "      <td>1482.198889</td>\n",
       "      <td>45.395556</td>\n",
       "      <td>-79.503234</td>\n",
       "      <td>9943.275773</td>\n",
       "      <td>15498.132771</td>\n",
       "      <td>21.833921</td>\n",
       "      <td>13.697214</td>\n",
       "      <td>0.042153</td>\n",
       "      <td>61.134462</td>\n",
       "    </tr>\n",
       "    <tr>\n",
       "      <th>33187</th>\n",
       "      <td>33187</td>\n",
       "      <td>2022-05-07 04:00:00</td>\n",
       "      <td>35812.22</td>\n",
       "      <td>35826.14</td>\n",
       "      <td>35812.21</td>\n",
       "      <td>35826.14</td>\n",
       "      <td>6.066650</td>\n",
       "      <td>2.173069e+05</td>\n",
       "      <td>348.0</td>\n",
       "      <td>5.129450</td>\n",
       "      <td>...</td>\n",
       "      <td>7222.968611</td>\n",
       "      <td>1503.375019</td>\n",
       "      <td>45.295139</td>\n",
       "      <td>-82.701137</td>\n",
       "      <td>9828.032810</td>\n",
       "      <td>15946.454274</td>\n",
       "      <td>23.738286</td>\n",
       "      <td>13.836674</td>\n",
       "      <td>0.044086</td>\n",
       "      <td>60.964637</td>\n",
       "    </tr>\n",
       "    <tr>\n",
       "      <th>33188</th>\n",
       "      <td>33188</td>\n",
       "      <td>2022-05-07 05:00:00</td>\n",
       "      <td>35746.62</td>\n",
       "      <td>35768.06</td>\n",
       "      <td>35722.24</td>\n",
       "      <td>35768.05</td>\n",
       "      <td>34.156320</td>\n",
       "      <td>1.220607e+06</td>\n",
       "      <td>993.0</td>\n",
       "      <td>19.901990</td>\n",
       "      <td>...</td>\n",
       "      <td>7251.375139</td>\n",
       "      <td>1524.164087</td>\n",
       "      <td>45.760833</td>\n",
       "      <td>-83.214330</td>\n",
       "      <td>9728.015831</td>\n",
       "      <td>15846.248004</td>\n",
       "      <td>23.923395</td>\n",
       "      <td>13.976767</td>\n",
       "      <td>0.055374</td>\n",
       "      <td>61.167920</td>\n",
       "    </tr>\n",
       "    <tr>\n",
       "      <th>33189</th>\n",
       "      <td>33189</td>\n",
       "      <td>2022-05-07 06:00:00</td>\n",
       "      <td>35898.96</td>\n",
       "      <td>35903.80</td>\n",
       "      <td>35890.03</td>\n",
       "      <td>35900.00</td>\n",
       "      <td>16.707700</td>\n",
       "      <td>5.997658e+05</td>\n",
       "      <td>580.0</td>\n",
       "      <td>10.902570</td>\n",
       "      <td>...</td>\n",
       "      <td>7161.405139</td>\n",
       "      <td>1539.731304</td>\n",
       "      <td>45.436111</td>\n",
       "      <td>-74.759128</td>\n",
       "      <td>10145.099652</td>\n",
       "      <td>15761.483463</td>\n",
       "      <td>21.679369</td>\n",
       "      <td>14.083748</td>\n",
       "      <td>0.045734</td>\n",
       "      <td>61.377534</td>\n",
       "    </tr>\n",
       "    <tr>\n",
       "      <th>33190</th>\n",
       "      <td>33190</td>\n",
       "      <td>2022-05-07 07:00:00</td>\n",
       "      <td>35806.28</td>\n",
       "      <td>35806.28</td>\n",
       "      <td>35805.80</td>\n",
       "      <td>35805.80</td>\n",
       "      <td>3.683200</td>\n",
       "      <td>1.318806e+05</td>\n",
       "      <td>293.0</td>\n",
       "      <td>1.286830</td>\n",
       "      <td>...</td>\n",
       "      <td>7328.695278</td>\n",
       "      <td>1550.434372</td>\n",
       "      <td>43.595556</td>\n",
       "      <td>-76.657450</td>\n",
       "      <td>9497.512170</td>\n",
       "      <td>16810.647747</td>\n",
       "      <td>27.797974</td>\n",
       "      <td>14.274223</td>\n",
       "      <td>0.035444</td>\n",
       "      <td>60.903465</td>\n",
       "    </tr>\n",
       "  </tbody>\n",
       "</table>\n",
       "<p>33191 rows × 179 columns</p>\n",
       "</div>"
      ],
      "text/plain": [
       "       Unnamed: 0       Time_UTC_Start      open      high       low  \\\n",
       "0               0  2018-07-24 09:00:00   7991.55   7995.89   7991.52   \n",
       "1               1  2018-07-24 10:00:00   8022.05   8032.85   8022.05   \n",
       "2               2  2018-07-24 11:00:00   8140.18   8145.00   8135.00   \n",
       "3               3  2018-07-24 12:00:00   8257.98   8266.61   8255.02   \n",
       "4               4  2018-07-24 13:00:00   8218.71   8228.68   8216.45   \n",
       "...           ...                  ...       ...       ...       ...   \n",
       "33186       33186  2022-05-07 03:00:00  35953.63  35953.64  35943.60   \n",
       "33187       33187  2022-05-07 04:00:00  35812.22  35826.14  35812.21   \n",
       "33188       33188  2022-05-07 05:00:00  35746.62  35768.06  35722.24   \n",
       "33189       33189  2022-05-07 06:00:00  35898.96  35903.80  35890.03   \n",
       "33190       33190  2022-05-07 07:00:00  35806.28  35806.28  35805.80   \n",
       "\n",
       "          close     volume  quote_asset_volume  number_of_trades  \\\n",
       "0       7994.86  31.547768        2.521824e+05             114.0   \n",
       "1       8032.85  11.358339        9.117570e+04             136.0   \n",
       "2       8135.00  61.441457        5.001102e+05             296.0   \n",
       "3       8263.01  36.020530        2.976317e+05             317.0   \n",
       "4       8220.00  59.458543        4.887918e+05             284.0   \n",
       "...         ...        ...                 ...               ...   \n",
       "33186  35951.24   6.376430        2.292318e+05             339.0   \n",
       "33187  35826.14   6.066650        2.173069e+05             348.0   \n",
       "33188  35768.05  34.156320        1.220607e+06             993.0   \n",
       "33189  35900.00  16.707700        5.997658e+05             580.0   \n",
       "33190  35805.80   3.683200        1.318806e+05             293.0   \n",
       "\n",
       "       taker_buy_base_asset_volume  ...  smoothed_minus_DM72        mad72  \\\n",
       "0                        17.411796  ...           728.673056   161.526701   \n",
       "1                         7.730805  ...           689.193056   165.613529   \n",
       "2                        29.340389  ...           667.261944   170.471458   \n",
       "3                        16.279052  ...           667.261944   176.651978   \n",
       "4                        31.777879  ...           743.866250   181.885078   \n",
       "...                            ...  ...                  ...          ...   \n",
       "33186                     3.818980  ...          7035.463472  1482.198889   \n",
       "33187                     5.129450  ...          7222.968611  1503.375019   \n",
       "33188                    19.901990  ...          7251.375139  1524.164087   \n",
       "33189                    10.902570  ...          7161.405139  1539.731304   \n",
       "33190                     1.286830  ...          7328.695278  1550.434372   \n",
       "\n",
       "           ATR72       CCI72     plus_DI72    minus_DI72       DX72  \\\n",
       "0       8.191528  174.835387  16870.670917   8895.447532  30.952366   \n",
       "1       8.218889  180.754117  17529.241584   8385.477220  35.284058   \n",
       "2       8.304167  213.721125  19586.447566   8035.266767  41.819203   \n",
       "3       8.305417  247.779179  20948.826903   8034.057426  44.559987   \n",
       "4       8.400694  221.563167  19001.025048   8854.818550  36.423979   \n",
       "...          ...         ...           ...           ...        ...   \n",
       "33186  45.395556  -79.503234   9943.275773  15498.132771  21.833921   \n",
       "33187  45.295139  -82.701137   9828.032810  15946.454274  23.738286   \n",
       "33188  45.760833  -83.214330   9728.015831  15846.248004  23.923395   \n",
       "33189  45.436111  -74.759128  10145.099652  15761.483463  21.679369   \n",
       "33190  43.595556  -76.657450   9497.512170  16810.647747  27.797974   \n",
       "\n",
       "           ADX72     BOP72      MFI72  \n",
       "0      11.256566  0.141162  55.823217  \n",
       "1      11.590281  0.147690  56.511624  \n",
       "2      12.010127  0.133587  56.879834  \n",
       "3      12.462209  0.138612  57.654664  \n",
       "4      12.795011  0.126266  56.079662  \n",
       "...          ...       ...        ...  \n",
       "33186  13.697214  0.042153  61.134462  \n",
       "33187  13.836674  0.044086  60.964637  \n",
       "33188  13.976767  0.055374  61.167920  \n",
       "33189  14.083748  0.045734  61.377534  \n",
       "33190  14.274223  0.035444  60.903465  \n",
       "\n",
       "[33191 rows x 179 columns]"
      ]
     },
     "execution_count": 4,
     "metadata": {},
     "output_type": "execute_result"
    }
   ],
   "source": [
    "file_path = \"data_with_features_ver01.csv\"\n",
    "df = pd.read_csv(file_path)\n",
    "df"
   ]
  },
  {
   "cell_type": "markdown",
   "metadata": {},
   "source": [
    "#### Test naive method:"
   ]
  },
  {
   "cell_type": "code",
   "execution_count": 5,
   "metadata": {},
   "outputs": [
    {
     "name": "stdout",
     "output_type": "stream",
     "text": [
      "0.5124072652852392\n",
      "3909\n"
     ]
    }
   ],
   "source": [
    "a = df[(df[\"volume_SMA4\"] >= df[\"volume_SMA8\"])].index\n",
    "b = df[(df[\"volume_SMA4\"] < df[\"volume_SMA8\"])].index+1\n",
    "a_b = set(a).intersection(set(b))\n",
    "lst = sorted(list(a_b))\n",
    "print((df[\"close\"].to_numpy()[np.array(lst)+1] - df[\"close\"].to_numpy()[lst] >= 0).sum()/len(lst))\n",
    "print(len(lst))"
   ]
  },
  {
   "cell_type": "markdown",
   "metadata": {},
   "source": [
    "### Difference percentage"
   ]
  },
  {
   "cell_type": "code",
   "execution_count": 6,
   "metadata": {
    "execution": {
     "iopub.execute_input": "2022-06-13T08:26:34.512466Z",
     "iopub.status.busy": "2022-06-13T08:26:34.512125Z",
     "iopub.status.idle": "2022-06-13T08:26:34.518102Z",
     "shell.execute_reply": "2022-06-13T08:26:34.516969Z",
     "shell.execute_reply.started": "2022-06-13T08:26:34.512434Z"
    }
   },
   "outputs": [],
   "source": [
    "diff_percentage = False"
   ]
  },
  {
   "cell_type": "code",
   "execution_count": 7,
   "metadata": {
    "execution": {
     "iopub.execute_input": "2022-06-13T08:26:34.519638Z",
     "iopub.status.busy": "2022-06-13T08:26:34.519317Z",
     "iopub.status.idle": "2022-06-13T08:26:34.541285Z",
     "shell.execute_reply": "2022-06-13T08:26:34.539984Z",
     "shell.execute_reply.started": "2022-06-13T08:26:34.519607Z"
    }
   },
   "outputs": [],
   "source": [
    "if diff_percentage == True:\n",
    "    for c in [\"close\", \"high\", \"open\", \"low\"]:\n",
    "        df[c] = (df[c] - df[c].shift(1))/df[c].shift(1)\n",
    "    for c in [\"raw_money_flow\", \"volume\", \"typical_price\", \"number_of_trades\", \"quote_asset_volume\", \"taker_buy_base_asset_volume\", \"taker_buy_quote_asset_volume\"]:\n",
    "        df[c] = (df[c] - df[c].shift(1))/df[c].shift(1)/100\n",
    "        \n",
    "    # Test\n",
    "    lst = [4,8,12,16,20,24,48,72]\n",
    "    for i in range(len(lst)-1):\n",
    "        for j in range(i+1, len(lst)):\n",
    "            df[\"diff_price_SMA%d-%d\"%(lst[i],lst[j])] = (df[\"price_SMA%d\"%lst[i]] - df[\"price_SMA%d\"%lst[j]])/df[\"price_SMA%d\"%lst[j]]\n",
    "            df[\"diff_volume_SMA%d-%d\"%(lst[i],lst[j])] = (df[\"volume_SMA%d\"%lst[i]] - df[\"volume_SMA%d\"%lst[j]])/df[\"volume_SMA%d\"%lst[j]]/100\n",
    "            df[\"diff_price_EMA%d-%d\"%(lst[i],lst[j])] = (df[\"price_EMA%d\"%lst[i]] - df[\"price_EMA%d\"%lst[j]])/df[\"price_EMA%d\"%lst[j]]\n",
    "            df[\"diff_volume_EMA%d-%d\"%(lst[i],lst[j])] = (df[\"volume_EMA%d\"%lst[i]] - df[\"volume_EMA%d\"%lst[j]])/df[\"volume_EMA%d\"%lst[j]]/100\n",
    "            df[\"diff_price_WMA%d-%d\"%(lst[i],lst[j])] = (df[\"price_WMA%d\"%lst[i]] - df[\"price_WMA%d\"%lst[j]])/df[\"price_WMA%d\"%lst[j]]\n",
    "            df[\"diff_volume_WMA%d-%d\"%(lst[i],lst[j])] = (df[\"volume_WMA%d\"%lst[i]] - df[\"volume_WMA%d\"%lst[j]])/df[\"volume_WMA%d\"%lst[j]]/100\n",
    "\n",
    "    for i in lst:\n",
    "        df[\"RS%d\"%(i)]/=100\n",
    "        df[\"RSI%d\"%(i)]/=100\n",
    "        df[\"std%d\"%i]/=2000\n",
    "\n",
    "    df.drop(columns=[\"Unnamed: 0\", \"TR\", \"plus_DM\", \"minus_DM\", \"price_diff\", \"label\", \"PPO12-26\"],inplace=True)\n",
    "    for i in lst:\n",
    "        df.drop(columns=[\"ADX%d\"%(i), \"BOP%d\"%i, \"price_SMA%d\"%i, \"price_EMA%d\"%i, \"price_WMA%d\"%i, \"minus_DI%d\"%(i), \"MFI%d\"%i, \"plus_DI%d\"%i, \"ATR%d\"%(i), \"CCI%d\"%i, \"DX%d\"%i, \"mad%d\"%(i), \"smoothed_minus_DM%d\"%i, \"smoothed_plus_DM%d\"%i, \"volume_SMA%d\"%i, \"volume_EMA%d\"%i, \"volume_WMA%d\"%i], inplace=True)"
   ]
  },
  {
   "cell_type": "markdown",
   "metadata": {},
   "source": [
    "### Standard Scale"
   ]
  },
  {
   "cell_type": "code",
   "execution_count": 8,
   "metadata": {
    "execution": {
     "iopub.execute_input": "2022-06-13T08:26:34.544638Z",
     "iopub.status.busy": "2022-06-13T08:26:34.544237Z",
     "iopub.status.idle": "2022-06-13T08:26:35.050449Z",
     "shell.execute_reply": "2022-06-13T08:26:35.049364Z",
     "shell.execute_reply.started": "2022-06-13T08:26:34.544605Z"
    }
   },
   "outputs": [
    {
     "name": "stderr",
     "output_type": "stream",
     "text": [
      "/tmp/ipykernel_15431/1884725940.py:12: PerformanceWarning: DataFrame is highly fragmented.  This is usually the result of calling `frame.insert` many times, which has poor performance.  Consider joining all columns at once using pd.concat(axis=1) instead. To get a de-fragmented frame, use `newframe = frame.copy()`\n",
      "  df[\"diff_price_EMA%d-%d\"%(lst[i],lst[j])] = (df[\"price_EMA%d\"%lst[i]] - df[\"price_EMA%d\"%lst[j]])\n",
      "/tmp/ipykernel_15431/1884725940.py:13: PerformanceWarning: DataFrame is highly fragmented.  This is usually the result of calling `frame.insert` many times, which has poor performance.  Consider joining all columns at once using pd.concat(axis=1) instead. To get a de-fragmented frame, use `newframe = frame.copy()`\n",
      "  df[\"diff_volume_EMA%d-%d\"%(lst[i],lst[j])] = (df[\"volume_EMA%d\"%lst[i]] - df[\"volume_EMA%d\"%lst[j]])\n",
      "/tmp/ipykernel_15431/1884725940.py:14: PerformanceWarning: DataFrame is highly fragmented.  This is usually the result of calling `frame.insert` many times, which has poor performance.  Consider joining all columns at once using pd.concat(axis=1) instead. To get a de-fragmented frame, use `newframe = frame.copy()`\n",
      "  df[\"diff_price_WMA%d-%d\"%(lst[i],lst[j])] = (df[\"price_WMA%d\"%lst[i]] - df[\"price_WMA%d\"%lst[j]])\n",
      "/tmp/ipykernel_15431/1884725940.py:15: PerformanceWarning: DataFrame is highly fragmented.  This is usually the result of calling `frame.insert` many times, which has poor performance.  Consider joining all columns at once using pd.concat(axis=1) instead. To get a de-fragmented frame, use `newframe = frame.copy()`\n",
      "  df[\"diff_volume_WMA%d-%d\"%(lst[i],lst[j])] = (df[\"volume_WMA%d\"%lst[i]] - df[\"volume_WMA%d\"%lst[j]])\n",
      "/tmp/ipykernel_15431/1884725940.py:10: PerformanceWarning: DataFrame is highly fragmented.  This is usually the result of calling `frame.insert` many times, which has poor performance.  Consider joining all columns at once using pd.concat(axis=1) instead. To get a de-fragmented frame, use `newframe = frame.copy()`\n",
      "  df[\"diff_price_SMA%d-%d\"%(lst[i],lst[j])] = (df[\"price_SMA%d\"%lst[i]] - df[\"price_SMA%d\"%lst[j]])\n",
      "/tmp/ipykernel_15431/1884725940.py:11: PerformanceWarning: DataFrame is highly fragmented.  This is usually the result of calling `frame.insert` many times, which has poor performance.  Consider joining all columns at once using pd.concat(axis=1) instead. To get a de-fragmented frame, use `newframe = frame.copy()`\n",
      "  df[\"diff_volume_SMA%d-%d\"%(lst[i],lst[j])] = (df[\"volume_SMA%d\"%lst[i]] - df[\"volume_SMA%d\"%lst[j]])\n",
      "/tmp/ipykernel_15431/1884725940.py:12: PerformanceWarning: DataFrame is highly fragmented.  This is usually the result of calling `frame.insert` many times, which has poor performance.  Consider joining all columns at once using pd.concat(axis=1) instead. To get a de-fragmented frame, use `newframe = frame.copy()`\n",
      "  df[\"diff_price_EMA%d-%d\"%(lst[i],lst[j])] = (df[\"price_EMA%d\"%lst[i]] - df[\"price_EMA%d\"%lst[j]])\n",
      "/tmp/ipykernel_15431/1884725940.py:13: PerformanceWarning: DataFrame is highly fragmented.  This is usually the result of calling `frame.insert` many times, which has poor performance.  Consider joining all columns at once using pd.concat(axis=1) instead. To get a de-fragmented frame, use `newframe = frame.copy()`\n",
      "  df[\"diff_volume_EMA%d-%d\"%(lst[i],lst[j])] = (df[\"volume_EMA%d\"%lst[i]] - df[\"volume_EMA%d\"%lst[j]])\n",
      "/tmp/ipykernel_15431/1884725940.py:14: PerformanceWarning: DataFrame is highly fragmented.  This is usually the result of calling `frame.insert` many times, which has poor performance.  Consider joining all columns at once using pd.concat(axis=1) instead. To get a de-fragmented frame, use `newframe = frame.copy()`\n",
      "  df[\"diff_price_WMA%d-%d\"%(lst[i],lst[j])] = (df[\"price_WMA%d\"%lst[i]] - df[\"price_WMA%d\"%lst[j]])\n",
      "/tmp/ipykernel_15431/1884725940.py:15: PerformanceWarning: DataFrame is highly fragmented.  This is usually the result of calling `frame.insert` many times, which has poor performance.  Consider joining all columns at once using pd.concat(axis=1) instead. To get a de-fragmented frame, use `newframe = frame.copy()`\n",
      "  df[\"diff_volume_WMA%d-%d\"%(lst[i],lst[j])] = (df[\"volume_WMA%d\"%lst[i]] - df[\"volume_WMA%d\"%lst[j]])\n",
      "/tmp/ipykernel_15431/1884725940.py:10: PerformanceWarning: DataFrame is highly fragmented.  This is usually the result of calling `frame.insert` many times, which has poor performance.  Consider joining all columns at once using pd.concat(axis=1) instead. To get a de-fragmented frame, use `newframe = frame.copy()`\n",
      "  df[\"diff_price_SMA%d-%d\"%(lst[i],lst[j])] = (df[\"price_SMA%d\"%lst[i]] - df[\"price_SMA%d\"%lst[j]])\n",
      "/tmp/ipykernel_15431/1884725940.py:11: PerformanceWarning: DataFrame is highly fragmented.  This is usually the result of calling `frame.insert` many times, which has poor performance.  Consider joining all columns at once using pd.concat(axis=1) instead. To get a de-fragmented frame, use `newframe = frame.copy()`\n",
      "  df[\"diff_volume_SMA%d-%d\"%(lst[i],lst[j])] = (df[\"volume_SMA%d\"%lst[i]] - df[\"volume_SMA%d\"%lst[j]])\n",
      "/tmp/ipykernel_15431/1884725940.py:12: PerformanceWarning: DataFrame is highly fragmented.  This is usually the result of calling `frame.insert` many times, which has poor performance.  Consider joining all columns at once using pd.concat(axis=1) instead. To get a de-fragmented frame, use `newframe = frame.copy()`\n",
      "  df[\"diff_price_EMA%d-%d\"%(lst[i],lst[j])] = (df[\"price_EMA%d\"%lst[i]] - df[\"price_EMA%d\"%lst[j]])\n",
      "/tmp/ipykernel_15431/1884725940.py:13: PerformanceWarning: DataFrame is highly fragmented.  This is usually the result of calling `frame.insert` many times, which has poor performance.  Consider joining all columns at once using pd.concat(axis=1) instead. To get a de-fragmented frame, use `newframe = frame.copy()`\n",
      "  df[\"diff_volume_EMA%d-%d\"%(lst[i],lst[j])] = (df[\"volume_EMA%d\"%lst[i]] - df[\"volume_EMA%d\"%lst[j]])\n",
      "/tmp/ipykernel_15431/1884725940.py:14: PerformanceWarning: DataFrame is highly fragmented.  This is usually the result of calling `frame.insert` many times, which has poor performance.  Consider joining all columns at once using pd.concat(axis=1) instead. To get a de-fragmented frame, use `newframe = frame.copy()`\n",
      "  df[\"diff_price_WMA%d-%d\"%(lst[i],lst[j])] = (df[\"price_WMA%d\"%lst[i]] - df[\"price_WMA%d\"%lst[j]])\n",
      "/tmp/ipykernel_15431/1884725940.py:15: PerformanceWarning: DataFrame is highly fragmented.  This is usually the result of calling `frame.insert` many times, which has poor performance.  Consider joining all columns at once using pd.concat(axis=1) instead. To get a de-fragmented frame, use `newframe = frame.copy()`\n",
      "  df[\"diff_volume_WMA%d-%d\"%(lst[i],lst[j])] = (df[\"volume_WMA%d\"%lst[i]] - df[\"volume_WMA%d\"%lst[j]])\n",
      "/tmp/ipykernel_15431/1884725940.py:10: PerformanceWarning: DataFrame is highly fragmented.  This is usually the result of calling `frame.insert` many times, which has poor performance.  Consider joining all columns at once using pd.concat(axis=1) instead. To get a de-fragmented frame, use `newframe = frame.copy()`\n",
      "  df[\"diff_price_SMA%d-%d\"%(lst[i],lst[j])] = (df[\"price_SMA%d\"%lst[i]] - df[\"price_SMA%d\"%lst[j]])\n",
      "/tmp/ipykernel_15431/1884725940.py:11: PerformanceWarning: DataFrame is highly fragmented.  This is usually the result of calling `frame.insert` many times, which has poor performance.  Consider joining all columns at once using pd.concat(axis=1) instead. To get a de-fragmented frame, use `newframe = frame.copy()`\n",
      "  df[\"diff_volume_SMA%d-%d\"%(lst[i],lst[j])] = (df[\"volume_SMA%d\"%lst[i]] - df[\"volume_SMA%d\"%lst[j]])\n",
      "/tmp/ipykernel_15431/1884725940.py:12: PerformanceWarning: DataFrame is highly fragmented.  This is usually the result of calling `frame.insert` many times, which has poor performance.  Consider joining all columns at once using pd.concat(axis=1) instead. To get a de-fragmented frame, use `newframe = frame.copy()`\n",
      "  df[\"diff_price_EMA%d-%d\"%(lst[i],lst[j])] = (df[\"price_EMA%d\"%lst[i]] - df[\"price_EMA%d\"%lst[j]])\n",
      "/tmp/ipykernel_15431/1884725940.py:13: PerformanceWarning: DataFrame is highly fragmented.  This is usually the result of calling `frame.insert` many times, which has poor performance.  Consider joining all columns at once using pd.concat(axis=1) instead. To get a de-fragmented frame, use `newframe = frame.copy()`\n",
      "  df[\"diff_volume_EMA%d-%d\"%(lst[i],lst[j])] = (df[\"volume_EMA%d\"%lst[i]] - df[\"volume_EMA%d\"%lst[j]])\n",
      "/tmp/ipykernel_15431/1884725940.py:14: PerformanceWarning: DataFrame is highly fragmented.  This is usually the result of calling `frame.insert` many times, which has poor performance.  Consider joining all columns at once using pd.concat(axis=1) instead. To get a de-fragmented frame, use `newframe = frame.copy()`\n",
      "  df[\"diff_price_WMA%d-%d\"%(lst[i],lst[j])] = (df[\"price_WMA%d\"%lst[i]] - df[\"price_WMA%d\"%lst[j]])\n",
      "/tmp/ipykernel_15431/1884725940.py:15: PerformanceWarning: DataFrame is highly fragmented.  This is usually the result of calling `frame.insert` many times, which has poor performance.  Consider joining all columns at once using pd.concat(axis=1) instead. To get a de-fragmented frame, use `newframe = frame.copy()`\n",
      "  df[\"diff_volume_WMA%d-%d\"%(lst[i],lst[j])] = (df[\"volume_WMA%d\"%lst[i]] - df[\"volume_WMA%d\"%lst[j]])\n",
      "/tmp/ipykernel_15431/1884725940.py:10: PerformanceWarning: DataFrame is highly fragmented.  This is usually the result of calling `frame.insert` many times, which has poor performance.  Consider joining all columns at once using pd.concat(axis=1) instead. To get a de-fragmented frame, use `newframe = frame.copy()`\n",
      "  df[\"diff_price_SMA%d-%d\"%(lst[i],lst[j])] = (df[\"price_SMA%d\"%lst[i]] - df[\"price_SMA%d\"%lst[j]])\n",
      "/tmp/ipykernel_15431/1884725940.py:11: PerformanceWarning: DataFrame is highly fragmented.  This is usually the result of calling `frame.insert` many times, which has poor performance.  Consider joining all columns at once using pd.concat(axis=1) instead. To get a de-fragmented frame, use `newframe = frame.copy()`\n",
      "  df[\"diff_volume_SMA%d-%d\"%(lst[i],lst[j])] = (df[\"volume_SMA%d\"%lst[i]] - df[\"volume_SMA%d\"%lst[j]])\n",
      "/tmp/ipykernel_15431/1884725940.py:12: PerformanceWarning: DataFrame is highly fragmented.  This is usually the result of calling `frame.insert` many times, which has poor performance.  Consider joining all columns at once using pd.concat(axis=1) instead. To get a de-fragmented frame, use `newframe = frame.copy()`\n",
      "  df[\"diff_price_EMA%d-%d\"%(lst[i],lst[j])] = (df[\"price_EMA%d\"%lst[i]] - df[\"price_EMA%d\"%lst[j]])\n",
      "/tmp/ipykernel_15431/1884725940.py:13: PerformanceWarning: DataFrame is highly fragmented.  This is usually the result of calling `frame.insert` many times, which has poor performance.  Consider joining all columns at once using pd.concat(axis=1) instead. To get a de-fragmented frame, use `newframe = frame.copy()`\n",
      "  df[\"diff_volume_EMA%d-%d\"%(lst[i],lst[j])] = (df[\"volume_EMA%d\"%lst[i]] - df[\"volume_EMA%d\"%lst[j]])\n",
      "/tmp/ipykernel_15431/1884725940.py:14: PerformanceWarning: DataFrame is highly fragmented.  This is usually the result of calling `frame.insert` many times, which has poor performance.  Consider joining all columns at once using pd.concat(axis=1) instead. To get a de-fragmented frame, use `newframe = frame.copy()`\n",
      "  df[\"diff_price_WMA%d-%d\"%(lst[i],lst[j])] = (df[\"price_WMA%d\"%lst[i]] - df[\"price_WMA%d\"%lst[j]])\n",
      "/tmp/ipykernel_15431/1884725940.py:15: PerformanceWarning: DataFrame is highly fragmented.  This is usually the result of calling `frame.insert` many times, which has poor performance.  Consider joining all columns at once using pd.concat(axis=1) instead. To get a de-fragmented frame, use `newframe = frame.copy()`\n",
      "  df[\"diff_volume_WMA%d-%d\"%(lst[i],lst[j])] = (df[\"volume_WMA%d\"%lst[i]] - df[\"volume_WMA%d\"%lst[j]])\n",
      "/tmp/ipykernel_15431/1884725940.py:10: PerformanceWarning: DataFrame is highly fragmented.  This is usually the result of calling `frame.insert` many times, which has poor performance.  Consider joining all columns at once using pd.concat(axis=1) instead. To get a de-fragmented frame, use `newframe = frame.copy()`\n",
      "  df[\"diff_price_SMA%d-%d\"%(lst[i],lst[j])] = (df[\"price_SMA%d\"%lst[i]] - df[\"price_SMA%d\"%lst[j]])\n",
      "/tmp/ipykernel_15431/1884725940.py:11: PerformanceWarning: DataFrame is highly fragmented.  This is usually the result of calling `frame.insert` many times, which has poor performance.  Consider joining all columns at once using pd.concat(axis=1) instead. To get a de-fragmented frame, use `newframe = frame.copy()`\n",
      "  df[\"diff_volume_SMA%d-%d\"%(lst[i],lst[j])] = (df[\"volume_SMA%d\"%lst[i]] - df[\"volume_SMA%d\"%lst[j]])\n",
      "/tmp/ipykernel_15431/1884725940.py:12: PerformanceWarning: DataFrame is highly fragmented.  This is usually the result of calling `frame.insert` many times, which has poor performance.  Consider joining all columns at once using pd.concat(axis=1) instead. To get a de-fragmented frame, use `newframe = frame.copy()`\n",
      "  df[\"diff_price_EMA%d-%d\"%(lst[i],lst[j])] = (df[\"price_EMA%d\"%lst[i]] - df[\"price_EMA%d\"%lst[j]])\n",
      "/tmp/ipykernel_15431/1884725940.py:13: PerformanceWarning: DataFrame is highly fragmented.  This is usually the result of calling `frame.insert` many times, which has poor performance.  Consider joining all columns at once using pd.concat(axis=1) instead. To get a de-fragmented frame, use `newframe = frame.copy()`\n",
      "  df[\"diff_volume_EMA%d-%d\"%(lst[i],lst[j])] = (df[\"volume_EMA%d\"%lst[i]] - df[\"volume_EMA%d\"%lst[j]])\n",
      "/tmp/ipykernel_15431/1884725940.py:14: PerformanceWarning: DataFrame is highly fragmented.  This is usually the result of calling `frame.insert` many times, which has poor performance.  Consider joining all columns at once using pd.concat(axis=1) instead. To get a de-fragmented frame, use `newframe = frame.copy()`\n",
      "  df[\"diff_price_WMA%d-%d\"%(lst[i],lst[j])] = (df[\"price_WMA%d\"%lst[i]] - df[\"price_WMA%d\"%lst[j]])\n"
     ]
    },
    {
     "name": "stderr",
     "output_type": "stream",
     "text": [
      "/tmp/ipykernel_15431/1884725940.py:15: PerformanceWarning: DataFrame is highly fragmented.  This is usually the result of calling `frame.insert` many times, which has poor performance.  Consider joining all columns at once using pd.concat(axis=1) instead. To get a de-fragmented frame, use `newframe = frame.copy()`\n",
      "  df[\"diff_volume_WMA%d-%d\"%(lst[i],lst[j])] = (df[\"volume_WMA%d\"%lst[i]] - df[\"volume_WMA%d\"%lst[j]])\n",
      "/tmp/ipykernel_15431/1884725940.py:10: PerformanceWarning: DataFrame is highly fragmented.  This is usually the result of calling `frame.insert` many times, which has poor performance.  Consider joining all columns at once using pd.concat(axis=1) instead. To get a de-fragmented frame, use `newframe = frame.copy()`\n",
      "  df[\"diff_price_SMA%d-%d\"%(lst[i],lst[j])] = (df[\"price_SMA%d\"%lst[i]] - df[\"price_SMA%d\"%lst[j]])\n",
      "/tmp/ipykernel_15431/1884725940.py:11: PerformanceWarning: DataFrame is highly fragmented.  This is usually the result of calling `frame.insert` many times, which has poor performance.  Consider joining all columns at once using pd.concat(axis=1) instead. To get a de-fragmented frame, use `newframe = frame.copy()`\n",
      "  df[\"diff_volume_SMA%d-%d\"%(lst[i],lst[j])] = (df[\"volume_SMA%d\"%lst[i]] - df[\"volume_SMA%d\"%lst[j]])\n",
      "/tmp/ipykernel_15431/1884725940.py:12: PerformanceWarning: DataFrame is highly fragmented.  This is usually the result of calling `frame.insert` many times, which has poor performance.  Consider joining all columns at once using pd.concat(axis=1) instead. To get a de-fragmented frame, use `newframe = frame.copy()`\n",
      "  df[\"diff_price_EMA%d-%d\"%(lst[i],lst[j])] = (df[\"price_EMA%d\"%lst[i]] - df[\"price_EMA%d\"%lst[j]])\n",
      "/tmp/ipykernel_15431/1884725940.py:13: PerformanceWarning: DataFrame is highly fragmented.  This is usually the result of calling `frame.insert` many times, which has poor performance.  Consider joining all columns at once using pd.concat(axis=1) instead. To get a de-fragmented frame, use `newframe = frame.copy()`\n",
      "  df[\"diff_volume_EMA%d-%d\"%(lst[i],lst[j])] = (df[\"volume_EMA%d\"%lst[i]] - df[\"volume_EMA%d\"%lst[j]])\n",
      "/tmp/ipykernel_15431/1884725940.py:14: PerformanceWarning: DataFrame is highly fragmented.  This is usually the result of calling `frame.insert` many times, which has poor performance.  Consider joining all columns at once using pd.concat(axis=1) instead. To get a de-fragmented frame, use `newframe = frame.copy()`\n",
      "  df[\"diff_price_WMA%d-%d\"%(lst[i],lst[j])] = (df[\"price_WMA%d\"%lst[i]] - df[\"price_WMA%d\"%lst[j]])\n",
      "/tmp/ipykernel_15431/1884725940.py:15: PerformanceWarning: DataFrame is highly fragmented.  This is usually the result of calling `frame.insert` many times, which has poor performance.  Consider joining all columns at once using pd.concat(axis=1) instead. To get a de-fragmented frame, use `newframe = frame.copy()`\n",
      "  df[\"diff_volume_WMA%d-%d\"%(lst[i],lst[j])] = (df[\"volume_WMA%d\"%lst[i]] - df[\"volume_WMA%d\"%lst[j]])\n",
      "/tmp/ipykernel_15431/1884725940.py:10: PerformanceWarning: DataFrame is highly fragmented.  This is usually the result of calling `frame.insert` many times, which has poor performance.  Consider joining all columns at once using pd.concat(axis=1) instead. To get a de-fragmented frame, use `newframe = frame.copy()`\n",
      "  df[\"diff_price_SMA%d-%d\"%(lst[i],lst[j])] = (df[\"price_SMA%d\"%lst[i]] - df[\"price_SMA%d\"%lst[j]])\n",
      "/tmp/ipykernel_15431/1884725940.py:11: PerformanceWarning: DataFrame is highly fragmented.  This is usually the result of calling `frame.insert` many times, which has poor performance.  Consider joining all columns at once using pd.concat(axis=1) instead. To get a de-fragmented frame, use `newframe = frame.copy()`\n",
      "  df[\"diff_volume_SMA%d-%d\"%(lst[i],lst[j])] = (df[\"volume_SMA%d\"%lst[i]] - df[\"volume_SMA%d\"%lst[j]])\n",
      "/tmp/ipykernel_15431/1884725940.py:12: PerformanceWarning: DataFrame is highly fragmented.  This is usually the result of calling `frame.insert` many times, which has poor performance.  Consider joining all columns at once using pd.concat(axis=1) instead. To get a de-fragmented frame, use `newframe = frame.copy()`\n",
      "  df[\"diff_price_EMA%d-%d\"%(lst[i],lst[j])] = (df[\"price_EMA%d\"%lst[i]] - df[\"price_EMA%d\"%lst[j]])\n",
      "/tmp/ipykernel_15431/1884725940.py:13: PerformanceWarning: DataFrame is highly fragmented.  This is usually the result of calling `frame.insert` many times, which has poor performance.  Consider joining all columns at once using pd.concat(axis=1) instead. To get a de-fragmented frame, use `newframe = frame.copy()`\n",
      "  df[\"diff_volume_EMA%d-%d\"%(lst[i],lst[j])] = (df[\"volume_EMA%d\"%lst[i]] - df[\"volume_EMA%d\"%lst[j]])\n",
      "/tmp/ipykernel_15431/1884725940.py:14: PerformanceWarning: DataFrame is highly fragmented.  This is usually the result of calling `frame.insert` many times, which has poor performance.  Consider joining all columns at once using pd.concat(axis=1) instead. To get a de-fragmented frame, use `newframe = frame.copy()`\n",
      "  df[\"diff_price_WMA%d-%d\"%(lst[i],lst[j])] = (df[\"price_WMA%d\"%lst[i]] - df[\"price_WMA%d\"%lst[j]])\n",
      "/tmp/ipykernel_15431/1884725940.py:15: PerformanceWarning: DataFrame is highly fragmented.  This is usually the result of calling `frame.insert` many times, which has poor performance.  Consider joining all columns at once using pd.concat(axis=1) instead. To get a de-fragmented frame, use `newframe = frame.copy()`\n",
      "  df[\"diff_volume_WMA%d-%d\"%(lst[i],lst[j])] = (df[\"volume_WMA%d\"%lst[i]] - df[\"volume_WMA%d\"%lst[j]])\n",
      "/tmp/ipykernel_15431/1884725940.py:10: PerformanceWarning: DataFrame is highly fragmented.  This is usually the result of calling `frame.insert` many times, which has poor performance.  Consider joining all columns at once using pd.concat(axis=1) instead. To get a de-fragmented frame, use `newframe = frame.copy()`\n",
      "  df[\"diff_price_SMA%d-%d\"%(lst[i],lst[j])] = (df[\"price_SMA%d\"%lst[i]] - df[\"price_SMA%d\"%lst[j]])\n",
      "/tmp/ipykernel_15431/1884725940.py:11: PerformanceWarning: DataFrame is highly fragmented.  This is usually the result of calling `frame.insert` many times, which has poor performance.  Consider joining all columns at once using pd.concat(axis=1) instead. To get a de-fragmented frame, use `newframe = frame.copy()`\n",
      "  df[\"diff_volume_SMA%d-%d\"%(lst[i],lst[j])] = (df[\"volume_SMA%d\"%lst[i]] - df[\"volume_SMA%d\"%lst[j]])\n",
      "/tmp/ipykernel_15431/1884725940.py:12: PerformanceWarning: DataFrame is highly fragmented.  This is usually the result of calling `frame.insert` many times, which has poor performance.  Consider joining all columns at once using pd.concat(axis=1) instead. To get a de-fragmented frame, use `newframe = frame.copy()`\n",
      "  df[\"diff_price_EMA%d-%d\"%(lst[i],lst[j])] = (df[\"price_EMA%d\"%lst[i]] - df[\"price_EMA%d\"%lst[j]])\n",
      "/tmp/ipykernel_15431/1884725940.py:13: PerformanceWarning: DataFrame is highly fragmented.  This is usually the result of calling `frame.insert` many times, which has poor performance.  Consider joining all columns at once using pd.concat(axis=1) instead. To get a de-fragmented frame, use `newframe = frame.copy()`\n",
      "  df[\"diff_volume_EMA%d-%d\"%(lst[i],lst[j])] = (df[\"volume_EMA%d\"%lst[i]] - df[\"volume_EMA%d\"%lst[j]])\n",
      "/tmp/ipykernel_15431/1884725940.py:14: PerformanceWarning: DataFrame is highly fragmented.  This is usually the result of calling `frame.insert` many times, which has poor performance.  Consider joining all columns at once using pd.concat(axis=1) instead. To get a de-fragmented frame, use `newframe = frame.copy()`\n",
      "  df[\"diff_price_WMA%d-%d\"%(lst[i],lst[j])] = (df[\"price_WMA%d\"%lst[i]] - df[\"price_WMA%d\"%lst[j]])\n",
      "/tmp/ipykernel_15431/1884725940.py:15: PerformanceWarning: DataFrame is highly fragmented.  This is usually the result of calling `frame.insert` many times, which has poor performance.  Consider joining all columns at once using pd.concat(axis=1) instead. To get a de-fragmented frame, use `newframe = frame.copy()`\n",
      "  df[\"diff_volume_WMA%d-%d\"%(lst[i],lst[j])] = (df[\"volume_WMA%d\"%lst[i]] - df[\"volume_WMA%d\"%lst[j]])\n",
      "/tmp/ipykernel_15431/1884725940.py:10: PerformanceWarning: DataFrame is highly fragmented.  This is usually the result of calling `frame.insert` many times, which has poor performance.  Consider joining all columns at once using pd.concat(axis=1) instead. To get a de-fragmented frame, use `newframe = frame.copy()`\n",
      "  df[\"diff_price_SMA%d-%d\"%(lst[i],lst[j])] = (df[\"price_SMA%d\"%lst[i]] - df[\"price_SMA%d\"%lst[j]])\n",
      "/tmp/ipykernel_15431/1884725940.py:11: PerformanceWarning: DataFrame is highly fragmented.  This is usually the result of calling `frame.insert` many times, which has poor performance.  Consider joining all columns at once using pd.concat(axis=1) instead. To get a de-fragmented frame, use `newframe = frame.copy()`\n",
      "  df[\"diff_volume_SMA%d-%d\"%(lst[i],lst[j])] = (df[\"volume_SMA%d\"%lst[i]] - df[\"volume_SMA%d\"%lst[j]])\n",
      "/tmp/ipykernel_15431/1884725940.py:12: PerformanceWarning: DataFrame is highly fragmented.  This is usually the result of calling `frame.insert` many times, which has poor performance.  Consider joining all columns at once using pd.concat(axis=1) instead. To get a de-fragmented frame, use `newframe = frame.copy()`\n",
      "  df[\"diff_price_EMA%d-%d\"%(lst[i],lst[j])] = (df[\"price_EMA%d\"%lst[i]] - df[\"price_EMA%d\"%lst[j]])\n",
      "/tmp/ipykernel_15431/1884725940.py:13: PerformanceWarning: DataFrame is highly fragmented.  This is usually the result of calling `frame.insert` many times, which has poor performance.  Consider joining all columns at once using pd.concat(axis=1) instead. To get a de-fragmented frame, use `newframe = frame.copy()`\n",
      "  df[\"diff_volume_EMA%d-%d\"%(lst[i],lst[j])] = (df[\"volume_EMA%d\"%lst[i]] - df[\"volume_EMA%d\"%lst[j]])\n",
      "/tmp/ipykernel_15431/1884725940.py:14: PerformanceWarning: DataFrame is highly fragmented.  This is usually the result of calling `frame.insert` many times, which has poor performance.  Consider joining all columns at once using pd.concat(axis=1) instead. To get a de-fragmented frame, use `newframe = frame.copy()`\n",
      "  df[\"diff_price_WMA%d-%d\"%(lst[i],lst[j])] = (df[\"price_WMA%d\"%lst[i]] - df[\"price_WMA%d\"%lst[j]])\n",
      "/tmp/ipykernel_15431/1884725940.py:15: PerformanceWarning: DataFrame is highly fragmented.  This is usually the result of calling `frame.insert` many times, which has poor performance.  Consider joining all columns at once using pd.concat(axis=1) instead. To get a de-fragmented frame, use `newframe = frame.copy()`\n",
      "  df[\"diff_volume_WMA%d-%d\"%(lst[i],lst[j])] = (df[\"volume_WMA%d\"%lst[i]] - df[\"volume_WMA%d\"%lst[j]])\n",
      "/tmp/ipykernel_15431/1884725940.py:10: PerformanceWarning: DataFrame is highly fragmented.  This is usually the result of calling `frame.insert` many times, which has poor performance.  Consider joining all columns at once using pd.concat(axis=1) instead. To get a de-fragmented frame, use `newframe = frame.copy()`\n",
      "  df[\"diff_price_SMA%d-%d\"%(lst[i],lst[j])] = (df[\"price_SMA%d\"%lst[i]] - df[\"price_SMA%d\"%lst[j]])\n",
      "/tmp/ipykernel_15431/1884725940.py:11: PerformanceWarning: DataFrame is highly fragmented.  This is usually the result of calling `frame.insert` many times, which has poor performance.  Consider joining all columns at once using pd.concat(axis=1) instead. To get a de-fragmented frame, use `newframe = frame.copy()`\n",
      "  df[\"diff_volume_SMA%d-%d\"%(lst[i],lst[j])] = (df[\"volume_SMA%d\"%lst[i]] - df[\"volume_SMA%d\"%lst[j]])\n",
      "/tmp/ipykernel_15431/1884725940.py:12: PerformanceWarning: DataFrame is highly fragmented.  This is usually the result of calling `frame.insert` many times, which has poor performance.  Consider joining all columns at once using pd.concat(axis=1) instead. To get a de-fragmented frame, use `newframe = frame.copy()`\n",
      "  df[\"diff_price_EMA%d-%d\"%(lst[i],lst[j])] = (df[\"price_EMA%d\"%lst[i]] - df[\"price_EMA%d\"%lst[j]])\n",
      "/tmp/ipykernel_15431/1884725940.py:13: PerformanceWarning: DataFrame is highly fragmented.  This is usually the result of calling `frame.insert` many times, which has poor performance.  Consider joining all columns at once using pd.concat(axis=1) instead. To get a de-fragmented frame, use `newframe = frame.copy()`\n",
      "  df[\"diff_volume_EMA%d-%d\"%(lst[i],lst[j])] = (df[\"volume_EMA%d\"%lst[i]] - df[\"volume_EMA%d\"%lst[j]])\n",
      "/tmp/ipykernel_15431/1884725940.py:14: PerformanceWarning: DataFrame is highly fragmented.  This is usually the result of calling `frame.insert` many times, which has poor performance.  Consider joining all columns at once using pd.concat(axis=1) instead. To get a de-fragmented frame, use `newframe = frame.copy()`\n",
      "  df[\"diff_price_WMA%d-%d\"%(lst[i],lst[j])] = (df[\"price_WMA%d\"%lst[i]] - df[\"price_WMA%d\"%lst[j]])\n",
      "/tmp/ipykernel_15431/1884725940.py:15: PerformanceWarning: DataFrame is highly fragmented.  This is usually the result of calling `frame.insert` many times, which has poor performance.  Consider joining all columns at once using pd.concat(axis=1) instead. To get a de-fragmented frame, use `newframe = frame.copy()`\n",
      "  df[\"diff_volume_WMA%d-%d\"%(lst[i],lst[j])] = (df[\"volume_WMA%d\"%lst[i]] - df[\"volume_WMA%d\"%lst[j]])\n",
      "/tmp/ipykernel_15431/1884725940.py:10: PerformanceWarning: DataFrame is highly fragmented.  This is usually the result of calling `frame.insert` many times, which has poor performance.  Consider joining all columns at once using pd.concat(axis=1) instead. To get a de-fragmented frame, use `newframe = frame.copy()`\n",
      "  df[\"diff_price_SMA%d-%d\"%(lst[i],lst[j])] = (df[\"price_SMA%d\"%lst[i]] - df[\"price_SMA%d\"%lst[j]])\n",
      "/tmp/ipykernel_15431/1884725940.py:11: PerformanceWarning: DataFrame is highly fragmented.  This is usually the result of calling `frame.insert` many times, which has poor performance.  Consider joining all columns at once using pd.concat(axis=1) instead. To get a de-fragmented frame, use `newframe = frame.copy()`\n",
      "  df[\"diff_volume_SMA%d-%d\"%(lst[i],lst[j])] = (df[\"volume_SMA%d\"%lst[i]] - df[\"volume_SMA%d\"%lst[j]])\n"
     ]
    },
    {
     "name": "stderr",
     "output_type": "stream",
     "text": [
      "/tmp/ipykernel_15431/1884725940.py:12: PerformanceWarning: DataFrame is highly fragmented.  This is usually the result of calling `frame.insert` many times, which has poor performance.  Consider joining all columns at once using pd.concat(axis=1) instead. To get a de-fragmented frame, use `newframe = frame.copy()`\n",
      "  df[\"diff_price_EMA%d-%d\"%(lst[i],lst[j])] = (df[\"price_EMA%d\"%lst[i]] - df[\"price_EMA%d\"%lst[j]])\n",
      "/tmp/ipykernel_15431/1884725940.py:13: PerformanceWarning: DataFrame is highly fragmented.  This is usually the result of calling `frame.insert` many times, which has poor performance.  Consider joining all columns at once using pd.concat(axis=1) instead. To get a de-fragmented frame, use `newframe = frame.copy()`\n",
      "  df[\"diff_volume_EMA%d-%d\"%(lst[i],lst[j])] = (df[\"volume_EMA%d\"%lst[i]] - df[\"volume_EMA%d\"%lst[j]])\n",
      "/tmp/ipykernel_15431/1884725940.py:14: PerformanceWarning: DataFrame is highly fragmented.  This is usually the result of calling `frame.insert` many times, which has poor performance.  Consider joining all columns at once using pd.concat(axis=1) instead. To get a de-fragmented frame, use `newframe = frame.copy()`\n",
      "  df[\"diff_price_WMA%d-%d\"%(lst[i],lst[j])] = (df[\"price_WMA%d\"%lst[i]] - df[\"price_WMA%d\"%lst[j]])\n",
      "/tmp/ipykernel_15431/1884725940.py:15: PerformanceWarning: DataFrame is highly fragmented.  This is usually the result of calling `frame.insert` many times, which has poor performance.  Consider joining all columns at once using pd.concat(axis=1) instead. To get a de-fragmented frame, use `newframe = frame.copy()`\n",
      "  df[\"diff_volume_WMA%d-%d\"%(lst[i],lst[j])] = (df[\"volume_WMA%d\"%lst[i]] - df[\"volume_WMA%d\"%lst[j]])\n",
      "/tmp/ipykernel_15431/1884725940.py:10: PerformanceWarning: DataFrame is highly fragmented.  This is usually the result of calling `frame.insert` many times, which has poor performance.  Consider joining all columns at once using pd.concat(axis=1) instead. To get a de-fragmented frame, use `newframe = frame.copy()`\n",
      "  df[\"diff_price_SMA%d-%d\"%(lst[i],lst[j])] = (df[\"price_SMA%d\"%lst[i]] - df[\"price_SMA%d\"%lst[j]])\n",
      "/tmp/ipykernel_15431/1884725940.py:11: PerformanceWarning: DataFrame is highly fragmented.  This is usually the result of calling `frame.insert` many times, which has poor performance.  Consider joining all columns at once using pd.concat(axis=1) instead. To get a de-fragmented frame, use `newframe = frame.copy()`\n",
      "  df[\"diff_volume_SMA%d-%d\"%(lst[i],lst[j])] = (df[\"volume_SMA%d\"%lst[i]] - df[\"volume_SMA%d\"%lst[j]])\n",
      "/tmp/ipykernel_15431/1884725940.py:12: PerformanceWarning: DataFrame is highly fragmented.  This is usually the result of calling `frame.insert` many times, which has poor performance.  Consider joining all columns at once using pd.concat(axis=1) instead. To get a de-fragmented frame, use `newframe = frame.copy()`\n",
      "  df[\"diff_price_EMA%d-%d\"%(lst[i],lst[j])] = (df[\"price_EMA%d\"%lst[i]] - df[\"price_EMA%d\"%lst[j]])\n",
      "/tmp/ipykernel_15431/1884725940.py:13: PerformanceWarning: DataFrame is highly fragmented.  This is usually the result of calling `frame.insert` many times, which has poor performance.  Consider joining all columns at once using pd.concat(axis=1) instead. To get a de-fragmented frame, use `newframe = frame.copy()`\n",
      "  df[\"diff_volume_EMA%d-%d\"%(lst[i],lst[j])] = (df[\"volume_EMA%d\"%lst[i]] - df[\"volume_EMA%d\"%lst[j]])\n",
      "/tmp/ipykernel_15431/1884725940.py:14: PerformanceWarning: DataFrame is highly fragmented.  This is usually the result of calling `frame.insert` many times, which has poor performance.  Consider joining all columns at once using pd.concat(axis=1) instead. To get a de-fragmented frame, use `newframe = frame.copy()`\n",
      "  df[\"diff_price_WMA%d-%d\"%(lst[i],lst[j])] = (df[\"price_WMA%d\"%lst[i]] - df[\"price_WMA%d\"%lst[j]])\n",
      "/tmp/ipykernel_15431/1884725940.py:15: PerformanceWarning: DataFrame is highly fragmented.  This is usually the result of calling `frame.insert` many times, which has poor performance.  Consider joining all columns at once using pd.concat(axis=1) instead. To get a de-fragmented frame, use `newframe = frame.copy()`\n",
      "  df[\"diff_volume_WMA%d-%d\"%(lst[i],lst[j])] = (df[\"volume_WMA%d\"%lst[i]] - df[\"volume_WMA%d\"%lst[j]])\n",
      "/tmp/ipykernel_15431/1884725940.py:10: PerformanceWarning: DataFrame is highly fragmented.  This is usually the result of calling `frame.insert` many times, which has poor performance.  Consider joining all columns at once using pd.concat(axis=1) instead. To get a de-fragmented frame, use `newframe = frame.copy()`\n",
      "  df[\"diff_price_SMA%d-%d\"%(lst[i],lst[j])] = (df[\"price_SMA%d\"%lst[i]] - df[\"price_SMA%d\"%lst[j]])\n",
      "/tmp/ipykernel_15431/1884725940.py:11: PerformanceWarning: DataFrame is highly fragmented.  This is usually the result of calling `frame.insert` many times, which has poor performance.  Consider joining all columns at once using pd.concat(axis=1) instead. To get a de-fragmented frame, use `newframe = frame.copy()`\n",
      "  df[\"diff_volume_SMA%d-%d\"%(lst[i],lst[j])] = (df[\"volume_SMA%d\"%lst[i]] - df[\"volume_SMA%d\"%lst[j]])\n",
      "/tmp/ipykernel_15431/1884725940.py:12: PerformanceWarning: DataFrame is highly fragmented.  This is usually the result of calling `frame.insert` many times, which has poor performance.  Consider joining all columns at once using pd.concat(axis=1) instead. To get a de-fragmented frame, use `newframe = frame.copy()`\n",
      "  df[\"diff_price_EMA%d-%d\"%(lst[i],lst[j])] = (df[\"price_EMA%d\"%lst[i]] - df[\"price_EMA%d\"%lst[j]])\n",
      "/tmp/ipykernel_15431/1884725940.py:13: PerformanceWarning: DataFrame is highly fragmented.  This is usually the result of calling `frame.insert` many times, which has poor performance.  Consider joining all columns at once using pd.concat(axis=1) instead. To get a de-fragmented frame, use `newframe = frame.copy()`\n",
      "  df[\"diff_volume_EMA%d-%d\"%(lst[i],lst[j])] = (df[\"volume_EMA%d\"%lst[i]] - df[\"volume_EMA%d\"%lst[j]])\n",
      "/tmp/ipykernel_15431/1884725940.py:14: PerformanceWarning: DataFrame is highly fragmented.  This is usually the result of calling `frame.insert` many times, which has poor performance.  Consider joining all columns at once using pd.concat(axis=1) instead. To get a de-fragmented frame, use `newframe = frame.copy()`\n",
      "  df[\"diff_price_WMA%d-%d\"%(lst[i],lst[j])] = (df[\"price_WMA%d\"%lst[i]] - df[\"price_WMA%d\"%lst[j]])\n",
      "/tmp/ipykernel_15431/1884725940.py:15: PerformanceWarning: DataFrame is highly fragmented.  This is usually the result of calling `frame.insert` many times, which has poor performance.  Consider joining all columns at once using pd.concat(axis=1) instead. To get a de-fragmented frame, use `newframe = frame.copy()`\n",
      "  df[\"diff_volume_WMA%d-%d\"%(lst[i],lst[j])] = (df[\"volume_WMA%d\"%lst[i]] - df[\"volume_WMA%d\"%lst[j]])\n"
     ]
    }
   ],
   "source": [
    "if diff_percentage == False:\n",
    "\n",
    "    for c in [\"close\", \"high\", \"open\", \"low\", \"raw_money_flow\", \"volume\", \"typical_price\", \"number_of_trades\", \"quote_asset_volume\", \"taker_buy_base_asset_volume\", \"taker_buy_quote_asset_volume\"]:\n",
    "        df[c] = df[c] - df[c].shift(1)\n",
    "\n",
    "    # Test\n",
    "    lst = [4,8,12,16,20,24,48,72]\n",
    "    for i in range(len(lst)-1):\n",
    "        for j in range(i+1, len(lst)):\n",
    "            df[\"diff_price_SMA%d-%d\"%(lst[i],lst[j])] = (df[\"price_SMA%d\"%lst[i]] - df[\"price_SMA%d\"%lst[j]])\n",
    "            df[\"diff_volume_SMA%d-%d\"%(lst[i],lst[j])] = (df[\"volume_SMA%d\"%lst[i]] - df[\"volume_SMA%d\"%lst[j]])\n",
    "            df[\"diff_price_EMA%d-%d\"%(lst[i],lst[j])] = (df[\"price_EMA%d\"%lst[i]] - df[\"price_EMA%d\"%lst[j]])\n",
    "            df[\"diff_volume_EMA%d-%d\"%(lst[i],lst[j])] = (df[\"volume_EMA%d\"%lst[i]] - df[\"volume_EMA%d\"%lst[j]])\n",
    "            df[\"diff_price_WMA%d-%d\"%(lst[i],lst[j])] = (df[\"price_WMA%d\"%lst[i]] - df[\"price_WMA%d\"%lst[j]])\n",
    "            df[\"diff_volume_WMA%d-%d\"%(lst[i],lst[j])] = (df[\"volume_WMA%d\"%lst[i]] - df[\"volume_WMA%d\"%lst[j]])\n",
    "\n",
    "    df.drop(columns=[\"Unnamed: 0\", \"TR\", \"plus_DM\", \"minus_DM\", \"price_diff\", \"label\", \"PPO12-26\"],inplace=True)\n",
    "    for i in lst:\n",
    "        df.drop(columns=[\"ADX%d\"%(i), \"BOP%d\"%i, \"price_SMA%d\"%i, \"price_EMA%d\"%i, \"price_WMA%d\"%i, \"minus_DI%d\"%(i), \"MFI%d\"%i, \"plus_DI%d\"%i, \"ATR%d\"%(i), \"CCI%d\"%i, \"DX%d\"%i, \"mad%d\"%(i), \"smoothed_minus_DM%d\"%i, \"smoothed_plus_DM%d\"%i, \"volume_SMA%d\"%i, \"volume_EMA%d\"%i, \"volume_WMA%d\"%i], inplace=True)"
   ]
  },
  {
   "cell_type": "markdown",
   "metadata": {
    "id": "ER_NS-Bjoqne"
   },
   "source": [
    "## Additional preprocessing"
   ]
  },
  {
   "cell_type": "code",
   "execution_count": 9,
   "metadata": {
    "execution": {
     "iopub.execute_input": "2022-06-13T08:26:35.052392Z",
     "iopub.status.busy": "2022-06-13T08:26:35.051869Z",
     "iopub.status.idle": "2022-06-13T08:26:35.121030Z",
     "shell.execute_reply": "2022-06-13T08:26:35.120087Z",
     "shell.execute_reply.started": "2022-06-13T08:26:35.052360Z"
    },
    "id": "266417cc"
   },
   "outputs": [],
   "source": [
    "df[\"day\"] = pd.to_datetime(df[\"Time_UTC_Start\"]).dt.day/31\n",
    "df[\"month\"] = pd.to_datetime(df[\"Time_UTC_Start\"]).dt.month/12\n",
    "df[\"year\"] = pd.to_datetime(df[\"Time_UTC_Start\"]).dt.year/2018\n",
    "df[\"hour\"] = pd.to_datetime(df[\"Time_UTC_Start\"]).dt.hour/24\n",
    "\n",
    "if diff_percentage == True:\n",
    "    df[\"day\"] /= 100\n",
    "    df[\"month\"] /= 100\n",
    "    df[\"year\"] /= 100\n",
    "    df[\"hour\"] /= 100"
   ]
  },
  {
   "cell_type": "code",
   "execution_count": 10,
   "metadata": {
    "execution": {
     "iopub.execute_input": "2022-06-13T08:26:35.123219Z",
     "iopub.status.busy": "2022-06-13T08:26:35.122711Z",
     "iopub.status.idle": "2022-06-13T08:26:35.192665Z",
     "shell.execute_reply": "2022-06-13T08:26:35.191496Z",
     "shell.execute_reply.started": "2022-06-13T08:26:35.123173Z"
    },
    "id": "ab5acb6c"
   },
   "outputs": [],
   "source": [
    "df.drop(columns=[\"Time_UTC_Start\"], inplace=True)"
   ]
  },
  {
   "cell_type": "code",
   "execution_count": 11,
   "metadata": {
    "execution": {
     "iopub.execute_input": "2022-06-13T08:26:35.194336Z",
     "iopub.status.busy": "2022-06-13T08:26:35.194023Z",
     "iopub.status.idle": "2022-06-13T08:26:35.240397Z",
     "shell.execute_reply": "2022-06-13T08:26:35.239168Z",
     "shell.execute_reply.started": "2022-06-13T08:26:35.194305Z"
    }
   },
   "outputs": [],
   "source": [
    "df.dropna(inplace=True)"
   ]
  },
  {
   "cell_type": "code",
   "execution_count": 12,
   "metadata": {
    "execution": {
     "iopub.execute_input": "2022-06-13T08:26:35.243407Z",
     "iopub.status.busy": "2022-06-13T08:26:35.242290Z",
     "iopub.status.idle": "2022-06-13T08:26:35.272555Z",
     "shell.execute_reply": "2022-06-13T08:26:35.271542Z",
     "shell.execute_reply.started": "2022-06-13T08:26:35.243355Z"
    },
    "id": "96fe034a"
   },
   "outputs": [],
   "source": [
    "# Convert all dataframes to numpy\n",
    "train_df = df.copy().iloc[0:int(len(df)*0.7),:]\n",
    "train_data = train_df.to_numpy()\n",
    "num_rows_train, num_cols_train = train_data.shape\n",
    "\n",
    "val_df = df.copy().iloc[int(len(df)*0.7):int(len(df)*0.8),:]\n",
    "val_data = val_df.to_numpy()\n",
    "num_rows_val, num_cols_val = val_data.shape\n",
    "\n",
    "test_df = df.copy().iloc[int(len(df)*0.8):].copy()\n",
    "test_data = test_df.copy().to_numpy()\n",
    "num_rows_test, num_cols_test = test_data.shape"
   ]
  },
  {
   "cell_type": "code",
   "execution_count": 13,
   "metadata": {
    "execution": {
     "iopub.execute_input": "2022-06-13T08:26:35.274560Z",
     "iopub.status.busy": "2022-06-13T08:26:35.274092Z",
     "iopub.status.idle": "2022-06-13T08:26:48.030264Z",
     "shell.execute_reply": "2022-06-13T08:26:48.029281Z",
     "shell.execute_reply.started": "2022-06-13T08:26:35.274516Z"
    },
    "id": "13a135cb",
    "scrolled": true
   },
   "outputs": [],
   "source": [
    "steps = 32\n",
    "\n",
    "# Make copies of test_data and train_data\n",
    "test_data_cpy = test_data.copy()\n",
    "train_data_cpy = train_data.copy()\n",
    "val_data_cpy = val_data.copy()\n",
    "\n",
    "if diff_percentage == False:\n",
    "    # StandardScaler for training data, we take only {steps} row before to apply StandardScaler() in these rows\n",
    "    for i in range(steps, num_rows_train):\n",
    "        scaler = StandardScaler().fit(train_data_cpy[i-steps:i])\n",
    "        train_data[i] = scaler.transform(train_data_cpy[i].reshape(1, -1))\n",
    "        del scaler\n",
    "\n",
    "    # # StandardScaler for validation data, we take only {steps} row before to apply StandardScaler() in these rows\n",
    "    for i in range(steps, num_rows_val):\n",
    "        scaler = StandardScaler().fit(val_data_cpy[i-steps:i])\n",
    "        val_data[i] = scaler.transform(val_data_cpy[i].reshape(1, -1))\n",
    "        del scaler\n",
    "\n",
    "train_data = train_data[steps+1:]\n",
    "train_df = train_df.iloc[steps+1:,:]"
   ]
  },
  {
   "cell_type": "code",
   "execution_count": 14,
   "metadata": {
    "execution": {
     "iopub.execute_input": "2022-06-13T08:26:48.033355Z",
     "iopub.status.busy": "2022-06-13T08:26:48.033036Z",
     "iopub.status.idle": "2022-06-13T08:26:51.177286Z",
     "shell.execute_reply": "2022-06-13T08:26:51.175980Z",
     "shell.execute_reply.started": "2022-06-13T08:26:48.033324Z"
    },
    "id": "f1a175c7"
   },
   "outputs": [],
   "source": [
    "# StandardScaler for test data, we take only {steps} row before to apply StandardScaler() in these rows\n",
    "if diff_percentage == False:\n",
    "    for i in range(num_rows_test):\n",
    "        if i > steps:\n",
    "            scaler = StandardScaler().fit(test_data_cpy[i-steps:i])\n",
    "            test_data[i] = scaler.transform(test_data_cpy[i].reshape(1, -1))\n",
    "            del scaler\n",
    "        else:\n",
    "            scaler = StandardScaler().fit(np.array(train_data_cpy[-steps:].tolist() + test_data_cpy[:i].tolist()))\n",
    "            test_data[i] = scaler.transform(test_data_cpy[i].reshape(1, -1))\n",
    "            del scaler"
   ]
  },
  {
   "cell_type": "code",
   "execution_count": 15,
   "metadata": {
    "execution": {
     "iopub.execute_input": "2022-06-13T08:26:51.179623Z",
     "iopub.status.busy": "2022-06-13T08:26:51.179150Z",
     "iopub.status.idle": "2022-06-13T08:26:51.187323Z",
     "shell.execute_reply": "2022-06-13T08:26:51.186059Z",
     "shell.execute_reply.started": "2022-06-13T08:26:51.179578Z"
    },
    "id": "77639621"
   },
   "outputs": [],
   "source": [
    "def split_sequences(data, window_size, price_col_idx):\n",
    "    x = []\n",
    "    y = []\n",
    "    for i in range(0,len(data)-window_size):\n",
    "        x.append(data[i:i+window_size,:]) # Take window_size rows data before\n",
    "        y.append(data[i+window_size,price_col_idx]) # To predict the current value of 'difference' column\n",
    "    return np.array(x), np.array(y)"
   ]
  },
  {
   "cell_type": "code",
   "execution_count": 16,
   "metadata": {
    "execution": {
     "iopub.execute_input": "2022-06-13T08:26:51.189519Z",
     "iopub.status.busy": "2022-06-13T08:26:51.189110Z",
     "iopub.status.idle": "2022-06-13T08:26:51.325825Z",
     "shell.execute_reply": "2022-06-13T08:26:51.324835Z",
     "shell.execute_reply.started": "2022-06-13T08:26:51.189486Z"
    },
    "id": "636f8c5a"
   },
   "outputs": [],
   "source": [
    "train_data = np.asarray(train_data).astype('float32')\n",
    "val_data = np.asarray(val_data).astype('float32')\n",
    "test_data = np.asarray(test_data).astype('float32')\n",
    "\n",
    "x_train, y_train = split_sequences(train_data, steps, df.columns.get_loc(\"close\"))\n",
    "x_val, y_val = split_sequences(val_data, steps, df.columns.get_loc(\"close\"))\n",
    "x_test, y_test = split_sequences(test_data, steps, df.columns.get_loc(\"close\"))"
   ]
  },
  {
   "cell_type": "code",
   "execution_count": 17,
   "metadata": {
    "execution": {
     "iopub.execute_input": "2022-06-13T08:26:51.327971Z",
     "iopub.status.busy": "2022-06-13T08:26:51.327456Z",
     "iopub.status.idle": "2022-06-13T08:26:51.333711Z",
     "shell.execute_reply": "2022-06-13T08:26:51.332630Z",
     "shell.execute_reply.started": "2022-06-13T08:26:51.327917Z"
    },
    "id": "d1b39f59"
   },
   "outputs": [],
   "source": [
    "num_of_outputs = 64"
   ]
  },
  {
   "cell_type": "markdown",
   "metadata": {},
   "source": [
    "### Original model"
   ]
  },
  {
   "cell_type": "code",
   "execution_count": 18,
   "metadata": {},
   "outputs": [
    {
     "name": "stdout",
     "output_type": "stream",
     "text": [
      "Build model %s...\n"
     ]
    },
    {
     "name": "stderr",
     "output_type": "stream",
     "text": [
      "2022-06-13 19:32:07.730878: I tensorflow/core/platform/cpu_feature_guard.cc:193] This TensorFlow binary is optimized with oneAPI Deep Neural Network Library (oneDNN) to use the following CPU instructions in performance-critical operations:  AVX2 AVX512F AVX512_VNNI FMA\n",
      "To enable them in other operations, rebuild TensorFlow with the appropriate compiler flags.\n"
     ]
    }
   ],
   "source": [
    "print('Build model %s...')\n",
    "\n",
    "class LSTM4_with_t2v(Model):\n",
    "\n",
    "    def __init__(self, vol_idx, close_idx):\n",
    "        super().__init__()\n",
    "        self.vol_idx = vol_idx\n",
    "        self.close_idx = close_idx\n",
    "\n",
    "#         self.t2v_first_col = Dense(1, activation=None)\n",
    "#         self.t2v_others_col = Dense(15, activation=None)\n",
    "\n",
    "#         self.vol2v_first_col = Dense(1, activation=None)\n",
    "#         self.vol2v_others_col = Dense(15, activation=None)\n",
    "\n",
    "#         self.close2v_first_col = Dense(1, activation=None)\n",
    "#         self.close2v_others_col = Dense(15, activation=None)\n",
    "\n",
    "        self.LSTM1 = LSTM(num_of_outputs, return_sequences=True, recurrent_dropout=0.4)\n",
    "        self.LSTM2 = LSTM(num_of_outputs, return_sequences=True, recurrent_dropout=0.4)\n",
    "        self.LSTM3 = LSTM(num_of_outputs, return_sequences=False, recurrent_dropout=0.4)\n",
    "\n",
    "        self.dense1 = Dense(128)\n",
    "        self.dense2 = Dense(32)\n",
    "        self.dense3 = Dense(4)\n",
    "        \n",
    "        self.batch_norm = BatchNormalization()\n",
    "        self.out = Dense(1)\n",
    "\n",
    "\n",
    "    def call(self, inputs):\n",
    "#         t2v_x1 = self.t2v_first_col(inputs[:,:,:]) #-4\n",
    "#         t2v_x2 = tf.sin(self.t2v_others_col(inputs[:,:,:])) #-4\n",
    "#         t2v = tf.concat([t2v_x1,t2v_x2],-1)\n",
    "\n",
    "#         vol2v_x1 = self.vol2v_first_col(inputs[:,:,self.vol_idx:self.vol_idx+1])\n",
    "#         vol2v_x2 = tf.sin(self.vol2v_others_col(inputs[:,:,self.vol_idx:self.vol_idx+1]))\n",
    "#         vol2v = tf.concat([vol2v_x1,vol2v_x2],-1)\n",
    "\n",
    "#         close2v_x1 = self.close2v_first_col(inputs[:,:,self.close_idx:self.close_idx+1])\n",
    "#         close2v_x2 = tf.sin(self.close2v_others_col(inputs[:,:,self.close_idx:self.close_idx+1]))\n",
    "#         close2v = tf.concat([close2v_x1,close2v_x2],-1)\n",
    "\n",
    "#         new_input = tf.concat([inputs[:,:,:1], t2v], -1) #-4\n",
    "#         new_input = tf.concat([new_input, vol2v], -1)\n",
    "#         new_input = tf.concat([new_input, close2v], -1)\n",
    "        \n",
    "        x1 = self.LSTM1(inputs)\n",
    "        x1 = self.batch_norm(x1)\n",
    "\n",
    "        x2 = self.LSTM2(x1)\n",
    "        x2 = self.batch_norm(x2)\n",
    "        \n",
    "        x3 = self.LSTM3(x2)\n",
    "        \n",
    "        x4 = self.dense1(x3)\n",
    "        x4 = self.dense2(x4)\n",
    "        x4 = self.dense3(x4)\n",
    "\n",
    "        return self.out(x4) \n",
    "\n",
    "model = LSTM4_with_t2v(df.columns.get_loc(\"volume\"), df.columns.get_loc(\"close\"))\n",
    "\n",
    "opt = tf.keras.optimizers.Adam(\n",
    "    learning_rate=0.001\n",
    ")\n",
    "model.compile(loss='mean_absolute_error', optimizer=opt)\n",
    "\n",
    "monitor = EarlyStopping(monitor='val_loss', min_delta=1e-3, patience=15, \n",
    "                        verbose=1, mode='auto', restore_best_weights=True)\n",
    "tensorboard_callback = tf.keras.callbacks.TensorBoard(\"logs\")"
   ]
  },
  {
   "cell_type": "markdown",
   "metadata": {},
   "source": [
    "### Test"
   ]
  },
  {
   "cell_type": "code",
   "execution_count": 19,
   "metadata": {
    "execution": {
     "iopub.execute_input": "2022-06-13T08:26:51.335661Z",
     "iopub.status.busy": "2022-06-13T08:26:51.335318Z",
     "iopub.status.idle": "2022-06-13T08:27:02.912247Z",
     "shell.execute_reply": "2022-06-13T08:27:02.911352Z",
     "shell.execute_reply.started": "2022-06-13T08:26:51.335629Z"
    },
    "id": "63a5879c",
    "scrolled": true
   },
   "outputs": [],
   "source": [
    "# print('Build model %s...')\n",
    "\n",
    "# class LSTM4_with_t2v(Model):\n",
    "\n",
    "#     def __init__(self, vol_idx, close_idx):\n",
    "#         super().__init__()\n",
    "#         self.vol_idx = vol_idx\n",
    "#         self.close_idx = close_idx\n",
    "\n",
    "#         self.t2v_first_col = Dense(1, activation=None)\n",
    "#         self.t2v_others_col = Dense(255, activation=None)\n",
    "\n",
    "# #         self.vol2v_first_col = Dense(1, activation=None)\n",
    "# #         self.vol2v_others_col = Dense(15, activation=None)\n",
    "\n",
    "# #         self.close2v_first_col = Dense(1, activation=None)\n",
    "# #         self.close2v_others_col = Dense(15, activation=None)\n",
    "\n",
    "#         self.LSTM1 = LSTM(num_of_outputs, return_sequences=True, recurrent_dropout=0.4)\n",
    "#         self.LSTM2 = LSTM(num_of_outputs, return_sequences=True, recurrent_dropout=0.4)\n",
    "#         self.LSTM3 = LSTM(num_of_outputs, return_sequences=True, recurrent_dropout=0.4)\n",
    "\n",
    "#         self.dense1 = Dense(128)\n",
    "#         self.dense2 = Dense(32)\n",
    "#         self.dense3 = Dense(4)\n",
    "        \n",
    "#         self.batch_norm = BatchNormalization()\n",
    "#         self.out = Dense(1)\n",
    "\n",
    "\n",
    "#     def call(self, inputs):\n",
    "# #         t2v_x1 = self.t2v_first_col(inputs[:,:,:]) #-4\n",
    "# #         t2v_x2 = tf.sin(self.t2v_others_col(inputs[:,:,:])) #-4\n",
    "# #         t2v = tf.concat([t2v_x1,t2v_x2],-1)\n",
    "\n",
    "# #         vol2v_x1 = self.vol2v_first_col(inputs[:,:,self.vol_idx:self.vol_idx+1])\n",
    "# #         vol2v_x2 = tf.sin(self.vol2v_others_col(inputs[:,:,self.vol_idx:self.vol_idx+1]))\n",
    "# #         vol2v = tf.concat([vol2v_x1,vol2v_x2],-1)\n",
    "\n",
    "# #         close2v_x1 = self.close2v_first_col(inputs[:,:,self.close_idx:self.close_idx+1])\n",
    "# #         close2v_x2 = tf.sin(self.close2v_others_col(inputs[:,:,self.close_idx:self.close_idx+1]))\n",
    "# #         close2v = tf.concat([close2v_x1,close2v_x2],-1)\n",
    "\n",
    "# #         new_input = tf.concat([inputs[:,:,:1], t2v], -1) #-4\n",
    "# #         new_input = tf.concat([new_input, vol2v], -1)\n",
    "# #         new_input = tf.concat([new_input, close2v], -1)\n",
    "        \n",
    "#         x1 = self.LSTM1(inputs)\n",
    "#         x1 = self.batch_norm(x1)\n",
    "\n",
    "#         x2 = self.LSTM2(x1)\n",
    "#         x2 = self.batch_norm(x2)\n",
    "        \n",
    "#         x3 = self.LSTM3(x2)\n",
    "#         x3 = self.batc_norm(x3)\n",
    "        \n",
    "#         t2v_x1 = self.t2v_first_col(x3) #-4\n",
    "#         t2v_x2 = tf.sin(self.t2v_others_col(x3)) #-4\n",
    "#         t2v = tf.concat([t2v_x1,t2v_x2],-1)\n",
    "        \n",
    "#         x4 = self.dense1(t2v)\n",
    "#         x4 = self.dense2(x4)\n",
    "#         x4 = self.dense3(x4)\n",
    "\n",
    "#         return self.out(x4) \n",
    "\n",
    "# model = LSTM4_with_t2v(df.columns.get_loc(\"volume\"), df.columns.get_loc(\"close\"))\n",
    "\n",
    "# opt = tf.keras.optimizers.Adam(\n",
    "#     learning_rate=0.001\n",
    "# )\n",
    "# model.compile(loss='mean_absolute_error', optimizer=opt)\n",
    "\n",
    "# monitor = EarlyStopping(monitor='val_loss', min_delta=1e-3, patience=5, \n",
    "#                         verbose=1, mode='auto', restore_best_weights=True)\n",
    "# tensorboard_callback = tf.keras.callbacks.TensorBoard(\"logs\")"
   ]
  },
  {
   "cell_type": "code",
   "execution_count": 20,
   "metadata": {
    "execution": {
     "iopub.execute_input": "2022-06-13T08:27:02.913969Z",
     "iopub.status.busy": "2022-06-13T08:27:02.913648Z",
     "iopub.status.idle": "2022-06-13T08:27:35.378856Z",
     "shell.execute_reply": "2022-06-13T08:27:35.378087Z",
     "shell.execute_reply.started": "2022-06-13T08:27:02.913939Z"
    },
    "id": "d8d72d31",
    "scrolled": false
   },
   "outputs": [
    {
     "name": "stdout",
     "output_type": "stream",
     "text": [
      "Train...\n",
      "Load 1:\n",
      "Epoch 1/100\n",
      "182/182 [==============================] - 7s 20ms/step - loss: 0.8700 - val_loss: 0.8575\n",
      "Epoch 2/100\n",
      "182/182 [==============================] - 3s 17ms/step - loss: 0.8618 - val_loss: 0.8555\n",
      "Epoch 3/100\n",
      "182/182 [==============================] - 3s 17ms/step - loss: 0.8579 - val_loss: 0.8495\n",
      "Epoch 4/100\n",
      "182/182 [==============================] - 3s 17ms/step - loss: 0.8526 - val_loss: 0.8574\n",
      "Epoch 5/100\n",
      "182/182 [==============================] - 3s 17ms/step - loss: 0.8481 - val_loss: 0.8536\n",
      "Epoch 6/100\n",
      "182/182 [==============================] - 3s 17ms/step - loss: 0.8437 - val_loss: 0.8490\n",
      "Epoch 7/100\n",
      "182/182 [==============================] - 3s 17ms/step - loss: 0.8400 - val_loss: 0.8482\n",
      "Epoch 8/100\n",
      "182/182 [==============================] - 3s 17ms/step - loss: 0.8367 - val_loss: 0.8499\n",
      "Epoch 9/100\n",
      "182/182 [==============================] - 3s 17ms/step - loss: 0.8328 - val_loss: 0.8539\n",
      "Epoch 10/100\n",
      "182/182 [==============================] - 3s 17ms/step - loss: 0.8320 - val_loss: 0.8584\n",
      "Epoch 11/100\n",
      "182/182 [==============================] - 3s 17ms/step - loss: 0.8275 - val_loss: 0.8534\n",
      "Epoch 12/100\n",
      "182/182 [==============================] - 3s 18ms/step - loss: 0.8266 - val_loss: 0.8631\n",
      "Epoch 13/100\n",
      "182/182 [==============================] - 3s 17ms/step - loss: 0.8234 - val_loss: 0.8631\n",
      "Epoch 14/100\n",
      "182/182 [==============================] - 3s 17ms/step - loss: 0.8200 - val_loss: 0.8637\n",
      "Epoch 15/100\n",
      "182/182 [==============================] - 3s 17ms/step - loss: 0.8181 - val_loss: 0.8649\n",
      "Epoch 16/100\n",
      "182/182 [==============================] - 3s 17ms/step - loss: 0.8154 - val_loss: 0.8698\n",
      "Epoch 17/100\n",
      "182/182 [==============================] - 3s 17ms/step - loss: 0.8137 - val_loss: 0.8610\n",
      "Epoch 18/100\n",
      "182/182 [==============================] - 3s 17ms/step - loss: 0.8091 - val_loss: 0.8719\n",
      "Epoch 19/100\n",
      "182/182 [==============================] - 3s 17ms/step - loss: 0.8091 - val_loss: 0.8609\n",
      "Epoch 20/100\n",
      "182/182 [==============================] - 3s 17ms/step - loss: 0.8067 - val_loss: 0.8684\n",
      "Epoch 21/100\n",
      "182/182 [==============================] - 3s 17ms/step - loss: 0.8033 - val_loss: 0.8827\n",
      "Epoch 22/100\n",
      "179/182 [============================>.] - ETA: 0s - loss: 0.8022Restoring model weights from the end of the best epoch: 7.\n",
      "182/182 [==============================] - 3s 18ms/step - loss: 0.8016 - val_loss: 0.8719\n",
      "Epoch 22: early stopping\n"
     ]
    }
   ],
   "source": [
    "print('Train...')\n",
    "\n",
    "opt = tf.keras.optimizers.Adam(\n",
    "    learning_rate=0.001\n",
    ")\n",
    "\n",
    "model.compile(loss='mean_absolute_error', optimizer=opt)\n",
    "\n",
    "for i in range(1,2):\n",
    "    print(\"Load %i:\"%i)\n",
    "    model.fit(x_train, y_train, batch_size=256, epochs=100, validation_data=(x_val, y_val), callbacks=[monitor, tensorboard_callback])"
   ]
  },
  {
   "cell_type": "code",
   "execution_count": 21,
   "metadata": {
    "execution": {
     "iopub.execute_input": "2022-06-13T08:27:35.380720Z",
     "iopub.status.busy": "2022-06-13T08:27:35.380273Z",
     "iopub.status.idle": "2022-06-13T08:27:56.293103Z",
     "shell.execute_reply": "2022-06-13T08:27:56.292240Z",
     "shell.execute_reply.started": "2022-06-13T08:27:35.380687Z"
    }
   },
   "outputs": [
    {
     "name": "stdout",
     "output_type": "stream",
     "text": [
      "Train...\n",
      "Load 1:\n",
      "Epoch 1/100\n",
      "182/182 [==============================] - 7s 20ms/step - loss: 0.8299 - val_loss: 0.8497\n",
      "Epoch 2/100\n",
      "182/182 [==============================] - 3s 18ms/step - loss: 0.8267 - val_loss: 0.8515\n",
      "Epoch 3/100\n",
      "182/182 [==============================] - 3s 17ms/step - loss: 0.8256 - val_loss: 0.8523\n",
      "Epoch 4/100\n",
      "182/182 [==============================] - 3s 17ms/step - loss: 0.8245 - val_loss: 0.8537\n",
      "Epoch 5/100\n",
      "182/182 [==============================] - 3s 17ms/step - loss: 0.8231 - val_loss: 0.8552\n",
      "Epoch 6/100\n",
      "182/182 [==============================] - 3s 17ms/step - loss: 0.8215 - val_loss: 0.8567\n",
      "Epoch 7/100\n",
      "182/182 [==============================] - 3s 17ms/step - loss: 0.8211 - val_loss: 0.8554\n",
      "Epoch 8/100\n",
      "182/182 [==============================] - 3s 17ms/step - loss: 0.8199 - val_loss: 0.8603\n",
      "Epoch 9/100\n",
      "182/182 [==============================] - 3s 17ms/step - loss: 0.8198 - val_loss: 0.8592\n",
      "Epoch 10/100\n",
      "182/182 [==============================] - 3s 17ms/step - loss: 0.8177 - val_loss: 0.8602\n",
      "Epoch 11/100\n",
      "182/182 [==============================] - 3s 17ms/step - loss: 0.8177 - val_loss: 0.8584\n",
      "Epoch 12/100\n",
      "182/182 [==============================] - 3s 17ms/step - loss: 0.8165 - val_loss: 0.8602\n",
      "Epoch 13/100\n",
      "182/182 [==============================] - 3s 17ms/step - loss: 0.8159 - val_loss: 0.8623\n",
      "Epoch 14/100\n",
      "182/182 [==============================] - 3s 17ms/step - loss: 0.8154 - val_loss: 0.8617\n",
      "Epoch 15/100\n",
      "182/182 [==============================] - 3s 17ms/step - loss: 0.8147 - val_loss: 0.8619\n",
      "Epoch 16/100\n",
      "182/182 [==============================] - ETA: 0s - loss: 0.8137Restoring model weights from the end of the best epoch: 1.\n",
      "182/182 [==============================] - 3s 18ms/step - loss: 0.8137 - val_loss: 0.8627\n",
      "Epoch 16: early stopping\n"
     ]
    }
   ],
   "source": [
    "print('Train...')\n",
    "\n",
    "opt = tf.keras.optimizers.Adam(\n",
    "    learning_rate=0.0001\n",
    ")\n",
    "\n",
    "model.compile(loss='mean_absolute_error', optimizer=opt)\n",
    "\n",
    "for i in range(1,2):\n",
    "    print(\"Load %i:\"%i)\n",
    "    model.fit(x_train, y_train, batch_size=256, epochs=100, validation_data=(x_val, y_val), callbacks=[monitor, tensorboard_callback])"
   ]
  },
  {
   "cell_type": "code",
   "execution_count": 22,
   "metadata": {
    "execution": {
     "iopub.execute_input": "2022-06-13T08:27:56.295337Z",
     "iopub.status.busy": "2022-06-13T08:27:56.294389Z",
     "iopub.status.idle": "2022-06-13T08:27:56.303917Z",
     "shell.execute_reply": "2022-06-13T08:27:56.302791Z",
     "shell.execute_reply.started": "2022-06-13T08:27:56.295290Z"
    },
    "id": "3b73d9de"
   },
   "outputs": [
    {
     "name": "stdout",
     "output_type": "stream",
     "text": [
      "Model: \"lstm4_with_t2v\"\n",
      "_________________________________________________________________\n",
      " Layer (type)                Output Shape              Param #   \n",
      "=================================================================\n",
      " lstm (LSTM)                 multiple                  14336     \n",
      "                                                                 \n",
      " lstm_1 (LSTM)               multiple                  2112      \n",
      "                                                                 \n",
      " lstm_2 (LSTM)               multiple                  2112      \n",
      "                                                                 \n",
      " dense (Dense)               multiple                  2176      \n",
      "                                                                 \n",
      " dense_1 (Dense)             multiple                  4128      \n",
      "                                                                 \n",
      " dense_2 (Dense)             multiple                  132       \n",
      "                                                                 \n",
      " batch_normalization (BatchN  multiple                 64        \n",
      " ormalization)                                                   \n",
      "                                                                 \n",
      " dense_3 (Dense)             multiple                  5         \n",
      "                                                                 \n",
      "=================================================================\n",
      "Total params: 25,065\n",
      "Trainable params: 25,033\n",
      "Non-trainable params: 32\n",
      "_________________________________________________________________\n"
     ]
    }
   ],
   "source": [
    "model.summary()"
   ]
  },
  {
   "cell_type": "code",
   "execution_count": 23,
   "metadata": {
    "execution": {
     "iopub.execute_input": "2022-06-13T08:27:56.306649Z",
     "iopub.status.busy": "2022-06-13T08:27:56.305758Z",
     "iopub.status.idle": "2022-06-13T08:28:09.105571Z",
     "shell.execute_reply": "2022-06-13T08:28:09.104476Z",
     "shell.execute_reply.started": "2022-06-13T08:27:56.306609Z"
    },
    "scrolled": true
   },
   "outputs": [
    {
     "name": "stdout",
     "output_type": "stream",
     "text": [
      "207/207 [==============================] - 1s 3ms/step\n",
      "0    0.527635\n",
      "dtype: float64\n"
     ]
    }
   ],
   "source": [
    "y_pred = model.predict(x_test).reshape(-1)\n",
    "\n",
    "if diff_percentage == False:\n",
    "    pred_data = [0 for _ in range(y_pred.shape[0])]\n",
    "    test_df_close = df[\"close\"][-y_pred.shape[0]:]\n",
    "\n",
    "    for i in range(y_pred.shape[0]):\n",
    "        if i > steps:\n",
    "            scaler = StandardScaler().fit(test_df_close[i-steps:i].to_numpy().reshape(-1,1))\n",
    "            pred_data[i] = float(scaler.inverse_transform(y_pred[i].reshape(1, -1)).reshape(-1))\n",
    "            del scaler\n",
    "        else:\n",
    "            scaler = StandardScaler().fit(pd.concat((train_df[\"close\"][-steps:],test_df_close[:i])).values.reshape((-1,1)))\n",
    "            pred_data[i] = float(scaler.inverse_transform(y_pred[i].reshape(1, -1)).reshape(-1))\n",
    "            del scaler\n",
    "\n",
    "    y_pred = pd.DataFrame(pred_data)\n",
    "    y_test = pd.DataFrame(test_df_close.to_numpy())\n",
    "    \n",
    "print(((y_pred*y_test)>=0).sum()/(y_test.shape[0]))"
   ]
  },
  {
   "cell_type": "code",
   "execution_count": 24,
   "metadata": {
    "execution": {
     "iopub.execute_input": "2022-06-13T08:28:09.107302Z",
     "iopub.status.busy": "2022-06-13T08:28:09.106841Z",
     "iopub.status.idle": "2022-06-13T08:28:09.395099Z",
     "shell.execute_reply": "2022-06-13T08:28:09.394208Z",
     "shell.execute_reply.started": "2022-06-13T08:28:09.107267Z"
    }
   },
   "outputs": [
    {
     "data": {
      "image/png": "[encoded data removed]",
      "text/plain": [
       "<Figure size 1440x810 with 1 Axes>"
      ]
     },
     "metadata": {
      "needs_background": "light"
     },
     "output_type": "display_data"
    }
   ],
   "source": [
    "plt.figure(figsize=(16,9),dpi=90)\n",
    "plt.plot(y_pred[:100], label=\"predict\")\n",
    "plt.plot(y_test[:100], label=\"real\")\n",
    "plt.legend()\n",
    "plt.show()"
   ]
  },
  {
   "cell_type": "code",
   "execution_count": 25,
   "metadata": {
    "execution": {
     "iopub.execute_input": "2022-06-13T08:28:09.397542Z",
     "iopub.status.busy": "2022-06-13T08:28:09.396686Z",
     "iopub.status.idle": "2022-06-13T08:28:09.410645Z",
     "shell.execute_reply": "2022-06-13T08:28:09.409412Z",
     "shell.execute_reply.started": "2022-06-13T08:28:09.397508Z"
    }
   },
   "outputs": [
    {
     "data": {
      "text/html": [
       "\n",
       "      <iframe id=\"tensorboard-frame-df7790fccab81d0e\" width=\"100%\" height=\"800\" frameborder=\"0\">\n",
       "      </iframe>\n",
       "      <script>\n",
       "        (function() {\n",
       "          const frame = document.getElementById(\"tensorboard-frame-df7790fccab81d0e\");\n",
       "          const url = new URL(\"/\", window.location);\n",
       "          const port = 6007;\n",
       "          if (port) {\n",
       "            url.port = port;\n",
       "          }\n",
       "          frame.src = url;\n",
       "        })();\n",
       "      </script>\n",
       "    "
      ],
      "text/plain": [
       "<IPython.core.display.HTML object>"
      ]
     },
     "metadata": {},
     "output_type": "display_data"
    }
   ],
   "source": [
    "tensorboard --logdir logs --load_fast true"
   ]
  },
  {
   "cell_type": "code",
   "execution_count": null,
   "metadata": {},
   "outputs": [],
   "source": []
  },
  {
   "cell_type": "code",
   "execution_count": null,
   "metadata": {},
   "outputs": [],
   "source": []
  },
  {
   "cell_type": "code",
   "execution_count": null,
   "metadata": {},
   "outputs": [],
   "source": []
  },
  {
   "cell_type": "code",
   "execution_count": null,
   "metadata": {},
   "outputs": [],
   "source": []
  },
  {
   "cell_type": "code",
   "execution_count": null,
   "metadata": {},
   "outputs": [],
   "source": []
  },
  {
   "cell_type": "code",
   "execution_count": null,
   "metadata": {},
   "outputs": [],
   "source": []
  }
 ],
 "metadata": {
  "interpreter": {
   "hash": "b05c9e33dddb06da0017d42bbe9efdcc53c6697b1834e0371294a7eaf8908d75"
  },
  "kernelspec": {
   "display_name": "Python 3 (ipykernel)",
   "language": "python",
   "name": "python3"
  },
  "language_info": {
   "codemirror_mode": {
    "name": "ipython",
    "version": 3
   },
   "file_extension": ".py",
   "mimetype": "text/x-python",
   "name": "python",
   "nbconvert_exporter": "python",
   "pygments_lexer": "ipython3",
   "version": "3.9.12"
  }
 },
 "nbformat": 4,
 "nbformat_minor": 4
}
