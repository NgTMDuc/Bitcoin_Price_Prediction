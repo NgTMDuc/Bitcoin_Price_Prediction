{
 "cells": [
  {
   "cell_type": "markdown",
   "id": "30d13fe2",
   "metadata": {
    "id": "a8ecf48e"
   },
   "source": [
    "## **Modules**"
   ]
  },
  {
   "cell_type": "code",
   "execution_count": 1,
   "id": "ee227e96",
   "metadata": {
    "execution": {
     "iopub.execute_input": "2022-06-14T02:58:03.108658Z",
     "iopub.status.busy": "2022-06-14T02:58:03.108281Z",
     "iopub.status.idle": "2022-06-14T02:58:03.115619Z",
     "shell.execute_reply": "2022-06-14T02:58:03.114647Z",
     "shell.execute_reply.started": "2022-06-14T02:58:03.108627Z"
    },
    "id": "e6ab4de9",
    "scrolled": true
   },
   "outputs": [],
   "source": [
    "import numpy as np\n",
    "import pandas as pd\n",
    "import matplotlib.pyplot as plt\n",
    "\n",
    "from pandas import DataFrame\n",
    "\n",
    "from sklearn.ensemble import RandomForestClassifier\n",
    "from sklearn.model_selection import train_test_split\n",
    "from sklearn.metrics import roc_auc_score, accuracy_score"
   ]
  },
  {
   "cell_type": "markdown",
   "id": "a14b94f6",
   "metadata": {
    "id": "x00bEpgqm6xK"
   },
   "source": [
    "## **Data**"
   ]
  },
  {
   "cell_type": "markdown",
   "id": "4d5ec863",
   "metadata": {},
   "source": [
    "**Import the normalized data**"
   ]
  },
  {
   "cell_type": "code",
   "execution_count": 2,
   "id": "111e1ecd",
   "metadata": {},
   "outputs": [
    {
     "data": {
      "text/html": [
       "<div>\n",
       "<style scoped>\n",
       "    .dataframe tbody tr th:only-of-type {\n",
       "        vertical-align: middle;\n",
       "    }\n",
       "\n",
       "    .dataframe tbody tr th {\n",
       "        vertical-align: top;\n",
       "    }\n",
       "\n",
       "    .dataframe thead th {\n",
       "        text-align: right;\n",
       "    }\n",
       "</style>\n",
       "<table border=\"1\" class=\"dataframe\">\n",
       "  <thead>\n",
       "    <tr style=\"text-align: right;\">\n",
       "      <th></th>\n",
       "      <th>Unnamed: 0</th>\n",
       "      <th>open</th>\n",
       "      <th>high</th>\n",
       "      <th>low</th>\n",
       "      <th>close</th>\n",
       "      <th>volume</th>\n",
       "      <th>quote_asset_volume</th>\n",
       "      <th>number_of_trades</th>\n",
       "      <th>taker_buy_base_asset_volume</th>\n",
       "      <th>taker_buy_quote_asset_volume</th>\n",
       "      <th>...</th>\n",
       "      <th>low_MeanDev48_over_StdDev48</th>\n",
       "      <th>close_MeanDev48_over_StdDev48</th>\n",
       "      <th>open_MeanDev96_over_StdDev96</th>\n",
       "      <th>high_MeanDev96_over_StdDev96</th>\n",
       "      <th>low_MeanDev96_over_StdDev96</th>\n",
       "      <th>close_MeanDev96_over_StdDev96</th>\n",
       "      <th>open_MeanDev192_over_StdDev192</th>\n",
       "      <th>high_MeanDev192_over_StdDev192</th>\n",
       "      <th>low_MeanDev192_over_StdDev192</th>\n",
       "      <th>close_MeanDev192_over_StdDev192</th>\n",
       "    </tr>\n",
       "  </thead>\n",
       "  <tbody>\n",
       "    <tr>\n",
       "      <th>0</th>\n",
       "      <td>359</td>\n",
       "      <td>0.018495</td>\n",
       "      <td>0.009785</td>\n",
       "      <td>0.018383</td>\n",
       "      <td>0.004281</td>\n",
       "      <td>1180.825933</td>\n",
       "      <td>-0.241505</td>\n",
       "      <td>11017.0</td>\n",
       "      <td>612.021981</td>\n",
       "      <td>0.000000</td>\n",
       "      <td>...</td>\n",
       "      <td>0.370477</td>\n",
       "      <td>0.661152</td>\n",
       "      <td>-1.950690</td>\n",
       "      <td>-1.881119</td>\n",
       "      <td>-1.871933</td>\n",
       "      <td>-1.950690</td>\n",
       "      <td>0.593925</td>\n",
       "      <td>0.969559</td>\n",
       "      <td>-0.596205</td>\n",
       "      <td>0.593925</td>\n",
       "    </tr>\n",
       "    <tr>\n",
       "      <th>1</th>\n",
       "      <td>360</td>\n",
       "      <td>0.004956</td>\n",
       "      <td>-0.008991</td>\n",
       "      <td>-0.004450</td>\n",
       "      <td>-0.003945</td>\n",
       "      <td>693.787209</td>\n",
       "      <td>-0.732426</td>\n",
       "      <td>8059.0</td>\n",
       "      <td>343.998248</td>\n",
       "      <td>0.000000</td>\n",
       "      <td>...</td>\n",
       "      <td>0.480687</td>\n",
       "      <td>0.630321</td>\n",
       "      <td>-1.811761</td>\n",
       "      <td>-1.745879</td>\n",
       "      <td>-1.770050</td>\n",
       "      <td>-1.811761</td>\n",
       "      <td>0.371924</td>\n",
       "      <td>0.791939</td>\n",
       "      <td>-1.087814</td>\n",
       "      <td>0.371924</td>\n",
       "    </tr>\n",
       "    <tr>\n",
       "      <th>2</th>\n",
       "      <td>361</td>\n",
       "      <td>-0.003946</td>\n",
       "      <td>0.004507</td>\n",
       "      <td>-0.000473</td>\n",
       "      <td>-0.003816</td>\n",
       "      <td>639.808801</td>\n",
       "      <td>-0.784803</td>\n",
       "      <td>6949.0</td>\n",
       "      <td>297.590606</td>\n",
       "      <td>0.000000</td>\n",
       "      <td>...</td>\n",
       "      <td>0.389880</td>\n",
       "      <td>0.548217</td>\n",
       "      <td>-1.678097</td>\n",
       "      <td>-1.709976</td>\n",
       "      <td>-1.709619</td>\n",
       "      <td>-1.678097</td>\n",
       "      <td>-0.010608</td>\n",
       "      <td>0.631068</td>\n",
       "      <td>-1.541996</td>\n",
       "      <td>-0.010608</td>\n",
       "    </tr>\n",
       "    <tr>\n",
       "      <th>3</th>\n",
       "      <td>362</td>\n",
       "      <td>-0.003369</td>\n",
       "      <td>-0.005212</td>\n",
       "      <td>0.002062</td>\n",
       "      <td>0.006863</td>\n",
       "      <td>463.446578</td>\n",
       "      <td>-0.958557</td>\n",
       "      <td>5328.0</td>\n",
       "      <td>232.254343</td>\n",
       "      <td>0.000000</td>\n",
       "      <td>...</td>\n",
       "      <td>0.350033</td>\n",
       "      <td>0.460780</td>\n",
       "      <td>-1.660865</td>\n",
       "      <td>-1.701925</td>\n",
       "      <td>-1.692418</td>\n",
       "      <td>-1.660865</td>\n",
       "      <td>-0.052136</td>\n",
       "      <td>0.782304</td>\n",
       "      <td>-1.830356</td>\n",
       "      <td>-0.052136</td>\n",
       "    </tr>\n",
       "    <tr>\n",
       "      <th>4</th>\n",
       "      <td>363</td>\n",
       "      <td>0.006419</td>\n",
       "      <td>0.004713</td>\n",
       "      <td>0.002860</td>\n",
       "      <td>-0.002752</td>\n",
       "      <td>634.129456</td>\n",
       "      <td>-0.787283</td>\n",
       "      <td>7406.0</td>\n",
       "      <td>318.341325</td>\n",
       "      <td>0.000000</td>\n",
       "      <td>...</td>\n",
       "      <td>0.247121</td>\n",
       "      <td>0.354412</td>\n",
       "      <td>-1.587490</td>\n",
       "      <td>-1.630426</td>\n",
       "      <td>-1.655253</td>\n",
       "      <td>-1.587490</td>\n",
       "      <td>-0.142859</td>\n",
       "      <td>0.554341</td>\n",
       "      <td>-1.989684</td>\n",
       "      <td>-0.142859</td>\n",
       "    </tr>\n",
       "    <tr>\n",
       "      <th>...</th>\n",
       "      <td>...</td>\n",
       "      <td>...</td>\n",
       "      <td>...</td>\n",
       "      <td>...</td>\n",
       "      <td>...</td>\n",
       "      <td>...</td>\n",
       "      <td>...</td>\n",
       "      <td>...</td>\n",
       "      <td>...</td>\n",
       "      <td>...</td>\n",
       "      <td>...</td>\n",
       "      <td>...</td>\n",
       "      <td>...</td>\n",
       "      <td>...</td>\n",
       "      <td>...</td>\n",
       "      <td>...</td>\n",
       "      <td>...</td>\n",
       "      <td>...</td>\n",
       "      <td>...</td>\n",
       "      <td>...</td>\n",
       "      <td>...</td>\n",
       "    </tr>\n",
       "    <tr>\n",
       "      <th>38443</th>\n",
       "      <td>38802</td>\n",
       "      <td>-0.003626</td>\n",
       "      <td>-0.002886</td>\n",
       "      <td>-0.009204</td>\n",
       "      <td>-0.008336</td>\n",
       "      <td>2613.774410</td>\n",
       "      <td>-0.703874</td>\n",
       "      <td>42193.0</td>\n",
       "      <td>1245.791750</td>\n",
       "      <td>-0.887751</td>\n",
       "      <td>...</td>\n",
       "      <td>0.894451</td>\n",
       "      <td>1.038517</td>\n",
       "      <td>-0.844173</td>\n",
       "      <td>-0.114303</td>\n",
       "      <td>-1.152432</td>\n",
       "      <td>-0.844173</td>\n",
       "      <td>-1.239710</td>\n",
       "      <td>-1.730291</td>\n",
       "      <td>-2.099255</td>\n",
       "      <td>-1.239710</td>\n",
       "    </tr>\n",
       "    <tr>\n",
       "      <th>38444</th>\n",
       "      <td>38803</td>\n",
       "      <td>-0.008337</td>\n",
       "      <td>-0.009908</td>\n",
       "      <td>-0.006327</td>\n",
       "      <td>-0.006609</td>\n",
       "      <td>4195.854000</td>\n",
       "      <td>-0.346556</td>\n",
       "      <td>58827.0</td>\n",
       "      <td>1911.811000</td>\n",
       "      <td>-0.560005</td>\n",
       "      <td>...</td>\n",
       "      <td>0.435777</td>\n",
       "      <td>0.910978</td>\n",
       "      <td>-0.640086</td>\n",
       "      <td>-0.109049</td>\n",
       "      <td>-1.067451</td>\n",
       "      <td>-0.640086</td>\n",
       "      <td>-2.261169</td>\n",
       "      <td>-2.252223</td>\n",
       "      <td>-2.587937</td>\n",
       "      <td>-2.261169</td>\n",
       "    </tr>\n",
       "    <tr>\n",
       "      <th>38445</th>\n",
       "      <td>38804</td>\n",
       "      <td>-0.006609</td>\n",
       "      <td>-0.000843</td>\n",
       "      <td>-0.001635</td>\n",
       "      <td>-0.008575</td>\n",
       "      <td>3271.915890</td>\n",
       "      <td>-0.552267</td>\n",
       "      <td>53095.0</td>\n",
       "      <td>1526.045120</td>\n",
       "      <td>-0.747297</td>\n",
       "      <td>...</td>\n",
       "      <td>0.309717</td>\n",
       "      <td>0.506155</td>\n",
       "      <td>-0.569034</td>\n",
       "      <td>0.065389</td>\n",
       "      <td>-0.977107</td>\n",
       "      <td>-0.569034</td>\n",
       "      <td>-2.692674</td>\n",
       "      <td>-2.448695</td>\n",
       "      <td>-2.436019</td>\n",
       "      <td>-2.692674</td>\n",
       "    </tr>\n",
       "    <tr>\n",
       "      <th>38446</th>\n",
       "      <td>38805</td>\n",
       "      <td>-0.008575</td>\n",
       "      <td>-0.009336</td>\n",
       "      <td>-0.002849</td>\n",
       "      <td>0.002702</td>\n",
       "      <td>3588.324010</td>\n",
       "      <td>-0.482464</td>\n",
       "      <td>53154.0</td>\n",
       "      <td>1650.636910</td>\n",
       "      <td>-0.678239</td>\n",
       "      <td>...</td>\n",
       "      <td>0.400968</td>\n",
       "      <td>0.594548</td>\n",
       "      <td>-0.490384</td>\n",
       "      <td>0.124920</td>\n",
       "      <td>-0.895412</td>\n",
       "      <td>-0.490384</td>\n",
       "      <td>-2.263128</td>\n",
       "      <td>-2.371402</td>\n",
       "      <td>-2.230504</td>\n",
       "      <td>-2.263128</td>\n",
       "    </tr>\n",
       "    <tr>\n",
       "      <th>38447</th>\n",
       "      <td>38806</td>\n",
       "      <td>0.002703</td>\n",
       "      <td>0.001992</td>\n",
       "      <td>-0.003747</td>\n",
       "      <td>-0.007287</td>\n",
       "      <td>2923.225220</td>\n",
       "      <td>-0.629970</td>\n",
       "      <td>45920.0</td>\n",
       "      <td>1263.597380</td>\n",
       "      <td>-0.810634</td>\n",
       "      <td>...</td>\n",
       "      <td>0.362700</td>\n",
       "      <td>0.496196</td>\n",
       "      <td>-0.438170</td>\n",
       "      <td>0.279398</td>\n",
       "      <td>-0.897867</td>\n",
       "      <td>-0.438170</td>\n",
       "      <td>-2.339846</td>\n",
       "      <td>-2.343734</td>\n",
       "      <td>-2.215059</td>\n",
       "      <td>-2.339846</td>\n",
       "    </tr>\n",
       "  </tbody>\n",
       "</table>\n",
       "<p>38448 rows × 1489 columns</p>\n",
       "</div>"
      ],
      "text/plain": [
       "       Unnamed: 0      open      high       low     close       volume  \\\n",
       "0             359  0.018495  0.009785  0.018383  0.004281  1180.825933   \n",
       "1             360  0.004956 -0.008991 -0.004450 -0.003945   693.787209   \n",
       "2             361 -0.003946  0.004507 -0.000473 -0.003816   639.808801   \n",
       "3             362 -0.003369 -0.005212  0.002062  0.006863   463.446578   \n",
       "4             363  0.006419  0.004713  0.002860 -0.002752   634.129456   \n",
       "...           ...       ...       ...       ...       ...          ...   \n",
       "38443       38802 -0.003626 -0.002886 -0.009204 -0.008336  2613.774410   \n",
       "38444       38803 -0.008337 -0.009908 -0.006327 -0.006609  4195.854000   \n",
       "38445       38804 -0.006609 -0.000843 -0.001635 -0.008575  3271.915890   \n",
       "38446       38805 -0.008575 -0.009336 -0.002849  0.002702  3588.324010   \n",
       "38447       38806  0.002703  0.001992 -0.003747 -0.007287  2923.225220   \n",
       "\n",
       "       quote_asset_volume  number_of_trades  taker_buy_base_asset_volume  \\\n",
       "0               -0.241505           11017.0                   612.021981   \n",
       "1               -0.732426            8059.0                   343.998248   \n",
       "2               -0.784803            6949.0                   297.590606   \n",
       "3               -0.958557            5328.0                   232.254343   \n",
       "4               -0.787283            7406.0                   318.341325   \n",
       "...                   ...               ...                          ...   \n",
       "38443           -0.703874           42193.0                  1245.791750   \n",
       "38444           -0.346556           58827.0                  1911.811000   \n",
       "38445           -0.552267           53095.0                  1526.045120   \n",
       "38446           -0.482464           53154.0                  1650.636910   \n",
       "38447           -0.629970           45920.0                  1263.597380   \n",
       "\n",
       "       taker_buy_quote_asset_volume  ...  low_MeanDev48_over_StdDev48  \\\n",
       "0                          0.000000  ...                     0.370477   \n",
       "1                          0.000000  ...                     0.480687   \n",
       "2                          0.000000  ...                     0.389880   \n",
       "3                          0.000000  ...                     0.350033   \n",
       "4                          0.000000  ...                     0.247121   \n",
       "...                             ...  ...                          ...   \n",
       "38443                     -0.887751  ...                     0.894451   \n",
       "38444                     -0.560005  ...                     0.435777   \n",
       "38445                     -0.747297  ...                     0.309717   \n",
       "38446                     -0.678239  ...                     0.400968   \n",
       "38447                     -0.810634  ...                     0.362700   \n",
       "\n",
       "       close_MeanDev48_over_StdDev48  open_MeanDev96_over_StdDev96  \\\n",
       "0                           0.661152                     -1.950690   \n",
       "1                           0.630321                     -1.811761   \n",
       "2                           0.548217                     -1.678097   \n",
       "3                           0.460780                     -1.660865   \n",
       "4                           0.354412                     -1.587490   \n",
       "...                              ...                           ...   \n",
       "38443                       1.038517                     -0.844173   \n",
       "38444                       0.910978                     -0.640086   \n",
       "38445                       0.506155                     -0.569034   \n",
       "38446                       0.594548                     -0.490384   \n",
       "38447                       0.496196                     -0.438170   \n",
       "\n",
       "       high_MeanDev96_over_StdDev96  low_MeanDev96_over_StdDev96  \\\n",
       "0                         -1.881119                    -1.871933   \n",
       "1                         -1.745879                    -1.770050   \n",
       "2                         -1.709976                    -1.709619   \n",
       "3                         -1.701925                    -1.692418   \n",
       "4                         -1.630426                    -1.655253   \n",
       "...                             ...                          ...   \n",
       "38443                     -0.114303                    -1.152432   \n",
       "38444                     -0.109049                    -1.067451   \n",
       "38445                      0.065389                    -0.977107   \n",
       "38446                      0.124920                    -0.895412   \n",
       "38447                      0.279398                    -0.897867   \n",
       "\n",
       "       close_MeanDev96_over_StdDev96  open_MeanDev192_over_StdDev192  \\\n",
       "0                          -1.950690                        0.593925   \n",
       "1                          -1.811761                        0.371924   \n",
       "2                          -1.678097                       -0.010608   \n",
       "3                          -1.660865                       -0.052136   \n",
       "4                          -1.587490                       -0.142859   \n",
       "...                              ...                             ...   \n",
       "38443                      -0.844173                       -1.239710   \n",
       "38444                      -0.640086                       -2.261169   \n",
       "38445                      -0.569034                       -2.692674   \n",
       "38446                      -0.490384                       -2.263128   \n",
       "38447                      -0.438170                       -2.339846   \n",
       "\n",
       "       high_MeanDev192_over_StdDev192  low_MeanDev192_over_StdDev192  \\\n",
       "0                            0.969559                      -0.596205   \n",
       "1                            0.791939                      -1.087814   \n",
       "2                            0.631068                      -1.541996   \n",
       "3                            0.782304                      -1.830356   \n",
       "4                            0.554341                      -1.989684   \n",
       "...                               ...                            ...   \n",
       "38443                       -1.730291                      -2.099255   \n",
       "38444                       -2.252223                      -2.587937   \n",
       "38445                       -2.448695                      -2.436019   \n",
       "38446                       -2.371402                      -2.230504   \n",
       "38447                       -2.343734                      -2.215059   \n",
       "\n",
       "       close_MeanDev192_over_StdDev192  \n",
       "0                             0.593925  \n",
       "1                             0.371924  \n",
       "2                            -0.010608  \n",
       "3                            -0.052136  \n",
       "4                            -0.142859  \n",
       "...                                ...  \n",
       "38443                        -1.239710  \n",
       "38444                        -2.261169  \n",
       "38445                        -2.692674  \n",
       "38446                        -2.263128  \n",
       "38447                        -2.339846  \n",
       "\n",
       "[38448 rows x 1489 columns]"
      ]
     },
     "execution_count": 2,
     "metadata": {},
     "output_type": "execute_result"
    }
   ],
   "source": [
    "file_path = \"normalized_data.csv\"\n",
    "df = pd.read_csv(file_path)\n",
    "df"
   ]
  },
  {
   "cell_type": "markdown",
   "id": "b6ab60f5",
   "metadata": {},
   "source": [
    "**Define the periods of time that the features have in the data**\n",
    "\n",
    "For example, the features contain SMA2 which is the smoothed moving average during 2 days, so a period of time that must be in the periods list is 2."
   ]
  },
  {
   "cell_type": "code",
   "execution_count": 3,
   "id": "6fa8473d",
   "metadata": {},
   "outputs": [],
   "source": [
    "periods = [2,4,8,12,24,48,96,192]"
   ]
  },
  {
   "cell_type": "markdown",
   "id": "9cc5e9a8",
   "metadata": {},
   "source": [
    "**Label value counts**"
   ]
  },
  {
   "cell_type": "code",
   "execution_count": 4,
   "id": "d782a51d",
   "metadata": {},
   "outputs": [
    {
     "data": {
      "text/plain": [
       "True     19580\n",
       "False    18868\n",
       "Name: label, dtype: int64"
      ]
     },
     "execution_count": 4,
     "metadata": {},
     "output_type": "execute_result"
    }
   ],
   "source": [
    "df[\"label\"].value_counts()"
   ]
  },
  {
   "cell_type": "markdown",
   "id": "95240e7f",
   "metadata": {},
   "source": [
    "### **Data Preprocessing**"
   ]
  },
  {
   "cell_type": "markdown",
   "id": "07ec2ef3",
   "metadata": {},
   "source": [
    "**Drop useless column**"
   ]
  },
  {
   "cell_type": "code",
   "execution_count": 5,
   "id": "4257c4ee",
   "metadata": {
    "execution": {
     "iopub.execute_input": "2022-06-14T01:35:27.899039Z",
     "iopub.status.busy": "2022-06-14T01:35:27.898441Z",
     "iopub.status.idle": "2022-06-14T01:35:27.91221Z",
     "shell.execute_reply": "2022-06-14T01:35:27.911394Z",
     "shell.execute_reply.started": "2022-06-14T01:35:27.898995Z"
    },
    "id": "ab5acb6c",
    "scrolled": true
   },
   "outputs": [],
   "source": [
    "df.drop(columns=[\"Unnamed: 0\"], inplace=True)"
   ]
  },
  {
   "cell_type": "markdown",
   "id": "90d47ebd",
   "metadata": {},
   "source": [
    "**Drop nan if exist**"
   ]
  },
  {
   "cell_type": "code",
   "execution_count": 6,
   "id": "62eb97fb",
   "metadata": {},
   "outputs": [
    {
     "data": {
      "text/plain": [
       "0"
      ]
     },
     "execution_count": 6,
     "metadata": {},
     "output_type": "execute_result"
    }
   ],
   "source": [
    "# Print all the amount of nan values\n",
    "df.isna().sum().sum()"
   ]
  },
  {
   "cell_type": "markdown",
   "id": "35a5530a",
   "metadata": {},
   "source": [
    "Or forward fill before drop, this forward filling can avoid data leakeage!"
   ]
  },
  {
   "cell_type": "code",
   "execution_count": 7,
   "id": "1c16cf7a",
   "metadata": {
    "execution": {
     "iopub.execute_input": "2022-06-14T01:35:27.91399Z",
     "iopub.status.busy": "2022-06-14T01:35:27.913565Z",
     "iopub.status.idle": "2022-06-14T01:35:27.931798Z",
     "shell.execute_reply": "2022-06-14T01:35:27.931085Z",
     "shell.execute_reply.started": "2022-06-14T01:35:27.913947Z"
    }
   },
   "outputs": [],
   "source": [
    "forward_fill = False\n",
    "\n",
    "if forward_fill:\n",
    "    df.ffill(inplace=True)\n",
    "else:\n",
    "    df.dropna(inplace=True)"
   ]
  },
  {
   "cell_type": "markdown",
   "id": "fc1bcfed",
   "metadata": {},
   "source": [
    "**Create train set, validation set and test set**"
   ]
  },
  {
   "cell_type": "code",
   "execution_count": 8,
   "id": "91e8a369",
   "metadata": {},
   "outputs": [],
   "source": [
    "X_df = df.drop(columns=[\"label\"])\n",
    "y_df = df[\"label\"]"
   ]
  },
  {
   "cell_type": "code",
   "execution_count": 9,
   "id": "a249c37d",
   "metadata": {},
   "outputs": [],
   "source": [
    "X_train_df, X_test_df, y_train_df, y_test_df = train_test_split(X_df, y_df, test_size=0.3, shuffle=False)\n",
    "X_val_df, X_test_df, y_val_df, y_test_df = train_test_split(X_test_df, y_test_df, test_size=0.5, shuffle=False)"
   ]
  },
  {
   "cell_type": "markdown",
   "id": "99f490eb",
   "metadata": {},
   "source": [
    "## **Model and training**"
   ]
  },
  {
   "cell_type": "markdown",
   "id": "a18f8c53",
   "metadata": {},
   "source": [
    "### Random Forest"
   ]
  },
  {
   "cell_type": "markdown",
   "id": "e79fe223",
   "metadata": {},
   "source": [
    "**Training**"
   ]
  },
  {
   "cell_type": "code",
   "execution_count": 10,
   "id": "7652d00a",
   "metadata": {},
   "outputs": [],
   "source": [
    "model_rf = RandomForestClassifier(n_estimators=100, criterion='gini', max_depth=None, min_samples_split=2, \n",
    "                                  min_samples_leaf=1, min_weight_fraction_leaf=0.0, max_features='sqrt', bootstrap=True, \n",
    "                                  oob_score=False, n_jobs=-1, random_state=1234, verbose=1)"
   ]
  },
  {
   "cell_type": "code",
   "execution_count": 11,
   "id": "37c30ef2",
   "metadata": {
    "scrolled": true
   },
   "outputs": [
    {
     "name": "stderr",
     "output_type": "stream",
     "text": [
      "[Parallel(n_jobs=-1)]: Using backend ThreadingBackend with 16 concurrent workers.\n",
      "[Parallel(n_jobs=-1)]: Done  18 tasks      | elapsed:    2.6s\n",
      "[Parallel(n_jobs=-1)]: Done 100 out of 100 | elapsed:    8.8s finished\n"
     ]
    },
    {
     "data": {
      "text/plain": [
       "RandomForestClassifier(max_features='sqrt', n_jobs=-1, random_state=1234,\n",
       "                       verbose=1)"
      ]
     },
     "execution_count": 11,
     "metadata": {},
     "output_type": "execute_result"
    }
   ],
   "source": [
    "model_rf.fit(X_train_df, y_train_df)"
   ]
  },
  {
   "cell_type": "markdown",
   "id": "c729c692",
   "metadata": {},
   "source": [
    "**Evaluation**"
   ]
  },
  {
   "cell_type": "code",
   "execution_count": 12,
   "id": "f29d8cf9",
   "metadata": {},
   "outputs": [
    {
     "name": "stderr",
     "output_type": "stream",
     "text": [
      "[Parallel(n_jobs=16)]: Using backend ThreadingBackend with 16 concurrent workers.\n",
      "[Parallel(n_jobs=16)]: Done  18 tasks      | elapsed:    0.1s\n"
     ]
    },
    {
     "name": "stdout",
     "output_type": "stream",
     "text": [
      "AUC score in the train set: 1.0\n"
     ]
    },
    {
     "name": "stderr",
     "output_type": "stream",
     "text": [
      "[Parallel(n_jobs=16)]: Done 100 out of 100 | elapsed:    0.2s finished\n"
     ]
    }
   ],
   "source": [
    "print(\"AUC score in the train set:\", roc_auc_score(y_train_df, model_rf.predict_proba(X_train_df)[:, 1]))"
   ]
  },
  {
   "cell_type": "code",
   "execution_count": 13,
   "id": "1ea6614b",
   "metadata": {},
   "outputs": [
    {
     "name": "stdout",
     "output_type": "stream",
     "text": [
      "AUC score in the validation set: 0.5383297974769913\n"
     ]
    },
    {
     "name": "stderr",
     "output_type": "stream",
     "text": [
      "[Parallel(n_jobs=16)]: Using backend ThreadingBackend with 16 concurrent workers.\n",
      "[Parallel(n_jobs=16)]: Done  18 tasks      | elapsed:    0.0s\n",
      "[Parallel(n_jobs=16)]: Done 100 out of 100 | elapsed:    0.0s finished\n"
     ]
    }
   ],
   "source": [
    "print(\"AUC score in the validation set:\", roc_auc_score(y_val_df, model_rf.predict_proba(X_val_df)[:, 1]))"
   ]
  },
  {
   "cell_type": "code",
   "execution_count": 14,
   "id": "207ae6a0",
   "metadata": {},
   "outputs": [
    {
     "name": "stdout",
     "output_type": "stream",
     "text": [
      "AUC score in the test set: 0.5220341793638587\n"
     ]
    },
    {
     "name": "stderr",
     "output_type": "stream",
     "text": [
      "[Parallel(n_jobs=16)]: Using backend ThreadingBackend with 16 concurrent workers.\n",
      "[Parallel(n_jobs=16)]: Done  18 tasks      | elapsed:    0.0s\n",
      "[Parallel(n_jobs=16)]: Done 100 out of 100 | elapsed:    0.0s finished\n"
     ]
    }
   ],
   "source": [
    "print(\"AUC score in the test set:\", roc_auc_score(y_test_df, model_rf.predict_proba(X_test_df)[:, 1]))"
   ]
  },
  {
   "cell_type": "code",
   "execution_count": 15,
   "id": "09305f03",
   "metadata": {},
   "outputs": [
    {
     "name": "stderr",
     "output_type": "stream",
     "text": [
      "[Parallel(n_jobs=16)]: Using backend ThreadingBackend with 16 concurrent workers.\n",
      "[Parallel(n_jobs=16)]: Done  18 tasks      | elapsed:    0.1s\n"
     ]
    },
    {
     "name": "stdout",
     "output_type": "stream",
     "text": [
      "Accuracy score in the train set: 1.0\n"
     ]
    },
    {
     "name": "stderr",
     "output_type": "stream",
     "text": [
      "[Parallel(n_jobs=16)]: Done 100 out of 100 | elapsed:    0.2s finished\n"
     ]
    }
   ],
   "source": [
    "print(\"Accuracy score in the train set:\", accuracy_score(y_train_df, (model_rf.predict_proba(X_train_df)[:, 1] >= 0.5) * 1))"
   ]
  },
  {
   "cell_type": "code",
   "execution_count": 16,
   "id": "e1431457",
   "metadata": {},
   "outputs": [
    {
     "name": "stdout",
     "output_type": "stream",
     "text": [
      "Accuracy score in the validation set: 0.5280041616091555\n"
     ]
    },
    {
     "name": "stderr",
     "output_type": "stream",
     "text": [
      "[Parallel(n_jobs=16)]: Using backend ThreadingBackend with 16 concurrent workers.\n",
      "[Parallel(n_jobs=16)]: Done  18 tasks      | elapsed:    0.0s\n",
      "[Parallel(n_jobs=16)]: Done 100 out of 100 | elapsed:    0.0s finished\n"
     ]
    }
   ],
   "source": [
    "print(\"Accuracy score in the validation set:\", accuracy_score(y_val_df, (model_rf.predict_proba(X_val_df)[:, 1] >= 0.5) * 1))"
   ]
  },
  {
   "cell_type": "code",
   "execution_count": 17,
   "id": "8ac374cd",
   "metadata": {},
   "outputs": [
    {
     "name": "stdout",
     "output_type": "stream",
     "text": [
      "Accuracy score in the test set: 0.5090152565880721\n"
     ]
    },
    {
     "name": "stderr",
     "output_type": "stream",
     "text": [
      "[Parallel(n_jobs=16)]: Using backend ThreadingBackend with 16 concurrent workers.\n",
      "[Parallel(n_jobs=16)]: Done  18 tasks      | elapsed:    0.0s\n",
      "[Parallel(n_jobs=16)]: Done 100 out of 100 | elapsed:    0.0s finished\n"
     ]
    }
   ],
   "source": [
    "print(\"Accuracy score in the test set:\", accuracy_score(y_test_df, (model_rf.predict_proba(X_test_df)[:, 1] >= 0.5) * 1))"
   ]
  },
  {
   "cell_type": "markdown",
   "id": "75221b7e",
   "metadata": {},
   "source": [
    "**Threshold tuning**"
   ]
  },
  {
   "cell_type": "code",
   "execution_count": 18,
   "id": "e19a36fb",
   "metadata": {},
   "outputs": [
    {
     "name": "stderr",
     "output_type": "stream",
     "text": [
      "[Parallel(n_jobs=16)]: Using backend ThreadingBackend with 16 concurrent workers.\n",
      "[Parallel(n_jobs=16)]: Done  18 tasks      | elapsed:    0.0s\n",
      "[Parallel(n_jobs=16)]: Done 100 out of 100 | elapsed:    0.1s finished\n"
     ]
    },
    {
     "name": "stdout",
     "output_type": "stream",
     "text": [
      "0.5280041616091555\n"
     ]
    }
   ],
   "source": [
    "pred_val = model_rf.predict_proba(X_val_df)[:, 1]\n",
    "tmp_pred_val = pred_val.copy()\n",
    "\n",
    "l = []\n",
    "for i in range(4000, 6000):\n",
    "    pred_val = (tmp_pred_val >= i/10000) * 1\n",
    "    l.append(accuracy_score(y_val_df, pred_val))\n",
    "\n",
    "threshold = max(l)\n",
    "print(max(l))"
   ]
  },
  {
   "cell_type": "code",
   "execution_count": 19,
   "id": "05c82b3b",
   "metadata": {},
   "outputs": [
    {
     "name": "stdout",
     "output_type": "stream",
     "text": [
      "Final testing accuracy:\n"
     ]
    },
    {
     "name": "stderr",
     "output_type": "stream",
     "text": [
      "[Parallel(n_jobs=16)]: Using backend ThreadingBackend with 16 concurrent workers.\n",
      "[Parallel(n_jobs=16)]: Done  18 tasks      | elapsed:    0.0s\n",
      "[Parallel(n_jobs=16)]: Done 100 out of 100 | elapsed:    0.0s finished\n"
     ]
    },
    {
     "data": {
      "text/plain": [
       "0.5176837725381415"
      ]
     },
     "execution_count": 19,
     "metadata": {},
     "output_type": "execute_result"
    }
   ],
   "source": [
    "pred_test = model_rf.predict_proba(X_test_df)[:,1]\n",
    "pred_test = (pred_test >= threshold) * 1\n",
    "print(\"Final testing accuracy:\")\n",
    "accuracy_score(y_test_df, pred_test)"
   ]
  },
  {
   "cell_type": "markdown",
   "id": "c49512ac",
   "metadata": {},
   "source": [
    "**Features importance**"
   ]
  },
  {
   "cell_type": "code",
   "execution_count": 20,
   "id": "dcff6fe7",
   "metadata": {},
   "outputs": [
    {
     "data": {
      "text/html": [
       "<div>\n",
       "<style scoped>\n",
       "    .dataframe tbody tr th:only-of-type {\n",
       "        vertical-align: middle;\n",
       "    }\n",
       "\n",
       "    .dataframe tbody tr th {\n",
       "        vertical-align: top;\n",
       "    }\n",
       "\n",
       "    .dataframe thead th {\n",
       "        text-align: right;\n",
       "    }\n",
       "</style>\n",
       "<table border=\"1\" class=\"dataframe\">\n",
       "  <thead>\n",
       "    <tr style=\"text-align: right;\">\n",
       "      <th></th>\n",
       "      <th>feature</th>\n",
       "      <th>importance</th>\n",
       "    </tr>\n",
       "  </thead>\n",
       "  <tbody>\n",
       "    <tr>\n",
       "      <th>32</th>\n",
       "      <td>BOP</td>\n",
       "      <td>0.002056</td>\n",
       "    </tr>\n",
       "    <tr>\n",
       "      <th>71</th>\n",
       "      <td>close_EMA2</td>\n",
       "      <td>0.001961</td>\n",
       "    </tr>\n",
       "    <tr>\n",
       "      <th>144</th>\n",
       "      <td>close_ALMA4</td>\n",
       "      <td>0.001760</td>\n",
       "    </tr>\n",
       "    <tr>\n",
       "      <th>68</th>\n",
       "      <td>close_WMA2</td>\n",
       "      <td>0.001751</td>\n",
       "    </tr>\n",
       "    <tr>\n",
       "      <th>66</th>\n",
       "      <td>close_SMA2</td>\n",
       "      <td>0.001679</td>\n",
       "    </tr>\n",
       "    <tr>\n",
       "      <th>42</th>\n",
       "      <td>ForceIndex2</td>\n",
       "      <td>0.001456</td>\n",
       "    </tr>\n",
       "    <tr>\n",
       "      <th>33</th>\n",
       "      <td>UO</td>\n",
       "      <td>0.001452</td>\n",
       "    </tr>\n",
       "    <tr>\n",
       "      <th>72</th>\n",
       "      <td>close_DEMA2</td>\n",
       "      <td>0.001449</td>\n",
       "    </tr>\n",
       "    <tr>\n",
       "      <th>1438</th>\n",
       "      <td>log_volume_resid_divide_prev</td>\n",
       "      <td>0.001427</td>\n",
       "    </tr>\n",
       "    <tr>\n",
       "      <th>67</th>\n",
       "      <td>close_SMMA2</td>\n",
       "      <td>0.001422</td>\n",
       "    </tr>\n",
       "    <tr>\n",
       "      <th>88</th>\n",
       "      <td>high_EMA2</td>\n",
       "      <td>0.001398</td>\n",
       "    </tr>\n",
       "    <tr>\n",
       "      <th>93</th>\n",
       "      <td>high_StdDev2</td>\n",
       "      <td>0.001391</td>\n",
       "    </tr>\n",
       "    <tr>\n",
       "      <th>147</th>\n",
       "      <td>close_DEMA4</td>\n",
       "      <td>0.001367</td>\n",
       "    </tr>\n",
       "    <tr>\n",
       "      <th>141</th>\n",
       "      <td>close_SMA4</td>\n",
       "      <td>0.001365</td>\n",
       "    </tr>\n",
       "    <tr>\n",
       "      <th>69</th>\n",
       "      <td>close_ALMA2</td>\n",
       "      <td>0.001335</td>\n",
       "    </tr>\n",
       "    <tr>\n",
       "      <th>220</th>\n",
       "      <td>close_TEMA8</td>\n",
       "      <td>0.001305</td>\n",
       "    </tr>\n",
       "    <tr>\n",
       "      <th>149</th>\n",
       "      <td>close_HMA4</td>\n",
       "      <td>0.001305</td>\n",
       "    </tr>\n",
       "    <tr>\n",
       "      <th>74</th>\n",
       "      <td>close_HMA2</td>\n",
       "      <td>0.001288</td>\n",
       "    </tr>\n",
       "    <tr>\n",
       "      <th>31</th>\n",
       "      <td>AccuDist</td>\n",
       "      <td>0.001284</td>\n",
       "    </tr>\n",
       "    <tr>\n",
       "      <th>1462</th>\n",
       "      <td>close_MeanDev4_over_StdDev4</td>\n",
       "      <td>0.001282</td>\n",
       "    </tr>\n",
       "  </tbody>\n",
       "</table>\n",
       "</div>"
      ],
      "text/plain": [
       "                           feature  importance\n",
       "32                             BOP    0.002056\n",
       "71                      close_EMA2    0.001961\n",
       "144                    close_ALMA4    0.001760\n",
       "68                      close_WMA2    0.001751\n",
       "66                      close_SMA2    0.001679\n",
       "42                     ForceIndex2    0.001456\n",
       "33                              UO    0.001452\n",
       "72                     close_DEMA2    0.001449\n",
       "1438  log_volume_resid_divide_prev    0.001427\n",
       "67                     close_SMMA2    0.001422\n",
       "88                       high_EMA2    0.001398\n",
       "93                    high_StdDev2    0.001391\n",
       "147                    close_DEMA4    0.001367\n",
       "141                     close_SMA4    0.001365\n",
       "69                     close_ALMA2    0.001335\n",
       "220                    close_TEMA8    0.001305\n",
       "149                     close_HMA4    0.001305\n",
       "74                      close_HMA2    0.001288\n",
       "31                        AccuDist    0.001284\n",
       "1462   close_MeanDev4_over_StdDev4    0.001282"
      ]
     },
     "execution_count": 20,
     "metadata": {},
     "output_type": "execute_result"
    }
   ],
   "source": [
    "importance_df = pd.DataFrame()\n",
    "importance_df['feature'] = model_rf.feature_names_in_\n",
    "importance_df['importance'] = model_rf.feature_importances_\n",
    "importance_df.sort_values('importance', ascending=False).head(20)"
   ]
  },
  {
   "cell_type": "markdown",
   "id": "9daa57bc",
   "metadata": {},
   "source": [
    "**Note:**\n",
    "\n",
    "The result is different at different training times, in the reality, we train multiple times the model and choose the one that gives us the best accuracy on the validation set"
   ]
  }
 ],
 "metadata": {
  "kernelspec": {
   "display_name": "Python 3 (ipykernel)",
   "language": "python",
   "name": "python3"
  },
  "language_info": {
   "codemirror_mode": {
    "name": "ipython",
    "version": 3
   },
   "file_extension": ".py",
   "mimetype": "text/x-python",
   "name": "python",
   "nbconvert_exporter": "python",
   "pygments_lexer": "ipython3",
   "version": "3.9.12"
  }
 },
 "nbformat": 4,
 "nbformat_minor": 5
}
