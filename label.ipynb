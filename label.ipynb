{
 "cells": [
  {
   "cell_type": "code",
   "execution_count": 1,
   "id": "e8cffe43",
   "metadata": {},
   "outputs": [],
   "source": [
    "import numpy as np\n",
    "import pandas as pd\n",
    "from matplotlib import pyplot as plt\n",
    "from datetime import datetime"
   ]
  },
  {
   "cell_type": "code",
   "execution_count": 2,
   "id": "30127fcb",
   "metadata": {},
   "outputs": [],
   "source": [
    "df1 = pd.read_csv('.\\\\data\\\\binance-BTCUSDT-1m.csv')"
   ]
  },
  {
   "cell_type": "code",
   "execution_count": 3,
   "id": "6812b4a9",
   "metadata": {},
   "outputs": [],
   "source": [
    "def set_index(df, t):\n",
    "    index = np.zeros((df.shape[0], 1))\n",
    "    first_group = df.shape[0] - df.shape[0] // t * t\n",
    "    index[: first_group] = 0\n",
    "    for i in range(df.shape[0] // t):\n",
    "        index[first_group + t * i:first_group + t * (i+1)] = i + 1\n",
    "    df['index'] = index"
   ]
  },
  {
   "cell_type": "code",
   "execution_count": 4,
   "id": "c2829786",
   "metadata": {},
   "outputs": [],
   "source": [
    "set_index(df1, 15)"
   ]
  },
  {
   "cell_type": "code",
   "execution_count": 5,
   "id": "3b494604",
   "metadata": {},
   "outputs": [],
   "source": [
    "def label(df):\n",
    "    \n",
    "    df2 = df.groupby('index').agg({'Timestamp': 'min', 'Open': 'first', 'High': 'max', 'Low': 'min', 'Close': 'last',\n",
    "                                'N/A': 'sum', 'Timestamp End': 'max', 'N/A.1': 'sum', 'N/A.2': 'sum', 'N/A.3': 'sum',\n",
    "                                'N/A.4': 'sum', 'N/A.5': 'sum', 'Time_UTC_Start': 'first'}).drop(0).reset_index()\n",
    "    df2.rename(columns = {'N/A': 'Volumn', 'N/A.1': 'Quote_asset_volume', 'N/A.2': 'Number_of_trades',\n",
    "                         'N/A.3': 'Base_asset_volume', 'N/A.4': 'Quote_asset_volume'}, inplace = True)\n",
    "    length = df2.shape[0]\n",
    "    op = df2['Open'].values.reshape(length,1)\n",
    "    cl = df2['Close'].values.reshape(length,1 )\n",
    "    v = np.ones((length, 1)) * (op < cl)\n",
    "    df2['label'] = v\n",
    "    return df2"
   ]
  },
  {
   "cell_type": "code",
   "execution_count": 6,
   "id": "94f78883",
   "metadata": {},
   "outputs": [],
   "source": [
    "df3 = label(df1)\n",
    "df4 = label(df1)"
   ]
  },
  {
   "cell_type": "code",
   "execution_count": 7,
   "id": "a78b043d",
   "metadata": {},
   "outputs": [],
   "source": [
    "time = 15 \n",
    "from pathlib import Path \n",
    "filepath = Path('.\\\\data\\\\binance-BTCUSDT-15m.csv')\n",
    "filepath.parent.mkdir(parents=True, exist_ok=True) \n",
    "df3.to_csv(filepath)"
   ]
  },
  {
   "cell_type": "code",
   "execution_count": 8,
   "id": "480f9ac5",
   "metadata": {},
   "outputs": [],
   "source": [
    "time = 60 \n",
    "filepath = Path('.\\\\data\\\\binance-BTCUSDT-60m.csv')\n",
    "filepath.parent.mkdir(parents=True, exist_ok=True) \n",
    "df4.to_csv(filepath)"
   ]
  }
 ],
 "metadata": {
  "kernelspec": {
   "display_name": "Python 3",
   "language": "python",
   "name": "python3"
  },
  "language_info": {
   "codemirror_mode": {
    "name": "ipython",
    "version": 3
   },
   "file_extension": ".py",
   "mimetype": "text/x-python",
   "name": "python",
   "nbconvert_exporter": "python",
   "pygments_lexer": "ipython3",
   "version": "3.9.4"
  }
 },
 "nbformat": 4,
 "nbformat_minor": 5
}
